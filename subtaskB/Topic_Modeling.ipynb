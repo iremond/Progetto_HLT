{
  "nbformat": 4,
  "nbformat_minor": 0,
  "metadata": {
    "kernelspec": {
      "display_name": "Python 3 (TA)",
      "language": "python",
      "name": "ta"
    },
    "language_info": {
      "codemirror_mode": {
        "name": "ipython",
        "version": 3
      },
      "file_extension": ".py",
      "mimetype": "text/x-python",
      "name": "python",
      "nbconvert_exporter": "python",
      "pygments_lexer": "ipython3",
      "version": "3.6.7"
    },
    "colab": {
      "provenance": []
    }
  },
  "cells": [
    {
      "cell_type": "code",
      "metadata": {
        "id": "sOYQDmm3eDnJ",
        "colab": {
          "base_uri": "https://localhost:8080/",
          "height": 846
        },
        "outputId": "fac9c820-4924-4004-f0a7-4168b87fa932"
      },
      "source": [
        "#!pip install pyLDAvis"
      ],
      "execution_count": 1,
      "outputs": [
        {
          "output_type": "stream",
          "name": "stdout",
          "text": [
            "Collecting pyLDAvis\n",
            "  Downloading pyLDAvis-3.4.1-py3-none-any.whl (2.6 MB)\n",
            "\u001b[2K     \u001b[90m━━━━━━━━━━━━━━━━━━━━━━━━━━━━━━━━━━━━━━━━\u001b[0m \u001b[32m2.6/2.6 MB\u001b[0m \u001b[31m25.9 MB/s\u001b[0m eta \u001b[36m0:00:00\u001b[0m\n",
            "\u001b[?25hCollecting numpy>=1.24.2 (from pyLDAvis)\n",
            "  Downloading numpy-1.25.2-cp310-cp310-manylinux_2_17_x86_64.manylinux2014_x86_64.whl (18.2 MB)\n",
            "\u001b[2K     \u001b[90m━━━━━━━━━━━━━━━━━━━━━━━━━━━━━━━━━━━━━━━━\u001b[0m \u001b[32m18.2/18.2 MB\u001b[0m \u001b[31m55.1 MB/s\u001b[0m eta \u001b[36m0:00:00\u001b[0m\n",
            "\u001b[?25hRequirement already satisfied: scipy in /usr/local/lib/python3.10/dist-packages (from pyLDAvis) (1.10.1)\n",
            "Collecting pandas>=2.0.0 (from pyLDAvis)\n",
            "  Downloading pandas-2.1.0-cp310-cp310-manylinux_2_17_x86_64.manylinux2014_x86_64.whl (12.7 MB)\n",
            "\u001b[2K     \u001b[90m━━━━━━━━━━━━━━━━━━━━━━━━━━━━━━━━━━━━━━━━\u001b[0m \u001b[32m12.7/12.7 MB\u001b[0m \u001b[31m62.2 MB/s\u001b[0m eta \u001b[36m0:00:00\u001b[0m\n",
            "\u001b[?25hRequirement already satisfied: joblib>=1.2.0 in /usr/local/lib/python3.10/dist-packages (from pyLDAvis) (1.3.2)\n",
            "Requirement already satisfied: jinja2 in /usr/local/lib/python3.10/dist-packages (from pyLDAvis) (3.1.2)\n",
            "Requirement already satisfied: numexpr in /usr/local/lib/python3.10/dist-packages (from pyLDAvis) (2.8.5)\n",
            "Collecting funcy (from pyLDAvis)\n",
            "  Downloading funcy-2.0-py2.py3-none-any.whl (30 kB)\n",
            "Requirement already satisfied: scikit-learn>=1.0.0 in /usr/local/lib/python3.10/dist-packages (from pyLDAvis) (1.2.2)\n",
            "Requirement already satisfied: gensim in /usr/local/lib/python3.10/dist-packages (from pyLDAvis) (4.3.1)\n",
            "Requirement already satisfied: setuptools in /usr/local/lib/python3.10/dist-packages (from pyLDAvis) (67.7.2)\n",
            "Requirement already satisfied: python-dateutil>=2.8.2 in /usr/local/lib/python3.10/dist-packages (from pandas>=2.0.0->pyLDAvis) (2.8.2)\n",
            "Requirement already satisfied: pytz>=2020.1 in /usr/local/lib/python3.10/dist-packages (from pandas>=2.0.0->pyLDAvis) (2023.3)\n",
            "Collecting tzdata>=2022.1 (from pandas>=2.0.0->pyLDAvis)\n",
            "  Downloading tzdata-2023.3-py2.py3-none-any.whl (341 kB)\n",
            "\u001b[2K     \u001b[90m━━━━━━━━━━━━━━━━━━━━━━━━━━━━━━━━━━━━━━\u001b[0m \u001b[32m341.8/341.8 kB\u001b[0m \u001b[31m21.7 MB/s\u001b[0m eta \u001b[36m0:00:00\u001b[0m\n",
            "\u001b[?25hRequirement already satisfied: threadpoolctl>=2.0.0 in /usr/local/lib/python3.10/dist-packages (from scikit-learn>=1.0.0->pyLDAvis) (3.2.0)\n",
            "Requirement already satisfied: smart-open>=1.8.1 in /usr/local/lib/python3.10/dist-packages (from gensim->pyLDAvis) (6.3.0)\n",
            "Requirement already satisfied: MarkupSafe>=2.0 in /usr/local/lib/python3.10/dist-packages (from jinja2->pyLDAvis) (2.1.3)\n",
            "Requirement already satisfied: six>=1.5 in /usr/local/lib/python3.10/dist-packages (from python-dateutil>=2.8.2->pandas>=2.0.0->pyLDAvis) (1.16.0)\n",
            "Installing collected packages: funcy, tzdata, numpy, pandas, pyLDAvis\n",
            "  Attempting uninstall: numpy\n",
            "    Found existing installation: numpy 1.23.5\n",
            "    Uninstalling numpy-1.23.5:\n",
            "      Successfully uninstalled numpy-1.23.5\n",
            "  Attempting uninstall: pandas\n",
            "    Found existing installation: pandas 1.5.3\n",
            "    Uninstalling pandas-1.5.3:\n",
            "      Successfully uninstalled pandas-1.5.3\n",
            "\u001b[31mERROR: pip's dependency resolver does not currently take into account all the packages that are installed. This behaviour is the source of the following dependency conflicts.\n",
            "google-colab 1.0.0 requires pandas==1.5.3, but you have pandas 2.1.0 which is incompatible.\n",
            "numba 0.56.4 requires numpy<1.24,>=1.18, but you have numpy 1.25.2 which is incompatible.\n",
            "tensorflow 2.12.0 requires numpy<1.24,>=1.22, but you have numpy 1.25.2 which is incompatible.\u001b[0m\u001b[31m\n",
            "\u001b[0mSuccessfully installed funcy-2.0 numpy-1.25.2 pandas-2.1.0 pyLDAvis-3.4.1 tzdata-2023.3\n"
          ]
        },
        {
          "output_type": "display_data",
          "data": {
            "application/vnd.colab-display-data+json": {
              "pip_warning": {
                "packages": [
                  "numpy"
                ]
              }
            }
          },
          "metadata": {}
        }
      ]
    },
    {
      "cell_type": "code",
      "metadata": {
        "id": "OOUv0Nk5SiYw"
      },
      "source": [
        "review_file = 'subtaskB_clean_dev_cased.csv'"
      ],
      "execution_count": 1,
      "outputs": []
    },
    {
      "cell_type": "code",
      "source": [
        "import pandas as pd\n",
        "\n",
        "x_train = pd.read_csv('subtaskB_clean_dev_cased.csv')"
      ],
      "metadata": {
        "id": "GuGvInV6h02p"
      },
      "execution_count": 2,
      "outputs": []
    },
    {
      "cell_type": "code",
      "source": [
        "x_train.head()"
      ],
      "metadata": {
        "colab": {
          "base_uri": "https://localhost:8080/",
          "height": 206
        },
        "id": "8mZFcGMuh7XO",
        "outputId": "37ff0e7f-48fa-4d75-d1e0-a38e20d2af14"
      },
      "execution_count": 3,
      "outputs": [
        {
          "output_type": "execute_result",
          "data": {
            "text/plain": [
              "                                        comment_text         topic\n",
              "0  Siamo davanti ad una prova, e non solo di quoz...         Qanon\n",
              "1  La storia dei 2 bimbi di Bergamo - vaccini: qu...         Covid\n",
              "2  L'avete capito che non toglieranno il green pa...         Covid\n",
              "3  Quindi  la farsa dello spazio e della terra a ...  Terra Piatta\n",
              "4  In breve tempo, per accedere a Internet, sarà ...         Qanon"
            ],
            "text/html": [
              "\n",
              "  <div id=\"df-7bb4a6ca-668c-47f9-8492-810550956f71\" class=\"colab-df-container\">\n",
              "    <div>\n",
              "<style scoped>\n",
              "    .dataframe tbody tr th:only-of-type {\n",
              "        vertical-align: middle;\n",
              "    }\n",
              "\n",
              "    .dataframe tbody tr th {\n",
              "        vertical-align: top;\n",
              "    }\n",
              "\n",
              "    .dataframe thead th {\n",
              "        text-align: right;\n",
              "    }\n",
              "</style>\n",
              "<table border=\"1\" class=\"dataframe\">\n",
              "  <thead>\n",
              "    <tr style=\"text-align: right;\">\n",
              "      <th></th>\n",
              "      <th>comment_text</th>\n",
              "      <th>topic</th>\n",
              "    </tr>\n",
              "  </thead>\n",
              "  <tbody>\n",
              "    <tr>\n",
              "      <th>0</th>\n",
              "      <td>Siamo davanti ad una prova, e non solo di quoz...</td>\n",
              "      <td>Qanon</td>\n",
              "    </tr>\n",
              "    <tr>\n",
              "      <th>1</th>\n",
              "      <td>La storia dei 2 bimbi di Bergamo - vaccini: qu...</td>\n",
              "      <td>Covid</td>\n",
              "    </tr>\n",
              "    <tr>\n",
              "      <th>2</th>\n",
              "      <td>L'avete capito che non toglieranno il green pa...</td>\n",
              "      <td>Covid</td>\n",
              "    </tr>\n",
              "    <tr>\n",
              "      <th>3</th>\n",
              "      <td>Quindi  la farsa dello spazio e della terra a ...</td>\n",
              "      <td>Terra Piatta</td>\n",
              "    </tr>\n",
              "    <tr>\n",
              "      <th>4</th>\n",
              "      <td>In breve tempo, per accedere a Internet, sarà ...</td>\n",
              "      <td>Qanon</td>\n",
              "    </tr>\n",
              "  </tbody>\n",
              "</table>\n",
              "</div>\n",
              "    <div class=\"colab-df-buttons\">\n",
              "\n",
              "  <div class=\"colab-df-container\">\n",
              "    <button class=\"colab-df-convert\" onclick=\"convertToInteractive('df-7bb4a6ca-668c-47f9-8492-810550956f71')\"\n",
              "            title=\"Convert this dataframe to an interactive table.\"\n",
              "            style=\"display:none;\">\n",
              "\n",
              "  <svg xmlns=\"http://www.w3.org/2000/svg\" height=\"24px\" viewBox=\"0 -960 960 960\">\n",
              "    <path d=\"M120-120v-720h720v720H120Zm60-500h600v-160H180v160Zm220 220h160v-160H400v160Zm0 220h160v-160H400v160ZM180-400h160v-160H180v160Zm440 0h160v-160H620v160ZM180-180h160v-160H180v160Zm440 0h160v-160H620v160Z\"/>\n",
              "  </svg>\n",
              "    </button>\n",
              "\n",
              "  <style>\n",
              "    .colab-df-container {\n",
              "      display:flex;\n",
              "      gap: 12px;\n",
              "    }\n",
              "\n",
              "    .colab-df-convert {\n",
              "      background-color: #E8F0FE;\n",
              "      border: none;\n",
              "      border-radius: 50%;\n",
              "      cursor: pointer;\n",
              "      display: none;\n",
              "      fill: #1967D2;\n",
              "      height: 32px;\n",
              "      padding: 0 0 0 0;\n",
              "      width: 32px;\n",
              "    }\n",
              "\n",
              "    .colab-df-convert:hover {\n",
              "      background-color: #E2EBFA;\n",
              "      box-shadow: 0px 1px 2px rgba(60, 64, 67, 0.3), 0px 1px 3px 1px rgba(60, 64, 67, 0.15);\n",
              "      fill: #174EA6;\n",
              "    }\n",
              "\n",
              "    .colab-df-buttons div {\n",
              "      margin-bottom: 4px;\n",
              "    }\n",
              "\n",
              "    [theme=dark] .colab-df-convert {\n",
              "      background-color: #3B4455;\n",
              "      fill: #D2E3FC;\n",
              "    }\n",
              "\n",
              "    [theme=dark] .colab-df-convert:hover {\n",
              "      background-color: #434B5C;\n",
              "      box-shadow: 0px 1px 3px 1px rgba(0, 0, 0, 0.15);\n",
              "      filter: drop-shadow(0px 1px 2px rgba(0, 0, 0, 0.3));\n",
              "      fill: #FFFFFF;\n",
              "    }\n",
              "  </style>\n",
              "\n",
              "    <script>\n",
              "      const buttonEl =\n",
              "        document.querySelector('#df-7bb4a6ca-668c-47f9-8492-810550956f71 button.colab-df-convert');\n",
              "      buttonEl.style.display =\n",
              "        google.colab.kernel.accessAllowed ? 'block' : 'none';\n",
              "\n",
              "      async function convertToInteractive(key) {\n",
              "        const element = document.querySelector('#df-7bb4a6ca-668c-47f9-8492-810550956f71');\n",
              "        const dataTable =\n",
              "          await google.colab.kernel.invokeFunction('convertToInteractive',\n",
              "                                                    [key], {});\n",
              "        if (!dataTable) return;\n",
              "\n",
              "        const docLinkHtml = 'Like what you see? Visit the ' +\n",
              "          '<a target=\"_blank\" href=https://colab.research.google.com/notebooks/data_table.ipynb>data table notebook</a>'\n",
              "          + ' to learn more about interactive tables.';\n",
              "        element.innerHTML = '';\n",
              "        dataTable['output_type'] = 'display_data';\n",
              "        await google.colab.output.renderOutput(dataTable, element);\n",
              "        const docLink = document.createElement('div');\n",
              "        docLink.innerHTML = docLinkHtml;\n",
              "        element.appendChild(docLink);\n",
              "      }\n",
              "    </script>\n",
              "  </div>\n",
              "\n",
              "\n",
              "<div id=\"df-35d628ee-4214-4593-9d2f-23180a57602d\">\n",
              "  <button class=\"colab-df-quickchart\" onclick=\"quickchart('df-35d628ee-4214-4593-9d2f-23180a57602d')\"\n",
              "            title=\"Suggest charts.\"\n",
              "            style=\"display:none;\">\n",
              "\n",
              "<svg xmlns=\"http://www.w3.org/2000/svg\" height=\"24px\"viewBox=\"0 0 24 24\"\n",
              "     width=\"24px\">\n",
              "    <g>\n",
              "        <path d=\"M19 3H5c-1.1 0-2 .9-2 2v14c0 1.1.9 2 2 2h14c1.1 0 2-.9 2-2V5c0-1.1-.9-2-2-2zM9 17H7v-7h2v7zm4 0h-2V7h2v10zm4 0h-2v-4h2v4z\"/>\n",
              "    </g>\n",
              "</svg>\n",
              "  </button>\n",
              "\n",
              "<style>\n",
              "  .colab-df-quickchart {\n",
              "      --bg-color: #E8F0FE;\n",
              "      --fill-color: #1967D2;\n",
              "      --hover-bg-color: #E2EBFA;\n",
              "      --hover-fill-color: #174EA6;\n",
              "      --disabled-fill-color: #AAA;\n",
              "      --disabled-bg-color: #DDD;\n",
              "  }\n",
              "\n",
              "  [theme=dark] .colab-df-quickchart {\n",
              "      --bg-color: #3B4455;\n",
              "      --fill-color: #D2E3FC;\n",
              "      --hover-bg-color: #434B5C;\n",
              "      --hover-fill-color: #FFFFFF;\n",
              "      --disabled-bg-color: #3B4455;\n",
              "      --disabled-fill-color: #666;\n",
              "  }\n",
              "\n",
              "  .colab-df-quickchart {\n",
              "    background-color: var(--bg-color);\n",
              "    border: none;\n",
              "    border-radius: 50%;\n",
              "    cursor: pointer;\n",
              "    display: none;\n",
              "    fill: var(--fill-color);\n",
              "    height: 32px;\n",
              "    padding: 0;\n",
              "    width: 32px;\n",
              "  }\n",
              "\n",
              "  .colab-df-quickchart:hover {\n",
              "    background-color: var(--hover-bg-color);\n",
              "    box-shadow: 0 1px 2px rgba(60, 64, 67, 0.3), 0 1px 3px 1px rgba(60, 64, 67, 0.15);\n",
              "    fill: var(--button-hover-fill-color);\n",
              "  }\n",
              "\n",
              "  .colab-df-quickchart-complete:disabled,\n",
              "  .colab-df-quickchart-complete:disabled:hover {\n",
              "    background-color: var(--disabled-bg-color);\n",
              "    fill: var(--disabled-fill-color);\n",
              "    box-shadow: none;\n",
              "  }\n",
              "\n",
              "  .colab-df-spinner {\n",
              "    border: 2px solid var(--fill-color);\n",
              "    border-color: transparent;\n",
              "    border-bottom-color: var(--fill-color);\n",
              "    animation:\n",
              "      spin 1s steps(1) infinite;\n",
              "  }\n",
              "\n",
              "  @keyframes spin {\n",
              "    0% {\n",
              "      border-color: transparent;\n",
              "      border-bottom-color: var(--fill-color);\n",
              "      border-left-color: var(--fill-color);\n",
              "    }\n",
              "    20% {\n",
              "      border-color: transparent;\n",
              "      border-left-color: var(--fill-color);\n",
              "      border-top-color: var(--fill-color);\n",
              "    }\n",
              "    30% {\n",
              "      border-color: transparent;\n",
              "      border-left-color: var(--fill-color);\n",
              "      border-top-color: var(--fill-color);\n",
              "      border-right-color: var(--fill-color);\n",
              "    }\n",
              "    40% {\n",
              "      border-color: transparent;\n",
              "      border-right-color: var(--fill-color);\n",
              "      border-top-color: var(--fill-color);\n",
              "    }\n",
              "    60% {\n",
              "      border-color: transparent;\n",
              "      border-right-color: var(--fill-color);\n",
              "    }\n",
              "    80% {\n",
              "      border-color: transparent;\n",
              "      border-right-color: var(--fill-color);\n",
              "      border-bottom-color: var(--fill-color);\n",
              "    }\n",
              "    90% {\n",
              "      border-color: transparent;\n",
              "      border-bottom-color: var(--fill-color);\n",
              "    }\n",
              "  }\n",
              "</style>\n",
              "\n",
              "  <script>\n",
              "    async function quickchart(key) {\n",
              "      const quickchartButtonEl =\n",
              "        document.querySelector('#' + key + ' button');\n",
              "      quickchartButtonEl.disabled = true;  // To prevent multiple clicks.\n",
              "      quickchartButtonEl.classList.add('colab-df-spinner');\n",
              "      try {\n",
              "        const charts = await google.colab.kernel.invokeFunction(\n",
              "            'suggestCharts', [key], {});\n",
              "      } catch (error) {\n",
              "        console.error('Error during call to suggestCharts:', error);\n",
              "      }\n",
              "      quickchartButtonEl.classList.remove('colab-df-spinner');\n",
              "      quickchartButtonEl.classList.add('colab-df-quickchart-complete');\n",
              "    }\n",
              "    (() => {\n",
              "      let quickchartButtonEl =\n",
              "        document.querySelector('#df-35d628ee-4214-4593-9d2f-23180a57602d button');\n",
              "      quickchartButtonEl.style.display =\n",
              "        google.colab.kernel.accessAllowed ? 'block' : 'none';\n",
              "    })();\n",
              "  </script>\n",
              "</div>\n",
              "    </div>\n",
              "  </div>\n"
            ]
          },
          "metadata": {},
          "execution_count": 3
        }
      ]
    },
    {
      "cell_type": "code",
      "source": [
        "x_train['topic'].unique()"
      ],
      "metadata": {
        "colab": {
          "base_uri": "https://localhost:8080/"
        },
        "id": "3hG57JjYiU7Q",
        "outputId": "2df7b4de-9062-4cc0-eb9d-6cf6ce504606"
      },
      "execution_count": 4,
      "outputs": [
        {
          "output_type": "execute_result",
          "data": {
            "text/plain": [
              "array(['Qanon', 'Covid', 'Terra Piatta', 'Russia'], dtype=object)"
            ]
          },
          "metadata": {},
          "execution_count": 4
        }
      ]
    },
    {
      "cell_type": "markdown",
      "metadata": {
        "id": "4vgrQnpbSiZA"
      },
      "source": [
        "We perform tokenization removing frequent words, stopwords, rare words, and counting frequencies.\n",
        "\n",
        "Every document is converted from a string to a set of the words it is composed of, each one associated with its frequency in the document."
      ]
    },
    {
      "cell_type": "code",
      "metadata": {
        "id": "wvwdMky_SiZB",
        "colab": {
          "base_uri": "https://localhost:8080/"
        },
        "outputId": "d594644a-7995-4824-f31e-4ab469be0fc9"
      },
      "source": [
        "from sklearn.feature_extraction.text import CountVectorizer\n",
        "import nltk\n",
        "from nltk.corpus import stopwords\n",
        "\n",
        "nltk.download('stopwords')\n",
        "en_stopwords = stopwords.words('italian')\n",
        "\n",
        "tf_vectorizer = CountVectorizer(stop_words=en_stopwords, max_df=0.5, min_df=5,max_features = 1000, ngram_range=(1,2))\n",
        "tf = tf_vectorizer.fit_transform(x_train['comment_text'])"
      ],
      "execution_count": 5,
      "outputs": [
        {
          "output_type": "stream",
          "name": "stderr",
          "text": [
            "[nltk_data] Downloading package stopwords to /root/nltk_data...\n",
            "[nltk_data]   Unzipping corpora/stopwords.zip.\n"
          ]
        }
      ]
    },
    {
      "cell_type": "code",
      "metadata": {
        "id": "WZR10x29SiZG",
        "colab": {
          "base_uri": "https://localhost:8080/",
          "height": 1000
        },
        "outputId": "61604c45-62b7-40cb-efba-1b06330c1e72"
      },
      "source": [
        "from sklearn.decomposition import LatentDirichletAllocation\n",
        "\n",
        "n_components = 4\n",
        "\n",
        "lda = LatentDirichletAllocation(n_components=n_components, max_iter=101,\n",
        "                                learning_method = 'batch',\n",
        "                                n_jobs=-1,verbose=1)\n",
        "lda.fit(tf)\n"
      ],
      "execution_count": 6,
      "outputs": [
        {
          "output_type": "stream",
          "name": "stdout",
          "text": [
            "iteration: 1 of max_iter: 101\n",
            "iteration: 2 of max_iter: 101\n",
            "iteration: 3 of max_iter: 101\n",
            "iteration: 4 of max_iter: 101\n",
            "iteration: 5 of max_iter: 101\n",
            "iteration: 6 of max_iter: 101\n",
            "iteration: 7 of max_iter: 101\n",
            "iteration: 8 of max_iter: 101\n",
            "iteration: 9 of max_iter: 101\n",
            "iteration: 10 of max_iter: 101\n",
            "iteration: 11 of max_iter: 101\n",
            "iteration: 12 of max_iter: 101\n",
            "iteration: 13 of max_iter: 101\n",
            "iteration: 14 of max_iter: 101\n",
            "iteration: 15 of max_iter: 101\n",
            "iteration: 16 of max_iter: 101\n",
            "iteration: 17 of max_iter: 101\n",
            "iteration: 18 of max_iter: 101\n",
            "iteration: 19 of max_iter: 101\n",
            "iteration: 20 of max_iter: 101\n",
            "iteration: 21 of max_iter: 101\n",
            "iteration: 22 of max_iter: 101\n",
            "iteration: 23 of max_iter: 101\n",
            "iteration: 24 of max_iter: 101\n",
            "iteration: 25 of max_iter: 101\n",
            "iteration: 26 of max_iter: 101\n",
            "iteration: 27 of max_iter: 101\n",
            "iteration: 28 of max_iter: 101\n",
            "iteration: 29 of max_iter: 101\n",
            "iteration: 30 of max_iter: 101\n",
            "iteration: 31 of max_iter: 101\n",
            "iteration: 32 of max_iter: 101\n",
            "iteration: 33 of max_iter: 101\n",
            "iteration: 34 of max_iter: 101\n",
            "iteration: 35 of max_iter: 101\n",
            "iteration: 36 of max_iter: 101\n",
            "iteration: 37 of max_iter: 101\n",
            "iteration: 38 of max_iter: 101\n",
            "iteration: 39 of max_iter: 101\n",
            "iteration: 40 of max_iter: 101\n",
            "iteration: 41 of max_iter: 101\n",
            "iteration: 42 of max_iter: 101\n",
            "iteration: 43 of max_iter: 101\n",
            "iteration: 44 of max_iter: 101\n",
            "iteration: 45 of max_iter: 101\n",
            "iteration: 46 of max_iter: 101\n",
            "iteration: 47 of max_iter: 101\n",
            "iteration: 48 of max_iter: 101\n",
            "iteration: 49 of max_iter: 101\n",
            "iteration: 50 of max_iter: 101\n",
            "iteration: 51 of max_iter: 101\n",
            "iteration: 52 of max_iter: 101\n",
            "iteration: 53 of max_iter: 101\n",
            "iteration: 54 of max_iter: 101\n",
            "iteration: 55 of max_iter: 101\n",
            "iteration: 56 of max_iter: 101\n",
            "iteration: 57 of max_iter: 101\n",
            "iteration: 58 of max_iter: 101\n",
            "iteration: 59 of max_iter: 101\n",
            "iteration: 60 of max_iter: 101\n",
            "iteration: 61 of max_iter: 101\n",
            "iteration: 62 of max_iter: 101\n",
            "iteration: 63 of max_iter: 101\n",
            "iteration: 64 of max_iter: 101\n",
            "iteration: 65 of max_iter: 101\n",
            "iteration: 66 of max_iter: 101\n",
            "iteration: 67 of max_iter: 101\n",
            "iteration: 68 of max_iter: 101\n",
            "iteration: 69 of max_iter: 101\n",
            "iteration: 70 of max_iter: 101\n",
            "iteration: 71 of max_iter: 101\n",
            "iteration: 72 of max_iter: 101\n",
            "iteration: 73 of max_iter: 101\n",
            "iteration: 74 of max_iter: 101\n",
            "iteration: 75 of max_iter: 101\n",
            "iteration: 76 of max_iter: 101\n",
            "iteration: 77 of max_iter: 101\n",
            "iteration: 78 of max_iter: 101\n",
            "iteration: 79 of max_iter: 101\n",
            "iteration: 80 of max_iter: 101\n",
            "iteration: 81 of max_iter: 101\n",
            "iteration: 82 of max_iter: 101\n",
            "iteration: 83 of max_iter: 101\n",
            "iteration: 84 of max_iter: 101\n",
            "iteration: 85 of max_iter: 101\n",
            "iteration: 86 of max_iter: 101\n",
            "iteration: 87 of max_iter: 101\n",
            "iteration: 88 of max_iter: 101\n",
            "iteration: 89 of max_iter: 101\n",
            "iteration: 90 of max_iter: 101\n",
            "iteration: 91 of max_iter: 101\n",
            "iteration: 92 of max_iter: 101\n",
            "iteration: 93 of max_iter: 101\n",
            "iteration: 94 of max_iter: 101\n",
            "iteration: 95 of max_iter: 101\n",
            "iteration: 96 of max_iter: 101\n",
            "iteration: 97 of max_iter: 101\n",
            "iteration: 98 of max_iter: 101\n",
            "iteration: 99 of max_iter: 101\n",
            "iteration: 100 of max_iter: 101\n",
            "iteration: 101 of max_iter: 101\n"
          ]
        },
        {
          "output_type": "execute_result",
          "data": {
            "text/plain": [
              "LatentDirichletAllocation(max_iter=101, n_components=4, n_jobs=-1, verbose=1)"
            ],
            "text/html": [
              "<style>#sk-container-id-1 {color: black;background-color: white;}#sk-container-id-1 pre{padding: 0;}#sk-container-id-1 div.sk-toggleable {background-color: white;}#sk-container-id-1 label.sk-toggleable__label {cursor: pointer;display: block;width: 100%;margin-bottom: 0;padding: 0.3em;box-sizing: border-box;text-align: center;}#sk-container-id-1 label.sk-toggleable__label-arrow:before {content: \"▸\";float: left;margin-right: 0.25em;color: #696969;}#sk-container-id-1 label.sk-toggleable__label-arrow:hover:before {color: black;}#sk-container-id-1 div.sk-estimator:hover label.sk-toggleable__label-arrow:before {color: black;}#sk-container-id-1 div.sk-toggleable__content {max-height: 0;max-width: 0;overflow: hidden;text-align: left;background-color: #f0f8ff;}#sk-container-id-1 div.sk-toggleable__content pre {margin: 0.2em;color: black;border-radius: 0.25em;background-color: #f0f8ff;}#sk-container-id-1 input.sk-toggleable__control:checked~div.sk-toggleable__content {max-height: 200px;max-width: 100%;overflow: auto;}#sk-container-id-1 input.sk-toggleable__control:checked~label.sk-toggleable__label-arrow:before {content: \"▾\";}#sk-container-id-1 div.sk-estimator input.sk-toggleable__control:checked~label.sk-toggleable__label {background-color: #d4ebff;}#sk-container-id-1 div.sk-label input.sk-toggleable__control:checked~label.sk-toggleable__label {background-color: #d4ebff;}#sk-container-id-1 input.sk-hidden--visually {border: 0;clip: rect(1px 1px 1px 1px);clip: rect(1px, 1px, 1px, 1px);height: 1px;margin: -1px;overflow: hidden;padding: 0;position: absolute;width: 1px;}#sk-container-id-1 div.sk-estimator {font-family: monospace;background-color: #f0f8ff;border: 1px dotted black;border-radius: 0.25em;box-sizing: border-box;margin-bottom: 0.5em;}#sk-container-id-1 div.sk-estimator:hover {background-color: #d4ebff;}#sk-container-id-1 div.sk-parallel-item::after {content: \"\";width: 100%;border-bottom: 1px solid gray;flex-grow: 1;}#sk-container-id-1 div.sk-label:hover label.sk-toggleable__label {background-color: #d4ebff;}#sk-container-id-1 div.sk-serial::before {content: \"\";position: absolute;border-left: 1px solid gray;box-sizing: border-box;top: 0;bottom: 0;left: 50%;z-index: 0;}#sk-container-id-1 div.sk-serial {display: flex;flex-direction: column;align-items: center;background-color: white;padding-right: 0.2em;padding-left: 0.2em;position: relative;}#sk-container-id-1 div.sk-item {position: relative;z-index: 1;}#sk-container-id-1 div.sk-parallel {display: flex;align-items: stretch;justify-content: center;background-color: white;position: relative;}#sk-container-id-1 div.sk-item::before, #sk-container-id-1 div.sk-parallel-item::before {content: \"\";position: absolute;border-left: 1px solid gray;box-sizing: border-box;top: 0;bottom: 0;left: 50%;z-index: -1;}#sk-container-id-1 div.sk-parallel-item {display: flex;flex-direction: column;z-index: 1;position: relative;background-color: white;}#sk-container-id-1 div.sk-parallel-item:first-child::after {align-self: flex-end;width: 50%;}#sk-container-id-1 div.sk-parallel-item:last-child::after {align-self: flex-start;width: 50%;}#sk-container-id-1 div.sk-parallel-item:only-child::after {width: 0;}#sk-container-id-1 div.sk-dashed-wrapped {border: 1px dashed gray;margin: 0 0.4em 0.5em 0.4em;box-sizing: border-box;padding-bottom: 0.4em;background-color: white;}#sk-container-id-1 div.sk-label label {font-family: monospace;font-weight: bold;display: inline-block;line-height: 1.2em;}#sk-container-id-1 div.sk-label-container {text-align: center;}#sk-container-id-1 div.sk-container {/* jupyter's `normalize.less` sets `[hidden] { display: none; }` but bootstrap.min.css set `[hidden] { display: none !important; }` so we also need the `!important` here to be able to override the default hidden behavior on the sphinx rendered scikit-learn.org. See: https://github.com/scikit-learn/scikit-learn/issues/21755 */display: inline-block !important;position: relative;}#sk-container-id-1 div.sk-text-repr-fallback {display: none;}</style><div id=\"sk-container-id-1\" class=\"sk-top-container\"><div class=\"sk-text-repr-fallback\"><pre>LatentDirichletAllocation(max_iter=101, n_components=4, n_jobs=-1, verbose=1)</pre><b>In a Jupyter environment, please rerun this cell to show the HTML representation or trust the notebook. <br />On GitHub, the HTML representation is unable to render, please try loading this page with nbviewer.org.</b></div><div class=\"sk-container\" hidden><div class=\"sk-item\"><div class=\"sk-estimator sk-toggleable\"><input class=\"sk-toggleable__control sk-hidden--visually\" id=\"sk-estimator-id-1\" type=\"checkbox\" checked><label for=\"sk-estimator-id-1\" class=\"sk-toggleable__label sk-toggleable__label-arrow\">LatentDirichletAllocation</label><div class=\"sk-toggleable__content\"><pre>LatentDirichletAllocation(max_iter=101, n_components=4, n_jobs=-1, verbose=1)</pre></div></div></div></div></div>"
            ]
          },
          "metadata": {},
          "execution_count": 6
        }
      ]
    },
    {
      "cell_type": "code",
      "metadata": {
        "id": "S_okkSUlSiZL"
      },
      "source": [
        "def print_top_words(model, feature_names, n_top_words, file_name):\n",
        "  #open text file\n",
        "  text_file = open(file_name, \"w\")\n",
        "  for topic_idx, topic in enumerate(model.components_):\n",
        "    message = f'Topic {topic_idx}: '\n",
        "    message += ', '.join([feature_names[i]\n",
        "                            for i in topic.argsort()[:-n_top_words - 1:-1]])\n",
        "    text_file.write(message)\n",
        "    print(message)\n",
        "    print()\n",
        "  text_file.close()"
      ],
      "execution_count": 11,
      "outputs": []
    },
    {
      "cell_type": "code",
      "metadata": {
        "id": "fTjdKxqFSiZR",
        "colab": {
          "base_uri": "https://localhost:8080/"
        },
        "outputId": "1420db2f-68a2-4492-9dac-922cbf5d5aa7"
      },
      "source": [
        "n_top_words = 100\n",
        "tf_feature_names = tf_vectorizer.get_feature_names_out()\n",
        "print_top_words(lda, tf_feature_names, n_top_words, 'Top_words_TM.txt')"
      ],
      "execution_count": 13,
      "outputs": [
        {
          "output_type": "stream",
          "name": "stdout",
          "text": [
            "Topic 0: covid, 19, covid 19, vaccini, vaccino, persone, sieri, vaccinazione, dopo, anni, morti, pandemia, vaccinati, pfizer, virus, dott, mrna, bambini, essere, salute, dati, stato, dosi, solo, casi, sars, dose, cov, sars cov, effetti, 2021, of, studio, possono, rischio, può, due, lockdown, infezione, sieri covid, stati, grafene, avversi, tutta, 2022, vaccini covid, gravi, decessi, dittatura, bnt162b2, moderna, spike, efficacia, milioni, studi, durante, parte, popolazione, test, tasso, usa, italia, rispetto, prof, termine, anticorpi, vaiolo, verità, mesi, siero, controllo, stata, variante, proteina, età, morte, lungo, effetti collaterali, collaterali, causa, eventi, già, giovani, comple, aumento, omicron, miocardite, condividi, caso, mondiale, né, prima, avanti, pubblica, senza, state, malattia, sistema, 000, governo\n",
            "\n",
            "Topic 1: solo, no, pass, essere, fare, sempre, green, green pass, cosa, quando, senza, fa, vax, fatto, obbligo, libertà, persone, dittatura, poi, vaccino, così, sistema, mai, può, governo, vaccinale, vaccinati, dopo, vaccini, ancora, prima, allora, mondo, tutte, anni, no vax, legge, oggi, forse, tanto, ora, italia, soldi, video, gente, medici, qualcuno, fine, già, dire, ciò, obbligo vaccinale, conto, però, quindi, stesso, vogliono, sotto, punto, verità, perchè, deve, ecco, altro, soprattutto, volta, bene, parte, nessuno, andare, devono, invece, vaccinato, draghi, molto, sanitaria, modo, oltre, grande, molti, nulla, altri, anno, femmine, diritto, cancro, notizia, far, fino, nessuna, cose, effetto, qui, aver, possono, siero, ogni, cittadini, costituzione, lavorare\n",
            "\n",
            "Topic 2: trump, stato, biden, ora, media, molto, elezioni, essere, fatto, così, ciò, solo, clinton, stati, dopo, persone, state, america, quando, detto, secondo, mai, casa, elettorale, video, anni, fbi, cosa, film, mondo, documenti, volta, presidente, storia, piano, motivo, sembra, democratici, campagna, capire, ancora, 2020, parte, 2000, donald, donald trump, fa, ucraina, dice, hillary, joe, durante, nemico, portato, piu, sappiamo, pubblico, modo, situazione, primo, circa, dato, russia, me, aver, americani, milioni, prima, twitter, generale, hillary clinton, frode, sinistra, social, voto, elon, altro, operazione, deep state, sempre, stesso, ogni, deep, fare, stata, alcuni, visto, verso, regina, hunter, truth, joe biden, parlare, traduzione, speciale, difesa, pubblicato, pertanto, sotto, processo\n",
            "\n",
            "Topic 3: ucraina, russia, guerra, stato, terra, stati, italia, fatto, ue, mondo, ucraini, paesi, già, italiano, putin, paese, mondiale, poi, quando, draghi, vuole, nazisti, essere, anni, ecco, russi, nato, due, élite, bill, ordine, aver, tempo, ancora, russo, parte, consenso, senza, polizia, uniti, gates, bill gates, video, twitter, proprio, ucraino, crisi, nuovo, stati uniti, caso, civili, popolo, mano, forze, militari, esercito, oltre, ragione, stessa, regime, profondo, crimini, mettere, città, solo, ora, quindi, stata, vedere, stato profondo, zelensky, gruppi, molto, paura, vita, musk, reset, pace, wef, politica, causa, poteri, sempre, prima, militare, azov, piatta, nuovo ordine, ordine mondiale, de, ebrei, tempi, informato, nome, farsa, dopo, armi, criminale, uomo, foto\n",
            "\n"
          ]
        }
      ]
    },
    {
      "cell_type": "markdown",
      "source": [
        "- topic 0 => covid\n",
        "- topic 1 => vaccino/terra piatta?\n",
        "- topic 2 => russia\n",
        "- topic 3 => qanon"
      ],
      "metadata": {
        "id": "rKAWm-QZj61l"
      }
    },
    {
      "cell_type": "markdown",
      "metadata": {
        "id": "gvc1jYOMSiZU"
      },
      "source": [
        "## Projecting documents into topics\n",
        "The transform methods of the LDA model, transforms the tf vectors of documents into topic vectors.\n",
        "The weights of a topic vector for a document indicates how the content of a document can be considered to be originated by the various topics."
      ]
    },
    {
      "cell_type": "code",
      "metadata": {
        "id": "L-rtJ9Z7SiZW",
        "colab": {
          "base_uri": "https://localhost:8080/"
        },
        "outputId": "4b7147d6-6b1f-4f62-a09b-476e83de8303"
      },
      "source": [
        "doc_topics = lda.transform(tf)\n",
        "doc_topics"
      ],
      "execution_count": 14,
      "outputs": [
        {
          "output_type": "execute_result",
          "data": {
            "text/plain": [
              "array([[0.00800144, 0.58232656, 0.00827311, 0.40139889],\n",
              "       [0.37738944, 0.4890757 , 0.07065688, 0.06287798],\n",
              "       [0.02538145, 0.92311463, 0.02536168, 0.02614225],\n",
              "       ...,\n",
              "       [0.0214876 , 0.02212509, 0.74152596, 0.21486136],\n",
              "       [0.56425379, 0.0095411 , 0.12874351, 0.29746161],\n",
              "       [0.08536685, 0.09078493, 0.08335143, 0.74049679]])"
            ]
          },
          "metadata": {},
          "execution_count": 14
        }
      ]
    },
    {
      "cell_type": "code",
      "metadata": {
        "id": "WaUvWf6a-15z",
        "colab": {
          "base_uri": "https://localhost:8080/"
        },
        "outputId": "4c93148f-b876-49e2-8d3d-3278a0b33953"
      },
      "source": [
        "doc_topics.shape"
      ],
      "execution_count": 15,
      "outputs": [
        {
          "output_type": "execute_result",
          "data": {
            "text/plain": [
              "(810, 4)"
            ]
          },
          "metadata": {},
          "execution_count": 15
        }
      ]
    },
    {
      "cell_type": "markdown",
      "metadata": {
        "id": "3su7eJkieXFu"
      },
      "source": [
        "The highest weighted topic is the one the document may be assigned to."
      ]
    },
    {
      "cell_type": "code",
      "metadata": {
        "id": "3ky7-M8xSiZa"
      },
      "source": [
        "import numpy as np\n",
        "\n",
        "labels = np.argmax(doc_topics,axis=1)"
      ],
      "execution_count": 16,
      "outputs": []
    },
    {
      "cell_type": "code",
      "metadata": {
        "id": "GI4xK27UU6ku"
      },
      "source": [
        "import pyLDAvis\n",
        "#import pyLDAvis.gensim_models as gensimvis\n"
      ],
      "execution_count": 17,
      "outputs": []
    },
    {
      "cell_type": "code",
      "metadata": {
        "id": "siuXgnSzWHWM",
        "colab": {
          "base_uri": "https://localhost:8080/",
          "height": 916
        },
        "outputId": "39a735b4-e419-4019-b83e-bdf2676ce1a1"
      },
      "source": [
        "import pyLDAvis.lda_model\n",
        "\n",
        "pyLDAvis.enable_notebook()\n",
        "vis = pyLDAvis.lda_model.prepare(lda,tf,tf_vectorizer)\n",
        "vis"
      ],
      "execution_count": 18,
      "outputs": [
        {
          "output_type": "stream",
          "name": "stderr",
          "text": [
            "/usr/local/lib/python3.10/dist-packages/ipykernel/ipkernel.py:283: DeprecationWarning: `should_run_async` will not call `transform_cell` automatically in the future. Please pass the result to `transformed_cell` argument and any exception that happen during thetransform in `preprocessing_exc_tuple` in IPython 7.17 and above.\n",
            "  and should_run_async(code)\n"
          ]
        },
        {
          "output_type": "execute_result",
          "data": {
            "text/plain": [
              "PreparedData(topic_coordinates=              x         y  topics  cluster       Freq\n",
              "topic                                                \n",
              "1     -0.049871  0.188300       1        1  29.085849\n",
              "0      0.247756 -0.030173       2        1  26.783292\n",
              "2     -0.079811 -0.047156       3        1  22.677743\n",
              "3     -0.118073 -0.110970       4        1  21.453116, topic_info=         Term        Freq       Total Category  logprob  loglift\n",
              "191     covid  171.000000  171.000000  Default  30.0000  30.0000\n",
              "906     trump   88.000000   88.000000  Default  29.0000  29.0000\n",
              "9          19   91.000000   91.000000  Default  28.0000  28.0000\n",
              "192  covid 19   84.000000   84.000000  Default  27.0000  27.0000\n",
              "949   vaccino  108.000000  108.000000  Default  26.0000  26.0000\n",
              "..        ...         ...         ...      ...      ...      ...\n",
              "276       due   18.048506   48.075918   Topic4  -5.2730   0.5596\n",
              "711    quando   19.123981   85.595560   Topic4  -5.2151   0.0406\n",
              "90       aver   17.073605   44.224019   Topic4  -5.3285   0.5876\n",
              "302    essere   18.632158  130.917423   Topic4  -5.2412  -0.4104\n",
              "63       anni   18.135113   98.129018   Topic4  -5.2682  -0.1491\n",
              "\n",
              "[252 rows x 6 columns], token_table=      Topic      Freq   Term\n",
              "term                        \n",
              "9         2  0.989550     19\n",
              "11        3  0.915968   2000\n",
              "17        2  0.852652   2021\n",
              "17        3  0.040602   2021\n",
              "17        4  0.081205   2021\n",
              "...     ...       ...    ...\n",
              "995       3  0.048375  vuole\n",
              "995       4  0.919127  vuole\n",
              "997       4  0.975825    wef\n",
              "999       2  0.254960  élite\n",
              "999       4  0.722386  élite\n",
              "\n",
              "[340 rows x 3 columns], R=30, lambda_step=0.01, plot_opts={'xlab': 'PC1', 'ylab': 'PC2'}, topic_order=[2, 1, 3, 4])"
            ],
            "text/html": [
              "\n",
              "<link rel=\"stylesheet\" type=\"text/css\" href=\"https://cdn.jsdelivr.net/gh/bmabey/pyLDAvis@3.4.0/pyLDAvis/js/ldavis.v1.0.0.css\">\n",
              "\n",
              "\n",
              "<div id=\"ldavis_el5871328174134672482292917320\" style=\"background-color:white;\"></div>\n",
              "<script type=\"text/javascript\">\n",
              "\n",
              "var ldavis_el5871328174134672482292917320_data = {\"mdsDat\": {\"x\": [-0.04987149758508214, 0.24775559341221673, -0.07981088346752117, -0.11807321235961339], \"y\": [0.18829956643884174, -0.03017269140535887, -0.04715639928175634, -0.11097047575172651], \"topics\": [1, 2, 3, 4], \"cluster\": [1, 1, 1, 1], \"Freq\": [29.0858493902147, 26.783291636832583, 22.67774276287128, 21.45311621008144]}, \"tinfo\": {\"Term\": [\"covid\", \"trump\", \"19\", \"covid 19\", \"vaccino\", \"vaccini\", \"ucraina\", \"russia\", \"no\", \"pass\", \"guerra\", \"biden\", \"sieri\", \"green\", \"green pass\", \"vaccinazione\", \"stato\", \"morti\", \"terra\", \"pfizer\", \"vax\", \"pandemia\", \"virus\", \"dott\", \"obbligo\", \"mrna\", \"fare\", \"elezioni\", \"vaccinati\", \"ue\", \"no\", \"pass\", \"green\", \"green pass\", \"vax\", \"obbligo\", \"vaccinale\", \"no vax\", \"legge\", \"soldi\", \"obbligo vaccinale\", \"conto\", \"vaccinato\", \"femmine\", \"diritto\", \"costituzione\", \"lavorare\", \"effetto\", \"davanti\", \"anzi\", \"dentro\", \"informazione\", \"avverse\", \"reazioni avverse\", \"schiavi\", \"farsi\", \"rendere\", \"comunque\", \"femminista\", \"free\", \"libert\\u00e0\", \"sanitaria\", \"fare\", \"cancro\", \"allora\", \"sempre\", \"forse\", \"tanto\", \"solo\", \"cosa\", \"fa\", \"dittatura\", \"deve\", \"senza\", \"sistema\", \"essere\", \"quando\", \"mai\", \"poi\", \"fatto\", \"governo\", \"cos\\u00ec\", \"pu\\u00f2\", \"persone\", \"vaccino\", \"vaccinati\", \"dopo\", \"vaccini\", \"ancora\", \"covid\", \"19\", \"covid 19\", \"sieri\", \"vaccinazione\", \"morti\", \"pfizer\", \"virus\", \"dott\", \"mrna\", \"dosi\", \"sars\", \"cov\", \"sars cov\", \"of\", \"lockdown\", \"infezione\", \"sieri covid\", \"grafene\", \"avversi\", \"vaccini covid\", \"gravi\", \"bnt162b2\", \"moderna\", \"spike\", \"studi\", \"anticorpi\", \"vaiolo\", \"proteina\", \"et\\u00e0\", \"casi\", \"pandemia\", \"vaccini\", \"vaccino\", \"studio\", \"dose\", \"2021\", \"salute\", \"dati\", \"vaccinati\", \"persone\", \"bambini\", \"dopo\", \"anni\", \"effetti\", \"essere\", \"stato\", \"solo\", \"trump\", \"biden\", \"elezioni\", \"clinton\", \"america\", \"elettorale\", \"fbi\", \"democratici\", \"campagna\", \"2000\", \"donald\", \"donald trump\", \"hillary\", \"joe\", \"nemico\", \"portato\", \"circa\", \"hillary clinton\", \"frode\", \"sinistra\", \"social\", \"voto\", \"regina\", \"hunter\", \"truth\", \"joe biden\", \"traduzione\", \"speciale\", \"difesa\", \"pubblicato\", \"documenti\", \"casa\", \"media\", \"motivo\", \"film\", \"ora\", \"stato\", \"capire\", \"molto\", \"ci\\u00f2\", \"piano\", \"cos\\u00ec\", \"detto\", \"secondo\", \"state\", \"fatto\", \"essere\", \"stati\", \"mai\", \"solo\", \"dopo\", \"video\", \"quando\", \"persone\", \"cosa\", \"anni\", \"mondo\", \"guerra\", \"terra\", \"ue\", \"ucraini\", \"italiano\", \"russi\", \"nato\", \"bill\", \"ordine\", \"consenso\", \"bill gates\", \"gates\", \"ucraino\", \"crisi\", \"mano\", \"musk\", \"reset\", \"pace\", \"wef\", \"azov\", \"piatta\", \"nuovo ordine\", \"ordine mondiale\", \"de\", \"informato\", \"nome\", \"terra piatta\", \"nord\", \"euro\", \"superficie\", \"vuole\", \"nazisti\", \"russia\", \"ucraina\", \"russo\", \"civili\", \"forze\", \"citt\\u00e0\", \"\\u00e9lite\", \"putin\", \"polizia\", \"paesi\", \"mondiale\", \"paese\", \"stato\", \"stati\", \"italia\", \"draghi\", \"mondo\", \"fatto\", \"gi\\u00e0\", \"ecco\", \"poi\", \"due\", \"quando\", \"aver\", \"essere\", \"anni\"], \"Freq\": [171.0, 88.0, 91.0, 84.0, 108.0, 109.0, 69.0, 66.0, 59.0, 57.0, 44.0, 43.0, 46.0, 49.0, 48.0, 44.0, 135.0, 39.0, 31.0, 35.0, 37.0, 41.0, 34.0, 34.0, 35.0, 32.0, 69.0, 27.0, 62.0, 25.0, 59.22787506002162, 56.450165479123704, 48.954627718354054, 48.01867674026163, 36.77158378534968, 34.885147091639894, 25.515722042744894, 22.715392915557, 22.704288390307166, 19.894233302087063, 18.02285138455137, 18.021290477638825, 15.215596322614152, 14.282809882666418, 14.269035967823998, 12.40897951419221, 12.405515961023545, 13.288489368500958, 12.399732122479637, 11.467599637575457, 11.452743250494704, 11.417975663811792, 10.505920030653254, 10.505920030653254, 9.600219731784659, 9.596469381781382, 10.466577101820565, 9.575690943786253, 8.66334965218548, 8.660369426394382, 33.40096479550558, 14.995373915687582, 54.27734113545189, 14.089538988357084, 23.17657498797972, 52.85068896522174, 21.847914077177514, 21.402285563023224, 76.73135841331151, 43.42770814782605, 37.08049989347128, 30.81537300786672, 16.364604294796923, 37.61736393067405, 27.277858744954237, 54.48435635534154, 39.21001529681651, 27.13524419508725, 28.97559262190169, 35.981602034296046, 26.377636497904646, 27.36977502007896, 26.933383596281516, 31.47085688397372, 27.441293839370573, 24.78620371733388, 24.554763159625548, 24.37877979753672, 23.549678496916524, 170.88177556095528, 91.24074117369891, 83.66687509204121, 45.73275962874754, 43.83755022919319, 39.080563603884414, 34.36125537199235, 33.41310953965019, 33.40828674458482, 31.52051982194571, 25.825327004197206, 23.939126937441475, 22.99106751259574, 22.99106751259574, 21.084488515081937, 19.185021702312113, 18.249346408555425, 18.24470177807313, 17.287831833046898, 17.27174859165395, 16.34953731329481, 16.319954185773167, 15.406034896568785, 15.40530570163208, 15.401031459333737, 14.449994032450148, 12.55978693846502, 12.549646927096182, 11.607022635166047, 11.601705540361722, 24.873246039023538, 38.51410189135606, 83.53195643692906, 80.78866137918993, 20.946888577682085, 23.54975599479259, 21.38716344349578, 31.22914295093918, 31.030719929111424, 37.01749166348083, 49.77783325974705, 31.45472202319116, 42.30351781285153, 39.6548757626159, 21.780955659563464, 31.373303014907712, 25.84291424796828, 24.98492887441521, 87.30282387719079, 42.81914680966654, 26.730039940479926, 22.000264905138756, 20.067203660954274, 18.217076797105655, 17.27069479569528, 14.430217194642104, 14.41003067024535, 13.482147178308047, 13.477360006687125, 13.477360006687125, 12.53641588833473, 12.534816493957864, 12.517329047495858, 12.516899359474314, 11.559102075915806, 10.642801392533398, 10.639249392694236, 10.636509570334884, 10.632772512091051, 10.61627316959653, 9.6994857387779, 9.697671953753737, 9.695061681897844, 9.694434592745543, 9.690367433595842, 9.683366141219036, 9.670719546569785, 9.66192985068532, 15.829677375690189, 18.338724383526078, 28.833722864647736, 15.086200894000378, 16.94147834881273, 42.04507307922637, 62.71043751403813, 14.094458561247855, 27.601082993595163, 23.783146659495987, 15.26330796340313, 24.922775434477305, 19.430692909050297, 18.90319794143349, 20.189722355693522, 26.03785062515895, 26.427606162841375, 21.113202976193485, 18.463457108850125, 22.72770038618299, 20.943717636193757, 18.102963569669274, 19.83755703707436, 20.292714888694576, 17.135732299904678, 17.608166146964685, 16.25876380890947, 43.40909239881469, 31.19263908913525, 24.631888259976854, 22.76120798139146, 20.86979997846035, 18.06514873805175, 18.053973514179674, 17.122917552314476, 17.11686790165425, 15.228244526308748, 14.306723307188985, 14.306723307188985, 13.363308672787884, 13.342626768490657, 12.420499763451307, 10.557088572801954, 10.545303877571357, 10.542760578890704, 10.5426413881714, 9.624094466230067, 9.621511248295159, 9.620804675259656, 9.620804675259656, 9.61625717274797, 9.57869329898135, 9.577483509553806, 8.682014649838889, 8.67277162429924, 8.667854965819734, 8.66582758932493, 18.82880758253208, 18.75320510877277, 54.78716283821678, 55.80063102234381, 15.488872683100379, 12.448558253082108, 12.29671397911637, 11.439020185588108, 17.269719501807792, 20.100316461912037, 14.685533324743465, 22.215021241040635, 20.013274012222052, 20.087415358538834, 43.25863142405574, 28.126702187152702, 26.51598410118935, 19.071082810596504, 24.22619301469912, 24.63499335424169, 21.374889492226057, 18.079362831314427, 19.423321372671502, 18.048505878479965, 19.123980701136897, 17.073605024349057, 18.632157616999795, 18.135112573973068], \"Total\": [171.0, 88.0, 91.0, 84.0, 108.0, 109.0, 69.0, 66.0, 59.0, 57.0, 44.0, 43.0, 46.0, 49.0, 48.0, 44.0, 135.0, 39.0, 31.0, 35.0, 37.0, 41.0, 34.0, 34.0, 35.0, 32.0, 69.0, 27.0, 62.0, 25.0, 59.97675226699918, 57.1653108907295, 49.66895220970017, 48.731903451627026, 37.487418189069984, 35.613412999531704, 26.242974865723134, 23.431784040649386, 23.431795967393153, 20.620687407129097, 18.74656613242257, 18.746626561719154, 15.935475924662722, 14.998354827897098, 14.998450849081873, 13.124284475111816, 13.124277044283529, 14.061924218677264, 13.124369720297604, 12.187284787648291, 12.187350768679265, 12.187773140891515, 11.250550729135405, 11.250550729135405, 10.313119663356403, 10.313188486464904, 11.25094319527623, 10.31341353847837, 9.376069350517305, 9.376110859678315, 38.46757475521513, 16.884133860270225, 69.45436844808557, 15.937912784726375, 28.126308376769586, 73.21479810902352, 27.226041697672862, 27.230564015163797, 135.47500347966826, 70.48915758643336, 59.227624292022384, 47.038789660248824, 19.709652222886593, 69.56071381324413, 43.23589164934334, 130.91742315009043, 85.59555996447754, 46.101760770327964, 58.24066615723765, 89.36206545930243, 49.8522734235689, 54.60303901135014, 56.506642397231616, 106.67913117963053, 108.70567471690723, 62.279753631317156, 97.23719627350513, 109.68761576043539, 57.37536848095604, 171.60193644121844, 91.96094751296685, 84.37611705890879, 46.451706218541865, 44.55550990699193, 39.814821209732386, 35.07447507618381, 34.126352309352605, 34.12631875353919, 32.23017896099682, 26.541462088496758, 24.645354751646263, 23.69724759225644, 23.69724759225644, 21.8009888134466, 19.904679195103533, 18.956694897891317, 18.95665657919653, 18.008475349815388, 18.008257002735686, 17.060436182459878, 17.060217632771884, 16.112379596292662, 16.11237752816285, 16.112326308602448, 15.164189558055082, 13.268034754774465, 13.267960831979382, 12.319882387352912, 12.319814767841596, 26.532395316841342, 41.70679292140249, 109.68761576043539, 108.70567471690723, 23.67783663884456, 27.452009608277205, 24.629026521838327, 41.63812763344162, 46.30437593886343, 62.279753631317156, 106.67913117963053, 51.01857059015875, 97.23719627350513, 98.12901772511421, 32.11657387555714, 130.91742315009043, 135.01397245210063, 135.47500347966826, 88.01407051091492, 43.53191273502783, 27.4426123864458, 22.71049023760149, 20.817660343655398, 18.924793597401838, 17.978365935204433, 15.139074095309649, 15.13895514075246, 14.192629759635334, 14.192635509190847, 14.192635509190847, 13.246206405836164, 13.246214482972007, 13.246043816496329, 13.246163685552245, 12.299650225514268, 11.353343071091938, 11.353327039457131, 11.353275111263855, 11.353307196442172, 11.35317571891718, 10.406935799541348, 10.406924527857486, 10.406896728097552, 10.406926392847481, 10.40689257461815, 10.40681052482428, 10.406718420046682, 10.406653486489724, 17.967364620637053, 22.70330957032783, 39.72314891558706, 17.982058912505785, 20.793007522705256, 77.31235967236404, 135.01397245210063, 17.983638899428257, 53.71206787620054, 42.40616374588517, 21.75987139519847, 54.60303901135014, 36.81326509373357, 34.92354434054129, 41.563310266595366, 89.36206545930243, 130.91742315009043, 67.00449591843741, 46.101760770327964, 135.47500347966826, 97.23719627350513, 51.749854123140125, 85.59555996447754, 106.67913117963053, 70.48915758643336, 98.12901772511421, 67.7307823542108, 44.13986174680616, 31.932156641063575, 25.35853700692194, 23.480350311019638, 21.602272527788067, 18.78498853331964, 18.78504351520906, 17.845996337834276, 17.845969887621692, 15.967784050203559, 15.028775422145504, 15.028775422145504, 14.089709829794716, 14.089916150517064, 13.150603253511674, 11.272477014574244, 11.272472819093267, 11.272416831084266, 11.272515250057628, 10.333353522283591, 10.333359685186904, 10.333371455660817, 10.333371455660817, 10.333399241617833, 10.333434293638097, 10.333343500033841, 9.394291557806339, 9.39431078211499, 9.394417663664697, 9.394443386681795, 20.671783762533778, 20.67237505578252, 66.76511811000215, 69.59642530568654, 17.858821119794733, 14.098602531210046, 14.09805218095796, 13.158372928710238, 23.533130437642455, 29.179817654319685, 18.81145430176737, 35.79980383620156, 31.091593667963394, 34.764221467247935, 135.01397245210063, 67.00449591843741, 60.182112438346905, 34.71695688521941, 67.7307823542108, 89.36206545930243, 59.293651414502136, 40.39828666610872, 58.24066615723765, 48.075917643462674, 85.59555996447754, 44.224019184612146, 130.91742315009043, 98.12901772511421], \"Category\": [\"Default\", \"Default\", \"Default\", \"Default\", \"Default\", \"Default\", \"Default\", \"Default\", \"Default\", \"Default\", \"Default\", \"Default\", \"Default\", \"Default\", \"Default\", \"Default\", \"Default\", \"Default\", \"Default\", \"Default\", \"Default\", \"Default\", \"Default\", \"Default\", \"Default\", \"Default\", \"Default\", \"Default\", \"Default\", \"Default\", \"Topic1\", \"Topic1\", \"Topic1\", \"Topic1\", \"Topic1\", \"Topic1\", \"Topic1\", \"Topic1\", \"Topic1\", \"Topic1\", \"Topic1\", \"Topic1\", \"Topic1\", \"Topic1\", \"Topic1\", \"Topic1\", \"Topic1\", \"Topic1\", \"Topic1\", \"Topic1\", \"Topic1\", \"Topic1\", \"Topic1\", \"Topic1\", \"Topic1\", \"Topic1\", \"Topic1\", \"Topic1\", \"Topic1\", \"Topic1\", \"Topic1\", \"Topic1\", \"Topic1\", \"Topic1\", \"Topic1\", \"Topic1\", \"Topic1\", \"Topic1\", \"Topic1\", \"Topic1\", \"Topic1\", \"Topic1\", \"Topic1\", \"Topic1\", \"Topic1\", \"Topic1\", \"Topic1\", \"Topic1\", \"Topic1\", \"Topic1\", \"Topic1\", \"Topic1\", \"Topic1\", \"Topic1\", \"Topic1\", \"Topic1\", \"Topic1\", \"Topic1\", \"Topic1\", \"Topic2\", \"Topic2\", \"Topic2\", \"Topic2\", \"Topic2\", \"Topic2\", \"Topic2\", \"Topic2\", \"Topic2\", \"Topic2\", \"Topic2\", \"Topic2\", \"Topic2\", \"Topic2\", \"Topic2\", \"Topic2\", \"Topic2\", \"Topic2\", \"Topic2\", \"Topic2\", \"Topic2\", \"Topic2\", \"Topic2\", \"Topic2\", \"Topic2\", \"Topic2\", \"Topic2\", \"Topic2\", \"Topic2\", \"Topic2\", \"Topic2\", \"Topic2\", \"Topic2\", \"Topic2\", \"Topic2\", \"Topic2\", \"Topic2\", \"Topic2\", \"Topic2\", \"Topic2\", \"Topic2\", \"Topic2\", \"Topic2\", \"Topic2\", \"Topic2\", \"Topic2\", \"Topic2\", \"Topic2\", \"Topic3\", \"Topic3\", \"Topic3\", \"Topic3\", \"Topic3\", \"Topic3\", \"Topic3\", \"Topic3\", \"Topic3\", \"Topic3\", \"Topic3\", \"Topic3\", \"Topic3\", \"Topic3\", \"Topic3\", \"Topic3\", \"Topic3\", \"Topic3\", \"Topic3\", \"Topic3\", \"Topic3\", \"Topic3\", \"Topic3\", \"Topic3\", \"Topic3\", \"Topic3\", \"Topic3\", \"Topic3\", \"Topic3\", \"Topic3\", \"Topic3\", \"Topic3\", \"Topic3\", \"Topic3\", \"Topic3\", \"Topic3\", \"Topic3\", \"Topic3\", \"Topic3\", \"Topic3\", \"Topic3\", \"Topic3\", \"Topic3\", \"Topic3\", \"Topic3\", \"Topic3\", \"Topic3\", \"Topic3\", \"Topic3\", \"Topic3\", \"Topic3\", \"Topic3\", \"Topic3\", \"Topic3\", \"Topic3\", \"Topic3\", \"Topic3\", \"Topic4\", \"Topic4\", \"Topic4\", \"Topic4\", \"Topic4\", \"Topic4\", \"Topic4\", \"Topic4\", \"Topic4\", \"Topic4\", \"Topic4\", \"Topic4\", \"Topic4\", \"Topic4\", \"Topic4\", \"Topic4\", \"Topic4\", \"Topic4\", \"Topic4\", \"Topic4\", \"Topic4\", \"Topic4\", \"Topic4\", \"Topic4\", \"Topic4\", \"Topic4\", \"Topic4\", \"Topic4\", \"Topic4\", \"Topic4\", \"Topic4\", \"Topic4\", \"Topic4\", \"Topic4\", \"Topic4\", \"Topic4\", \"Topic4\", \"Topic4\", \"Topic4\", \"Topic4\", \"Topic4\", \"Topic4\", \"Topic4\", \"Topic4\", \"Topic4\", \"Topic4\", \"Topic4\", \"Topic4\", \"Topic4\", \"Topic4\", \"Topic4\", \"Topic4\", \"Topic4\", \"Topic4\", \"Topic4\", \"Topic4\", \"Topic4\", \"Topic4\"], \"logprob\": [30.0, 29.0, 28.0, 27.0, 26.0, 25.0, 24.0, 23.0, 22.0, 21.0, 20.0, 19.0, 18.0, 17.0, 16.0, 15.0, 14.0, 13.0, 12.0, 11.0, 10.0, 9.0, 8.0, 7.0, 6.0, 5.0, 4.0, 3.0, 2.0, 1.0, -4.389, -4.4371, -4.5795, -4.5988, -4.8657, -4.9184, -5.2311, -5.3474, -5.3479, -5.48, -5.5788, -5.5789, -5.7481, -5.8114, -5.8123, -5.952, -5.9523, -5.8835, -5.9527, -6.0309, -6.0322, -6.0352, -6.1185, -6.1185, -6.2086, -6.209, -6.1222, -6.2112, -6.3113, -6.3117, -4.9618, -5.7627, -4.4763, -5.825, -5.3273, -4.503, -5.3863, -5.4069, -4.1301, -4.6993, -4.8573, -5.0424, -5.6753, -4.843, -5.1643, -4.4725, -4.8015, -5.1696, -5.104, -4.8874, -5.1979, -5.161, -5.1771, -5.0214, -5.1584, -5.2601, -5.2695, -5.2767, -5.3113, -3.247, -3.8744, -3.9611, -4.5651, -4.6075, -4.7223, -4.851, -4.879, -4.8791, -4.9373, -5.1366, -5.2124, -5.2528, -5.2528, -5.3394, -5.4338, -5.4838, -5.4841, -5.5379, -5.5389, -5.5937, -5.5956, -5.6532, -5.6532, -5.6535, -5.7173, -5.8574, -5.8583, -5.9363, -5.9368, -5.1742, -4.7369, -3.9627, -3.9961, -5.346, -5.2288, -5.3252, -4.9466, -4.953, -4.7766, -4.4804, -4.9394, -4.6431, -4.7077, -5.3069, -4.942, -5.1359, -5.1697, -3.7522, -4.4646, -4.9358, -5.1305, -5.2225, -5.3192, -5.3725, -5.5522, -5.5536, -5.6202, -5.6205, -5.6205, -5.6929, -5.693, -5.6944, -5.6945, -5.7741, -5.8567, -5.857, -5.8573, -5.8576, -5.8592, -5.9495, -5.9497, -5.9499, -5.95, -5.9504, -5.9511, -5.9525, -5.9534, -5.4597, -5.3125, -4.86, -5.5078, -5.3918, -4.4828, -4.083, -5.5758, -4.9037, -5.0526, -5.4961, -5.0058, -5.2547, -5.2822, -5.2164, -4.962, -4.9471, -5.1717, -5.3058, -5.098, -5.1797, -5.3255, -5.234, -5.2113, -5.3804, -5.3532, -5.4329, -4.3954, -4.7259, -4.962, -5.041, -5.1277, -5.2721, -5.2727, -5.3256, -5.326, -5.4429, -5.5053, -5.5053, -5.5735, -5.5751, -5.6467, -5.8092, -5.8104, -5.8106, -5.8106, -5.9018, -5.902, -5.9021, -5.9021, -5.9026, -5.9065, -5.9066, -6.0048, -6.0059, -6.0064, -6.0067, -5.2307, -5.2347, -4.1626, -4.1443, -5.4259, -5.6444, -5.6567, -5.729, -5.3171, -5.1653, -5.4792, -5.0653, -5.1696, -5.1659, -4.3988, -4.8293, -4.8883, -5.2179, -4.9786, -4.9619, -5.1038, -5.2713, -5.1996, -5.273, -5.2151, -5.3285, -5.2412, -5.2682], \"loglift\": [30.0, 29.0, 28.0, 27.0, 26.0, 25.0, 24.0, 23.0, 22.0, 21.0, 20.0, 19.0, 18.0, 17.0, 16.0, 15.0, 14.0, 13.0, 12.0, 11.0, 10.0, 9.0, 8.0, 7.0, 6.0, 5.0, 4.0, 3.0, 2.0, 1.0, 1.2224, 1.2223, 1.2204, 1.2202, 1.2156, 1.2143, 1.2068, 1.2039, 1.2034, 1.1991, 1.1955, 1.1955, 1.1887, 1.186, 1.1851, 1.1789, 1.1786, 1.1783, 1.1781, 1.1741, 1.1727, 1.1697, 1.1664, 1.1664, 1.1633, 1.1629, 1.1627, 1.1607, 1.1559, 1.1555, 1.0937, 1.1163, 0.9884, 1.1117, 1.0414, 0.909, 1.0148, 0.9941, 0.6664, 0.7506, 0.7666, 0.812, 1.0489, 0.6202, 0.7743, 0.3583, 0.4542, 0.7049, 0.5368, 0.3252, 0.5984, 0.5443, 0.4939, 0.0142, -0.1417, 0.3136, -0.1413, -0.269, 0.3444, 1.3132, 1.3095, 1.309, 1.3018, 1.3011, 1.2988, 1.2968, 1.2963, 1.2961, 1.2951, 1.29, 1.2883, 1.2871, 1.2871, 1.284, 1.2806, 1.2794, 1.2791, 1.2766, 1.2756, 1.2748, 1.273, 1.2726, 1.2725, 1.2722, 1.2691, 1.2625, 1.2617, 1.2578, 1.2573, 1.2528, 1.2378, 1.045, 1.0206, 1.1948, 1.1641, 1.1763, 1.0297, 0.9171, 0.7971, 0.5551, 0.8338, 0.4851, 0.4113, 0.9291, -0.1112, -0.3359, -0.3731, 1.4757, 1.4673, 1.4575, 1.452, 1.4471, 1.4457, 1.4436, 1.4358, 1.4344, 1.4324, 1.4321, 1.4321, 1.4287, 1.4286, 1.4272, 1.4272, 1.4217, 1.4192, 1.4188, 1.4186, 1.4182, 1.4167, 1.4134, 1.4132, 1.4129, 1.4129, 1.4125, 1.4117, 1.4104, 1.4095, 1.3571, 1.2703, 1.1634, 1.3082, 1.2789, 0.8747, 0.7169, 1.2401, 0.818, 0.9055, 1.1292, 0.6995, 0.8448, 0.87, 0.7617, 0.2506, -0.1164, 0.3289, 0.5687, -0.3014, -0.0515, 0.4334, 0.0217, -0.1758, 0.0695, -0.2341, 0.0569, 1.5226, 1.5159, 1.5102, 1.5082, 1.5048, 1.5002, 1.4996, 1.4979, 1.4976, 1.4919, 1.4901, 1.4901, 1.4864, 1.4848, 1.4822, 1.4737, 1.4726, 1.4724, 1.4724, 1.4682, 1.4679, 1.4678, 1.4678, 1.4674, 1.4635, 1.4633, 1.4605, 1.4594, 1.4588, 1.4586, 1.4459, 1.4419, 1.3416, 1.3184, 1.3969, 1.4148, 1.4026, 1.3993, 1.2298, 1.1666, 1.2917, 1.0621, 1.0988, 0.9908, 0.4011, 0.6713, 0.7197, 0.9402, 0.5112, 0.2508, 0.519, 0.7353, 0.4412, 0.5596, 0.0406, 0.5876, -0.4104, -0.1491]}, \"token.table\": {\"Topic\": [2, 3, 2, 3, 4, 1, 4, 3, 1, 2, 3, 4, 1, 2, 3, 4, 2, 1, 1, 2, 3, 4, 1, 2, 4, 1, 2, 3, 4, 3, 4, 4, 2, 3, 1, 4, 2, 3, 2, 3, 4, 2, 4, 3, 3, 4, 2, 4, 1, 3, 3, 1, 4, 1, 1, 2, 3, 4, 1, 1, 3, 4, 2, 2, 2, 4, 1, 2, 3, 1, 4, 3, 1, 1, 2, 3, 4, 1, 3, 3, 1, 1, 2, 3, 4, 3, 3, 1, 2, 3, 4, 1, 2, 2, 2, 1, 4, 1, 2, 3, 4, 1, 2, 3, 4, 1, 2, 1, 3, 3, 1, 2, 3, 4, 2, 4, 1, 2, 3, 4, 1, 3, 4, 1, 1, 2, 3, 4, 3, 1, 1, 3, 4, 1, 3, 3, 4, 1, 3, 4, 1, 2, 3, 4, 1, 2, 3, 4, 2, 2, 1, 1, 4, 3, 3, 3, 2, 4, 1, 1, 2, 4, 4, 3, 3, 1, 1, 1, 3, 2, 1, 3, 4, 1, 2, 3, 4, 2, 1, 3, 4, 2, 4, 1, 2, 3, 4, 2, 2, 3, 2, 4, 4, 3, 4, 3, 1, 1, 4, 4, 4, 1, 1, 2, 1, 2, 3, 4, 4, 4, 4, 1, 3, 4, 2, 3, 4, 2, 3, 1, 1, 2, 3, 4, 2, 2, 3, 4, 4, 1, 2, 3, 4, 3, 4, 3, 2, 3, 3, 4, 1, 2, 3, 4, 1, 2, 3, 4, 1, 3, 1, 4, 4, 3, 4, 3, 4, 1, 2, 3, 1, 3, 2, 2, 1, 1, 2, 3, 4, 1, 3, 4, 1, 2, 3, 4, 2, 2, 3, 1, 2, 4, 3, 1, 1, 2, 3, 4, 3, 2, 1, 2, 3, 4, 2, 3, 4, 1, 2, 3, 4, 2, 2, 4, 4, 1, 3, 4, 4, 3, 3, 3, 3, 4, 4, 4, 4, 1, 1, 2, 1, 2, 1, 2, 3, 2, 1, 2, 2, 1, 1, 3, 4, 2, 3, 3, 4, 4, 2, 4], \"Freq\": [0.9895504826890636, 0.9159683737380903, 0.8526524579190938, 0.040602497996147326, 0.08120499599229465, 0.817739736473786, 0.14221560634326713, 0.9607227550955506, 0.41829796714884804, 0.06971632785814133, 0.24400714750349467, 0.2788653114325653, 0.2343853075593724, 0.4076266218423868, 0.18343197982907405, 0.18343197982907405, 0.9797984584960472, 0.902580040728055, 0.2939579043173756, 0.0678364394578559, 0.24873361134547164, 0.38440649026118345, 0.9777299142799688, 0.9440114052913329, 0.9677400447430039, 0.2352084713701239, 0.60762188437282, 0.07840282379004129, 0.07840282379004129, 0.9877810851486012, 0.9525946143987082, 0.9315462908155803, 0.9309611848675281, 0.9247665951736317, 0.8784086215741175, 0.06274347296957983, 0.1668182961622621, 0.7784853820905564, 0.08809288327785951, 0.7928359495007355, 0.08809288327785951, 0.9422443658575878, 0.03768977463430351, 0.9756375002524318, 0.07599723806414554, 0.835969618705601, 0.07092901567983792, 0.851148188158055, 0.4244665965981562, 0.565955462130875, 0.9687153280194216, 0.969611076167066, 0.9393914617607055, 0.9601727511207924, 0.6100228953264716, 0.028373157922161468, 0.2411718423383725, 0.11349263168864587, 0.914335560369493, 0.4944779720848066, 0.4578499741525987, 0.0366279979322079, 0.9705768533015506, 0.9964922514646294, 0.9955423753543174, 0.9226456609908876, 0.25915477223672845, 0.6694831616115484, 0.06478869305918211, 0.9143296215925173, 0.9677357630512265, 0.9247593288639393, 0.9025751542549606, 0.13582060670981097, 0.13582060670981097, 0.5161183054972818, 0.21731297073569758, 0.8117849984902832, 0.1522096872169281, 0.9609177068476061, 0.9334297349020554, 0.659030562306267, 0.3401448063516217, 0.8905034398657794, 0.11131292998322243, 0.9159680026716305, 0.9159680026716305, 0.257103258404129, 0.43193347411893673, 0.21596673705946837, 0.09255717302548644, 0.1092816170039316, 0.8742529360314528, 0.979599387302351, 0.9669955976888841, 0.4320655191522902, 0.5472829909262342, 0.1872039149984652, 0.41600869999658935, 0.04160086999965894, 0.3744078299969304, 0.39605640041717066, 0.09901410010429267, 0.04950705005214633, 0.445563450469317, 0.31136571537011515, 0.6850045738142534, 0.92448229686327, 0.9511332267566288, 0.9838713464952626, 0.4124737464324488, 0.23679048406307246, 0.19859847050451238, 0.14512965152252827, 0.9740406188024509, 0.958015741072466, 0.6247084944277207, 0.06753605345164548, 0.21949217371784782, 0.06753605345164548, 0.7774888924425667, 0.14397942452640122, 0.07198971226320061, 0.969632234795676, 0.4028555049054371, 0.03357129207545309, 0.2909511979872601, 0.2797607672954424, 0.9455809310628926, 0.9334357108260869, 0.9598905109957878, 0.8175825445855573, 0.1442792725739219, 0.8080498900389345, 0.183647702281576, 0.07093178455891133, 0.8511814147069359, 0.9598862614460151, 0.9688789869058484, 0.9315462908155803, 0.30357381558723723, 0.1855173317477561, 0.15178690779361861, 0.3541694515184434, 0.5215409090592817, 0.200592657330493, 0.1203555943982958, 0.1604741258643944, 0.9439999594509967, 0.9378543899266997, 0.9865317833386965, 0.9849810206499826, 0.9741761369044469, 0.9814130628579298, 0.9688776187877537, 0.9608986759951779, 0.9495326108773456, 0.9677324803968241, 0.9025438751475947, 0.33232465910014114, 0.21601102841509176, 0.44863828978519055, 0.9721199458523017, 0.981412464422306, 0.960898503795784, 0.9143360780567167, 0.9815722205846268, 0.8578653634910041, 0.12997960052894, 0.9545494209559489, 0.5856609281044587, 0.3904406187363058, 0.9125056675096314, 0.050348475752767304, 0.15104542725830192, 0.7300528984151259, 0.07552271362915096, 0.9309613043625298, 0.2792668499483782, 0.5212981199036393, 0.20479568996214398, 0.3537933795698076, 0.6432606901269229, 0.33957971841691115, 0.059057342333375853, 0.23622936933350341, 0.35434405400025515, 0.9795347263914572, 0.11122196905989903, 0.8341647679492428, 0.9928582785321991, 0.9758281153093542, 0.9582091191551694, 0.048373735349788845, 0.919100971645988, 0.9814251092699912, 0.9837144855284767, 0.9815727202034498, 0.9677409833484438, 0.9580266406700442, 0.9677383652478505, 0.9827757873265399, 0.9601758462243725, 0.9632590603893819, 0.27162539196829905, 0.038803627424042725, 0.5432507839365981, 0.14227996722149, 0.952596026276584, 0.9677383652478505, 0.9758333252605543, 0.28765206231991125, 0.14382603115995563, 0.5753041246398225, 0.1955317976608979, 0.16759868370934106, 0.6145285069342505, 0.9350994710501115, 0.07193072854231626, 0.9796150694788143, 0.290591043039158, 0.46869523070831937, 0.18747809228332776, 0.04686952307083194, 0.969365897170236, 0.22978076980286286, 0.6893423094085885, 0.09191230792114514, 0.9677394675746377, 0.49793386500260917, 0.05151039982785612, 0.12019093293166429, 0.3262325322430888, 0.21263640417339733, 0.7973865156502399, 0.981416228019231, 0.9740352726352899, 0.9609237026083692, 0.30843235919494066, 0.6854052426554237, 0.477819931508137, 0.37163772450632876, 0.05309110350090411, 0.10618220700180822, 0.45563111002702866, 0.08177994282536412, 0.23365697950104036, 0.22197413052598833, 0.9777299142799688, 0.9608976352521285, 0.8888143710652237, 0.9758284785010302, 0.9582119237428718, 0.17973457307794785, 0.8237834599405943, 0.11198947492582241, 0.8399210619436681, 0.144098698501061, 0.7445099422554817, 0.09606579900070733, 0.8884080240145602, 0.05922720160097068, 0.9738143452123303, 0.9705768533015506, 0.9696387054957822, 0.20043784593403915, 0.1431698899528851, 0.5440455818209634, 0.1431698899528851, 0.7238973727835479, 0.13658440995916, 0.13658440995916, 0.5462853659325866, 0.14375930682436489, 0.10063151477705541, 0.21563896023654733, 0.9902757884410808, 0.9495345302479982, 0.9688834184143602, 0.6244811653007756, 0.23128932048176873, 0.13877359228906125, 0.9688806802873361, 0.969899771289171, 0.5683705334730327, 0.18453588749124436, 0.16977301649194482, 0.08119579049614752, 0.9609092023099797, 0.9309642638004065, 0.12029840664588558, 0.24059681329177116, 0.4811936265835423, 0.1443580879750627, 0.26863868988598716, 0.313411804866985, 0.41788240648931335, 0.022219922468130624, 0.19257266139046542, 0.4666183718307431, 0.31848555537653894, 0.923227710020502, 0.88690535036248, 0.0844671762249981, 0.9580131179202181, 0.7711922525110313, 0.18361720297881698, 0.9708082153190726, 0.9580286011584668, 0.9609016263307514, 0.9884783136942955, 0.9609012428268868, 0.18679120289440793, 0.8046390278528341, 0.979542455514635, 0.922659171625354, 0.9858612897572099, 0.9907413367971292, 0.4014145615924344, 0.5940935511568028, 0.9412960159404513, 0.9875321838275101, 0.21880318788601896, 0.7658111576010663, 0.01823359899050158, 0.9378423757095888, 0.24837709779469896, 0.7451312933840969, 0.9798039174691017, 0.9869978191986531, 0.36715079340685686, 0.3478270674380749, 0.2705321635629472, 0.9669946468599306, 0.9688919005870135, 0.04837511902637222, 0.9191272615010722, 0.9758248053772883, 0.2549597052503772, 0.7223858315427353], \"Term\": [\"19\", \"2000\", \"2021\", \"2021\", \"2021\", \"allora\", \"allora\", \"america\", \"ancora\", \"ancora\", \"ancora\", \"ancora\", \"anni\", \"anni\", \"anni\", \"anni\", \"anticorpi\", \"anzi\", \"aver\", \"aver\", \"aver\", \"aver\", \"avverse\", \"avversi\", \"azov\", \"bambini\", \"bambini\", \"bambini\", \"bambini\", \"biden\", \"bill\", \"bill gates\", \"bnt162b2\", \"campagna\", \"cancro\", \"cancro\", \"capire\", \"capire\", \"casa\", \"casa\", \"casa\", \"casi\", \"casi\", \"circa\", \"citt\\u00e0\", \"citt\\u00e0\", \"civili\", \"civili\", \"ci\\u00f2\", \"ci\\u00f2\", \"clinton\", \"comunque\", \"consenso\", \"conto\", \"cosa\", \"cosa\", \"cosa\", \"cosa\", \"costituzione\", \"cos\\u00ec\", \"cos\\u00ec\", \"cos\\u00ec\", \"cov\", \"covid\", \"covid 19\", \"crisi\", \"dati\", \"dati\", \"dati\", \"davanti\", \"de\", \"democratici\", \"dentro\", \"detto\", \"detto\", \"detto\", \"detto\", \"deve\", \"deve\", \"difesa\", \"diritto\", \"dittatura\", \"dittatura\", \"documenti\", \"documenti\", \"donald\", \"donald trump\", \"dopo\", \"dopo\", \"dopo\", \"dopo\", \"dose\", \"dose\", \"dosi\", \"dott\", \"draghi\", \"draghi\", \"due\", \"due\", \"due\", \"due\", \"ecco\", \"ecco\", \"ecco\", \"ecco\", \"effetti\", \"effetti\", \"effetto\", \"elettorale\", \"elezioni\", \"essere\", \"essere\", \"essere\", \"essere\", \"et\\u00e0\", \"euro\", \"fa\", \"fa\", \"fa\", \"fa\", \"fare\", \"fare\", \"fare\", \"farsi\", \"fatto\", \"fatto\", \"fatto\", \"fatto\", \"fbi\", \"femmine\", \"femminista\", \"film\", \"film\", \"forse\", \"forse\", \"forze\", \"forze\", \"free\", \"frode\", \"gates\", \"gi\\u00e0\", \"gi\\u00e0\", \"gi\\u00e0\", \"gi\\u00e0\", \"governo\", \"governo\", \"governo\", \"governo\", \"grafene\", \"gravi\", \"green\", \"green pass\", \"guerra\", \"hillary\", \"hillary clinton\", \"hunter\", \"infezione\", \"informato\", \"informazione\", \"italia\", \"italia\", \"italia\", \"italiano\", \"joe\", \"joe biden\", \"lavorare\", \"legge\", \"libert\\u00e0\", \"libert\\u00e0\", \"lockdown\", \"mai\", \"mai\", \"mano\", \"media\", \"media\", \"media\", \"media\", \"moderna\", \"molto\", \"molto\", \"molto\", \"mondiale\", \"mondiale\", \"mondo\", \"mondo\", \"mondo\", \"mondo\", \"morti\", \"motivo\", \"motivo\", \"mrna\", \"musk\", \"nato\", \"nazisti\", \"nazisti\", \"nemico\", \"no\", \"no vax\", \"nome\", \"nord\", \"nuovo ordine\", \"obbligo\", \"obbligo vaccinale\", \"of\", \"ora\", \"ora\", \"ora\", \"ora\", \"ordine\", \"ordine mondiale\", \"pace\", \"paese\", \"paese\", \"paese\", \"paesi\", \"paesi\", \"paesi\", \"pandemia\", \"pandemia\", \"pass\", \"persone\", \"persone\", \"persone\", \"persone\", \"pfizer\", \"piano\", \"piano\", \"piano\", \"piatta\", \"poi\", \"poi\", \"poi\", \"poi\", \"polizia\", \"polizia\", \"portato\", \"proteina\", \"pubblicato\", \"putin\", \"putin\", \"pu\\u00f2\", \"pu\\u00f2\", \"pu\\u00f2\", \"pu\\u00f2\", \"quando\", \"quando\", \"quando\", \"quando\", \"reazioni avverse\", \"regina\", \"rendere\", \"reset\", \"russi\", \"russia\", \"russia\", \"russo\", \"russo\", \"salute\", \"salute\", \"salute\", \"sanitaria\", \"sanitaria\", \"sars\", \"sars cov\", \"schiavi\", \"secondo\", \"secondo\", \"secondo\", \"secondo\", \"sempre\", \"sempre\", \"sempre\", \"senza\", \"senza\", \"senza\", \"senza\", \"sieri\", \"sieri covid\", \"sinistra\", \"sistema\", \"sistema\", \"sistema\", \"social\", \"soldi\", \"solo\", \"solo\", \"solo\", \"solo\", \"speciale\", \"spike\", \"state\", \"state\", \"state\", \"state\", \"stati\", \"stati\", \"stati\", \"stato\", \"stato\", \"stato\", \"stato\", \"studi\", \"studio\", \"studio\", \"superficie\", \"tanto\", \"tanto\", \"terra\", \"terra piatta\", \"traduzione\", \"trump\", \"truth\", \"ucraina\", \"ucraina\", \"ucraini\", \"ucraino\", \"ue\", \"vaccinale\", \"vaccinati\", \"vaccinati\", \"vaccinato\", \"vaccinazione\", \"vaccini\", \"vaccini\", \"vaccini\", \"vaccini covid\", \"vaccino\", \"vaccino\", \"vaiolo\", \"vax\", \"video\", \"video\", \"video\", \"virus\", \"voto\", \"vuole\", \"vuole\", \"wef\", \"\\u00e9lite\", \"\\u00e9lite\"]}, \"R\": 30, \"lambda.step\": 0.01, \"plot.opts\": {\"xlab\": \"PC1\", \"ylab\": \"PC2\"}, \"topic.order\": [2, 1, 3, 4]};\n",
              "\n",
              "function LDAvis_load_lib(url, callback){\n",
              "  var s = document.createElement('script');\n",
              "  s.src = url;\n",
              "  s.async = true;\n",
              "  s.onreadystatechange = s.onload = callback;\n",
              "  s.onerror = function(){console.warn(\"failed to load library \" + url);};\n",
              "  document.getElementsByTagName(\"head\")[0].appendChild(s);\n",
              "}\n",
              "\n",
              "if(typeof(LDAvis) !== \"undefined\"){\n",
              "   // already loaded: just create the visualization\n",
              "   !function(LDAvis){\n",
              "       new LDAvis(\"#\" + \"ldavis_el5871328174134672482292917320\", ldavis_el5871328174134672482292917320_data);\n",
              "   }(LDAvis);\n",
              "}else if(typeof define === \"function\" && define.amd){\n",
              "   // require.js is available: use it to load d3/LDAvis\n",
              "   require.config({paths: {d3: \"https://d3js.org/d3.v5\"}});\n",
              "   require([\"d3\"], function(d3){\n",
              "      window.d3 = d3;\n",
              "      LDAvis_load_lib(\"https://cdn.jsdelivr.net/gh/bmabey/pyLDAvis@3.4.0/pyLDAvis/js/ldavis.v3.0.0.js\", function(){\n",
              "        new LDAvis(\"#\" + \"ldavis_el5871328174134672482292917320\", ldavis_el5871328174134672482292917320_data);\n",
              "      });\n",
              "    });\n",
              "}else{\n",
              "    // require.js not available: dynamically load d3 & LDAvis\n",
              "    LDAvis_load_lib(\"https://d3js.org/d3.v5.js\", function(){\n",
              "         LDAvis_load_lib(\"https://cdn.jsdelivr.net/gh/bmabey/pyLDAvis@3.4.0/pyLDAvis/js/ldavis.v3.0.0.js\", function(){\n",
              "                 new LDAvis(\"#\" + \"ldavis_el5871328174134672482292917320\", ldavis_el5871328174134672482292917320_data);\n",
              "            })\n",
              "         });\n",
              "}\n",
              "</script>"
            ]
          },
          "metadata": {},
          "execution_count": 18
        }
      ]
    },
    {
      "cell_type": "code",
      "source": [
        "pyLDAvis.save_html(vis, 'lda.html')"
      ],
      "metadata": {
        "id": "YpDWZN_Dos6S",
        "outputId": "881db411-6738-4a64-ed6c-40752b7d4a79",
        "colab": {
          "base_uri": "https://localhost:8080/"
        }
      },
      "execution_count": 21,
      "outputs": [
        {
          "output_type": "stream",
          "name": "stderr",
          "text": [
            "/usr/local/lib/python3.10/dist-packages/ipykernel/ipkernel.py:283: DeprecationWarning: `should_run_async` will not call `transform_cell` automatically in the future. Please pass the result to `transformed_cell` argument and any exception that happen during thetransform in `preprocessing_exc_tuple` in IPython 7.17 and above.\n",
            "  and should_run_async(code)\n"
          ]
        }
      ]
    },
    {
      "cell_type": "code",
      "source": [
        "pyLDAvis.save_json(vis, 'lda.json')\n",
        "\n",
        "# Read JSON file\n",
        "\n",
        "import json\n",
        "\n",
        "with open('lda.json', 'r') as myfile:\n",
        "    data=myfile.read()\n",
        "\n",
        "json_data = json.loads(data)\n",
        "\n",
        "\n",
        "# Plot with matplotlib\n",
        "\n",
        "import matplotlib.pyplot as plt\n",
        "\n",
        "x_max = max(json_data['mdsDat']['x']) + (max(json_data['mdsDat']['x']) - min(json_data['mdsDat']['x']))\n",
        "y_max = max(json_data['mdsDat']['y']) + (max(json_data['mdsDat']['y']) - min(json_data['mdsDat']['y']))\n",
        "x_min = min(json_data['mdsDat']['x']) - (max(json_data['mdsDat']['x']) - min(json_data['mdsDat']['x']))\n",
        "y_min = min(json_data['mdsDat']['y']) - (max(json_data['mdsDat']['y']) - min(json_data['mdsDat']['y']))\n",
        "\n",
        "plt.axis([x_min, x_max, y_min, y_max])\n",
        "\n",
        "# Depending on the number of topics, you may need to tweak the paremeters (e.g. the size of circles be Freq/100 or Freq/200, etc)\n",
        "\n",
        "for i in range(len(json_data['mdsDat']['x'])):\n",
        "    circle = plt.Circle((json_data['mdsDat']['x'][i],json_data['mdsDat']['y'][i]), radius = json_data['mdsDat']['Freq'][i]/100)\n",
        "    plt.gca().add_artist(circle)\n",
        "\n",
        "plt.show()"
      ],
      "metadata": {
        "id": "I4sm58_9nS2f",
        "outputId": "d41a3741-075c-42f2-c549-26d6bd2fbfaa",
        "colab": {
          "base_uri": "https://localhost:8080/",
          "height": 485
        }
      },
      "execution_count": 20,
      "outputs": [
        {
          "output_type": "stream",
          "name": "stderr",
          "text": [
            "/usr/local/lib/python3.10/dist-packages/ipykernel/ipkernel.py:283: DeprecationWarning: `should_run_async` will not call `transform_cell` automatically in the future. Please pass the result to `transformed_cell` argument and any exception that happen during thetransform in `preprocessing_exc_tuple` in IPython 7.17 and above.\n",
            "  and should_run_async(code)\n"
          ]
        },
        {
          "output_type": "display_data",
          "data": {
            "text/plain": [
              "<Figure size 640x480 with 1 Axes>"
            ],
            "image/png": "[encoded data removed]"
          },
          "metadata": {}
        }
      ]
    },
    {
      "cell_type": "code",
      "source": [],
      "metadata": {
        "id": "3Cs9tYvgn858"
      },
      "execution_count": null,
      "outputs": []
    }
  ]
}