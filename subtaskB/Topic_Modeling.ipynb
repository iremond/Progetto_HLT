{
  "nbformat": 4,
  "nbformat_minor": 0,
  "metadata": {
    "kernelspec": {
      "display_name": "Python 3 (TA)",
      "language": "python",
      "name": "ta"
    },
    "language_info": {
      "codemirror_mode": {
        "name": "ipython",
        "version": 3
      },
      "file_extension": ".py",
      "mimetype": "text/x-python",
      "name": "python",
      "nbconvert_exporter": "python",
      "pygments_lexer": "ipython3",
      "version": "3.6.7"
    },
    "colab": {
      "provenance": []
    }
  },
  "cells": [
    {
      "cell_type": "code",
      "metadata": {
        "id": "sOYQDmm3eDnJ",
        "colab": {
          "base_uri": "https://localhost:8080/"
        },
        "outputId": "ba02d9eb-07b3-456c-bc2a-62e1c1887f8f"
      },
      "source": [
        "#%pip install pyLDAvis"
      ],
      "execution_count": 35,
      "outputs": [
        {
          "output_type": "stream",
          "name": "stderr",
          "text": [
            "/usr/local/lib/python3.10/dist-packages/ipykernel/ipkernel.py:283: DeprecationWarning: `should_run_async` will not call `transform_cell` automatically in the future. Please pass the result to `transformed_cell` argument and any exception that happen during thetransform in `preprocessing_exc_tuple` in IPython 7.17 and above.\n",
            "  and should_run_async(code)\n"
          ]
        }
      ]
    },
    {
      "cell_type": "code",
      "metadata": {
        "id": "OOUv0Nk5SiYw",
        "colab": {
          "base_uri": "https://localhost:8080/"
        },
        "outputId": "883a7c09-4279-4baa-c761-5e010980ffb1"
      },
      "source": [
        "review_file = 'subtaskB_clean_dev_cased.csv'"
      ],
      "execution_count": 36,
      "outputs": [
        {
          "output_type": "stream",
          "name": "stderr",
          "text": [
            "/usr/local/lib/python3.10/dist-packages/ipykernel/ipkernel.py:283: DeprecationWarning: `should_run_async` will not call `transform_cell` automatically in the future. Please pass the result to `transformed_cell` argument and any exception that happen during thetransform in `preprocessing_exc_tuple` in IPython 7.17 and above.\n",
            "  and should_run_async(code)\n"
          ]
        }
      ]
    },
    {
      "cell_type": "code",
      "source": [
        "import pandas as pd\n",
        "\n",
        "x_train = pd.read_csv('subtaskB_clean_dev_cased.csv')"
      ],
      "metadata": {
        "colab": {
          "base_uri": "https://localhost:8080/"
        },
        "id": "GuGvInV6h02p",
        "outputId": "4fee805e-d06e-4202-c4da-541d04a30c35"
      },
      "execution_count": 37,
      "outputs": [
        {
          "output_type": "stream",
          "name": "stderr",
          "text": [
            "/usr/local/lib/python3.10/dist-packages/ipykernel/ipkernel.py:283: DeprecationWarning: `should_run_async` will not call `transform_cell` automatically in the future. Please pass the result to `transformed_cell` argument and any exception that happen during thetransform in `preprocessing_exc_tuple` in IPython 7.17 and above.\n",
            "  and should_run_async(code)\n"
          ]
        }
      ]
    },
    {
      "cell_type": "code",
      "source": [
        "x_train.head()"
      ],
      "metadata": {
        "colab": {
          "base_uri": "https://localhost:8080/",
          "height": 262
        },
        "id": "8mZFcGMuh7XO",
        "outputId": "0d021de4-ea67-449d-8abd-264363ad95ab"
      },
      "execution_count": 38,
      "outputs": [
        {
          "output_type": "stream",
          "name": "stderr",
          "text": [
            "/usr/local/lib/python3.10/dist-packages/ipykernel/ipkernel.py:283: DeprecationWarning: `should_run_async` will not call `transform_cell` automatically in the future. Please pass the result to `transformed_cell` argument and any exception that happen during thetransform in `preprocessing_exc_tuple` in IPython 7.17 and above.\n",
            "  and should_run_async(code)\n"
          ]
        },
        {
          "output_type": "execute_result",
          "data": {
            "text/plain": [
              "                                        comment_text         topic\n",
              "0  Siamo davanti ad una prova, e non solo di quoz...         Qanon\n",
              "1  La storia dei 2 bimbi di Bergamo - vaccini: qu...         Covid\n",
              "2  L'avete capito che non toglieranno il green pa...         Covid\n",
              "3  Quindi  la farsa dello spazio e della terra a ...  Terra Piatta\n",
              "4  In breve tempo, per accedere a Internet, sarà ...         Qanon"
            ],
            "text/html": [
              "\n",
              "  <div id=\"df-6daf4d20-a2a6-49b7-9c30-c430f97d0f04\" class=\"colab-df-container\">\n",
              "    <div>\n",
              "<style scoped>\n",
              "    .dataframe tbody tr th:only-of-type {\n",
              "        vertical-align: middle;\n",
              "    }\n",
              "\n",
              "    .dataframe tbody tr th {\n",
              "        vertical-align: top;\n",
              "    }\n",
              "\n",
              "    .dataframe thead th {\n",
              "        text-align: right;\n",
              "    }\n",
              "</style>\n",
              "<table border=\"1\" class=\"dataframe\">\n",
              "  <thead>\n",
              "    <tr style=\"text-align: right;\">\n",
              "      <th></th>\n",
              "      <th>comment_text</th>\n",
              "      <th>topic</th>\n",
              "    </tr>\n",
              "  </thead>\n",
              "  <tbody>\n",
              "    <tr>\n",
              "      <th>0</th>\n",
              "      <td>Siamo davanti ad una prova, e non solo di quoz...</td>\n",
              "      <td>Qanon</td>\n",
              "    </tr>\n",
              "    <tr>\n",
              "      <th>1</th>\n",
              "      <td>La storia dei 2 bimbi di Bergamo - vaccini: qu...</td>\n",
              "      <td>Covid</td>\n",
              "    </tr>\n",
              "    <tr>\n",
              "      <th>2</th>\n",
              "      <td>L'avete capito che non toglieranno il green pa...</td>\n",
              "      <td>Covid</td>\n",
              "    </tr>\n",
              "    <tr>\n",
              "      <th>3</th>\n",
              "      <td>Quindi  la farsa dello spazio e della terra a ...</td>\n",
              "      <td>Terra Piatta</td>\n",
              "    </tr>\n",
              "    <tr>\n",
              "      <th>4</th>\n",
              "      <td>In breve tempo, per accedere a Internet, sarà ...</td>\n",
              "      <td>Qanon</td>\n",
              "    </tr>\n",
              "  </tbody>\n",
              "</table>\n",
              "</div>\n",
              "    <div class=\"colab-df-buttons\">\n",
              "\n",
              "  <div class=\"colab-df-container\">\n",
              "    <button class=\"colab-df-convert\" onclick=\"convertToInteractive('df-6daf4d20-a2a6-49b7-9c30-c430f97d0f04')\"\n",
              "            title=\"Convert this dataframe to an interactive table.\"\n",
              "            style=\"display:none;\">\n",
              "\n",
              "  <svg xmlns=\"http://www.w3.org/2000/svg\" height=\"24px\" viewBox=\"0 -960 960 960\">\n",
              "    <path d=\"M120-120v-720h720v720H120Zm60-500h600v-160H180v160Zm220 220h160v-160H400v160Zm0 220h160v-160H400v160ZM180-400h160v-160H180v160Zm440 0h160v-160H620v160ZM180-180h160v-160H180v160Zm440 0h160v-160H620v160Z\"/>\n",
              "  </svg>\n",
              "    </button>\n",
              "\n",
              "  <style>\n",
              "    .colab-df-container {\n",
              "      display:flex;\n",
              "      gap: 12px;\n",
              "    }\n",
              "\n",
              "    .colab-df-convert {\n",
              "      background-color: #E8F0FE;\n",
              "      border: none;\n",
              "      border-radius: 50%;\n",
              "      cursor: pointer;\n",
              "      display: none;\n",
              "      fill: #1967D2;\n",
              "      height: 32px;\n",
              "      padding: 0 0 0 0;\n",
              "      width: 32px;\n",
              "    }\n",
              "\n",
              "    .colab-df-convert:hover {\n",
              "      background-color: #E2EBFA;\n",
              "      box-shadow: 0px 1px 2px rgba(60, 64, 67, 0.3), 0px 1px 3px 1px rgba(60, 64, 67, 0.15);\n",
              "      fill: #174EA6;\n",
              "    }\n",
              "\n",
              "    .colab-df-buttons div {\n",
              "      margin-bottom: 4px;\n",
              "    }\n",
              "\n",
              "    [theme=dark] .colab-df-convert {\n",
              "      background-color: #3B4455;\n",
              "      fill: #D2E3FC;\n",
              "    }\n",
              "\n",
              "    [theme=dark] .colab-df-convert:hover {\n",
              "      background-color: #434B5C;\n",
              "      box-shadow: 0px 1px 3px 1px rgba(0, 0, 0, 0.15);\n",
              "      filter: drop-shadow(0px 1px 2px rgba(0, 0, 0, 0.3));\n",
              "      fill: #FFFFFF;\n",
              "    }\n",
              "  </style>\n",
              "\n",
              "    <script>\n",
              "      const buttonEl =\n",
              "        document.querySelector('#df-6daf4d20-a2a6-49b7-9c30-c430f97d0f04 button.colab-df-convert');\n",
              "      buttonEl.style.display =\n",
              "        google.colab.kernel.accessAllowed ? 'block' : 'none';\n",
              "\n",
              "      async function convertToInteractive(key) {\n",
              "        const element = document.querySelector('#df-6daf4d20-a2a6-49b7-9c30-c430f97d0f04');\n",
              "        const dataTable =\n",
              "          await google.colab.kernel.invokeFunction('convertToInteractive',\n",
              "                                                    [key], {});\n",
              "        if (!dataTable) return;\n",
              "\n",
              "        const docLinkHtml = 'Like what you see? Visit the ' +\n",
              "          '<a target=\"_blank\" href=https://colab.research.google.com/notebooks/data_table.ipynb>data table notebook</a>'\n",
              "          + ' to learn more about interactive tables.';\n",
              "        element.innerHTML = '';\n",
              "        dataTable['output_type'] = 'display_data';\n",
              "        await google.colab.output.renderOutput(dataTable, element);\n",
              "        const docLink = document.createElement('div');\n",
              "        docLink.innerHTML = docLinkHtml;\n",
              "        element.appendChild(docLink);\n",
              "      }\n",
              "    </script>\n",
              "  </div>\n",
              "\n",
              "\n",
              "<div id=\"df-28956e4d-e687-4ae6-bb42-8a7e1feecb00\">\n",
              "  <button class=\"colab-df-quickchart\" onclick=\"quickchart('df-28956e4d-e687-4ae6-bb42-8a7e1feecb00')\"\n",
              "            title=\"Suggest charts.\"\n",
              "            style=\"display:none;\">\n",
              "\n",
              "<svg xmlns=\"http://www.w3.org/2000/svg\" height=\"24px\"viewBox=\"0 0 24 24\"\n",
              "     width=\"24px\">\n",
              "    <g>\n",
              "        <path d=\"M19 3H5c-1.1 0-2 .9-2 2v14c0 1.1.9 2 2 2h14c1.1 0 2-.9 2-2V5c0-1.1-.9-2-2-2zM9 17H7v-7h2v7zm4 0h-2V7h2v10zm4 0h-2v-4h2v4z\"/>\n",
              "    </g>\n",
              "</svg>\n",
              "  </button>\n",
              "\n",
              "<style>\n",
              "  .colab-df-quickchart {\n",
              "    background-color: #E8F0FE;\n",
              "    border: none;\n",
              "    border-radius: 50%;\n",
              "    cursor: pointer;\n",
              "    display: none;\n",
              "    fill: #1967D2;\n",
              "    height: 32px;\n",
              "    padding: 0 0 0 0;\n",
              "    width: 32px;\n",
              "  }\n",
              "\n",
              "  .colab-df-quickchart:hover {\n",
              "    background-color: #E2EBFA;\n",
              "    box-shadow: 0px 1px 2px rgba(60, 64, 67, 0.3), 0px 1px 3px 1px rgba(60, 64, 67, 0.15);\n",
              "    fill: #174EA6;\n",
              "  }\n",
              "\n",
              "  [theme=dark] .colab-df-quickchart {\n",
              "    background-color: #3B4455;\n",
              "    fill: #D2E3FC;\n",
              "  }\n",
              "\n",
              "  [theme=dark] .colab-df-quickchart:hover {\n",
              "    background-color: #434B5C;\n",
              "    box-shadow: 0px 1px 3px 1px rgba(0, 0, 0, 0.15);\n",
              "    filter: drop-shadow(0px 1px 2px rgba(0, 0, 0, 0.3));\n",
              "    fill: #FFFFFF;\n",
              "  }\n",
              "</style>\n",
              "\n",
              "  <script>\n",
              "    async function quickchart(key) {\n",
              "      const charts = await google.colab.kernel.invokeFunction(\n",
              "          'suggestCharts', [key], {});\n",
              "    }\n",
              "    (() => {\n",
              "      let quickchartButtonEl =\n",
              "        document.querySelector('#df-28956e4d-e687-4ae6-bb42-8a7e1feecb00 button');\n",
              "      quickchartButtonEl.style.display =\n",
              "        google.colab.kernel.accessAllowed ? 'block' : 'none';\n",
              "    })();\n",
              "  </script>\n",
              "</div>\n",
              "    </div>\n",
              "  </div>\n"
            ]
          },
          "metadata": {},
          "execution_count": 38
        }
      ]
    },
    {
      "cell_type": "code",
      "source": [
        "x_train['topic'].unique()"
      ],
      "metadata": {
        "colab": {
          "base_uri": "https://localhost:8080/"
        },
        "id": "3hG57JjYiU7Q",
        "outputId": "5a37eb04-d2d7-4447-a920-d2f014bf0d07"
      },
      "execution_count": 39,
      "outputs": [
        {
          "output_type": "stream",
          "name": "stderr",
          "text": [
            "/usr/local/lib/python3.10/dist-packages/ipykernel/ipkernel.py:283: DeprecationWarning: `should_run_async` will not call `transform_cell` automatically in the future. Please pass the result to `transformed_cell` argument and any exception that happen during thetransform in `preprocessing_exc_tuple` in IPython 7.17 and above.\n",
            "  and should_run_async(code)\n"
          ]
        },
        {
          "output_type": "execute_result",
          "data": {
            "text/plain": [
              "array(['Qanon', 'Covid', 'Terra Piatta', 'Russia'], dtype=object)"
            ]
          },
          "metadata": {},
          "execution_count": 39
        }
      ]
    },
    {
      "cell_type": "markdown",
      "metadata": {
        "id": "4vgrQnpbSiZA"
      },
      "source": [
        "We perform tokenization removing frequent words, stopwords, rare words, and counting frequencies.\n",
        "\n",
        "Every document is converted from a string to a set of the words it is composed of, each one associated with its frequency in the document."
      ]
    },
    {
      "cell_type": "code",
      "metadata": {
        "id": "wvwdMky_SiZB",
        "colab": {
          "base_uri": "https://localhost:8080/"
        },
        "outputId": "72003072-c96a-4162-f78b-ae0c0727cbb8"
      },
      "source": [
        "from sklearn.feature_extraction.text import CountVectorizer\n",
        "import nltk\n",
        "nltk.download('stopwords')\n",
        "from nltk.corpus import stopwords\n",
        "\n",
        "en_stopwords = stopwords.words('italian')\n",
        "\n",
        "tf_vectorizer = CountVectorizer(stop_words=en_stopwords, max_df=0.5, min_df=5,max_features = 1000, ngram_range=(1,2))\n",
        "tf = tf_vectorizer.fit_transform(x_train['comment_text'])"
      ],
      "execution_count": 40,
      "outputs": [
        {
          "output_type": "stream",
          "name": "stderr",
          "text": [
            "/usr/local/lib/python3.10/dist-packages/ipykernel/ipkernel.py:283: DeprecationWarning: `should_run_async` will not call `transform_cell` automatically in the future. Please pass the result to `transformed_cell` argument and any exception that happen during thetransform in `preprocessing_exc_tuple` in IPython 7.17 and above.\n",
            "  and should_run_async(code)\n",
            "[nltk_data] Downloading package stopwords to /root/nltk_data...\n",
            "[nltk_data]   Package stopwords is already up-to-date!\n"
          ]
        }
      ]
    },
    {
      "cell_type": "code",
      "metadata": {
        "id": "WZR10x29SiZG",
        "colab": {
          "base_uri": "https://localhost:8080/",
          "height": 308
        },
        "outputId": "c916ad89-5ca9-453c-8ae6-035d5cfb43a9"
      },
      "source": [
        "from sklearn.decomposition import LatentDirichletAllocation\n",
        "\n",
        "n_components = 4\n",
        "\n",
        "lda = LatentDirichletAllocation(n_components=n_components, max_iter=10,\n",
        "                                learning_method = 'batch',\n",
        "                                n_jobs=-1,verbose=1)\n",
        "lda.fit(tf)\n"
      ],
      "execution_count": 41,
      "outputs": [
        {
          "output_type": "stream",
          "name": "stderr",
          "text": [
            "/usr/local/lib/python3.10/dist-packages/ipykernel/ipkernel.py:283: DeprecationWarning: `should_run_async` will not call `transform_cell` automatically in the future. Please pass the result to `transformed_cell` argument and any exception that happen during thetransform in `preprocessing_exc_tuple` in IPython 7.17 and above.\n",
            "  and should_run_async(code)\n"
          ]
        },
        {
          "output_type": "stream",
          "name": "stdout",
          "text": [
            "iteration: 1 of max_iter: 10\n",
            "iteration: 2 of max_iter: 10\n",
            "iteration: 3 of max_iter: 10\n",
            "iteration: 4 of max_iter: 10\n",
            "iteration: 5 of max_iter: 10\n",
            "iteration: 6 of max_iter: 10\n",
            "iteration: 7 of max_iter: 10\n",
            "iteration: 8 of max_iter: 10\n",
            "iteration: 9 of max_iter: 10\n",
            "iteration: 10 of max_iter: 10\n"
          ]
        },
        {
          "output_type": "execute_result",
          "data": {
            "text/plain": [
              "LatentDirichletAllocation(n_components=4, n_jobs=-1, verbose=1)"
            ],
            "text/html": [
              "<style>#sk-container-id-3 {color: black;background-color: white;}#sk-container-id-3 pre{padding: 0;}#sk-container-id-3 div.sk-toggleable {background-color: white;}#sk-container-id-3 label.sk-toggleable__label {cursor: pointer;display: block;width: 100%;margin-bottom: 0;padding: 0.3em;box-sizing: border-box;text-align: center;}#sk-container-id-3 label.sk-toggleable__label-arrow:before {content: \"▸\";float: left;margin-right: 0.25em;color: #696969;}#sk-container-id-3 label.sk-toggleable__label-arrow:hover:before {color: black;}#sk-container-id-3 div.sk-estimator:hover label.sk-toggleable__label-arrow:before {color: black;}#sk-container-id-3 div.sk-toggleable__content {max-height: 0;max-width: 0;overflow: hidden;text-align: left;background-color: #f0f8ff;}#sk-container-id-3 div.sk-toggleable__content pre {margin: 0.2em;color: black;border-radius: 0.25em;background-color: #f0f8ff;}#sk-container-id-3 input.sk-toggleable__control:checked~div.sk-toggleable__content {max-height: 200px;max-width: 100%;overflow: auto;}#sk-container-id-3 input.sk-toggleable__control:checked~label.sk-toggleable__label-arrow:before {content: \"▾\";}#sk-container-id-3 div.sk-estimator input.sk-toggleable__control:checked~label.sk-toggleable__label {background-color: #d4ebff;}#sk-container-id-3 div.sk-label input.sk-toggleable__control:checked~label.sk-toggleable__label {background-color: #d4ebff;}#sk-container-id-3 input.sk-hidden--visually {border: 0;clip: rect(1px 1px 1px 1px);clip: rect(1px, 1px, 1px, 1px);height: 1px;margin: -1px;overflow: hidden;padding: 0;position: absolute;width: 1px;}#sk-container-id-3 div.sk-estimator {font-family: monospace;background-color: #f0f8ff;border: 1px dotted black;border-radius: 0.25em;box-sizing: border-box;margin-bottom: 0.5em;}#sk-container-id-3 div.sk-estimator:hover {background-color: #d4ebff;}#sk-container-id-3 div.sk-parallel-item::after {content: \"\";width: 100%;border-bottom: 1px solid gray;flex-grow: 1;}#sk-container-id-3 div.sk-label:hover label.sk-toggleable__label {background-color: #d4ebff;}#sk-container-id-3 div.sk-serial::before {content: \"\";position: absolute;border-left: 1px solid gray;box-sizing: border-box;top: 0;bottom: 0;left: 50%;z-index: 0;}#sk-container-id-3 div.sk-serial {display: flex;flex-direction: column;align-items: center;background-color: white;padding-right: 0.2em;padding-left: 0.2em;position: relative;}#sk-container-id-3 div.sk-item {position: relative;z-index: 1;}#sk-container-id-3 div.sk-parallel {display: flex;align-items: stretch;justify-content: center;background-color: white;position: relative;}#sk-container-id-3 div.sk-item::before, #sk-container-id-3 div.sk-parallel-item::before {content: \"\";position: absolute;border-left: 1px solid gray;box-sizing: border-box;top: 0;bottom: 0;left: 50%;z-index: -1;}#sk-container-id-3 div.sk-parallel-item {display: flex;flex-direction: column;z-index: 1;position: relative;background-color: white;}#sk-container-id-3 div.sk-parallel-item:first-child::after {align-self: flex-end;width: 50%;}#sk-container-id-3 div.sk-parallel-item:last-child::after {align-self: flex-start;width: 50%;}#sk-container-id-3 div.sk-parallel-item:only-child::after {width: 0;}#sk-container-id-3 div.sk-dashed-wrapped {border: 1px dashed gray;margin: 0 0.4em 0.5em 0.4em;box-sizing: border-box;padding-bottom: 0.4em;background-color: white;}#sk-container-id-3 div.sk-label label {font-family: monospace;font-weight: bold;display: inline-block;line-height: 1.2em;}#sk-container-id-3 div.sk-label-container {text-align: center;}#sk-container-id-3 div.sk-container {/* jupyter's `normalize.less` sets `[hidden] { display: none; }` but bootstrap.min.css set `[hidden] { display: none !important; }` so we also need the `!important` here to be able to override the default hidden behavior on the sphinx rendered scikit-learn.org. See: https://github.com/scikit-learn/scikit-learn/issues/21755 */display: inline-block !important;position: relative;}#sk-container-id-3 div.sk-text-repr-fallback {display: none;}</style><div id=\"sk-container-id-3\" class=\"sk-top-container\"><div class=\"sk-text-repr-fallback\"><pre>LatentDirichletAllocation(n_components=4, n_jobs=-1, verbose=1)</pre><b>In a Jupyter environment, please rerun this cell to show the HTML representation or trust the notebook. <br />On GitHub, the HTML representation is unable to render, please try loading this page with nbviewer.org.</b></div><div class=\"sk-container\" hidden><div class=\"sk-item\"><div class=\"sk-estimator sk-toggleable\"><input class=\"sk-toggleable__control sk-hidden--visually\" id=\"sk-estimator-id-3\" type=\"checkbox\" checked><label for=\"sk-estimator-id-3\" class=\"sk-toggleable__label sk-toggleable__label-arrow\">LatentDirichletAllocation</label><div class=\"sk-toggleable__content\"><pre>LatentDirichletAllocation(n_components=4, n_jobs=-1, verbose=1)</pre></div></div></div></div></div>"
            ]
          },
          "metadata": {},
          "execution_count": 41
        }
      ]
    },
    {
      "cell_type": "code",
      "metadata": {
        "id": "S_okkSUlSiZL",
        "colab": {
          "base_uri": "https://localhost:8080/"
        },
        "outputId": "4d63e6ba-eddd-47fa-cf0d-32139320461c"
      },
      "source": [
        "def print_top_words(model, feature_names, n_top_words):\n",
        "    for topic_idx, topic in enumerate(model.components_):\n",
        "        message = f'Topic {topic_idx}: '\n",
        "        message += ', '.join([feature_names[i]\n",
        "                             for i in topic.argsort()[:-n_top_words - 1:-1]])\n",
        "        print(message)\n",
        "    print()"
      ],
      "execution_count": 42,
      "outputs": [
        {
          "output_type": "stream",
          "name": "stderr",
          "text": [
            "/usr/local/lib/python3.10/dist-packages/ipykernel/ipkernel.py:283: DeprecationWarning: `should_run_async` will not call `transform_cell` automatically in the future. Please pass the result to `transformed_cell` argument and any exception that happen during thetransform in `preprocessing_exc_tuple` in IPython 7.17 and above.\n",
            "  and should_run_async(code)\n"
          ]
        }
      ]
    },
    {
      "cell_type": "code",
      "metadata": {
        "id": "fTjdKxqFSiZR",
        "colab": {
          "base_uri": "https://localhost:8080/"
        },
        "outputId": "4ea4ebf7-59f2-4ee1-8483-efde94c19126"
      },
      "source": [
        "n_top_words = 30\n",
        "tf_feature_names = tf_vectorizer.get_feature_names_out()\n",
        "print_top_words(lda, tf_feature_names, n_top_words)"
      ],
      "execution_count": 43,
      "outputs": [
        {
          "output_type": "stream",
          "name": "stdout",
          "text": [
            "Topic 0: vaccino, solo, persone, no, sempre, mondo, vax, cosa, mrna, essere, fare, dopo, morti, vaccinati, vaccini, fatto, quando, covid, ogni, ora, piu, no vax, parte, bene, tanto, anni, effetti, due, perche, ancora\n",
            "Topic 1: stato, ucraina, russia, quando, solo, essere, fatto, ora, anni, stati, biden, aver, già, state, governo, putin, così, sieri, pass, fa, green, mondiale, green pass, guerra, poi, ancora, secondo, dopo, cosa, molto\n",
            "Topic 2: trump, stato, video, fatto, clinton, italia, essere, altro, avanti, persone, dopo, draghi, dittatura, twitter, ecco, due, detto, casa, stesso, tutta, america, fbi, fare, donald trump, donald, documenti, ancora, hillary, presidente, prima\n",
            "Topic 3: covid, 19, covid 19, vaccini, essere, anni, vaccinazione, persone, può, senza, bambini, obbligo, dati, vaccinati, pass, dopo, pfizer, possono, cov, sars cov, vaccino, sars, green pass, green, salute, virus, solo, pandemia, stato, lockdown\n",
            "\n"
          ]
        },
        {
          "output_type": "stream",
          "name": "stderr",
          "text": [
            "/usr/local/lib/python3.10/dist-packages/ipykernel/ipkernel.py:283: DeprecationWarning: `should_run_async` will not call `transform_cell` automatically in the future. Please pass the result to `transformed_cell` argument and any exception that happen during thetransform in `preprocessing_exc_tuple` in IPython 7.17 and above.\n",
            "  and should_run_async(code)\n"
          ]
        }
      ]
    },
    {
      "cell_type": "markdown",
      "source": [
        "topic 0 => russia\n",
        "topic 1 => terra piatta/covid\n",
        "topic 2 => covid\n",
        "topic 3 => qanon"
      ],
      "metadata": {
        "id": "rKAWm-QZj61l"
      }
    },
    {
      "cell_type": "markdown",
      "metadata": {
        "id": "gvc1jYOMSiZU"
      },
      "source": [
        "## Projecting documents into topics\n",
        "The transform methods of the LDA model, transforms the tf vectors of documents into topic vectors.\n",
        "The weights of a topic vector for a document indicates how the content of a document can be considered to be originated by the various topics."
      ]
    },
    {
      "cell_type": "code",
      "metadata": {
        "id": "L-rtJ9Z7SiZW",
        "colab": {
          "base_uri": "https://localhost:8080/"
        },
        "outputId": "eb81a14b-8c15-4a10-f428-2d50e3b085dd"
      },
      "source": [
        "doc_topics = lda.transform(tf)\n",
        "doc_topics"
      ],
      "execution_count": 44,
      "outputs": [
        {
          "output_type": "stream",
          "name": "stderr",
          "text": [
            "/usr/local/lib/python3.10/dist-packages/ipykernel/ipkernel.py:283: DeprecationWarning: `should_run_async` will not call `transform_cell` automatically in the future. Please pass the result to `transformed_cell` argument and any exception that happen during thetransform in `preprocessing_exc_tuple` in IPython 7.17 and above.\n",
            "  and should_run_async(code)\n"
          ]
        },
        {
          "output_type": "execute_result",
          "data": {
            "text/plain": [
              "array([[0.37001301, 0.61317385, 0.00844651, 0.00836663],\n",
              "       [0.80363722, 0.0639845 , 0.06398603, 0.06839225],\n",
              "       [0.02727025, 0.02607542, 0.02639046, 0.92026386],\n",
              "       ...,\n",
              "       [0.93400139, 0.0234859 , 0.02098646, 0.02152626],\n",
              "       [0.00972069, 0.24602366, 0.23388301, 0.51037264],\n",
              "       [0.41094798, 0.08582786, 0.08611295, 0.4171112 ]])"
            ]
          },
          "metadata": {},
          "execution_count": 44
        }
      ]
    },
    {
      "cell_type": "code",
      "metadata": {
        "id": "WaUvWf6a-15z",
        "colab": {
          "base_uri": "https://localhost:8080/"
        },
        "outputId": "9f7421fa-89db-4092-ad63-97705b592aaa"
      },
      "source": [
        "doc_topics.shape"
      ],
      "execution_count": 45,
      "outputs": [
        {
          "output_type": "stream",
          "name": "stderr",
          "text": [
            "/usr/local/lib/python3.10/dist-packages/ipykernel/ipkernel.py:283: DeprecationWarning: `should_run_async` will not call `transform_cell` automatically in the future. Please pass the result to `transformed_cell` argument and any exception that happen during thetransform in `preprocessing_exc_tuple` in IPython 7.17 and above.\n",
            "  and should_run_async(code)\n"
          ]
        },
        {
          "output_type": "execute_result",
          "data": {
            "text/plain": [
              "(810, 4)"
            ]
          },
          "metadata": {},
          "execution_count": 45
        }
      ]
    },
    {
      "cell_type": "markdown",
      "metadata": {
        "id": "3su7eJkieXFu"
      },
      "source": [
        "The highest weighted topic is the one the document may be assigned to."
      ]
    },
    {
      "cell_type": "code",
      "metadata": {
        "id": "3ky7-M8xSiZa",
        "colab": {
          "base_uri": "https://localhost:8080/"
        },
        "outputId": "03670f35-b73b-4e04-aae5-ce2d01cd3207"
      },
      "source": [
        "import numpy as np\n",
        "\n",
        "labels = np.argmax(doc_topics,axis=1)"
      ],
      "execution_count": 49,
      "outputs": [
        {
          "output_type": "stream",
          "name": "stderr",
          "text": [
            "/usr/local/lib/python3.10/dist-packages/ipykernel/ipkernel.py:283: DeprecationWarning: `should_run_async` will not call `transform_cell` automatically in the future. Please pass the result to `transformed_cell` argument and any exception that happen during thetransform in `preprocessing_exc_tuple` in IPython 7.17 and above.\n",
            "  and should_run_async(code)\n"
          ]
        }
      ]
    },
    {
      "cell_type": "code",
      "metadata": {
        "id": "GI4xK27UU6ku",
        "colab": {
          "base_uri": "https://localhost:8080/"
        },
        "outputId": "12f656f4-8dba-4cda-a2d4-075c89427fd7"
      },
      "source": [
        "import pyLDAvis\n",
        "#import pyLDAvis.gensim_models as gensimvis\n"
      ],
      "execution_count": 47,
      "outputs": [
        {
          "output_type": "stream",
          "name": "stderr",
          "text": [
            "/usr/local/lib/python3.10/dist-packages/ipykernel/ipkernel.py:283: DeprecationWarning: `should_run_async` will not call `transform_cell` automatically in the future. Please pass the result to `transformed_cell` argument and any exception that happen during thetransform in `preprocessing_exc_tuple` in IPython 7.17 and above.\n",
            "  and should_run_async(code)\n"
          ]
        }
      ]
    },
    {
      "cell_type": "code",
      "metadata": {
        "id": "siuXgnSzWHWM",
        "colab": {
          "base_uri": "https://localhost:8080/",
          "height": 916
        },
        "outputId": "33cf17d9-de91-434f-ad1e-f1bb5f794233"
      },
      "source": [
        "import pyLDAvis.lda_model\n",
        "\n",
        "pyLDAvis.enable_notebook()\n",
        "vis = pyLDAvis.lda_model.prepare(lda,tf,tf_vectorizer)\n",
        "vis"
      ],
      "execution_count": 48,
      "outputs": [
        {
          "output_type": "stream",
          "name": "stderr",
          "text": [
            "/usr/local/lib/python3.10/dist-packages/ipykernel/ipkernel.py:283: DeprecationWarning: `should_run_async` will not call `transform_cell` automatically in the future. Please pass the result to `transformed_cell` argument and any exception that happen during thetransform in `preprocessing_exc_tuple` in IPython 7.17 and above.\n",
            "  and should_run_async(code)\n"
          ]
        },
        {
          "output_type": "execute_result",
          "data": {
            "text/plain": [
              "PreparedData(topic_coordinates=              x         y  topics  cluster       Freq\n",
              "topic                                                \n",
              "1      0.066193  0.001529       1        1  34.794875\n",
              "3     -0.158850  0.092455       2        1  25.105915\n",
              "0     -0.053919 -0.141455       3        1  23.992583\n",
              "2      0.146576  0.047471       4        1  16.106626, topic_info=           Term        Freq       Total Category  logprob  loglift\n",
              "906       trump   86.000000   86.000000  Default  30.0000  30.0000\n",
              "191       covid  170.000000  170.000000  Default  29.0000  29.0000\n",
              "9            19   91.000000   91.000000  Default  28.0000  28.0000\n",
              "192    covid 19   83.000000   83.000000  Default  27.0000  27.0000\n",
              "949     vaccino  107.000000  107.000000  Default  26.0000  26.0000\n",
              "..          ...         ...         ...      ...      ...      ...\n",
              "667  presidente   12.203502   31.992090   Topic4  -5.3777   0.8622\n",
              "322        fare   13.285998   69.527935   Topic4  -5.2927   0.1709\n",
              "58       ancora   12.690576   57.502551   Topic4  -5.3385   0.3150\n",
              "372      giorni   11.499044   29.013806   Topic4  -5.4371   0.9004\n",
              "670       prima   11.984776   54.672881   Topic4  -5.3958   0.3082\n",
              "\n",
              "[277 rows x 6 columns], token_table=      Topic      Freq        Term\n",
              "term                             \n",
              "4         1  0.097396          12\n",
              "4         4  0.779169          12\n",
              "9         1  0.032876          19\n",
              "9         2  0.964372          19\n",
              "12        1  0.933915  2000 mules\n",
              "...     ...       ...         ...\n",
              "976       3  0.291973       video\n",
              "976       4  0.545016       video\n",
              "980       2  0.651325       virus\n",
              "980       3  0.148028       virus\n",
              "980       4  0.177634       virus\n",
              "\n",
              "[450 rows x 3 columns], R=30, lambda_step=0.01, plot_opts={'xlab': 'PC1', 'ylab': 'PC2'}, topic_order=[2, 4, 1, 3])"
            ],
            "text/html": [
              "\n",
              "<link rel=\"stylesheet\" type=\"text/css\" href=\"https://cdn.jsdelivr.net/gh/bmabey/pyLDAvis@3.4.0/pyLDAvis/js/ldavis.v1.0.0.css\">\n",
              "\n",
              "\n",
              "<div id=\"ldavis_el14811393132437157608521038877\" style=\"background-color:white;\"></div>\n",
              "<script type=\"text/javascript\">\n",
              "\n",
              "var ldavis_el14811393132437157608521038877_data = {\"mdsDat\": {\"x\": [0.0661931755002425, -0.1588495891667139, -0.053919374320038065, 0.1465757879865094], \"y\": [0.001528806640559691, 0.0924554437909798, -0.1414554243364754, 0.0474711739049359], \"topics\": [1, 2, 3, 4], \"cluster\": [1, 1, 1, 1], \"Freq\": [34.79487534770392, 25.105915173295262, 23.992583124977667, 16.106626354023142]}, \"tinfo\": {\"Term\": [\"trump\", \"covid\", \"19\", \"covid 19\", \"vaccino\", \"no\", \"ucraina\", \"vax\", \"vaccini\", \"mrna\", \"video\", \"persone\", \"clinton\", \"avanti\", \"fatto\", \"piu\", \"morti\", \"obbligo\", \"no vax\", \"bambini\", \"stato\", \"vaccinazione\", \"cov\", \"sars cov\", \"altro\", \"biden\", \"twitter\", \"russia\", \"vaccinati\", \"putin\", \"putin\", \"film\", \"ordine\", \"deep\", \"deep state\", \"basta\", \"sinistra\", \"leggi\", \"frode\", \"generale\", \"nuovo ordine\", \"ordine mondiale\", \"de\", \"hunter\", \"nome\", \"traduzione\", \"mules\", \"hunter biden\", \"po\", \"banca\", \"finita\", \"ucraina\", \"indagine\", \"statunitensi\", \"2000 mules\", \"scritto\", \"luce\", \"occhi\", \"nazione\", \"istituzioni\", \"democratici\", \"russia\", \"mondiale\", \"forze\", \"ue\", \"elezioni\", \"biden\", \"motivo\", \"aver\", \"state\", \"capo\", \"stato\", \"quando\", \"attenzione\", \"nuovo\", \"secondo\", \"russo\", \"potere\", \"governo\", \"stati\", \"ora\", \"sieri\", \"guerra\", \"fatto\", \"gi\\u00e0\", \"green\", \"cos\\u00ec\", \"solo\", \"green pass\", \"anni\", \"pass\", \"sotto\", \"essere\", \"fa\", \"poi\", \"ancora\", \"ci\\u00f2\", \"molto\", \"cosa\", \"dopo\", \"covid 19\", \"cov\", \"sars cov\", \"19\", \"lockdown\", \"efficacia\", \"consenso\", \"cancro\", \"studi\", \"femmine\", \"vaccini covid\", \"civili\", \"mascherine\", \"piatta\", \"trasmissione\", \"sars\", \"terra piatta\", \"vaccinali\", \"diritti\", \"nota\", \"sorveglianza\", \"orbita\", \"omicron\", \"25\", \"femminista\", \"esempio\", \"efficaci\", \"nato\", \"fornire\", \"nasa\", \"anticorpi\", \"vaccinate\", \"infezione\", \"covid\", \"obbligo\", \"vaccinazione\", \"vaccini\", \"pfizer\", \"test\", \"pu\\u00f2\", \"dati\", \"virus\", \"bambini\", \"vaccinale\", \"senza\", \"studio\", \"possono\", \"salute\", \"pass\", \"anni\", \"essere\", \"vaccinati\", \"persone\", \"green pass\", \"green\", \"dopo\", \"terra\", \"pandemia\", \"vaccino\", \"solo\", \"stato\", \"vax\", \"mrna\", \"piu\", \"no vax\", \"perche\", \"bnt162b2\", \"pure\", \"neppure\", \"regina\", \"free\", \"biontech\", \"avversi\", \"free vax\", \"vaccini mrna\", \"possono fare\", \"cupola\", \"religione\", \"conoscenza\", \"colpa\", \"spazio\", \"peggio\", \"giorno\", \"seconda\", \"lungo termine\", \"pericolo\", \"no\", \"eventi avversi\", \"pertanto\", \"roma\", \"possa\", \"vaccino\", \"tanto\", \"morti\", \"giovani\", \"bene\", \"ogni\", \"mondo\", \"casi\", \"dose\", \"sempre\", \"persone\", \"effetti\", \"solo\", \"cosa\", \"termine\", \"lungo\", \"vaccinati\", \"fare\", \"invece\", \"dopo\", \"fatto\", \"quando\", \"due\", \"parte\", \"essere\", \"ora\", \"vaccini\", \"covid\", \"anni\", \"ancora\", \"trump\", \"clinton\", \"donald trump\", \"donald\", \"hillary\", \"hillary clinton\", \"condividi\", \"finch\\u00e9\", \"truth\", \"bianca\", \"puoi\", \"distrutta\", \"avanti tutta\", \"distrutta condividi\", \"dittatura distrutta\", \"finch\\u00e9 dittatura\", \"tutta finch\\u00e9\", \"lago\", \"qanon\", \"casa bianca\", \"durham\", \"mar\", \"distruggere\", \"avanti\", \"bufala\", \"12\", \"censura\", \"spiega\", \"aper\", \"arrivando\", \"fbi\", \"documenti\", \"america\", \"video\", \"altro\", \"casa\", \"twitter\", \"draghi\", \"stato\", \"italia\", \"campagna\", \"tutta\", \"fatto\", \"stesso\", \"detto\", \"ecco\", \"dittatura\", \"due\", \"essere\", \"persone\", \"dopo\", \"presidente\", \"fare\", \"ancora\", \"giorni\", \"prima\"], \"Freq\": [86.0, 170.0, 91.0, 83.0, 107.0, 60.0, 70.0, 37.0, 109.0, 31.0, 51.0, 105.0, 22.0, 21.0, 89.0, 24.0, 39.0, 35.0, 23.0, 51.0, 135.0, 44.0, 23.0, 23.0, 32.0, 43.0, 26.0, 67.0, 61.0, 29.0, 28.822254423173053, 20.247712981636134, 17.39082362772161, 14.511832718546522, 13.549747904018819, 13.43811729010332, 10.714094694971125, 10.712123997977578, 10.71072863796137, 13.382399121025164, 9.768681588093854, 9.768681588093854, 9.762093228571143, 9.761845530752813, 9.758791074807224, 9.753563523788689, 8.810189793867885, 8.809165353130778, 9.67058154221371, 8.774876568557634, 8.774172018844434, 64.94788186873176, 8.75297611315456, 7.860067547072611, 7.8558792561524635, 8.728926029864738, 7.855762780792927, 7.850090941301839, 7.845848335955753, 7.831778367823903, 13.521938916702878, 54.67099656304304, 26.39700416469448, 12.541257975122003, 21.378914464202616, 22.67998235081068, 31.95113392898181, 14.998994682941609, 31.941517868405274, 29.386979805950496, 12.88603055653524, 74.59851216475627, 49.73004728379883, 15.313539370961827, 21.546202615399896, 23.954031729637013, 14.61699704584764, 17.627944599119388, 29.374750858310133, 35.93754112508745, 38.77445679097828, 27.47968282929148, 26.1567617381738, 39.36161887067394, 30.497203243635, 27.24850582615608, 28.344541641783845, 46.572562146670755, 26.204232471710853, 36.840763848067816, 27.47732488536405, 22.445760909382233, 40.10870741467128, 27.41194918689622, 25.803837354980054, 24.364613606392858, 22.958393150180854, 23.61173834848845, 23.86751506328871, 23.876017008478836, 82.98038471398495, 22.80005439710695, 22.8000543379078, 88.21257096453037, 19.042223372466736, 16.204149852767387, 15.27693238207377, 15.258454910646869, 14.337347087269679, 14.326682096929993, 16.090320320341892, 13.331908274384828, 9.635751583640902, 9.617371187674165, 8.694878436449585, 22.58999295239555, 8.668368939669172, 8.66312153909184, 8.655956521625914, 7.754954240790746, 7.749949993162535, 7.745205060884484, 10.323102410576197, 7.723398606107639, 8.577723784256838, 9.422088877013412, 6.817963819820842, 17.0033121408275, 6.804162861753694, 6.802033985037921, 11.813607959836746, 9.272539077806396, 16.495274867739287, 129.96311676441678, 28.863579968141543, 34.38842884872433, 66.68543853165119, 24.89593034451425, 12.483625943158659, 33.6225694766904, 28.84684051994308, 22.412960086194698, 29.844266186824072, 18.35172924150065, 33.36253394888603, 16.365443926777846, 24.173675698632927, 22.418934122772953, 26.928272767399147, 35.575657733233705, 40.124898690280936, 27.178515564570247, 33.80175616787329, 22.560121696238046, 22.470822770205096, 26.09496964170567, 18.94062268327802, 19.506336138977247, 22.674070882597967, 21.375956461483682, 19.414189929805516, 36.80492085911997, 31.172032865942388, 23.667620071900604, 22.73605961009839, 18.97919266087768, 15.226265249510025, 10.546641182257607, 10.53520652068397, 9.59638830969804, 8.668748773010666, 7.724913031335938, 16.236222714971078, 6.7957962238132446, 6.791638651121285, 6.7802083341217125, 6.7748913679093, 6.7518834370558345, 6.747959419176827, 8.406850094738706, 5.85718400636953, 8.173439621179233, 16.70628392237269, 9.430284195933373, 9.437989865264774, 6.20111912782424, 49.01881613583945, 7.4747720002401055, 8.223958748740019, 6.705170343236058, 6.6481813945126635, 84.7210300667587, 21.18684095087942, 28.402316146055014, 12.754702247655654, 21.44298197590033, 24.277745951365315, 37.85315559311972, 17.878522896866095, 18.278415952252633, 38.61837680095701, 49.564783981830416, 20.142520513102216, 56.743124415998174, 33.757146782298136, 15.757322456736807, 13.472427648978035, 27.649802524123764, 29.684500668645533, 14.03875264591676, 28.764118371362787, 26.78310902663836, 26.253653140654567, 20.002671918538603, 21.91545944171117, 29.863316934078405, 24.200257802861646, 27.26867736157851, 24.65495320295868, 20.799268591696777, 18.866956434608607, 84.25884219284399, 21.62378308600895, 13.25170678582891, 13.251706785821298, 12.323697474732434, 10.463268077769444, 10.45954307934618, 9.533953287170322, 9.531710916185821, 8.59778866874212, 8.592479996840497, 8.589128572396977, 7.673795529545626, 7.673795529545626, 7.673795529545626, 7.673795529545626, 7.673795529545626, 7.669329519154388, 7.66813810812845, 7.667901150503943, 8.465257995561704, 6.738333486679829, 6.73081322627255, 19.20267456142551, 7.359714711592155, 8.490146935967871, 10.776342039681841, 8.255548209633831, 6.747806246255011, 8.217971849640277, 13.828431257487852, 13.14916310874124, 14.152154389745515, 28.46189184586885, 19.573348960003514, 14.59249919823868, 16.159936482616537, 16.900524807663682, 31.89016933424302, 20.91395538311239, 10.201071735911405, 14.467794243613167, 23.1551979639927, 14.488851487346182, 14.943790907280475, 15.354477993820677, 16.276489292778486, 15.252610497957722, 20.850208712767145, 19.172898658645693, 18.171230860327494, 12.203501509657503, 13.2859978881439, 12.69057589179796, 11.499044459625232, 11.984775999569615], \"Total\": [86.0, 170.0, 91.0, 83.0, 107.0, 60.0, 70.0, 37.0, 109.0, 31.0, 51.0, 105.0, 22.0, 21.0, 89.0, 24.0, 39.0, 35.0, 23.0, 51.0, 135.0, 44.0, 23.0, 23.0, 32.0, 43.0, 26.0, 67.0, 61.0, 29.0, 29.537149525261665, 20.958174175303142, 18.09853108178234, 15.238431949948799, 14.2850565428015, 14.283384943744553, 11.425794080815054, 11.425770447121183, 11.425681497352189, 14.28239874367837, 10.472725690642052, 10.472725690642052, 10.472622921158514, 10.47255090497678, 10.472577226125143, 10.472408245247534, 9.519350995191184, 9.519329405564699, 10.47134626336813, 9.51883923861281, 9.518842001381469, 70.46072620310646, 9.518492172241618, 8.566195674595669, 8.566092465694382, 9.518127383006409, 8.56614358882845, 8.566059098981045, 8.565978189071377, 8.565714438486978, 15.222240927046714, 67.44059273241805, 31.378295199368697, 14.26058975556785, 25.660571516227716, 27.528377044902808, 43.565921706646385, 18.063060855258247, 44.55537873518879, 41.763332115314135, 15.213196744550336, 135.10774376572564, 86.13828712811794, 19.002884289640175, 30.349760188049558, 35.08411835859683, 18.031532290637145, 23.728252047788718, 50.1912544806265, 67.14601946623522, 77.44464665240798, 46.43565919309257, 44.54088378035051, 89.54209981977968, 59.59220201050184, 50.20501595615727, 54.84092856324263, 135.77029930151693, 49.25055739466998, 98.18737408034234, 57.723703973975965, 38.77516910536104, 130.94713175179777, 59.48267510046848, 58.49268023636892, 57.50255061308067, 42.50281460571171, 53.74948076638571, 70.67490620047641, 96.9063358818748, 83.69664824483452, 23.510271318932624, 23.51027131877371, 91.25105688263359, 19.74865547743231, 16.92738535541012, 15.987066966795249, 15.98689558778499, 15.046609981963847, 15.04670073360523, 16.92903832022632, 14.106981882873226, 10.344554235529577, 10.344508027885666, 9.404134892155385, 24.44757013620766, 9.404077044666671, 9.404389305823214, 9.404409842065629, 8.463735645867228, 8.463667880676901, 8.46364062467444, 11.284247679622354, 8.463978552970348, 9.402961060568643, 10.347245898872904, 7.523308326901936, 18.797467935172257, 7.523469802456232, 7.523336005252779, 13.158842747851045, 10.343307772634391, 18.79841198533489, 170.3508164181971, 35.71897538489242, 44.234096160273396, 109.11103423347456, 34.77390812990762, 15.026573864763105, 56.32611500265943, 46.221755521860494, 33.77729712432367, 51.05767658349415, 26.33370780268884, 69.8506162710921, 23.584818646089694, 44.15923312754386, 41.36765016565801, 57.723703973975965, 98.18737408034234, 130.94713175179777, 61.92032467361003, 105.96801905265107, 49.25055739466998, 50.20501595615727, 96.9063358818748, 31.940668806283252, 41.48879717897146, 107.9180243381479, 135.77029930151693, 135.10774376572564, 37.51729426359067, 31.890053862592104, 24.387095435702435, 23.44928580747261, 19.697938606548444, 15.9463199763299, 11.257030064925313, 11.257131871772911, 10.319061244734211, 9.381318796321247, 8.443402870477039, 17.823426950553362, 7.505531922113414, 7.505504459443405, 7.505735845776224, 7.5053026285137685, 7.50512321294575, 7.5052960487833476, 9.38201193709715, 6.567690286641938, 9.38920520684809, 19.73199544608337, 11.2601061183043, 11.272156183027802, 7.515233986093576, 60.062345102422626, 9.384264336940486, 10.34174542652037, 8.435342385196805, 8.435040312381332, 107.9180243381479, 27.287403790861667, 39.420942251302925, 16.940060609743256, 31.003591928801207, 36.67803142827799, 67.78682839719168, 26.292208912728135, 27.25377533077119, 73.49251327027513, 105.96801905265107, 31.920018940721327, 135.77029930151693, 70.67490620047641, 23.561966777035664, 18.81550892745875, 61.92032467361003, 69.52793535170645, 21.667488424677558, 96.9063358818748, 89.54209981977968, 86.13828712811794, 47.86346232039095, 59.40652628368519, 130.94713175179777, 77.44464665240798, 109.11103423347456, 170.3508164181971, 98.18737408034234, 57.50255061308067, 86.55874904495148, 22.335524414086915, 13.963542207959911, 13.963542207959996, 13.033303197248147, 11.172867748044476, 11.172871891474818, 10.242617193992496, 10.242633653833096, 9.31251886141129, 9.312549641580718, 9.312683737122757, 8.382178846427484, 8.382178846427484, 8.382178846427484, 8.382178846427484, 8.382178846427484, 8.3822686890379, 8.382224199764813, 8.382291465778502, 9.315831930391965, 7.452066091514199, 7.4521113356905095, 21.441891343032957, 8.387192771907957, 10.267355358267276, 13.071421409019399, 10.256724793135847, 8.392357413962412, 10.275080310174214, 17.762219049079302, 17.778907078577596, 20.565791707157032, 51.37459341367976, 32.73685095974328, 22.508354666386225, 26.283285352726168, 34.64391565603566, 135.10774376572564, 60.235352177471654, 14.958856162385992, 30.94451896264711, 89.54209981977968, 32.7993840132483, 36.700006080541804, 40.37561555542085, 46.98692241184157, 47.86346232039095, 130.94713175179777, 105.96801905265107, 96.9063358818748, 31.992090494346822, 69.52793535170645, 57.50255061308067, 29.01380621411793, 54.672880746225346], \"Category\": [\"Default\", \"Default\", \"Default\", \"Default\", \"Default\", \"Default\", \"Default\", \"Default\", \"Default\", \"Default\", \"Default\", \"Default\", \"Default\", \"Default\", \"Default\", \"Default\", \"Default\", \"Default\", \"Default\", \"Default\", \"Default\", \"Default\", \"Default\", \"Default\", \"Default\", \"Default\", \"Default\", \"Default\", \"Default\", \"Default\", \"Topic1\", \"Topic1\", \"Topic1\", \"Topic1\", \"Topic1\", \"Topic1\", \"Topic1\", \"Topic1\", \"Topic1\", \"Topic1\", \"Topic1\", \"Topic1\", \"Topic1\", \"Topic1\", \"Topic1\", \"Topic1\", \"Topic1\", \"Topic1\", \"Topic1\", \"Topic1\", \"Topic1\", \"Topic1\", \"Topic1\", \"Topic1\", \"Topic1\", \"Topic1\", \"Topic1\", \"Topic1\", \"Topic1\", \"Topic1\", \"Topic1\", \"Topic1\", \"Topic1\", \"Topic1\", \"Topic1\", \"Topic1\", \"Topic1\", \"Topic1\", \"Topic1\", \"Topic1\", \"Topic1\", \"Topic1\", \"Topic1\", \"Topic1\", \"Topic1\", \"Topic1\", \"Topic1\", \"Topic1\", \"Topic1\", \"Topic1\", \"Topic1\", \"Topic1\", \"Topic1\", \"Topic1\", \"Topic1\", \"Topic1\", \"Topic1\", \"Topic1\", \"Topic1\", \"Topic1\", \"Topic1\", \"Topic1\", \"Topic1\", \"Topic1\", \"Topic1\", \"Topic1\", \"Topic1\", \"Topic1\", \"Topic1\", \"Topic1\", \"Topic2\", \"Topic2\", \"Topic2\", \"Topic2\", \"Topic2\", \"Topic2\", \"Topic2\", \"Topic2\", \"Topic2\", \"Topic2\", \"Topic2\", \"Topic2\", \"Topic2\", \"Topic2\", \"Topic2\", \"Topic2\", \"Topic2\", \"Topic2\", \"Topic2\", \"Topic2\", \"Topic2\", \"Topic2\", \"Topic2\", \"Topic2\", \"Topic2\", \"Topic2\", \"Topic2\", \"Topic2\", \"Topic2\", \"Topic2\", \"Topic2\", \"Topic2\", \"Topic2\", \"Topic2\", \"Topic2\", \"Topic2\", \"Topic2\", \"Topic2\", \"Topic2\", \"Topic2\", \"Topic2\", \"Topic2\", \"Topic2\", \"Topic2\", \"Topic2\", \"Topic2\", \"Topic2\", \"Topic2\", \"Topic2\", \"Topic2\", \"Topic2\", \"Topic2\", \"Topic2\", \"Topic2\", \"Topic2\", \"Topic2\", \"Topic2\", \"Topic2\", \"Topic2\", \"Topic2\", \"Topic2\", \"Topic3\", \"Topic3\", \"Topic3\", \"Topic3\", \"Topic3\", \"Topic3\", \"Topic3\", \"Topic3\", \"Topic3\", \"Topic3\", \"Topic3\", \"Topic3\", \"Topic3\", \"Topic3\", \"Topic3\", \"Topic3\", \"Topic3\", \"Topic3\", \"Topic3\", \"Topic3\", \"Topic3\", \"Topic3\", \"Topic3\", \"Topic3\", \"Topic3\", \"Topic3\", \"Topic3\", \"Topic3\", \"Topic3\", \"Topic3\", \"Topic3\", \"Topic3\", \"Topic3\", \"Topic3\", \"Topic3\", \"Topic3\", \"Topic3\", \"Topic3\", \"Topic3\", \"Topic3\", \"Topic3\", \"Topic3\", \"Topic3\", \"Topic3\", \"Topic3\", \"Topic3\", \"Topic3\", \"Topic3\", \"Topic3\", \"Topic3\", \"Topic3\", \"Topic3\", \"Topic3\", \"Topic3\", \"Topic3\", \"Topic3\", \"Topic3\", \"Topic3\", \"Topic3\", \"Topic3\", \"Topic4\", \"Topic4\", \"Topic4\", \"Topic4\", \"Topic4\", \"Topic4\", \"Topic4\", \"Topic4\", \"Topic4\", \"Topic4\", \"Topic4\", \"Topic4\", \"Topic4\", \"Topic4\", \"Topic4\", \"Topic4\", \"Topic4\", \"Topic4\", \"Topic4\", \"Topic4\", \"Topic4\", \"Topic4\", \"Topic4\", \"Topic4\", \"Topic4\", \"Topic4\", \"Topic4\", \"Topic4\", \"Topic4\", \"Topic4\", \"Topic4\", \"Topic4\", \"Topic4\", \"Topic4\", \"Topic4\", \"Topic4\", \"Topic4\", \"Topic4\", \"Topic4\", \"Topic4\", \"Topic4\", \"Topic4\", \"Topic4\", \"Topic4\", \"Topic4\", \"Topic4\", \"Topic4\", \"Topic4\", \"Topic4\", \"Topic4\", \"Topic4\", \"Topic4\", \"Topic4\", \"Topic4\", \"Topic4\", \"Topic4\"], \"logprob\": [30.0, 29.0, 28.0, 27.0, 26.0, 25.0, 24.0, 23.0, 22.0, 21.0, 20.0, 19.0, 18.0, 17.0, 16.0, 15.0, 14.0, 13.0, 12.0, 11.0, 10.0, 9.0, 8.0, 7.0, 6.0, 5.0, 4.0, 3.0, 2.0, 1.0, -5.2885, -5.6416, -5.7937, -5.9747, -6.0433, -6.0515, -6.2781, -6.2783, -6.2784, -6.0557, -6.3705, -6.3705, -6.3711, -6.3712, -6.3715, -6.372, -6.4737, -6.4738, -6.3806, -6.4777, -6.4778, -4.4761, -6.4802, -6.5878, -6.5884, -6.483, -6.5884, -6.5891, -6.5897, -6.5915, -6.0453, -4.6483, -5.3764, -6.1206, -5.5872, -5.5282, -5.1854, -5.9417, -5.1857, -5.2691, -6.0935, -4.3375, -4.743, -5.9209, -5.5794, -5.4735, -5.9675, -5.7802, -5.2695, -5.0679, -4.9919, -5.3362, -5.3855, -4.9769, -5.232, -5.3446, -5.3052, -4.8086, -5.3837, -5.043, -5.3363, -5.5385, -4.958, -5.3387, -5.3991, -5.4565, -5.516, -5.4879, -5.4771, -5.4768, -3.9047, -5.1965, -5.1965, -3.8435, -5.3766, -5.538, -5.5969, -5.5981, -5.6604, -5.6612, -5.5451, -5.7331, -6.0578, -6.0597, -6.1605, -5.2058, -6.1636, -6.1642, -6.165, -6.2749, -6.2756, -6.2762, -5.9889, -6.279, -6.1741, -6.0802, -6.4037, -5.4899, -6.4057, -6.4061, -5.854, -6.0962, -5.5202, -3.456, -4.9607, -4.7856, -4.1233, -5.1086, -5.7989, -4.8081, -4.9613, -5.2136, -4.9273, -5.4136, -4.8158, -5.5281, -5.138, -5.2134, -5.0301, -4.7516, -4.6313, -5.0208, -4.8028, -5.2071, -5.2111, -5.0615, -5.382, -5.3525, -5.2021, -5.261, -5.3573, -4.6723, -4.8384, -5.1138, -5.154, -5.3346, -5.5549, -5.9221, -5.9232, -6.0165, -6.1182, -6.2335, -5.4907, -6.3616, -6.3622, -6.3639, -6.3647, -6.3681, -6.3687, -6.1489, -6.5102, -6.177, -5.4621, -6.034, -6.0332, -6.4532, -4.3857, -6.2664, -6.1709, -6.375, -6.3836, -3.8386, -5.2245, -4.9314, -5.732, -5.2125, -5.0884, -4.6442, -5.3943, -5.3722, -4.6242, -4.3746, -5.2751, -4.2394, -4.7587, -5.5206, -5.6773, -4.9583, -4.8873, -5.6361, -4.9188, -4.9901, -5.0101, -5.2821, -5.1907, -4.8813, -5.0916, -4.9722, -5.0729, -5.243, -5.3405, -3.4455, -4.8056, -5.2953, -5.2953, -5.3679, -5.5315, -5.5319, -5.6245, -5.6248, -5.7279, -5.7285, -5.7289, -5.8416, -5.8416, -5.8416, -5.8416, -5.8416, -5.8422, -5.8423, -5.8424, -5.7434, -5.9716, -5.9727, -4.9244, -5.8834, -5.7405, -5.502, -5.7685, -5.9702, -5.7731, -5.2527, -5.303, -5.2295, -4.5308, -4.9052, -5.1989, -5.0969, -5.0521, -4.4171, -4.839, -5.5569, -5.2075, -4.7372, -5.206, -5.1751, -5.148, -5.0897, -5.1547, -4.842, -4.9259, -4.9796, -5.3777, -5.2927, -5.3385, -5.4371, -5.3958], \"loglift\": [30.0, 29.0, 28.0, 27.0, 26.0, 25.0, 24.0, 23.0, 22.0, 21.0, 20.0, 19.0, 18.0, 17.0, 16.0, 15.0, 14.0, 13.0, 12.0, 11.0, 10.0, 9.0, 8.0, 7.0, 6.0, 5.0, 4.0, 3.0, 2.0, 1.0, 1.0312, 1.0212, 1.0158, 1.0068, 1.0029, 0.9947, 0.9914, 0.9912, 0.9911, 0.9906, 0.9861, 0.9861, 0.9854, 0.9854, 0.9851, 0.9846, 0.9783, 0.9782, 0.9761, 0.9743, 0.9742, 0.9742, 0.9719, 0.9697, 0.9692, 0.9691, 0.9691, 0.9684, 0.9679, 0.9661, 0.9373, 0.8458, 0.8828, 0.9272, 0.8731, 0.862, 0.7456, 0.8698, 0.7229, 0.7042, 0.8897, 0.4617, 0.5064, 0.8398, 0.7131, 0.6741, 0.8458, 0.7585, 0.52, 0.4306, 0.3639, 0.5311, 0.5234, 0.2338, 0.3858, 0.4446, 0.3957, -0.0143, 0.4247, 0.0754, 0.3134, 0.509, -0.1275, 0.281, 0.2373, 0.197, 0.4398, 0.2331, -0.0299, -0.3452, 1.3735, 1.3514, 1.3514, 1.3482, 1.3456, 1.3384, 1.3366, 1.3354, 1.3338, 1.333, 1.3313, 1.3256, 1.3111, 1.3092, 1.3037, 1.303, 1.3006, 1.3, 1.2991, 1.2946, 1.294, 1.2934, 1.293, 1.2905, 1.2902, 1.2884, 1.2836, 1.2818, 1.2816, 1.2813, 1.2742, 1.2728, 1.2514, 1.1115, 1.169, 1.1303, 0.8897, 1.0479, 1.1967, 0.8661, 0.9106, 0.9719, 0.8451, 1.0209, 0.6431, 1.0166, 0.7795, 0.7695, 0.6196, 0.3669, 0.1993, 0.5586, 0.2394, 0.6013, 0.5782, 0.0701, 0.8595, 0.6274, -0.1781, -0.4666, -0.558, 1.4083, 1.4047, 1.3975, 1.3965, 1.3903, 1.3812, 1.3622, 1.3611, 1.3548, 1.3484, 1.3385, 1.3342, 1.3281, 1.3275, 1.3258, 1.325, 1.3217, 1.3211, 1.3177, 1.3129, 1.2888, 1.261, 1.2501, 1.2498, 1.2352, 1.2242, 1.1999, 1.1983, 1.1979, 1.1894, 1.1854, 1.1744, 1.0996, 1.1436, 1.0587, 1.0148, 0.8448, 1.0418, 1.028, 0.784, 0.6676, 0.967, 0.555, 0.6885, 1.0251, 1.0934, 0.6212, 0.5763, 0.9934, 0.2128, 0.2205, 0.2393, 0.5549, 0.4302, -0.0507, 0.2642, 0.0408, -0.5055, -0.1245, 0.313, 1.799, 1.7936, 1.7736, 1.7736, 1.77, 1.7603, 1.76, 1.7542, 1.754, 1.7461, 1.7455, 1.7451, 1.7376, 1.7376, 1.7376, 1.7376, 1.7376, 1.7371, 1.7369, 1.7369, 1.7302, 1.7253, 1.7241, 1.7156, 1.6953, 1.6359, 1.6329, 1.6089, 1.6078, 1.6025, 1.5756, 1.5243, 1.4522, 1.2354, 1.3116, 1.3926, 1.3395, 1.1082, 0.3822, 0.7681, 1.4431, 1.0657, 0.4734, 1.0089, 0.9275, 0.8591, 0.7658, 0.6823, -0.0115, 0.1163, 0.152, 0.8622, 0.1709, 0.315, 0.9004, 0.3082]}, \"token.table\": {\"Topic\": [1, 4, 1, 2, 1, 2, 1, 2, 3, 4, 1, 3, 4, 1, 2, 3, 4, 1, 2, 3, 4, 2, 4, 2, 4, 1, 4, 1, 3, 1, 4, 4, 1, 2, 3, 4, 2, 3, 1, 2, 1, 1, 1, 2, 3, 4, 4, 1, 4, 3, 3, 4, 1, 3, 4, 2, 1, 2, 3, 1, 4, 4, 1, 2, 3, 4, 1, 4, 2, 1, 3, 4, 4, 3, 4, 3, 2, 1, 2, 3, 4, 1, 2, 3, 4, 2, 1, 2, 3, 2, 3, 1, 2, 3, 1, 1, 1, 1, 3, 1, 3, 4, 2, 4, 4, 4, 1, 2, 3, 4, 4, 1, 4, 4, 4, 1, 2, 3, 4, 1, 2, 3, 1, 3, 4, 1, 2, 3, 4, 4, 1, 2, 3, 4, 2, 3, 2, 2, 1, 4, 2, 1, 2, 3, 4, 2, 3, 1, 2, 3, 4, 1, 2, 3, 4, 1, 3, 4, 1, 4, 2, 2, 1, 4, 4, 1, 2, 1, 4, 3, 3, 1, 1, 2, 3, 4, 1, 3, 1, 3, 1, 2, 3, 4, 1, 2, 3, 4, 1, 2, 1, 2, 1, 2, 3, 4, 4, 1, 1, 1, 2, 3, 4, 1, 2, 3, 1, 1, 2, 3, 4, 4, 1, 2, 1, 1, 3, 4, 1, 3, 4, 2, 1, 2, 3, 4, 1, 2, 3, 1, 2, 3, 4, 2, 3, 1, 2, 3, 3, 1, 2, 2, 4, 1, 3, 1, 2, 3, 3, 1, 2, 1, 2, 3, 4, 1, 2, 3, 1, 1, 3, 4, 2, 1, 2, 3, 4, 2, 1, 1, 1, 2, 3, 4, 1, 2, 3, 4, 1, 2, 3, 1, 3, 3, 1, 3, 1, 2, 3, 4, 1, 3, 2, 3, 2, 3, 1, 1, 2, 3, 4, 3, 4, 1, 2, 3, 4, 3, 1, 3, 1, 3, 4, 1, 2, 3, 4, 4, 3, 1, 1, 2, 3, 4, 4, 1, 2, 3, 4, 3, 3, 3, 4, 1, 2, 4, 1, 4, 1, 2, 3, 4, 2, 3, 2, 1, 2, 3, 1, 2, 3, 4, 1, 2, 3, 4, 1, 2, 3, 1, 2, 3, 1, 1, 2, 3, 4, 2, 1, 2, 3, 4, 3, 2, 4, 1, 2, 3, 1, 2, 3, 4, 1, 2, 3, 4, 1, 1, 2, 3, 4, 2, 1, 2, 4, 1, 3, 1, 3, 2, 3, 2, 2, 4, 1, 2, 1, 4, 4, 1, 2, 3, 4, 4, 1, 4, 1, 2, 1, 2, 3, 4, 1, 2, 3, 2, 2, 3, 2, 3, 4, 1, 2, 3, 4, 1, 2, 3, 4, 2, 3, 2, 3, 3, 2, 3, 4, 2, 3, 4], \"Freq\": [0.09739606404046393, 0.7791685123237114, 0.03287633154603981, 0.9643723920171678, 0.9339147379086231, 0.9451819791287728, 0.09163984659639743, 0.27491953978919226, 0.030546615532132476, 0.6109323106426495, 0.14587330469538792, 0.14587330469538792, 0.680742088578477, 0.417372790321765, 0.034781065860147085, 0.33042012567139734, 0.22607692809095606, 0.3768305278204564, 0.366645918960444, 0.21387678606025903, 0.05092304430006167, 0.9119342961948311, 0.07599452468290259, 0.11915603097841072, 0.834092216848875, 0.19464568058116619, 0.7785827223246647, 0.7893538565710032, 0.15787077131420063, 0.09327535374578108, 0.8861158605849202, 0.9544057871551654, 0.7182073390103887, 0.08977591737629859, 0.06733193803222394, 0.13466387606444788, 0.05610593309436226, 0.8976949295097961, 0.4112995616958577, 0.5875708024226538, 0.9454934340619855, 0.9101484032812114, 0.09676298175028905, 0.16127163625048174, 0.6773408722520233, 0.03225432725009635, 0.9664409956036397, 0.7345190632135324, 0.2524909279796518, 0.9474852879486032, 0.9406559019426062, 0.8346058318160735, 0.13370006224332814, 0.13370006224332814, 0.6685003112166408, 0.9382684660467139, 0.8545212566620394, 0.06573240435861842, 0.06573240435861842, 0.3109956326773959, 0.6664192128801341, 0.9543929643416429, 0.03803408086856852, 0.22820448521141115, 0.6846134556342335, 0.03803408086856852, 0.15300554831932678, 0.8415305157562972, 0.9215295027622334, 0.5411406329996122, 0.2588063896954667, 0.21175068247810913, 0.984977992552738, 0.8526955682466598, 0.8950250300131205, 0.9326747345475787, 0.9382584079465381, 0.3395830470849386, 0.07074646814269554, 0.48107598337032964, 0.11319434902831287, 0.510567576690653, 0.09117278155190231, 0.3464565698972288, 0.05470366893114139, 0.9782958132634689, 0.0880535844523119, 0.7631310652533698, 0.14675597408718652, 0.9916765096399482, 0.932673916892565, 0.25961800594797013, 0.6274101810409278, 0.10817416914498756, 0.9548706255618501, 0.9843532490264131, 0.9800451232413815, 0.9197068990758746, 0.06569334993399104, 0.4087192783314807, 0.1634877113325923, 0.4087192783314807, 0.9569978500663895, 0.9393311082826681, 0.966423885321444, 0.9544057871551654, 0.255390210382789, 0.2341076928508899, 0.17026014025519265, 0.3405202805103853, 0.9544057871551654, 0.22498570819461308, 0.7312035516324925, 0.930995860963508, 0.9309958609635137, 0.24766182501477615, 0.26830031043267416, 0.2992580385595212, 0.1857463687610821, 0.1100764926543155, 0.220152985308631, 0.660458955925893, 0.14432548703913325, 0.3463811688939198, 0.49070665593305307, 0.1880348717724457, 0.06267829059081524, 0.4178552706054349, 0.3133914529540762, 0.8587531483796744, 0.2476742425455702, 0.17337196978189912, 0.22290681829101316, 0.37151136381835526, 0.344611324336245, 0.6265660442477181, 0.930441728005393, 0.9452139042186027, 0.8355014886087777, 0.14530460671457004, 0.8697966674378874, 0.30546679003109084, 0.30546679003109084, 0.22910009252331814, 0.1603700647663227, 0.10656136316019696, 0.7459295421213786, 0.45391368082212147, 0.1681161780822672, 0.21855103150694738, 0.1513045602740405, 0.17259249737962312, 0.2013579136095603, 0.4314812434490578, 0.1869752054945917, 0.4355493123178353, 0.3015341392969629, 0.25686241495667206, 0.1688978157352194, 0.7881898067643572, 0.9304365287688926, 0.9571453015733031, 0.9542816007115619, 0.9763129687073734, 0.9544057871551654, 0.9454931596399889, 0.9304217580184436, 0.9116032522374701, 0.07012332709519001, 0.959353391074315, 0.9326454237541814, 0.9627434479553069, 0.9102112490560467, 0.37912985007280675, 0.20679810003971277, 0.37912985007280675, 0.10135822327067193, 0.8615448978007114, 0.23612666401555596, 0.7674116580505569, 0.5034215717471414, 0.21814934775709463, 0.23493006681533268, 0.0335614381164761, 0.5777899018482157, 0.21916168690794388, 0.1593903177512319, 0.03984757943780798, 0.537794869412618, 0.4382032269287998, 0.5279128069891404, 0.4669997907980858, 0.5837333656919951, 0.3592205327335355, 0.044902566591691936, 0.9207182414457818, 0.895025361930937, 0.9548771918833822, 0.9454447489482699, 0.9455279089524625, 0.8511357242559636, 0.053195982765997726, 0.053195982765997726, 0.2769125743787856, 0.0461520957297976, 0.6461293402171664, 0.9339559539896471, 0.38183556945487773, 0.04980463949411449, 0.21582010447449612, 0.3486324764588014, 0.9543955576683171, 0.9627359529852572, 0.9620908128005051, 0.9339091642630429, 0.212590582344681, 0.6909193926202132, 0.05314764558617025, 0.08871417178424786, 0.7984275460582307, 0.9393368113000266, 0.9666922104438135, 0.4465159413225312, 0.0372096617768776, 0.3162821251034596, 0.2232579706612656, 0.8285982343783641, 0.06373832572141262, 0.09560748858211893, 0.29504256907863496, 0.029504256907863496, 0.5605808812494064, 0.11801702763145398, 0.27903949961105845, 0.7102823626463306, 0.8304240416503621, 0.05536160277669081, 0.05536160277669081, 0.972089922882314, 0.9454426047055582, 0.9304383049105627, 0.9043771245483023, 0.053198654385194256, 0.9339271970370574, 0.9771583139735917, 0.016649366558943515, 0.16649366558943512, 0.8158189613882322, 0.9808401069797429, 0.9548747919522388, 0.9452091056159503, 0.7248821692061561, 0.0988475685281122, 0.13179675803748292, 0.06589837901874146, 0.954861255359294, 0.8118933896481741, 0.16797794268582913, 0.9339183757151082, 0.21811421410779883, 0.6543426423233965, 0.10905710705389941, 0.886191112063101, 0.5035854857088095, 0.03873734505452381, 0.30989876043619047, 0.14203693186658728, 0.9452197174673548, 0.9393027491116059, 0.954861255359294, 0.2651318126324312, 0.4820578411498749, 0.2169260285174437, 0.024102892057493743, 0.38716284958604774, 0.10099900423983854, 0.3703296822127413, 0.1346653389864514, 0.4677454518887531, 0.4677454518887531, 0.05197171687652812, 0.10650528750512794, 0.8520423000410235, 0.9645679367527108, 0.13306305590091158, 0.7983783354054694, 0.028310428248256917, 0.3208515201469117, 0.47184047080428193, 0.17929937890562714, 0.19339095264047018, 0.7735638105618807, 0.7189298340182397, 0.2588147402465663, 0.9666965285389139, 0.9841270381410108, 0.9549870425909762, 0.4445000621433998, 0.10257693741770765, 0.2735384997805537, 0.1880577185991307, 0.8298715525668662, 0.11855307893812374, 0.06793596236907433, 0.5434876989525946, 0.29438917026598876, 0.09058128315876578, 0.9326200846702031, 0.758589379603183, 0.2107192721119953, 0.4063504384715707, 0.21880408225392267, 0.375092712435296, 0.40239328346565856, 0.128034226557255, 0.2377778493206164, 0.21948724552672283, 0.9664378012885776, 0.9771671512430113, 0.9818144426969072, 0.05326126255748964, 0.6036276423182159, 0.1775375418582988, 0.1775375418582988, 0.9544006231931212, 0.5804619718712587, 0.08126467606197622, 0.30184022537305455, 0.034827718312275525, 0.9690804001287396, 0.9326962131581727, 0.8298418345512935, 0.11854883350732764, 0.8155325712842085, 0.10379505452708108, 0.08896718959464092, 0.831876057909329, 0.16637521158186577, 0.14504087072804034, 0.5318165260028146, 0.12086739227336694, 0.16921434918271372, 0.9407887929907701, 0.04090386056481609, 0.9782958132700815, 0.9455641470052745, 0.08880910974492606, 0.7992819877043346, 0.6840702039223159, 0.19952047614400878, 0.028502925163429827, 0.08550877549028948, 0.2993502197848791, 0.10885462537631965, 0.5306662987095584, 0.0680341408601998, 0.3149578511178401, 0.4724367766767601, 0.2004277234386255, 0.5814496976930248, 0.30149243584082763, 0.08614069595452219, 0.9627339616132238, 0.34617291294042896, 0.1546730036542342, 0.41982672420434997, 0.08101919239031316, 0.9452166735257317, 0.5673734120983702, 0.1547382032995555, 0.10315880219970368, 0.18052790384948142, 0.9135631764188749, 0.19499402005389369, 0.7799760802155747, 0.694389037731164, 0.2155000461924302, 0.07183334873081007, 0.5361449611782694, 0.23828664941256417, 0.10425040911799682, 0.11914332470628208, 0.5551125191613637, 0.14062850485421216, 0.06661350229936365, 0.2368480081755152, 0.9339034857358202, 0.15244188726167554, 0.18293026471401064, 0.24390701961868083, 0.42683728433269147, 0.9304421405739629, 0.2544009385882976, 0.6784025029021269, 0.04240015643138293, 0.21988167309670376, 0.7695858558384632, 0.2970889512849348, 0.6790604600798509, 0.5948529166760086, 0.40700462719937436, 0.9570317169088023, 0.7985852336000333, 0.1330975389333389, 0.9548901996384722, 0.9570258299365207, 0.02310569436442947, 0.9704391633060376, 0.9763113997792653, 0.19389540381101267, 0.25852720508135024, 0.09694770190550633, 0.4524226088923629, 0.9544057871551654, 0.3804699399560708, 0.6087519039297132, 0.9224997172557425, 0.0709615167119802, 0.8183761607460545, 0.07794058673771947, 0.03897029336885974, 0.03897029336885974, 0.07594828707698303, 0.6835345836928473, 0.2278448612309491, 0.9569999398501277, 0.8701278351023817, 0.0966808705669313, 0.43604422525754605, 0.4521940113781959, 0.11304850284454898, 0.09042798083873581, 0.7686378371292544, 0.11303497604841976, 0.022606995209683952, 0.10081473498328615, 0.6140533858072884, 0.24745434950442965, 0.03665990363028587, 0.9451216127784217, 0.9326488363074142, 0.21312473186066044, 0.7876348786154843, 0.9862118451305085, 0.1557189939311481, 0.29197311362090267, 0.5450164787590184, 0.6513250577458842, 0.14802842221497367, 0.17763410665796842], \"Term\": [\"12\", \"12\", \"19\", \"19\", \"2000 mules\", \"25\", \"altro\", \"altro\", \"altro\", \"altro\", \"america\", \"america\", \"america\", \"ancora\", \"ancora\", \"ancora\", \"ancora\", \"anni\", \"anni\", \"anni\", \"anni\", \"anticorpi\", \"anticorpi\", \"aper\", \"aper\", \"arrivando\", \"arrivando\", \"attenzione\", \"attenzione\", \"avanti\", \"avanti\", \"avanti tutta\", \"aver\", \"aver\", \"aver\", \"aver\", \"avversi\", \"avversi\", \"bambini\", \"bambini\", \"banca\", \"basta\", \"bene\", \"bene\", \"bene\", \"bene\", \"bianca\", \"biden\", \"biden\", \"biontech\", \"bnt162b2\", \"bufala\", \"campagna\", \"campagna\", \"campagna\", \"cancro\", \"capo\", \"capo\", \"capo\", \"casa\", \"casa\", \"casa bianca\", \"casi\", \"casi\", \"casi\", \"casi\", \"censura\", \"censura\", \"civili\", \"ci\\u00f2\", \"ci\\u00f2\", \"ci\\u00f2\", \"clinton\", \"colpa\", \"condividi\", \"conoscenza\", \"consenso\", \"cosa\", \"cosa\", \"cosa\", \"cosa\", \"cos\\u00ec\", \"cos\\u00ec\", \"cos\\u00ec\", \"cos\\u00ec\", \"cov\", \"covid\", \"covid\", \"covid\", \"covid 19\", \"cupola\", \"dati\", \"dati\", \"dati\", \"de\", \"deep\", \"deep state\", \"democratici\", \"democratici\", \"detto\", \"detto\", \"detto\", \"diritti\", \"distruggere\", \"distrutta\", \"distrutta condividi\", \"dittatura\", \"dittatura\", \"dittatura\", \"dittatura\", \"dittatura distrutta\", \"documenti\", \"documenti\", \"donald\", \"donald trump\", \"dopo\", \"dopo\", \"dopo\", \"dopo\", \"dose\", \"dose\", \"dose\", \"draghi\", \"draghi\", \"draghi\", \"due\", \"due\", \"due\", \"due\", \"durham\", \"ecco\", \"ecco\", \"ecco\", \"ecco\", \"effetti\", \"effetti\", \"efficaci\", \"efficacia\", \"elezioni\", \"elezioni\", \"esempio\", \"essere\", \"essere\", \"essere\", \"essere\", \"eventi avversi\", \"eventi avversi\", \"fa\", \"fa\", \"fa\", \"fa\", \"fare\", \"fare\", \"fare\", \"fare\", \"fatto\", \"fatto\", \"fatto\", \"fbi\", \"fbi\", \"femmine\", \"femminista\", \"film\", \"finch\\u00e9\", \"finch\\u00e9 dittatura\", \"finita\", \"fornire\", \"forze\", \"forze\", \"free\", \"free vax\", \"frode\", \"generale\", \"giorni\", \"giorni\", \"giorni\", \"giorno\", \"giorno\", \"giovani\", \"giovani\", \"gi\\u00e0\", \"gi\\u00e0\", \"gi\\u00e0\", \"gi\\u00e0\", \"governo\", \"governo\", \"governo\", \"governo\", \"green\", \"green\", \"green pass\", \"green pass\", \"guerra\", \"guerra\", \"guerra\", \"hillary\", \"hillary clinton\", \"hunter\", \"hunter biden\", \"indagine\", \"infezione\", \"infezione\", \"infezione\", \"invece\", \"invece\", \"invece\", \"istituzioni\", \"italia\", \"italia\", \"italia\", \"italia\", \"lago\", \"leggi\", \"lockdown\", \"luce\", \"lungo\", \"lungo\", \"lungo\", \"lungo termine\", \"lungo termine\", \"mar\", \"mascherine\", \"molto\", \"molto\", \"molto\", \"molto\", \"mondiale\", \"mondiale\", \"mondiale\", \"mondo\", \"mondo\", \"mondo\", \"mondo\", \"morti\", \"morti\", \"motivo\", \"motivo\", \"motivo\", \"mrna\", \"mules\", \"nasa\", \"nato\", \"nato\", \"nazione\", \"neppure\", \"no\", \"no\", \"no\", \"no vax\", \"nome\", \"nota\", \"nuovo\", \"nuovo\", \"nuovo\", \"nuovo\", \"nuovo ordine\", \"obbligo\", \"obbligo\", \"occhi\", \"ogni\", \"ogni\", \"ogni\", \"omicron\", \"ora\", \"ora\", \"ora\", \"ora\", \"orbita\", \"ordine\", \"ordine mondiale\", \"pandemia\", \"pandemia\", \"pandemia\", \"pandemia\", \"parte\", \"parte\", \"parte\", \"parte\", \"pass\", \"pass\", \"pass\", \"peggio\", \"peggio\", \"perche\", \"pericolo\", \"pericolo\", \"persone\", \"persone\", \"persone\", \"persone\", \"pertanto\", \"pertanto\", \"pfizer\", \"pfizer\", \"piatta\", \"piu\", \"po\", \"poi\", \"poi\", \"poi\", \"poi\", \"possa\", \"possa\", \"possono\", \"possono\", \"possono\", \"possono\", \"possono fare\", \"potere\", \"potere\", \"presidente\", \"presidente\", \"presidente\", \"prima\", \"prima\", \"prima\", \"prima\", \"puoi\", \"pure\", \"putin\", \"pu\\u00f2\", \"pu\\u00f2\", \"pu\\u00f2\", \"pu\\u00f2\", \"qanon\", \"quando\", \"quando\", \"quando\", \"quando\", \"regina\", \"religione\", \"roma\", \"roma\", \"russia\", \"russia\", \"russia\", \"russo\", \"russo\", \"salute\", \"salute\", \"salute\", \"salute\", \"sars\", \"sars\", \"sars cov\", \"scritto\", \"seconda\", \"seconda\", \"secondo\", \"secondo\", \"secondo\", \"secondo\", \"sempre\", \"sempre\", \"sempre\", \"sempre\", \"senza\", \"senza\", \"senza\", \"sieri\", \"sieri\", \"sieri\", \"sinistra\", \"solo\", \"solo\", \"solo\", \"solo\", \"sorveglianza\", \"sotto\", \"sotto\", \"sotto\", \"sotto\", \"spazio\", \"spiega\", \"spiega\", \"state\", \"state\", \"state\", \"stati\", \"stati\", \"stati\", \"stati\", \"stato\", \"stato\", \"stato\", \"stato\", \"statunitensi\", \"stesso\", \"stesso\", \"stesso\", \"stesso\", \"studi\", \"studio\", \"studio\", \"studio\", \"tanto\", \"tanto\", \"termine\", \"termine\", \"terra\", \"terra\", \"terra piatta\", \"test\", \"test\", \"traduzione\", \"trasmissione\", \"trump\", \"trump\", \"truth\", \"tutta\", \"tutta\", \"tutta\", \"tutta\", \"tutta finch\\u00e9\", \"twitter\", \"twitter\", \"ucraina\", \"ucraina\", \"ue\", \"ue\", \"ue\", \"ue\", \"vaccinale\", \"vaccinale\", \"vaccinale\", \"vaccinali\", \"vaccinate\", \"vaccinate\", \"vaccinati\", \"vaccinati\", \"vaccinati\", \"vaccinazione\", \"vaccinazione\", \"vaccinazione\", \"vaccinazione\", \"vaccini\", \"vaccini\", \"vaccini\", \"vaccini\", \"vaccini covid\", \"vaccini mrna\", \"vaccino\", \"vaccino\", \"vax\", \"video\", \"video\", \"video\", \"virus\", \"virus\", \"virus\"]}, \"R\": 30, \"lambda.step\": 0.01, \"plot.opts\": {\"xlab\": \"PC1\", \"ylab\": \"PC2\"}, \"topic.order\": [2, 4, 1, 3]};\n",
              "\n",
              "function LDAvis_load_lib(url, callback){\n",
              "  var s = document.createElement('script');\n",
              "  s.src = url;\n",
              "  s.async = true;\n",
              "  s.onreadystatechange = s.onload = callback;\n",
              "  s.onerror = function(){console.warn(\"failed to load library \" + url);};\n",
              "  document.getElementsByTagName(\"head\")[0].appendChild(s);\n",
              "}\n",
              "\n",
              "if(typeof(LDAvis) !== \"undefined\"){\n",
              "   // already loaded: just create the visualization\n",
              "   !function(LDAvis){\n",
              "       new LDAvis(\"#\" + \"ldavis_el14811393132437157608521038877\", ldavis_el14811393132437157608521038877_data);\n",
              "   }(LDAvis);\n",
              "}else if(typeof define === \"function\" && define.amd){\n",
              "   // require.js is available: use it to load d3/LDAvis\n",
              "   require.config({paths: {d3: \"https://d3js.org/d3.v5\"}});\n",
              "   require([\"d3\"], function(d3){\n",
              "      window.d3 = d3;\n",
              "      LDAvis_load_lib(\"https://cdn.jsdelivr.net/gh/bmabey/pyLDAvis@3.4.0/pyLDAvis/js/ldavis.v3.0.0.js\", function(){\n",
              "        new LDAvis(\"#\" + \"ldavis_el14811393132437157608521038877\", ldavis_el14811393132437157608521038877_data);\n",
              "      });\n",
              "    });\n",
              "}else{\n",
              "    // require.js not available: dynamically load d3 & LDAvis\n",
              "    LDAvis_load_lib(\"https://d3js.org/d3.v5.js\", function(){\n",
              "         LDAvis_load_lib(\"https://cdn.jsdelivr.net/gh/bmabey/pyLDAvis@3.4.0/pyLDAvis/js/ldavis.v3.0.0.js\", function(){\n",
              "                 new LDAvis(\"#\" + \"ldavis_el14811393132437157608521038877\", ldavis_el14811393132437157608521038877_data);\n",
              "            })\n",
              "         });\n",
              "}\n",
              "</script>"
            ]
          },
          "metadata": {},
          "execution_count": 48
        }
      ]
    }
  ]
}