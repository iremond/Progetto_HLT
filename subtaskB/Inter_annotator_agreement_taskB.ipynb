{
  "nbformat": 4,
  "nbformat_minor": 0,
  "metadata": {
    "colab": {
      "provenance": []
    },
    "kernelspec": {
      "name": "python3",
      "display_name": "Python 3"
    },
    "language_info": {
      "name": "python"
    }
  },
  "cells": [
    {
      "cell_type": "code",
      "execution_count": 1,
      "metadata": {
        "id": "a-guIcIzLRbH"
      },
      "outputs": [],
      "source": [
        "import pandas as pd\n",
        "import numpy as np"
      ]
    },
    {
      "cell_type": "code",
      "source": [
        "df1 = pd.read_csv('SubtaskB_test_Ire.csv').drop(columns=['Id']).rename(columns={'topic': 'Annotator_1'})\n",
        "df2 = pd.read_csv('subtaskB_test_marti.csv').drop(columns=['Id']).rename(columns={'conspiracy': 'Annotator_2'})\n",
        "df3 = pd.read_csv('subtaskB_clean_test_cased_labeled_Elena.csv', sep=';').rename(columns={'label': 'Annotator_3'})"
      ],
      "metadata": {
        "id": "InA0Z_a_LXiB"
      },
      "execution_count": 2,
      "outputs": []
    },
    {
      "cell_type": "markdown",
      "source": [
        "## aligning"
      ],
      "metadata": {
        "id": "nWwXGMXlz1y2"
      }
    },
    {
      "cell_type": "code",
      "source": [
        "df1 = df1.fillna('Covid')\n",
        "df1['Annotator_1'].unique()"
      ],
      "metadata": {
        "colab": {
          "base_uri": "https://localhost:8080/"
        },
        "id": "Mbh5qEIJXF4E",
        "outputId": "5e786937-3217-4e51-8570-2c1b876a5ff1"
      },
      "execution_count": 5,
      "outputs": [
        {
          "output_type": "execute_result",
          "data": {
            "text/plain": [
              "array(['Terra Piatta', 'Covid', 'Russia', 'Qanon', '???', 'Russia/UFO?',\n",
              "       'Terra Piatta/sbarco sulla luna???', 'Covid???', '??? UFO?',\n",
              "       'Russia???', '???UFO', 'UFO???', 'Qanon???'], dtype=object)"
            ]
          },
          "metadata": {},
          "execution_count": 5
        }
      ]
    },
    {
      "cell_type": "code",
      "source": [
        "df2['Annotator_2'].unique()"
      ],
      "metadata": {
        "colab": {
          "base_uri": "https://localhost:8080/"
        },
        "id": "dsZ1fjPwcczg",
        "outputId": "f8f45f93-0d8a-4232-cfd1-a5da16e2f0b0"
      },
      "execution_count": 6,
      "outputs": [
        {
          "output_type": "execute_result",
          "data": {
            "text/plain": [
              "array(['Terra Piatta', 'Covid', 'Russia', 'Qanon'], dtype=object)"
            ]
          },
          "metadata": {},
          "execution_count": 6
        }
      ]
    },
    {
      "cell_type": "code",
      "source": [
        "df3['Annotator_3'].unique()"
      ],
      "metadata": {
        "colab": {
          "base_uri": "https://localhost:8080/"
        },
        "id": "zEoJuABwcdHB",
        "outputId": "98bf6f2d-d9db-46ad-f772-97132da08710"
      },
      "execution_count": 7,
      "outputs": [
        {
          "output_type": "execute_result",
          "data": {
            "text/plain": [
              "array([3, 1, 2, 0, 4])"
            ]
          },
          "metadata": {},
          "execution_count": 7
        }
      ]
    },
    {
      "cell_type": "code",
      "source": [
        "df3.query('Annotator_3 == 4')"
      ],
      "metadata": {
        "colab": {
          "base_uri": "https://localhost:8080/",
          "height": 206
        },
        "id": "PKJmrFcZb1mx",
        "outputId": "54f188fe-fdb6-4018-d7a3-9b36a25f16e0"
      },
      "execution_count": 74,
      "outputs": [
        {
          "output_type": "execute_result",
          "data": {
            "text/plain": [
              "                                          comment_text  Annotator_3\n",
              "152  Incubo alimentari: in Germania aumenti fino al...            4\n",
              "187  In Canada è in corso da due giorni una movimen...            4\n",
              "191  Ora ho visto che qualcuno ediuca si accorge.. ...            4\n",
              "242  Se è così che si vota , in modo chiaro e limpi...            4\n",
              "268  ( Sieni   TUTTO  LUE stringe le maglie sulla l...            4"
            ],
            "text/html": [
              "\n",
              "  <div id=\"df-dfbfb836-5a51-4936-af37-28baa02659a7\" class=\"colab-df-container\">\n",
              "    <div>\n",
              "<style scoped>\n",
              "    .dataframe tbody tr th:only-of-type {\n",
              "        vertical-align: middle;\n",
              "    }\n",
              "\n",
              "    .dataframe tbody tr th {\n",
              "        vertical-align: top;\n",
              "    }\n",
              "\n",
              "    .dataframe thead th {\n",
              "        text-align: right;\n",
              "    }\n",
              "</style>\n",
              "<table border=\"1\" class=\"dataframe\">\n",
              "  <thead>\n",
              "    <tr style=\"text-align: right;\">\n",
              "      <th></th>\n",
              "      <th>comment_text</th>\n",
              "      <th>Annotator_3</th>\n",
              "    </tr>\n",
              "  </thead>\n",
              "  <tbody>\n",
              "    <tr>\n",
              "      <th>152</th>\n",
              "      <td>Incubo alimentari: in Germania aumenti fino al...</td>\n",
              "      <td>4</td>\n",
              "    </tr>\n",
              "    <tr>\n",
              "      <th>187</th>\n",
              "      <td>In Canada è in corso da due giorni una movimen...</td>\n",
              "      <td>4</td>\n",
              "    </tr>\n",
              "    <tr>\n",
              "      <th>191</th>\n",
              "      <td>Ora ho visto che qualcuno ediuca si accorge.. ...</td>\n",
              "      <td>4</td>\n",
              "    </tr>\n",
              "    <tr>\n",
              "      <th>242</th>\n",
              "      <td>Se è così che si vota , in modo chiaro e limpi...</td>\n",
              "      <td>4</td>\n",
              "    </tr>\n",
              "    <tr>\n",
              "      <th>268</th>\n",
              "      <td>( Sieni   TUTTO  LUE stringe le maglie sulla l...</td>\n",
              "      <td>4</td>\n",
              "    </tr>\n",
              "  </tbody>\n",
              "</table>\n",
              "</div>\n",
              "    <div class=\"colab-df-buttons\">\n",
              "\n",
              "  <div class=\"colab-df-container\">\n",
              "    <button class=\"colab-df-convert\" onclick=\"convertToInteractive('df-dfbfb836-5a51-4936-af37-28baa02659a7')\"\n",
              "            title=\"Convert this dataframe to an interactive table.\"\n",
              "            style=\"display:none;\">\n",
              "\n",
              "  <svg xmlns=\"http://www.w3.org/2000/svg\" height=\"24px\" viewBox=\"0 -960 960 960\">\n",
              "    <path d=\"M120-120v-720h720v720H120Zm60-500h600v-160H180v160Zm220 220h160v-160H400v160Zm0 220h160v-160H400v160ZM180-400h160v-160H180v160Zm440 0h160v-160H620v160ZM180-180h160v-160H180v160Zm440 0h160v-160H620v160Z\"/>\n",
              "  </svg>\n",
              "    </button>\n",
              "\n",
              "  <style>\n",
              "    .colab-df-container {\n",
              "      display:flex;\n",
              "      gap: 12px;\n",
              "    }\n",
              "\n",
              "    .colab-df-convert {\n",
              "      background-color: #E8F0FE;\n",
              "      border: none;\n",
              "      border-radius: 50%;\n",
              "      cursor: pointer;\n",
              "      display: none;\n",
              "      fill: #1967D2;\n",
              "      height: 32px;\n",
              "      padding: 0 0 0 0;\n",
              "      width: 32px;\n",
              "    }\n",
              "\n",
              "    .colab-df-convert:hover {\n",
              "      background-color: #E2EBFA;\n",
              "      box-shadow: 0px 1px 2px rgba(60, 64, 67, 0.3), 0px 1px 3px 1px rgba(60, 64, 67, 0.15);\n",
              "      fill: #174EA6;\n",
              "    }\n",
              "\n",
              "    .colab-df-buttons div {\n",
              "      margin-bottom: 4px;\n",
              "    }\n",
              "\n",
              "    [theme=dark] .colab-df-convert {\n",
              "      background-color: #3B4455;\n",
              "      fill: #D2E3FC;\n",
              "    }\n",
              "\n",
              "    [theme=dark] .colab-df-convert:hover {\n",
              "      background-color: #434B5C;\n",
              "      box-shadow: 0px 1px 3px 1px rgba(0, 0, 0, 0.15);\n",
              "      filter: drop-shadow(0px 1px 2px rgba(0, 0, 0, 0.3));\n",
              "      fill: #FFFFFF;\n",
              "    }\n",
              "  </style>\n",
              "\n",
              "    <script>\n",
              "      const buttonEl =\n",
              "        document.querySelector('#df-dfbfb836-5a51-4936-af37-28baa02659a7 button.colab-df-convert');\n",
              "      buttonEl.style.display =\n",
              "        google.colab.kernel.accessAllowed ? 'block' : 'none';\n",
              "\n",
              "      async function convertToInteractive(key) {\n",
              "        const element = document.querySelector('#df-dfbfb836-5a51-4936-af37-28baa02659a7');\n",
              "        const dataTable =\n",
              "          await google.colab.kernel.invokeFunction('convertToInteractive',\n",
              "                                                    [key], {});\n",
              "        if (!dataTable) return;\n",
              "\n",
              "        const docLinkHtml = 'Like what you see? Visit the ' +\n",
              "          '<a target=\"_blank\" href=https://colab.research.google.com/notebooks/data_table.ipynb>data table notebook</a>'\n",
              "          + ' to learn more about interactive tables.';\n",
              "        element.innerHTML = '';\n",
              "        dataTable['output_type'] = 'display_data';\n",
              "        await google.colab.output.renderOutput(dataTable, element);\n",
              "        const docLink = document.createElement('div');\n",
              "        docLink.innerHTML = docLinkHtml;\n",
              "        element.appendChild(docLink);\n",
              "      }\n",
              "    </script>\n",
              "  </div>\n",
              "\n",
              "\n",
              "<div id=\"df-abb05275-2d4d-4e93-8062-c49a375a05e2\">\n",
              "  <button class=\"colab-df-quickchart\" onclick=\"quickchart('df-abb05275-2d4d-4e93-8062-c49a375a05e2')\"\n",
              "            title=\"Suggest charts.\"\n",
              "            style=\"display:none;\">\n",
              "\n",
              "<svg xmlns=\"http://www.w3.org/2000/svg\" height=\"24px\"viewBox=\"0 0 24 24\"\n",
              "     width=\"24px\">\n",
              "    <g>\n",
              "        <path d=\"M19 3H5c-1.1 0-2 .9-2 2v14c0 1.1.9 2 2 2h14c1.1 0 2-.9 2-2V5c0-1.1-.9-2-2-2zM9 17H7v-7h2v7zm4 0h-2V7h2v10zm4 0h-2v-4h2v4z\"/>\n",
              "    </g>\n",
              "</svg>\n",
              "  </button>\n",
              "\n",
              "<style>\n",
              "  .colab-df-quickchart {\n",
              "    background-color: #E8F0FE;\n",
              "    border: none;\n",
              "    border-radius: 50%;\n",
              "    cursor: pointer;\n",
              "    display: none;\n",
              "    fill: #1967D2;\n",
              "    height: 32px;\n",
              "    padding: 0 0 0 0;\n",
              "    width: 32px;\n",
              "  }\n",
              "\n",
              "  .colab-df-quickchart:hover {\n",
              "    background-color: #E2EBFA;\n",
              "    box-shadow: 0px 1px 2px rgba(60, 64, 67, 0.3), 0px 1px 3px 1px rgba(60, 64, 67, 0.15);\n",
              "    fill: #174EA6;\n",
              "  }\n",
              "\n",
              "  [theme=dark] .colab-df-quickchart {\n",
              "    background-color: #3B4455;\n",
              "    fill: #D2E3FC;\n",
              "  }\n",
              "\n",
              "  [theme=dark] .colab-df-quickchart:hover {\n",
              "    background-color: #434B5C;\n",
              "    box-shadow: 0px 1px 3px 1px rgba(0, 0, 0, 0.15);\n",
              "    filter: drop-shadow(0px 1px 2px rgba(0, 0, 0, 0.3));\n",
              "    fill: #FFFFFF;\n",
              "  }\n",
              "</style>\n",
              "\n",
              "  <script>\n",
              "    async function quickchart(key) {\n",
              "      const charts = await google.colab.kernel.invokeFunction(\n",
              "          'suggestCharts', [key], {});\n",
              "    }\n",
              "    (() => {\n",
              "      let quickchartButtonEl =\n",
              "        document.querySelector('#df-abb05275-2d4d-4e93-8062-c49a375a05e2 button');\n",
              "      quickchartButtonEl.style.display =\n",
              "        google.colab.kernel.accessAllowed ? 'block' : 'none';\n",
              "    })();\n",
              "  </script>\n",
              "</div>\n",
              "    </div>\n",
              "  </div>\n"
            ]
          },
          "metadata": {},
          "execution_count": 74
        }
      ]
    },
    {
      "cell_type": "code",
      "source": [
        "for i, row in df1.iterrows():\n",
        "  if row['Annotator_1'] == '???':\n",
        "    df1.loc[i, 'Annotator_1'] = 'Covid'\n",
        "  elif row['Annotator_1'] == 'Russia/UFO?' or row['Annotator_1'] == 'Russia???':\n",
        "    df1.loc[i, 'Annotator_1'] = 'Russia'\n",
        "\n",
        "  elif row['Annotator_1'] == 'Terra Piatta/sbarco sulla luna???':\n",
        "    df1.loc[i, 'Annotator_1'] = 'Terra Piatta'\n",
        "\n",
        "  elif row['Annotator_1'] == 'Qanon???':\n",
        "    df1.loc[i, 'Annotator_1'] = 'Qanon'\n",
        "\n",
        "  elif row['Annotator_1'] == 'Covid???':\n",
        "    df1.loc[i, 'Annotator_1'] = 'Covid'\n",
        "\n",
        "  elif row['Annotator_1'] == '??? UFO?' or row['Annotator_1'] == 'UFO???' or row['Annotator_1'] == '???UFO':\n",
        "    df1.loc[i, 'Annotator_1'] = 'Terra Piatta'\n",
        "\n",
        "for i, row in df3.iterrows():\n",
        "    if row['Annotator_3'] == 4:\n",
        "      df3.loc[i, 'Annotator_3'] = 0"
      ],
      "metadata": {
        "id": "nkOHAVwRdHJ5"
      },
      "execution_count": 8,
      "outputs": []
    },
    {
      "cell_type": "code",
      "source": [
        "np.unique(df3['Annotator_3'], return_counts=True)"
      ],
      "metadata": {
        "colab": {
          "base_uri": "https://localhost:8080/"
        },
        "id": "futxMHvVfXgn",
        "outputId": "3aedc0ca-05ec-4b12-bd68-4b5d0c2c8009"
      },
      "execution_count": 87,
      "outputs": [
        {
          "output_type": "execute_result",
          "data": {
            "text/plain": [
              "(array([0, 1, 2, 3]), array([ 76, 162,  22,  40]))"
            ]
          },
          "metadata": {},
          "execution_count": 87
        }
      ]
    },
    {
      "cell_type": "code",
      "source": [
        "df1['Annotator_1'].unique()"
      ],
      "metadata": {
        "colab": {
          "base_uri": "https://localhost:8080/"
        },
        "id": "eObX5GdR15UP",
        "outputId": "ccc8f3c7-4b2e-4d78-e2af-4ed841dc5d62"
      },
      "execution_count": 9,
      "outputs": [
        {
          "output_type": "execute_result",
          "data": {
            "text/plain": [
              "array(['Terra Piatta', 'Covid', 'Russia', 'Qanon'], dtype=object)"
            ]
          },
          "metadata": {},
          "execution_count": 9
        }
      ]
    },
    {
      "cell_type": "code",
      "source": [
        "def encode(df, col, label_dict):\n",
        "  for i,row in df.iterrows():\n",
        "    val = label_dict[row[col]]\n",
        "    df.loc[i, col] = val\n",
        "  return df\n"
      ],
      "metadata": {
        "id": "8rYyS6JwVyS8"
      },
      "execution_count": 10,
      "outputs": []
    },
    {
      "cell_type": "code",
      "source": [
        "df1.info()"
      ],
      "metadata": {
        "colab": {
          "base_uri": "https://localhost:8080/"
        },
        "id": "HWnCdKldh1cP",
        "outputId": "6833d91e-2b57-4096-ff2b-0f09c83053ac"
      },
      "execution_count": 11,
      "outputs": [
        {
          "output_type": "stream",
          "name": "stdout",
          "text": [
            "<class 'pandas.core.frame.DataFrame'>\n",
            "RangeIndex: 300 entries, 0 to 299\n",
            "Data columns (total 2 columns):\n",
            " #   Column        Non-Null Count  Dtype \n",
            "---  ------        --------------  ----- \n",
            " 0   comment_text  300 non-null    object\n",
            " 1   Annotator_1   300 non-null    object\n",
            "dtypes: object(2)\n",
            "memory usage: 4.8+ KB\n"
          ]
        }
      ]
    },
    {
      "cell_type": "code",
      "source": [
        " label2id = {\n",
        "    \"Qanon\": 0,\n",
        "    \"Covid\": 1,\n",
        "    \"Terra Piatta\": 2,\n",
        "    \"Russia\": 3\n",
        "}"
      ],
      "metadata": {
        "id": "HzrdEFUa2GFj"
      },
      "execution_count": 13,
      "outputs": []
    },
    {
      "cell_type": "code",
      "source": [
        "for i,row in df1.iterrows():\n",
        "    val = label2id[row['Annotator_1']]\n",
        "    df1.loc[i, 'Annotator_1'] = val"
      ],
      "metadata": {
        "id": "7DrEwxkD2CaR"
      },
      "execution_count": 15,
      "outputs": []
    },
    {
      "cell_type": "code",
      "source": [
        "df2 = encode(df2, 'Annotator_2', label2id)"
      ],
      "metadata": {
        "id": "4ppDcv0DWauP"
      },
      "execution_count": 17,
      "outputs": []
    },
    {
      "cell_type": "code",
      "source": [
        "df1['Annotator_1'].unique()"
      ],
      "metadata": {
        "colab": {
          "base_uri": "https://localhost:8080/"
        },
        "id": "6MUrfr5w2Y7x",
        "outputId": "54a9030d-f522-485e-9fe4-29db38b9bba6"
      },
      "execution_count": 18,
      "outputs": [
        {
          "output_type": "execute_result",
          "data": {
            "text/plain": [
              "array([2, 1, 3, 0], dtype=object)"
            ]
          },
          "metadata": {},
          "execution_count": 18
        }
      ]
    },
    {
      "cell_type": "code",
      "source": [
        "df2['Annotator_2'].unique()"
      ],
      "metadata": {
        "colab": {
          "base_uri": "https://localhost:8080/"
        },
        "id": "1mBmHdpzLjJ6",
        "outputId": "093a29de-0311-4d22-b6a2-2885c1be48f2"
      },
      "execution_count": 19,
      "outputs": [
        {
          "output_type": "execute_result",
          "data": {
            "text/plain": [
              "array([2, 1, 3, 0], dtype=object)"
            ]
          },
          "metadata": {},
          "execution_count": 19
        }
      ]
    },
    {
      "cell_type": "code",
      "source": [
        "df = df1.copy()\n",
        "df['Annotator_2'] = df2['Annotator_2']\n",
        "df['Annotator_3'] = df3['Annotator_3']"
      ],
      "metadata": {
        "id": "-RDuFIxIu_CZ"
      },
      "execution_count": 20,
      "outputs": []
    },
    {
      "cell_type": "code",
      "source": [
        "df.head()"
      ],
      "metadata": {
        "colab": {
          "base_uri": "https://localhost:8080/",
          "height": 206
        },
        "id": "2nYzWV1uvXDu",
        "outputId": "31ff54fa-a8e5-42ef-8df5-9a4c17a6fdf7"
      },
      "execution_count": 21,
      "outputs": [
        {
          "output_type": "execute_result",
          "data": {
            "text/plain": [
              "                                        comment_text Annotator_1 Annotator_2  \\\n",
              "0  Ho fatto delle foto aeree ad una quota di circ...           2           2   \n",
              "1  Prof. Bellavite: tantissime persone costrette ...           1           1   \n",
              "2    Ma si allontana....  su una terra PIATTA,......           2           2   \n",
              "3  Non tutti gli Ukraini sono contro la Russia.\\n...           3           3   \n",
              "4  Non opinioni ma dati.\\n\\nUno strepitoso **Giov...           1           1   \n",
              "\n",
              "   Annotator_3  \n",
              "0            3  \n",
              "1            1  \n",
              "2            3  \n",
              "3            2  \n",
              "4            1  "
            ],
            "text/html": [
              "\n",
              "  <div id=\"df-f86d031b-edc3-45bb-91aa-f15073807212\" class=\"colab-df-container\">\n",
              "    <div>\n",
              "<style scoped>\n",
              "    .dataframe tbody tr th:only-of-type {\n",
              "        vertical-align: middle;\n",
              "    }\n",
              "\n",
              "    .dataframe tbody tr th {\n",
              "        vertical-align: top;\n",
              "    }\n",
              "\n",
              "    .dataframe thead th {\n",
              "        text-align: right;\n",
              "    }\n",
              "</style>\n",
              "<table border=\"1\" class=\"dataframe\">\n",
              "  <thead>\n",
              "    <tr style=\"text-align: right;\">\n",
              "      <th></th>\n",
              "      <th>comment_text</th>\n",
              "      <th>Annotator_1</th>\n",
              "      <th>Annotator_2</th>\n",
              "      <th>Annotator_3</th>\n",
              "    </tr>\n",
              "  </thead>\n",
              "  <tbody>\n",
              "    <tr>\n",
              "      <th>0</th>\n",
              "      <td>Ho fatto delle foto aeree ad una quota di circ...</td>\n",
              "      <td>2</td>\n",
              "      <td>2</td>\n",
              "      <td>3</td>\n",
              "    </tr>\n",
              "    <tr>\n",
              "      <th>1</th>\n",
              "      <td>Prof. Bellavite: tantissime persone costrette ...</td>\n",
              "      <td>1</td>\n",
              "      <td>1</td>\n",
              "      <td>1</td>\n",
              "    </tr>\n",
              "    <tr>\n",
              "      <th>2</th>\n",
              "      <td>Ma si allontana....  su una terra PIATTA,......</td>\n",
              "      <td>2</td>\n",
              "      <td>2</td>\n",
              "      <td>3</td>\n",
              "    </tr>\n",
              "    <tr>\n",
              "      <th>3</th>\n",
              "      <td>Non tutti gli Ukraini sono contro la Russia.\\n...</td>\n",
              "      <td>3</td>\n",
              "      <td>3</td>\n",
              "      <td>2</td>\n",
              "    </tr>\n",
              "    <tr>\n",
              "      <th>4</th>\n",
              "      <td>Non opinioni ma dati.\\n\\nUno strepitoso **Giov...</td>\n",
              "      <td>1</td>\n",
              "      <td>1</td>\n",
              "      <td>1</td>\n",
              "    </tr>\n",
              "  </tbody>\n",
              "</table>\n",
              "</div>\n",
              "    <div class=\"colab-df-buttons\">\n",
              "\n",
              "  <div class=\"colab-df-container\">\n",
              "    <button class=\"colab-df-convert\" onclick=\"convertToInteractive('df-f86d031b-edc3-45bb-91aa-f15073807212')\"\n",
              "            title=\"Convert this dataframe to an interactive table.\"\n",
              "            style=\"display:none;\">\n",
              "\n",
              "  <svg xmlns=\"http://www.w3.org/2000/svg\" height=\"24px\" viewBox=\"0 -960 960 960\">\n",
              "    <path d=\"M120-120v-720h720v720H120Zm60-500h600v-160H180v160Zm220 220h160v-160H400v160Zm0 220h160v-160H400v160ZM180-400h160v-160H180v160Zm440 0h160v-160H620v160ZM180-180h160v-160H180v160Zm440 0h160v-160H620v160Z\"/>\n",
              "  </svg>\n",
              "    </button>\n",
              "\n",
              "  <style>\n",
              "    .colab-df-container {\n",
              "      display:flex;\n",
              "      gap: 12px;\n",
              "    }\n",
              "\n",
              "    .colab-df-convert {\n",
              "      background-color: #E8F0FE;\n",
              "      border: none;\n",
              "      border-radius: 50%;\n",
              "      cursor: pointer;\n",
              "      display: none;\n",
              "      fill: #1967D2;\n",
              "      height: 32px;\n",
              "      padding: 0 0 0 0;\n",
              "      width: 32px;\n",
              "    }\n",
              "\n",
              "    .colab-df-convert:hover {\n",
              "      background-color: #E2EBFA;\n",
              "      box-shadow: 0px 1px 2px rgba(60, 64, 67, 0.3), 0px 1px 3px 1px rgba(60, 64, 67, 0.15);\n",
              "      fill: #174EA6;\n",
              "    }\n",
              "\n",
              "    .colab-df-buttons div {\n",
              "      margin-bottom: 4px;\n",
              "    }\n",
              "\n",
              "    [theme=dark] .colab-df-convert {\n",
              "      background-color: #3B4455;\n",
              "      fill: #D2E3FC;\n",
              "    }\n",
              "\n",
              "    [theme=dark] .colab-df-convert:hover {\n",
              "      background-color: #434B5C;\n",
              "      box-shadow: 0px 1px 3px 1px rgba(0, 0, 0, 0.15);\n",
              "      filter: drop-shadow(0px 1px 2px rgba(0, 0, 0, 0.3));\n",
              "      fill: #FFFFFF;\n",
              "    }\n",
              "  </style>\n",
              "\n",
              "    <script>\n",
              "      const buttonEl =\n",
              "        document.querySelector('#df-f86d031b-edc3-45bb-91aa-f15073807212 button.colab-df-convert');\n",
              "      buttonEl.style.display =\n",
              "        google.colab.kernel.accessAllowed ? 'block' : 'none';\n",
              "\n",
              "      async function convertToInteractive(key) {\n",
              "        const element = document.querySelector('#df-f86d031b-edc3-45bb-91aa-f15073807212');\n",
              "        const dataTable =\n",
              "          await google.colab.kernel.invokeFunction('convertToInteractive',\n",
              "                                                    [key], {});\n",
              "        if (!dataTable) return;\n",
              "\n",
              "        const docLinkHtml = 'Like what you see? Visit the ' +\n",
              "          '<a target=\"_blank\" href=https://colab.research.google.com/notebooks/data_table.ipynb>data table notebook</a>'\n",
              "          + ' to learn more about interactive tables.';\n",
              "        element.innerHTML = '';\n",
              "        dataTable['output_type'] = 'display_data';\n",
              "        await google.colab.output.renderOutput(dataTable, element);\n",
              "        const docLink = document.createElement('div');\n",
              "        docLink.innerHTML = docLinkHtml;\n",
              "        element.appendChild(docLink);\n",
              "      }\n",
              "    </script>\n",
              "  </div>\n",
              "\n",
              "\n",
              "<div id=\"df-24b54087-dddd-4376-9a37-5d48319c6672\">\n",
              "  <button class=\"colab-df-quickchart\" onclick=\"quickchart('df-24b54087-dddd-4376-9a37-5d48319c6672')\"\n",
              "            title=\"Suggest charts.\"\n",
              "            style=\"display:none;\">\n",
              "\n",
              "<svg xmlns=\"http://www.w3.org/2000/svg\" height=\"24px\"viewBox=\"0 0 24 24\"\n",
              "     width=\"24px\">\n",
              "    <g>\n",
              "        <path d=\"M19 3H5c-1.1 0-2 .9-2 2v14c0 1.1.9 2 2 2h14c1.1 0 2-.9 2-2V5c0-1.1-.9-2-2-2zM9 17H7v-7h2v7zm4 0h-2V7h2v10zm4 0h-2v-4h2v4z\"/>\n",
              "    </g>\n",
              "</svg>\n",
              "  </button>\n",
              "\n",
              "<style>\n",
              "  .colab-df-quickchart {\n",
              "    background-color: #E8F0FE;\n",
              "    border: none;\n",
              "    border-radius: 50%;\n",
              "    cursor: pointer;\n",
              "    display: none;\n",
              "    fill: #1967D2;\n",
              "    height: 32px;\n",
              "    padding: 0 0 0 0;\n",
              "    width: 32px;\n",
              "  }\n",
              "\n",
              "  .colab-df-quickchart:hover {\n",
              "    background-color: #E2EBFA;\n",
              "    box-shadow: 0px 1px 2px rgba(60, 64, 67, 0.3), 0px 1px 3px 1px rgba(60, 64, 67, 0.15);\n",
              "    fill: #174EA6;\n",
              "  }\n",
              "\n",
              "  [theme=dark] .colab-df-quickchart {\n",
              "    background-color: #3B4455;\n",
              "    fill: #D2E3FC;\n",
              "  }\n",
              "\n",
              "  [theme=dark] .colab-df-quickchart:hover {\n",
              "    background-color: #434B5C;\n",
              "    box-shadow: 0px 1px 3px 1px rgba(0, 0, 0, 0.15);\n",
              "    filter: drop-shadow(0px 1px 2px rgba(0, 0, 0, 0.3));\n",
              "    fill: #FFFFFF;\n",
              "  }\n",
              "</style>\n",
              "\n",
              "  <script>\n",
              "    async function quickchart(key) {\n",
              "      const charts = await google.colab.kernel.invokeFunction(\n",
              "          'suggestCharts', [key], {});\n",
              "    }\n",
              "    (() => {\n",
              "      let quickchartButtonEl =\n",
              "        document.querySelector('#df-24b54087-dddd-4376-9a37-5d48319c6672 button');\n",
              "      quickchartButtonEl.style.display =\n",
              "        google.colab.kernel.accessAllowed ? 'block' : 'none';\n",
              "    })();\n",
              "  </script>\n",
              "</div>\n",
              "    </div>\n",
              "  </div>\n"
            ]
          },
          "metadata": {},
          "execution_count": 21
        }
      ]
    },
    {
      "cell_type": "code",
      "source": [
        "df.shape"
      ],
      "metadata": {
        "colab": {
          "base_uri": "https://localhost:8080/"
        },
        "id": "bdMVtGy7LkhZ",
        "outputId": "b1c43478-aec0-4cfc-e292-459ff8762548"
      },
      "execution_count": 22,
      "outputs": [
        {
          "output_type": "execute_result",
          "data": {
            "text/plain": [
              "(300, 4)"
            ]
          },
          "metadata": {},
          "execution_count": 22
        }
      ]
    },
    {
      "cell_type": "code",
      "source": [
        "df.info()"
      ],
      "metadata": {
        "colab": {
          "base_uri": "https://localhost:8080/"
        },
        "id": "xAsyVZnVZHZj",
        "outputId": "5637766d-a8c9-4143-997b-868dfd185b2d"
      },
      "execution_count": 23,
      "outputs": [
        {
          "output_type": "stream",
          "name": "stdout",
          "text": [
            "<class 'pandas.core.frame.DataFrame'>\n",
            "RangeIndex: 300 entries, 0 to 299\n",
            "Data columns (total 4 columns):\n",
            " #   Column        Non-Null Count  Dtype \n",
            "---  ------        --------------  ----- \n",
            " 0   comment_text  300 non-null    object\n",
            " 1   Annotator_1   300 non-null    object\n",
            " 2   Annotator_2   300 non-null    object\n",
            " 3   Annotator_3   300 non-null    int64 \n",
            "dtypes: int64(1), object(3)\n",
            "memory usage: 9.5+ KB\n"
          ]
        }
      ]
    },
    {
      "cell_type": "markdown",
      "source": [
        "## random perturbation (per cotrollare che le funzioni funonziano)\n",
        "\n",
        "non runnare on actual data"
      ],
      "metadata": {
        "id": "iUW6JvI7gtHT"
      }
    },
    {
      "cell_type": "code",
      "source": [
        "# random perturbation (valori legali)\n",
        "for i in range(500):\n",
        "  df.loc[np.random.randint(df.shape[0]+1), 'Annotator_1'] = np.random.randint(0,4, dtype=np.int64)\n",
        "  df.loc[np.random.randint(df.shape[0]+1), 'Annotator_2'] = np.random.randint(0,4, dtype=np.int64)\n",
        "  df.loc[np.random.randint(df.shape[0]+1), 'Annotator_3'] = np.random.randint(0,4, dtype=np.int64)"
      ],
      "metadata": {
        "id": "LXSjholTXLHa"
      },
      "execution_count": 233,
      "outputs": []
    },
    {
      "cell_type": "code",
      "source": [
        "df.head()"
      ],
      "metadata": {
        "colab": {
          "base_uri": "https://localhost:8080/",
          "height": 206
        },
        "id": "UxlNBrSnXe9s",
        "outputId": "314b7b30-27c4-4255-a171-752bab2a9337"
      },
      "execution_count": 234,
      "outputs": [
        {
          "output_type": "execute_result",
          "data": {
            "text/plain": [
              "                                        comment_text  Annotator_1  \\\n",
              "0  Siamo davanti ad una prova, e non solo di quoz...          2.0   \n",
              "1  La storia dei 2 bimbi di Bergamo - vaccini: qu...          0.0   \n",
              "2  L'avete capito che non toglieranno il green pa...          3.0   \n",
              "3  Quindi  la farsa dello spazio e della terra a ...          3.0   \n",
              "4  In breve tempo, per accedere a Internet, sarà ...          1.0   \n",
              "\n",
              "   Annotator_2  Annotator_3  \n",
              "0          1.0          1.0  \n",
              "1          0.0          1.0  \n",
              "2          0.0          1.0  \n",
              "3          3.0          1.0  \n",
              "4          0.0          1.0  "
            ],
            "text/html": [
              "\n",
              "  <div id=\"df-bda4b97c-38b0-4dea-8121-e4127ac1393d\" class=\"colab-df-container\">\n",
              "    <div>\n",
              "<style scoped>\n",
              "    .dataframe tbody tr th:only-of-type {\n",
              "        vertical-align: middle;\n",
              "    }\n",
              "\n",
              "    .dataframe tbody tr th {\n",
              "        vertical-align: top;\n",
              "    }\n",
              "\n",
              "    .dataframe thead th {\n",
              "        text-align: right;\n",
              "    }\n",
              "</style>\n",
              "<table border=\"1\" class=\"dataframe\">\n",
              "  <thead>\n",
              "    <tr style=\"text-align: right;\">\n",
              "      <th></th>\n",
              "      <th>comment_text</th>\n",
              "      <th>Annotator_1</th>\n",
              "      <th>Annotator_2</th>\n",
              "      <th>Annotator_3</th>\n",
              "    </tr>\n",
              "  </thead>\n",
              "  <tbody>\n",
              "    <tr>\n",
              "      <th>0</th>\n",
              "      <td>Siamo davanti ad una prova, e non solo di quoz...</td>\n",
              "      <td>2.0</td>\n",
              "      <td>1.0</td>\n",
              "      <td>1.0</td>\n",
              "    </tr>\n",
              "    <tr>\n",
              "      <th>1</th>\n",
              "      <td>La storia dei 2 bimbi di Bergamo - vaccini: qu...</td>\n",
              "      <td>0.0</td>\n",
              "      <td>0.0</td>\n",
              "      <td>1.0</td>\n",
              "    </tr>\n",
              "    <tr>\n",
              "      <th>2</th>\n",
              "      <td>L'avete capito che non toglieranno il green pa...</td>\n",
              "      <td>3.0</td>\n",
              "      <td>0.0</td>\n",
              "      <td>1.0</td>\n",
              "    </tr>\n",
              "    <tr>\n",
              "      <th>3</th>\n",
              "      <td>Quindi  la farsa dello spazio e della terra a ...</td>\n",
              "      <td>3.0</td>\n",
              "      <td>3.0</td>\n",
              "      <td>1.0</td>\n",
              "    </tr>\n",
              "    <tr>\n",
              "      <th>4</th>\n",
              "      <td>In breve tempo, per accedere a Internet, sarà ...</td>\n",
              "      <td>1.0</td>\n",
              "      <td>0.0</td>\n",
              "      <td>1.0</td>\n",
              "    </tr>\n",
              "  </tbody>\n",
              "</table>\n",
              "</div>\n",
              "    <div class=\"colab-df-buttons\">\n",
              "\n",
              "  <div class=\"colab-df-container\">\n",
              "    <button class=\"colab-df-convert\" onclick=\"convertToInteractive('df-bda4b97c-38b0-4dea-8121-e4127ac1393d')\"\n",
              "            title=\"Convert this dataframe to an interactive table.\"\n",
              "            style=\"display:none;\">\n",
              "\n",
              "  <svg xmlns=\"http://www.w3.org/2000/svg\" height=\"24px\" viewBox=\"0 -960 960 960\">\n",
              "    <path d=\"M120-120v-720h720v720H120Zm60-500h600v-160H180v160Zm220 220h160v-160H400v160Zm0 220h160v-160H400v160ZM180-400h160v-160H180v160Zm440 0h160v-160H620v160ZM180-180h160v-160H180v160Zm440 0h160v-160H620v160Z\"/>\n",
              "  </svg>\n",
              "    </button>\n",
              "\n",
              "  <style>\n",
              "    .colab-df-container {\n",
              "      display:flex;\n",
              "      gap: 12px;\n",
              "    }\n",
              "\n",
              "    .colab-df-convert {\n",
              "      background-color: #E8F0FE;\n",
              "      border: none;\n",
              "      border-radius: 50%;\n",
              "      cursor: pointer;\n",
              "      display: none;\n",
              "      fill: #1967D2;\n",
              "      height: 32px;\n",
              "      padding: 0 0 0 0;\n",
              "      width: 32px;\n",
              "    }\n",
              "\n",
              "    .colab-df-convert:hover {\n",
              "      background-color: #E2EBFA;\n",
              "      box-shadow: 0px 1px 2px rgba(60, 64, 67, 0.3), 0px 1px 3px 1px rgba(60, 64, 67, 0.15);\n",
              "      fill: #174EA6;\n",
              "    }\n",
              "\n",
              "    .colab-df-buttons div {\n",
              "      margin-bottom: 4px;\n",
              "    }\n",
              "\n",
              "    [theme=dark] .colab-df-convert {\n",
              "      background-color: #3B4455;\n",
              "      fill: #D2E3FC;\n",
              "    }\n",
              "\n",
              "    [theme=dark] .colab-df-convert:hover {\n",
              "      background-color: #434B5C;\n",
              "      box-shadow: 0px 1px 3px 1px rgba(0, 0, 0, 0.15);\n",
              "      filter: drop-shadow(0px 1px 2px rgba(0, 0, 0, 0.3));\n",
              "      fill: #FFFFFF;\n",
              "    }\n",
              "  </style>\n",
              "\n",
              "    <script>\n",
              "      const buttonEl =\n",
              "        document.querySelector('#df-bda4b97c-38b0-4dea-8121-e4127ac1393d button.colab-df-convert');\n",
              "      buttonEl.style.display =\n",
              "        google.colab.kernel.accessAllowed ? 'block' : 'none';\n",
              "\n",
              "      async function convertToInteractive(key) {\n",
              "        const element = document.querySelector('#df-bda4b97c-38b0-4dea-8121-e4127ac1393d');\n",
              "        const dataTable =\n",
              "          await google.colab.kernel.invokeFunction('convertToInteractive',\n",
              "                                                    [key], {});\n",
              "        if (!dataTable) return;\n",
              "\n",
              "        const docLinkHtml = 'Like what you see? Visit the ' +\n",
              "          '<a target=\"_blank\" href=https://colab.research.google.com/notebooks/data_table.ipynb>data table notebook</a>'\n",
              "          + ' to learn more about interactive tables.';\n",
              "        element.innerHTML = '';\n",
              "        dataTable['output_type'] = 'display_data';\n",
              "        await google.colab.output.renderOutput(dataTable, element);\n",
              "        const docLink = document.createElement('div');\n",
              "        docLink.innerHTML = docLinkHtml;\n",
              "        element.appendChild(docLink);\n",
              "      }\n",
              "    </script>\n",
              "  </div>\n",
              "\n",
              "\n",
              "<div id=\"df-be37717f-252b-49ef-9a04-12cb77993356\">\n",
              "  <button class=\"colab-df-quickchart\" onclick=\"quickchart('df-be37717f-252b-49ef-9a04-12cb77993356')\"\n",
              "            title=\"Suggest charts.\"\n",
              "            style=\"display:none;\">\n",
              "\n",
              "<svg xmlns=\"http://www.w3.org/2000/svg\" height=\"24px\"viewBox=\"0 0 24 24\"\n",
              "     width=\"24px\">\n",
              "    <g>\n",
              "        <path d=\"M19 3H5c-1.1 0-2 .9-2 2v14c0 1.1.9 2 2 2h14c1.1 0 2-.9 2-2V5c0-1.1-.9-2-2-2zM9 17H7v-7h2v7zm4 0h-2V7h2v10zm4 0h-2v-4h2v4z\"/>\n",
              "    </g>\n",
              "</svg>\n",
              "  </button>\n",
              "\n",
              "<style>\n",
              "  .colab-df-quickchart {\n",
              "    background-color: #E8F0FE;\n",
              "    border: none;\n",
              "    border-radius: 50%;\n",
              "    cursor: pointer;\n",
              "    display: none;\n",
              "    fill: #1967D2;\n",
              "    height: 32px;\n",
              "    padding: 0 0 0 0;\n",
              "    width: 32px;\n",
              "  }\n",
              "\n",
              "  .colab-df-quickchart:hover {\n",
              "    background-color: #E2EBFA;\n",
              "    box-shadow: 0px 1px 2px rgba(60, 64, 67, 0.3), 0px 1px 3px 1px rgba(60, 64, 67, 0.15);\n",
              "    fill: #174EA6;\n",
              "  }\n",
              "\n",
              "  [theme=dark] .colab-df-quickchart {\n",
              "    background-color: #3B4455;\n",
              "    fill: #D2E3FC;\n",
              "  }\n",
              "\n",
              "  [theme=dark] .colab-df-quickchart:hover {\n",
              "    background-color: #434B5C;\n",
              "    box-shadow: 0px 1px 3px 1px rgba(0, 0, 0, 0.15);\n",
              "    filter: drop-shadow(0px 1px 2px rgba(0, 0, 0, 0.3));\n",
              "    fill: #FFFFFF;\n",
              "  }\n",
              "</style>\n",
              "\n",
              "  <script>\n",
              "    async function quickchart(key) {\n",
              "      const charts = await google.colab.kernel.invokeFunction(\n",
              "          'suggestCharts', [key], {});\n",
              "    }\n",
              "    (() => {\n",
              "      let quickchartButtonEl =\n",
              "        document.querySelector('#df-be37717f-252b-49ef-9a04-12cb77993356 button');\n",
              "      quickchartButtonEl.style.display =\n",
              "        google.colab.kernel.accessAllowed ? 'block' : 'none';\n",
              "    })();\n",
              "  </script>\n",
              "</div>\n",
              "    </div>\n",
              "  </div>\n"
            ]
          },
          "metadata": {},
          "execution_count": 234
        }
      ]
    },
    {
      "cell_type": "code",
      "source": [
        "# random perturbation (valori non legali)\n",
        "for i in range(11):\n",
        "  df.loc[np.random.randint(df.shape[0]+1), 'Annotator_1'] = np.random.randint(4,5, dtype=np.int64)\n",
        "  df.loc[np.random.randint(df.shape[0]+1), 'Annotator_2'] = np.random.randint(4,5, dtype=np.int64)\n",
        "  df.loc[np.random.randint(df.shape[0]+1), 'Annotator_3'] = np.random.randint(4,5, dtype=np.int64)"
      ],
      "metadata": {
        "id": "wzPU5AdHfmDA"
      },
      "execution_count": 235,
      "outputs": []
    },
    {
      "cell_type": "code",
      "source": [
        "for col in df.columns[1:]:\n",
        "  df[col] =pd.to_numeric(df[col], errors='coerce').fillna(0).astype('int64').astype(np.int64)"
      ],
      "metadata": {
        "id": "SbTshBtUZwF1"
      },
      "execution_count": 24,
      "outputs": []
    },
    {
      "cell_type": "code",
      "source": [
        "df.info()"
      ],
      "metadata": {
        "colab": {
          "base_uri": "https://localhost:8080/"
        },
        "id": "M61fjxudgLGf",
        "outputId": "eaaa9c5b-3c98-4dc9-ada3-dd78224a7052"
      },
      "execution_count": 25,
      "outputs": [
        {
          "output_type": "stream",
          "name": "stdout",
          "text": [
            "<class 'pandas.core.frame.DataFrame'>\n",
            "RangeIndex: 300 entries, 0 to 299\n",
            "Data columns (total 4 columns):\n",
            " #   Column        Non-Null Count  Dtype \n",
            "---  ------        --------------  ----- \n",
            " 0   comment_text  300 non-null    object\n",
            " 1   Annotator_1   300 non-null    int64 \n",
            " 2   Annotator_2   300 non-null    int64 \n",
            " 3   Annotator_3   300 non-null    int64 \n",
            "dtypes: int64(3), object(1)\n",
            "memory usage: 9.5+ KB\n"
          ]
        }
      ]
    },
    {
      "cell_type": "markdown",
      "source": [
        "# Cleaning"
      ],
      "metadata": {
        "id": "Abz73_Hzfz8G"
      }
    },
    {
      "cell_type": "code",
      "source": [
        "def check_vals(unique_vals_exp, df, columns, return_dict=False):\n",
        "  idxs = dict()\n",
        "  for col in df.columns[1:]:\n",
        "    unique_vals = np.unique(df[col])\n",
        "    if not np.array_equal(unique_vals, unique_vals_exp):\n",
        "      print('Errors found in col', col)\n",
        "      print('Indexes of errors:', list(df.query(f'{col} not in {unique_vals_exp}').index))\n",
        "      idxs[col] = list(df.query(f'{col} not in {unique_vals_exp}').index)\n",
        "\n",
        "  if len(idxs) == 0:\n",
        "      print('no errors found')\n",
        "\n",
        "  if return_dict:\n",
        "    return idxs"
      ],
      "metadata": {
        "id": "FFYPf8kEfTE8"
      },
      "execution_count": 26,
      "outputs": []
    },
    {
      "cell_type": "code",
      "source": [
        "unique_vals_exp = [0,1,2,3]\n",
        "check_vals(unique_vals_exp, df, df.columns[1:])"
      ],
      "metadata": {
        "colab": {
          "base_uri": "https://localhost:8080/"
        },
        "id": "ET6rWu7bf2qT",
        "outputId": "44af6dca-5d0d-432b-e867-52c63d616b69"
      },
      "execution_count": 27,
      "outputs": [
        {
          "output_type": "stream",
          "name": "stdout",
          "text": [
            "no errors found\n"
          ]
        }
      ]
    },
    {
      "cell_type": "code",
      "source": [
        "idx_dict = check_vals(unique_vals_exp, df, df.columns[1:], return_dict=True)\n",
        "for col, idx in idx_dict.items():\n",
        "  df.loc[idx, col] = 1"
      ],
      "metadata": {
        "colab": {
          "base_uri": "https://localhost:8080/"
        },
        "id": "kYTamnU3gQcG",
        "outputId": "a8363b14-21ec-407b-b0d8-b45697945dfa"
      },
      "execution_count": 242,
      "outputs": [
        {
          "output_type": "stream",
          "name": "stdout",
          "text": [
            "Errors found in col Annotator_1\n",
            "Indexes of errors: [30, 57, 225, 481, 501, 525, 562, 594, 630, 731, 769]\n",
            "Errors found in col Annotator_2\n",
            "Indexes of errors: [159, 301, 365, 419, 435, 501, 540, 615, 647, 668, 712]\n",
            "Errors found in col Annotator_3\n",
            "Indexes of errors: [20, 121, 205, 402, 437, 445, 500, 578, 594, 663, 698]\n"
          ]
        }
      ]
    },
    {
      "cell_type": "code",
      "source": [
        "check_vals(unique_vals_exp, df, df.columns[1:])"
      ],
      "metadata": {
        "colab": {
          "base_uri": "https://localhost:8080/"
        },
        "id": "fE-w1y9Uggf8",
        "outputId": "dd560930-7eaa-4f0e-ee76-749ff86baed5"
      },
      "execution_count": 243,
      "outputs": [
        {
          "output_type": "stream",
          "name": "stdout",
          "text": [
            "no errors found\n"
          ]
        }
      ]
    },
    {
      "cell_type": "markdown",
      "source": [
        "# Gold Standard"
      ],
      "metadata": {
        "id": "XMOEkahcU4EQ"
      }
    },
    {
      "cell_type": "code",
      "source": [
        "df['Gold_Standard'] = 42\n",
        "for idx ,row in df[['Annotator_1','Annotator_2','Annotator_3']].iterrows():\n",
        "  vals = np.array([row['Annotator_1'], row['Annotator_2'], row['Annotator_3']])\n",
        "  if len(np.unique(vals)) == 2:\n",
        "    df.loc[idx, 'Gold_Standard'] = np.argmax(np.bincount(vals))\n",
        "\n",
        "to_check = list(df.query('Gold_Standard == 42').index)\n",
        " # indice records in cui ogni annotatore ha etichettato con etuchette differenti\n",
        "print('Records to check:', len(to_check))\n",
        "\n",
        "ratio = len(to_check)/len(df['Annotator_1'])\n",
        "if ratio > 0.5:\n",
        "  print(f'Cioè il {round(ratio*100)}% a facc ro cazz')"
      ],
      "metadata": {
        "colab": {
          "base_uri": "https://localhost:8080/"
        },
        "id": "CJjzywCrU2_O",
        "outputId": "b4384432-81d2-457c-9af7-f51991169555"
      },
      "execution_count": 40,
      "outputs": [
        {
          "output_type": "stream",
          "name": "stdout",
          "text": [
            "Records to check: 193\n",
            "Cioè il 64% a facc ro cazz\n"
          ]
        }
      ]
    },
    {
      "cell_type": "markdown",
      "source": [
        "# Inter-annotator agreement\n",
        "\n",
        "### **K = P(A) - P(E) / 1 - P(E)**\n",
        "\n",
        "P(A) = Volte in cui gli annotatori si sono mostrati d'accordo\n",
        "\n",
        "P(E) = Volte in cui ci si aspetta che gli annotatori per caso compiano la stessa scelta (e = expected)\n",
        "\n",
        "The higher the better"
      ],
      "metadata": {
        "id": "CJ-t0eJIOhTo"
      }
    },
    {
      "cell_type": "code",
      "source": [
        "def interannotator_agreement(annotator1, annotator2):\n",
        "  num_records = len(annotator1)\n",
        "  label1, label2, label3, label4 = np.unique(annotator1)\n",
        "\n",
        "  counts1 = np.unique(annotator1, return_counts=True)[1]\n",
        "  counts2 = np.unique(annotator2, return_counts=True)[1]\n",
        "\n",
        "  annotation_prob = {\n",
        "      'Annotator_1': {\n",
        "          label1: counts1[0]/num_records,\n",
        "          label2: counts1[1]/num_records,\n",
        "          label3: counts1[2]/num_records,\n",
        "          label4: counts1[3]/num_records\n",
        "      },\n",
        "      'Annotator_2': {\n",
        "          label1: counts2[0]/num_records,\n",
        "          label2: counts2[1]/num_records,\n",
        "          label3: counts2[2]/num_records,\n",
        "          label4: counts2[3]/num_records\n",
        "      }\n",
        "  }\n",
        "\n",
        "  alignment = 0\n",
        "\n",
        "  for val1, val2 in zip(annotator1, annotator2):\n",
        "    if val1 == val2:\n",
        "      alignment += 1\n",
        "\n",
        "  p_a = alignment/num_records\n",
        "  p_e = (annotation_prob['Annotator_1'][label1] * annotation_prob['Annotator_2'][label1]) + \\\n",
        "        (annotation_prob['Annotator_1'][label2] * annotation_prob['Annotator_2'][label2]) + \\\n",
        "        (annotation_prob['Annotator_1'][label3] * annotation_prob['Annotator_2'][label3]) + \\\n",
        "        (annotation_prob['Annotator_1'][label4] * annotation_prob['Annotator_2'][label4])\n",
        "\n",
        "  k =  (p_a - p_e) / (1 - p_e)\n",
        "\n",
        "  return k\n",
        "\n",
        "#print(interannotator_agreement(np.array([1,1,1,2,2,3,4,4]), np.array([1,1,1,2,2,3,4,4])))\n",
        "\n"
      ],
      "metadata": {
        "colab": {
          "base_uri": "https://localhost:8080/"
        },
        "id": "lkWRnPTVMojr",
        "outputId": "7f47f028-9aec-4fef-8dd2-e5218c2ee42a"
      },
      "execution_count": 32,
      "outputs": [
        {
          "output_type": "stream",
          "name": "stdout",
          "text": [
            "1.0\n"
          ]
        }
      ]
    },
    {
      "cell_type": "code",
      "source": [
        "from statistics import harmonic_mean, mean\n",
        "\n",
        "k1 = interannotator_agreement(np.array(df['Annotator_1']), np.array(df['Annotator_2']))\n",
        "k2 = interannotator_agreement(np.array(df['Annotator_1']), np.array(df['Annotator_3']))\n",
        "k3 = interannotator_agreement(np.array(df['Annotator_2']), np.array(df['Annotator_3']))\n",
        "agg = (k1+k2+k3)/3\n",
        "\n",
        "print('k1:', k1)\n",
        "print('k2:', k2)\n",
        "print('k3:', k3)\n",
        "print('Mean:', agg)\n",
        "\n"
      ],
      "metadata": {
        "colab": {
          "base_uri": "https://localhost:8080/"
        },
        "id": "JMCo3Cr_NyLF",
        "outputId": "1a3eeb26-6d2d-4c8d-fc9b-65710d6b5fb4"
      },
      "execution_count": 33,
      "outputs": [
        {
          "output_type": "stream",
          "name": "stdout",
          "text": [
            "k1: 0.8058645096056622\n",
            "k2: 0.4277777777777777\n",
            "k3: 0.368016120168529\n",
            "Mean: 0.5338861358506563\n"
          ]
        }
      ]
    },
    {
      "cell_type": "code",
      "source": [],
      "metadata": {
        "id": "3mAjBJlXWOoJ"
      },
      "execution_count": null,
      "outputs": []
    }
  ]
}