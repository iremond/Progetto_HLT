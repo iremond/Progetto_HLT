{
  "nbformat": 4,
  "nbformat_minor": 0,
  "metadata": {
    "colab": {
      "provenance": []
    },
    "kernelspec": {
      "name": "python3",
      "display_name": "Python 3"
    },
    "language_info": {
      "name": "python"
    }
  },
  "cells": [
    {
      "cell_type": "code",
      "execution_count": 226,
      "metadata": {
        "id": "a-guIcIzLRbH"
      },
      "outputs": [],
      "source": [
        "import pandas as pd\n",
        "import numpy as np"
      ]
    },
    {
      "cell_type": "code",
      "source": [
        "df1 = pd.read_csv('subtaskB_train.csv').drop(columns=['Id','topic']).rename(columns={'conspiracy': 'Annotator_1'})\n",
        "df2 = pd.read_csv('subtaskB_train.csv').drop(columns=['Id','topic']).rename(columns={'conspiracy': 'Annotator_2'})\n",
        "df3 = pd.read_csv('subtaskB_train.csv').drop(columns=['Id','topic']).rename(columns={'conspiracy': 'Annotator_3'})"
      ],
      "metadata": {
        "id": "InA0Z_a_LXiB"
      },
      "execution_count": 227,
      "outputs": []
    },
    {
      "cell_type": "code",
      "source": [
        "df1.head()"
      ],
      "metadata": {
        "colab": {
          "base_uri": "https://localhost:8080/",
          "height": 206
        },
        "id": "1mBmHdpzLjJ6",
        "outputId": "a5d4f493-6f11-4a70-f7fc-e658774711b6"
      },
      "execution_count": 228,
      "outputs": [
        {
          "output_type": "execute_result",
          "data": {
            "text/plain": [
              "                                        comment_text  Annotator_1\n",
              "0  Siamo davanti ad una prova, e non solo di quoz...            1\n",
              "1  La storia dei 2 bimbi di Bergamo - vaccini: qu...            0\n",
              "2  L'avete capito che non toglieranno il green pa...            0\n",
              "3  Quindi  la farsa dello spazio e della terra a ...            3\n",
              "4  In breve tempo, per accedere a Internet, sarà ...            1"
            ],
            "text/html": [
              "\n",
              "  <div id=\"df-dc27c459-bbd1-42de-9bd8-9da7e38402ca\" class=\"colab-df-container\">\n",
              "    <div>\n",
              "<style scoped>\n",
              "    .dataframe tbody tr th:only-of-type {\n",
              "        vertical-align: middle;\n",
              "    }\n",
              "\n",
              "    .dataframe tbody tr th {\n",
              "        vertical-align: top;\n",
              "    }\n",
              "\n",
              "    .dataframe thead th {\n",
              "        text-align: right;\n",
              "    }\n",
              "</style>\n",
              "<table border=\"1\" class=\"dataframe\">\n",
              "  <thead>\n",
              "    <tr style=\"text-align: right;\">\n",
              "      <th></th>\n",
              "      <th>comment_text</th>\n",
              "      <th>Annotator_1</th>\n",
              "    </tr>\n",
              "  </thead>\n",
              "  <tbody>\n",
              "    <tr>\n",
              "      <th>0</th>\n",
              "      <td>Siamo davanti ad una prova, e non solo di quoz...</td>\n",
              "      <td>1</td>\n",
              "    </tr>\n",
              "    <tr>\n",
              "      <th>1</th>\n",
              "      <td>La storia dei 2 bimbi di Bergamo - vaccini: qu...</td>\n",
              "      <td>0</td>\n",
              "    </tr>\n",
              "    <tr>\n",
              "      <th>2</th>\n",
              "      <td>L'avete capito che non toglieranno il green pa...</td>\n",
              "      <td>0</td>\n",
              "    </tr>\n",
              "    <tr>\n",
              "      <th>3</th>\n",
              "      <td>Quindi  la farsa dello spazio e della terra a ...</td>\n",
              "      <td>3</td>\n",
              "    </tr>\n",
              "    <tr>\n",
              "      <th>4</th>\n",
              "      <td>In breve tempo, per accedere a Internet, sarà ...</td>\n",
              "      <td>1</td>\n",
              "    </tr>\n",
              "  </tbody>\n",
              "</table>\n",
              "</div>\n",
              "    <div class=\"colab-df-buttons\">\n",
              "\n",
              "  <div class=\"colab-df-container\">\n",
              "    <button class=\"colab-df-convert\" onclick=\"convertToInteractive('df-dc27c459-bbd1-42de-9bd8-9da7e38402ca')\"\n",
              "            title=\"Convert this dataframe to an interactive table.\"\n",
              "            style=\"display:none;\">\n",
              "\n",
              "  <svg xmlns=\"http://www.w3.org/2000/svg\" height=\"24px\" viewBox=\"0 -960 960 960\">\n",
              "    <path d=\"M120-120v-720h720v720H120Zm60-500h600v-160H180v160Zm220 220h160v-160H400v160Zm0 220h160v-160H400v160ZM180-400h160v-160H180v160Zm440 0h160v-160H620v160ZM180-180h160v-160H180v160Zm440 0h160v-160H620v160Z\"/>\n",
              "  </svg>\n",
              "    </button>\n",
              "\n",
              "  <style>\n",
              "    .colab-df-container {\n",
              "      display:flex;\n",
              "      gap: 12px;\n",
              "    }\n",
              "\n",
              "    .colab-df-convert {\n",
              "      background-color: #E8F0FE;\n",
              "      border: none;\n",
              "      border-radius: 50%;\n",
              "      cursor: pointer;\n",
              "      display: none;\n",
              "      fill: #1967D2;\n",
              "      height: 32px;\n",
              "      padding: 0 0 0 0;\n",
              "      width: 32px;\n",
              "    }\n",
              "\n",
              "    .colab-df-convert:hover {\n",
              "      background-color: #E2EBFA;\n",
              "      box-shadow: 0px 1px 2px rgba(60, 64, 67, 0.3), 0px 1px 3px 1px rgba(60, 64, 67, 0.15);\n",
              "      fill: #174EA6;\n",
              "    }\n",
              "\n",
              "    .colab-df-buttons div {\n",
              "      margin-bottom: 4px;\n",
              "    }\n",
              "\n",
              "    [theme=dark] .colab-df-convert {\n",
              "      background-color: #3B4455;\n",
              "      fill: #D2E3FC;\n",
              "    }\n",
              "\n",
              "    [theme=dark] .colab-df-convert:hover {\n",
              "      background-color: #434B5C;\n",
              "      box-shadow: 0px 1px 3px 1px rgba(0, 0, 0, 0.15);\n",
              "      filter: drop-shadow(0px 1px 2px rgba(0, 0, 0, 0.3));\n",
              "      fill: #FFFFFF;\n",
              "    }\n",
              "  </style>\n",
              "\n",
              "    <script>\n",
              "      const buttonEl =\n",
              "        document.querySelector('#df-dc27c459-bbd1-42de-9bd8-9da7e38402ca button.colab-df-convert');\n",
              "      buttonEl.style.display =\n",
              "        google.colab.kernel.accessAllowed ? 'block' : 'none';\n",
              "\n",
              "      async function convertToInteractive(key) {\n",
              "        const element = document.querySelector('#df-dc27c459-bbd1-42de-9bd8-9da7e38402ca');\n",
              "        const dataTable =\n",
              "          await google.colab.kernel.invokeFunction('convertToInteractive',\n",
              "                                                    [key], {});\n",
              "        if (!dataTable) return;\n",
              "\n",
              "        const docLinkHtml = 'Like what you see? Visit the ' +\n",
              "          '<a target=\"_blank\" href=https://colab.research.google.com/notebooks/data_table.ipynb>data table notebook</a>'\n",
              "          + ' to learn more about interactive tables.';\n",
              "        element.innerHTML = '';\n",
              "        dataTable['output_type'] = 'display_data';\n",
              "        await google.colab.output.renderOutput(dataTable, element);\n",
              "        const docLink = document.createElement('div');\n",
              "        docLink.innerHTML = docLinkHtml;\n",
              "        element.appendChild(docLink);\n",
              "      }\n",
              "    </script>\n",
              "  </div>\n",
              "\n",
              "\n",
              "<div id=\"df-2c12fc0d-d8ed-4ac0-853f-c999b141aeb3\">\n",
              "  <button class=\"colab-df-quickchart\" onclick=\"quickchart('df-2c12fc0d-d8ed-4ac0-853f-c999b141aeb3')\"\n",
              "            title=\"Suggest charts.\"\n",
              "            style=\"display:none;\">\n",
              "\n",
              "<svg xmlns=\"http://www.w3.org/2000/svg\" height=\"24px\"viewBox=\"0 0 24 24\"\n",
              "     width=\"24px\">\n",
              "    <g>\n",
              "        <path d=\"M19 3H5c-1.1 0-2 .9-2 2v14c0 1.1.9 2 2 2h14c1.1 0 2-.9 2-2V5c0-1.1-.9-2-2-2zM9 17H7v-7h2v7zm4 0h-2V7h2v10zm4 0h-2v-4h2v4z\"/>\n",
              "    </g>\n",
              "</svg>\n",
              "  </button>\n",
              "\n",
              "<style>\n",
              "  .colab-df-quickchart {\n",
              "    background-color: #E8F0FE;\n",
              "    border: none;\n",
              "    border-radius: 50%;\n",
              "    cursor: pointer;\n",
              "    display: none;\n",
              "    fill: #1967D2;\n",
              "    height: 32px;\n",
              "    padding: 0 0 0 0;\n",
              "    width: 32px;\n",
              "  }\n",
              "\n",
              "  .colab-df-quickchart:hover {\n",
              "    background-color: #E2EBFA;\n",
              "    box-shadow: 0px 1px 2px rgba(60, 64, 67, 0.3), 0px 1px 3px 1px rgba(60, 64, 67, 0.15);\n",
              "    fill: #174EA6;\n",
              "  }\n",
              "\n",
              "  [theme=dark] .colab-df-quickchart {\n",
              "    background-color: #3B4455;\n",
              "    fill: #D2E3FC;\n",
              "  }\n",
              "\n",
              "  [theme=dark] .colab-df-quickchart:hover {\n",
              "    background-color: #434B5C;\n",
              "    box-shadow: 0px 1px 3px 1px rgba(0, 0, 0, 0.15);\n",
              "    filter: drop-shadow(0px 1px 2px rgba(0, 0, 0, 0.3));\n",
              "    fill: #FFFFFF;\n",
              "  }\n",
              "</style>\n",
              "\n",
              "  <script>\n",
              "    async function quickchart(key) {\n",
              "      const charts = await google.colab.kernel.invokeFunction(\n",
              "          'suggestCharts', [key], {});\n",
              "    }\n",
              "    (() => {\n",
              "      let quickchartButtonEl =\n",
              "        document.querySelector('#df-2c12fc0d-d8ed-4ac0-853f-c999b141aeb3 button');\n",
              "      quickchartButtonEl.style.display =\n",
              "        google.colab.kernel.accessAllowed ? 'block' : 'none';\n",
              "    })();\n",
              "  </script>\n",
              "</div>\n",
              "    </div>\n",
              "  </div>\n"
            ]
          },
          "metadata": {},
          "execution_count": 228
        }
      ]
    },
    {
      "cell_type": "code",
      "source": [
        "df = df1.copy()\n",
        "df['Annotator_2'] = df2['Annotator_2']\n",
        "df['Annotator_3'] = df3['Annotator_3']"
      ],
      "metadata": {
        "id": "-RDuFIxIu_CZ"
      },
      "execution_count": 229,
      "outputs": []
    },
    {
      "cell_type": "code",
      "source": [
        "df.head()"
      ],
      "metadata": {
        "colab": {
          "base_uri": "https://localhost:8080/",
          "height": 206
        },
        "id": "2nYzWV1uvXDu",
        "outputId": "0b549d30-23a8-4768-a21b-c9ae18809e86"
      },
      "execution_count": 230,
      "outputs": [
        {
          "output_type": "execute_result",
          "data": {
            "text/plain": [
              "                                        comment_text  Annotator_1  \\\n",
              "0  Siamo davanti ad una prova, e non solo di quoz...            1   \n",
              "1  La storia dei 2 bimbi di Bergamo - vaccini: qu...            0   \n",
              "2  L'avete capito che non toglieranno il green pa...            0   \n",
              "3  Quindi  la farsa dello spazio e della terra a ...            3   \n",
              "4  In breve tempo, per accedere a Internet, sarà ...            1   \n",
              "\n",
              "   Annotator_2  Annotator_3  \n",
              "0            1            1  \n",
              "1            0            0  \n",
              "2            0            0  \n",
              "3            3            3  \n",
              "4            1            1  "
            ],
            "text/html": [
              "\n",
              "  <div id=\"df-bc7bef02-4ec3-4d00-88a1-0337a283846f\" class=\"colab-df-container\">\n",
              "    <div>\n",
              "<style scoped>\n",
              "    .dataframe tbody tr th:only-of-type {\n",
              "        vertical-align: middle;\n",
              "    }\n",
              "\n",
              "    .dataframe tbody tr th {\n",
              "        vertical-align: top;\n",
              "    }\n",
              "\n",
              "    .dataframe thead th {\n",
              "        text-align: right;\n",
              "    }\n",
              "</style>\n",
              "<table border=\"1\" class=\"dataframe\">\n",
              "  <thead>\n",
              "    <tr style=\"text-align: right;\">\n",
              "      <th></th>\n",
              "      <th>comment_text</th>\n",
              "      <th>Annotator_1</th>\n",
              "      <th>Annotator_2</th>\n",
              "      <th>Annotator_3</th>\n",
              "    </tr>\n",
              "  </thead>\n",
              "  <tbody>\n",
              "    <tr>\n",
              "      <th>0</th>\n",
              "      <td>Siamo davanti ad una prova, e non solo di quoz...</td>\n",
              "      <td>1</td>\n",
              "      <td>1</td>\n",
              "      <td>1</td>\n",
              "    </tr>\n",
              "    <tr>\n",
              "      <th>1</th>\n",
              "      <td>La storia dei 2 bimbi di Bergamo - vaccini: qu...</td>\n",
              "      <td>0</td>\n",
              "      <td>0</td>\n",
              "      <td>0</td>\n",
              "    </tr>\n",
              "    <tr>\n",
              "      <th>2</th>\n",
              "      <td>L'avete capito che non toglieranno il green pa...</td>\n",
              "      <td>0</td>\n",
              "      <td>0</td>\n",
              "      <td>0</td>\n",
              "    </tr>\n",
              "    <tr>\n",
              "      <th>3</th>\n",
              "      <td>Quindi  la farsa dello spazio e della terra a ...</td>\n",
              "      <td>3</td>\n",
              "      <td>3</td>\n",
              "      <td>3</td>\n",
              "    </tr>\n",
              "    <tr>\n",
              "      <th>4</th>\n",
              "      <td>In breve tempo, per accedere a Internet, sarà ...</td>\n",
              "      <td>1</td>\n",
              "      <td>1</td>\n",
              "      <td>1</td>\n",
              "    </tr>\n",
              "  </tbody>\n",
              "</table>\n",
              "</div>\n",
              "    <div class=\"colab-df-buttons\">\n",
              "\n",
              "  <div class=\"colab-df-container\">\n",
              "    <button class=\"colab-df-convert\" onclick=\"convertToInteractive('df-bc7bef02-4ec3-4d00-88a1-0337a283846f')\"\n",
              "            title=\"Convert this dataframe to an interactive table.\"\n",
              "            style=\"display:none;\">\n",
              "\n",
              "  <svg xmlns=\"http://www.w3.org/2000/svg\" height=\"24px\" viewBox=\"0 -960 960 960\">\n",
              "    <path d=\"M120-120v-720h720v720H120Zm60-500h600v-160H180v160Zm220 220h160v-160H400v160Zm0 220h160v-160H400v160ZM180-400h160v-160H180v160Zm440 0h160v-160H620v160ZM180-180h160v-160H180v160Zm440 0h160v-160H620v160Z\"/>\n",
              "  </svg>\n",
              "    </button>\n",
              "\n",
              "  <style>\n",
              "    .colab-df-container {\n",
              "      display:flex;\n",
              "      gap: 12px;\n",
              "    }\n",
              "\n",
              "    .colab-df-convert {\n",
              "      background-color: #E8F0FE;\n",
              "      border: none;\n",
              "      border-radius: 50%;\n",
              "      cursor: pointer;\n",
              "      display: none;\n",
              "      fill: #1967D2;\n",
              "      height: 32px;\n",
              "      padding: 0 0 0 0;\n",
              "      width: 32px;\n",
              "    }\n",
              "\n",
              "    .colab-df-convert:hover {\n",
              "      background-color: #E2EBFA;\n",
              "      box-shadow: 0px 1px 2px rgba(60, 64, 67, 0.3), 0px 1px 3px 1px rgba(60, 64, 67, 0.15);\n",
              "      fill: #174EA6;\n",
              "    }\n",
              "\n",
              "    .colab-df-buttons div {\n",
              "      margin-bottom: 4px;\n",
              "    }\n",
              "\n",
              "    [theme=dark] .colab-df-convert {\n",
              "      background-color: #3B4455;\n",
              "      fill: #D2E3FC;\n",
              "    }\n",
              "\n",
              "    [theme=dark] .colab-df-convert:hover {\n",
              "      background-color: #434B5C;\n",
              "      box-shadow: 0px 1px 3px 1px rgba(0, 0, 0, 0.15);\n",
              "      filter: drop-shadow(0px 1px 2px rgba(0, 0, 0, 0.3));\n",
              "      fill: #FFFFFF;\n",
              "    }\n",
              "  </style>\n",
              "\n",
              "    <script>\n",
              "      const buttonEl =\n",
              "        document.querySelector('#df-bc7bef02-4ec3-4d00-88a1-0337a283846f button.colab-df-convert');\n",
              "      buttonEl.style.display =\n",
              "        google.colab.kernel.accessAllowed ? 'block' : 'none';\n",
              "\n",
              "      async function convertToInteractive(key) {\n",
              "        const element = document.querySelector('#df-bc7bef02-4ec3-4d00-88a1-0337a283846f');\n",
              "        const dataTable =\n",
              "          await google.colab.kernel.invokeFunction('convertToInteractive',\n",
              "                                                    [key], {});\n",
              "        if (!dataTable) return;\n",
              "\n",
              "        const docLinkHtml = 'Like what you see? Visit the ' +\n",
              "          '<a target=\"_blank\" href=https://colab.research.google.com/notebooks/data_table.ipynb>data table notebook</a>'\n",
              "          + ' to learn more about interactive tables.';\n",
              "        element.innerHTML = '';\n",
              "        dataTable['output_type'] = 'display_data';\n",
              "        await google.colab.output.renderOutput(dataTable, element);\n",
              "        const docLink = document.createElement('div');\n",
              "        docLink.innerHTML = docLinkHtml;\n",
              "        element.appendChild(docLink);\n",
              "      }\n",
              "    </script>\n",
              "  </div>\n",
              "\n",
              "\n",
              "<div id=\"df-a96344fb-f134-4c7e-8600-52ab14e51ce4\">\n",
              "  <button class=\"colab-df-quickchart\" onclick=\"quickchart('df-a96344fb-f134-4c7e-8600-52ab14e51ce4')\"\n",
              "            title=\"Suggest charts.\"\n",
              "            style=\"display:none;\">\n",
              "\n",
              "<svg xmlns=\"http://www.w3.org/2000/svg\" height=\"24px\"viewBox=\"0 0 24 24\"\n",
              "     width=\"24px\">\n",
              "    <g>\n",
              "        <path d=\"M19 3H5c-1.1 0-2 .9-2 2v14c0 1.1.9 2 2 2h14c1.1 0 2-.9 2-2V5c0-1.1-.9-2-2-2zM9 17H7v-7h2v7zm4 0h-2V7h2v10zm4 0h-2v-4h2v4z\"/>\n",
              "    </g>\n",
              "</svg>\n",
              "  </button>\n",
              "\n",
              "<style>\n",
              "  .colab-df-quickchart {\n",
              "    background-color: #E8F0FE;\n",
              "    border: none;\n",
              "    border-radius: 50%;\n",
              "    cursor: pointer;\n",
              "    display: none;\n",
              "    fill: #1967D2;\n",
              "    height: 32px;\n",
              "    padding: 0 0 0 0;\n",
              "    width: 32px;\n",
              "  }\n",
              "\n",
              "  .colab-df-quickchart:hover {\n",
              "    background-color: #E2EBFA;\n",
              "    box-shadow: 0px 1px 2px rgba(60, 64, 67, 0.3), 0px 1px 3px 1px rgba(60, 64, 67, 0.15);\n",
              "    fill: #174EA6;\n",
              "  }\n",
              "\n",
              "  [theme=dark] .colab-df-quickchart {\n",
              "    background-color: #3B4455;\n",
              "    fill: #D2E3FC;\n",
              "  }\n",
              "\n",
              "  [theme=dark] .colab-df-quickchart:hover {\n",
              "    background-color: #434B5C;\n",
              "    box-shadow: 0px 1px 3px 1px rgba(0, 0, 0, 0.15);\n",
              "    filter: drop-shadow(0px 1px 2px rgba(0, 0, 0, 0.3));\n",
              "    fill: #FFFFFF;\n",
              "  }\n",
              "</style>\n",
              "\n",
              "  <script>\n",
              "    async function quickchart(key) {\n",
              "      const charts = await google.colab.kernel.invokeFunction(\n",
              "          'suggestCharts', [key], {});\n",
              "    }\n",
              "    (() => {\n",
              "      let quickchartButtonEl =\n",
              "        document.querySelector('#df-a96344fb-f134-4c7e-8600-52ab14e51ce4 button');\n",
              "      quickchartButtonEl.style.display =\n",
              "        google.colab.kernel.accessAllowed ? 'block' : 'none';\n",
              "    })();\n",
              "  </script>\n",
              "</div>\n",
              "    </div>\n",
              "  </div>\n"
            ]
          },
          "metadata": {},
          "execution_count": 230
        }
      ]
    },
    {
      "cell_type": "code",
      "source": [
        "df.shape"
      ],
      "metadata": {
        "colab": {
          "base_uri": "https://localhost:8080/"
        },
        "id": "bdMVtGy7LkhZ",
        "outputId": "6ece7630-6a5a-416e-8304-0e6950043ac6"
      },
      "execution_count": 231,
      "outputs": [
        {
          "output_type": "execute_result",
          "data": {
            "text/plain": [
              "(810, 4)"
            ]
          },
          "metadata": {},
          "execution_count": 231
        }
      ]
    },
    {
      "cell_type": "code",
      "source": [
        "df.info()"
      ],
      "metadata": {
        "id": "xAsyVZnVZHZj",
        "outputId": "0eee0be6-1bba-498a-92ea-998bae6b2dec",
        "colab": {
          "base_uri": "https://localhost:8080/"
        }
      },
      "execution_count": 232,
      "outputs": [
        {
          "output_type": "stream",
          "name": "stdout",
          "text": [
            "<class 'pandas.core.frame.DataFrame'>\n",
            "RangeIndex: 810 entries, 0 to 809\n",
            "Data columns (total 4 columns):\n",
            " #   Column        Non-Null Count  Dtype \n",
            "---  ------        --------------  ----- \n",
            " 0   comment_text  810 non-null    object\n",
            " 1   Annotator_1   810 non-null    int64 \n",
            " 2   Annotator_2   810 non-null    int64 \n",
            " 3   Annotator_3   810 non-null    int64 \n",
            "dtypes: int64(3), object(1)\n",
            "memory usage: 25.4+ KB\n"
          ]
        }
      ]
    },
    {
      "cell_type": "markdown",
      "source": [
        "## random perturbation (per cotrollare che le funzioni funonziano)"
      ],
      "metadata": {
        "id": "iUW6JvI7gtHT"
      }
    },
    {
      "cell_type": "code",
      "source": [
        "# random perturbation (valori legali)\n",
        "for i in range(500):\n",
        "  df.loc[np.random.randint(df.shape[0]+1), 'Annotator_1'] = np.random.randint(0,4, dtype=np.int64)\n",
        "  df.loc[np.random.randint(df.shape[0]+1), 'Annotator_2'] = np.random.randint(0,4, dtype=np.int64)\n",
        "  df.loc[np.random.randint(df.shape[0]+1), 'Annotator_3'] = np.random.randint(0,4, dtype=np.int64)"
      ],
      "metadata": {
        "id": "LXSjholTXLHa"
      },
      "execution_count": 233,
      "outputs": []
    },
    {
      "cell_type": "code",
      "source": [
        "df.head()"
      ],
      "metadata": {
        "id": "UxlNBrSnXe9s",
        "outputId": "314b7b30-27c4-4255-a171-752bab2a9337",
        "colab": {
          "base_uri": "https://localhost:8080/",
          "height": 206
        }
      },
      "execution_count": 234,
      "outputs": [
        {
          "output_type": "execute_result",
          "data": {
            "text/plain": [
              "                                        comment_text  Annotator_1  \\\n",
              "0  Siamo davanti ad una prova, e non solo di quoz...          2.0   \n",
              "1  La storia dei 2 bimbi di Bergamo - vaccini: qu...          0.0   \n",
              "2  L'avete capito che non toglieranno il green pa...          3.0   \n",
              "3  Quindi  la farsa dello spazio e della terra a ...          3.0   \n",
              "4  In breve tempo, per accedere a Internet, sarà ...          1.0   \n",
              "\n",
              "   Annotator_2  Annotator_3  \n",
              "0          1.0          1.0  \n",
              "1          0.0          1.0  \n",
              "2          0.0          1.0  \n",
              "3          3.0          1.0  \n",
              "4          0.0          1.0  "
            ],
            "text/html": [
              "\n",
              "  <div id=\"df-bda4b97c-38b0-4dea-8121-e4127ac1393d\" class=\"colab-df-container\">\n",
              "    <div>\n",
              "<style scoped>\n",
              "    .dataframe tbody tr th:only-of-type {\n",
              "        vertical-align: middle;\n",
              "    }\n",
              "\n",
              "    .dataframe tbody tr th {\n",
              "        vertical-align: top;\n",
              "    }\n",
              "\n",
              "    .dataframe thead th {\n",
              "        text-align: right;\n",
              "    }\n",
              "</style>\n",
              "<table border=\"1\" class=\"dataframe\">\n",
              "  <thead>\n",
              "    <tr style=\"text-align: right;\">\n",
              "      <th></th>\n",
              "      <th>comment_text</th>\n",
              "      <th>Annotator_1</th>\n",
              "      <th>Annotator_2</th>\n",
              "      <th>Annotator_3</th>\n",
              "    </tr>\n",
              "  </thead>\n",
              "  <tbody>\n",
              "    <tr>\n",
              "      <th>0</th>\n",
              "      <td>Siamo davanti ad una prova, e non solo di quoz...</td>\n",
              "      <td>2.0</td>\n",
              "      <td>1.0</td>\n",
              "      <td>1.0</td>\n",
              "    </tr>\n",
              "    <tr>\n",
              "      <th>1</th>\n",
              "      <td>La storia dei 2 bimbi di Bergamo - vaccini: qu...</td>\n",
              "      <td>0.0</td>\n",
              "      <td>0.0</td>\n",
              "      <td>1.0</td>\n",
              "    </tr>\n",
              "    <tr>\n",
              "      <th>2</th>\n",
              "      <td>L'avete capito che non toglieranno il green pa...</td>\n",
              "      <td>3.0</td>\n",
              "      <td>0.0</td>\n",
              "      <td>1.0</td>\n",
              "    </tr>\n",
              "    <tr>\n",
              "      <th>3</th>\n",
              "      <td>Quindi  la farsa dello spazio e della terra a ...</td>\n",
              "      <td>3.0</td>\n",
              "      <td>3.0</td>\n",
              "      <td>1.0</td>\n",
              "    </tr>\n",
              "    <tr>\n",
              "      <th>4</th>\n",
              "      <td>In breve tempo, per accedere a Internet, sarà ...</td>\n",
              "      <td>1.0</td>\n",
              "      <td>0.0</td>\n",
              "      <td>1.0</td>\n",
              "    </tr>\n",
              "  </tbody>\n",
              "</table>\n",
              "</div>\n",
              "    <div class=\"colab-df-buttons\">\n",
              "\n",
              "  <div class=\"colab-df-container\">\n",
              "    <button class=\"colab-df-convert\" onclick=\"convertToInteractive('df-bda4b97c-38b0-4dea-8121-e4127ac1393d')\"\n",
              "            title=\"Convert this dataframe to an interactive table.\"\n",
              "            style=\"display:none;\">\n",
              "\n",
              "  <svg xmlns=\"http://www.w3.org/2000/svg\" height=\"24px\" viewBox=\"0 -960 960 960\">\n",
              "    <path d=\"M120-120v-720h720v720H120Zm60-500h600v-160H180v160Zm220 220h160v-160H400v160Zm0 220h160v-160H400v160ZM180-400h160v-160H180v160Zm440 0h160v-160H620v160ZM180-180h160v-160H180v160Zm440 0h160v-160H620v160Z\"/>\n",
              "  </svg>\n",
              "    </button>\n",
              "\n",
              "  <style>\n",
              "    .colab-df-container {\n",
              "      display:flex;\n",
              "      gap: 12px;\n",
              "    }\n",
              "\n",
              "    .colab-df-convert {\n",
              "      background-color: #E8F0FE;\n",
              "      border: none;\n",
              "      border-radius: 50%;\n",
              "      cursor: pointer;\n",
              "      display: none;\n",
              "      fill: #1967D2;\n",
              "      height: 32px;\n",
              "      padding: 0 0 0 0;\n",
              "      width: 32px;\n",
              "    }\n",
              "\n",
              "    .colab-df-convert:hover {\n",
              "      background-color: #E2EBFA;\n",
              "      box-shadow: 0px 1px 2px rgba(60, 64, 67, 0.3), 0px 1px 3px 1px rgba(60, 64, 67, 0.15);\n",
              "      fill: #174EA6;\n",
              "    }\n",
              "\n",
              "    .colab-df-buttons div {\n",
              "      margin-bottom: 4px;\n",
              "    }\n",
              "\n",
              "    [theme=dark] .colab-df-convert {\n",
              "      background-color: #3B4455;\n",
              "      fill: #D2E3FC;\n",
              "    }\n",
              "\n",
              "    [theme=dark] .colab-df-convert:hover {\n",
              "      background-color: #434B5C;\n",
              "      box-shadow: 0px 1px 3px 1px rgba(0, 0, 0, 0.15);\n",
              "      filter: drop-shadow(0px 1px 2px rgba(0, 0, 0, 0.3));\n",
              "      fill: #FFFFFF;\n",
              "    }\n",
              "  </style>\n",
              "\n",
              "    <script>\n",
              "      const buttonEl =\n",
              "        document.querySelector('#df-bda4b97c-38b0-4dea-8121-e4127ac1393d button.colab-df-convert');\n",
              "      buttonEl.style.display =\n",
              "        google.colab.kernel.accessAllowed ? 'block' : 'none';\n",
              "\n",
              "      async function convertToInteractive(key) {\n",
              "        const element = document.querySelector('#df-bda4b97c-38b0-4dea-8121-e4127ac1393d');\n",
              "        const dataTable =\n",
              "          await google.colab.kernel.invokeFunction('convertToInteractive',\n",
              "                                                    [key], {});\n",
              "        if (!dataTable) return;\n",
              "\n",
              "        const docLinkHtml = 'Like what you see? Visit the ' +\n",
              "          '<a target=\"_blank\" href=https://colab.research.google.com/notebooks/data_table.ipynb>data table notebook</a>'\n",
              "          + ' to learn more about interactive tables.';\n",
              "        element.innerHTML = '';\n",
              "        dataTable['output_type'] = 'display_data';\n",
              "        await google.colab.output.renderOutput(dataTable, element);\n",
              "        const docLink = document.createElement('div');\n",
              "        docLink.innerHTML = docLinkHtml;\n",
              "        element.appendChild(docLink);\n",
              "      }\n",
              "    </script>\n",
              "  </div>\n",
              "\n",
              "\n",
              "<div id=\"df-be37717f-252b-49ef-9a04-12cb77993356\">\n",
              "  <button class=\"colab-df-quickchart\" onclick=\"quickchart('df-be37717f-252b-49ef-9a04-12cb77993356')\"\n",
              "            title=\"Suggest charts.\"\n",
              "            style=\"display:none;\">\n",
              "\n",
              "<svg xmlns=\"http://www.w3.org/2000/svg\" height=\"24px\"viewBox=\"0 0 24 24\"\n",
              "     width=\"24px\">\n",
              "    <g>\n",
              "        <path d=\"M19 3H5c-1.1 0-2 .9-2 2v14c0 1.1.9 2 2 2h14c1.1 0 2-.9 2-2V5c0-1.1-.9-2-2-2zM9 17H7v-7h2v7zm4 0h-2V7h2v10zm4 0h-2v-4h2v4z\"/>\n",
              "    </g>\n",
              "</svg>\n",
              "  </button>\n",
              "\n",
              "<style>\n",
              "  .colab-df-quickchart {\n",
              "    background-color: #E8F0FE;\n",
              "    border: none;\n",
              "    border-radius: 50%;\n",
              "    cursor: pointer;\n",
              "    display: none;\n",
              "    fill: #1967D2;\n",
              "    height: 32px;\n",
              "    padding: 0 0 0 0;\n",
              "    width: 32px;\n",
              "  }\n",
              "\n",
              "  .colab-df-quickchart:hover {\n",
              "    background-color: #E2EBFA;\n",
              "    box-shadow: 0px 1px 2px rgba(60, 64, 67, 0.3), 0px 1px 3px 1px rgba(60, 64, 67, 0.15);\n",
              "    fill: #174EA6;\n",
              "  }\n",
              "\n",
              "  [theme=dark] .colab-df-quickchart {\n",
              "    background-color: #3B4455;\n",
              "    fill: #D2E3FC;\n",
              "  }\n",
              "\n",
              "  [theme=dark] .colab-df-quickchart:hover {\n",
              "    background-color: #434B5C;\n",
              "    box-shadow: 0px 1px 3px 1px rgba(0, 0, 0, 0.15);\n",
              "    filter: drop-shadow(0px 1px 2px rgba(0, 0, 0, 0.3));\n",
              "    fill: #FFFFFF;\n",
              "  }\n",
              "</style>\n",
              "\n",
              "  <script>\n",
              "    async function quickchart(key) {\n",
              "      const charts = await google.colab.kernel.invokeFunction(\n",
              "          'suggestCharts', [key], {});\n",
              "    }\n",
              "    (() => {\n",
              "      let quickchartButtonEl =\n",
              "        document.querySelector('#df-be37717f-252b-49ef-9a04-12cb77993356 button');\n",
              "      quickchartButtonEl.style.display =\n",
              "        google.colab.kernel.accessAllowed ? 'block' : 'none';\n",
              "    })();\n",
              "  </script>\n",
              "</div>\n",
              "    </div>\n",
              "  </div>\n"
            ]
          },
          "metadata": {},
          "execution_count": 234
        }
      ]
    },
    {
      "cell_type": "code",
      "source": [
        "# random perturbation (valori non legali)\n",
        "for i in range(11):\n",
        "  df.loc[np.random.randint(df.shape[0]+1), 'Annotator_1'] = np.random.randint(4,5, dtype=np.int64)\n",
        "  df.loc[np.random.randint(df.shape[0]+1), 'Annotator_2'] = np.random.randint(4,5, dtype=np.int64)\n",
        "  df.loc[np.random.randint(df.shape[0]+1), 'Annotator_3'] = np.random.randint(4,5, dtype=np.int64)"
      ],
      "metadata": {
        "id": "wzPU5AdHfmDA"
      },
      "execution_count": 235,
      "outputs": []
    },
    {
      "cell_type": "code",
      "source": [
        "for col in df.columns[1:]:\n",
        "  df[col] =pd.to_numeric(df[col], errors='coerce').fillna(0).astype('int64').astype(np.int64)"
      ],
      "metadata": {
        "id": "SbTshBtUZwF1"
      },
      "execution_count": 236,
      "outputs": []
    },
    {
      "cell_type": "code",
      "source": [
        "df.info()"
      ],
      "metadata": {
        "id": "M61fjxudgLGf",
        "outputId": "34dfb6f6-6448-48c7-dc15-9a99586bff1a",
        "colab": {
          "base_uri": "https://localhost:8080/"
        }
      },
      "execution_count": 237,
      "outputs": [
        {
          "output_type": "stream",
          "name": "stdout",
          "text": [
            "<class 'pandas.core.frame.DataFrame'>\n",
            "RangeIndex: 812 entries, 0 to 811\n",
            "Data columns (total 4 columns):\n",
            " #   Column        Non-Null Count  Dtype \n",
            "---  ------        --------------  ----- \n",
            " 0   comment_text  810 non-null    object\n",
            " 1   Annotator_1   812 non-null    int64 \n",
            " 2   Annotator_2   812 non-null    int64 \n",
            " 3   Annotator_3   812 non-null    int64 \n",
            "dtypes: int64(3), object(1)\n",
            "memory usage: 25.5+ KB\n"
          ]
        }
      ]
    },
    {
      "cell_type": "markdown",
      "source": [
        "# Cleaning"
      ],
      "metadata": {
        "id": "Abz73_Hzfz8G"
      }
    },
    {
      "cell_type": "code",
      "source": [
        "def check_vals(unique_vals_exp, df, columns, return_dict=False):\n",
        "  idxs = dict()\n",
        "  for col in df.columns[1:]:\n",
        "    unique_vals = np.unique(df[col])\n",
        "    if not np.array_equal(unique_vals, unique_vals_exp):\n",
        "      print('Errors found in col', col)\n",
        "      print('Indexes of errors:', list(df.query(f'{col} not in {unique_vals_exp}').index))\n",
        "      idxs[col] = list(df.query(f'{col} not in {unique_vals_exp}').index)\n",
        "\n",
        "  if len(idxs) == 0:\n",
        "      print('no errors found')\n",
        "\n",
        "  if return_dict:\n",
        "    return idxs"
      ],
      "metadata": {
        "id": "FFYPf8kEfTE8"
      },
      "execution_count": 240,
      "outputs": []
    },
    {
      "cell_type": "code",
      "source": [
        "unique_vals_exp = [0,1,2,3]\n",
        "check_vals(unique_vals_exp, df, df.columns[1:])"
      ],
      "metadata": {
        "id": "ET6rWu7bf2qT",
        "outputId": "ef192b84-7a20-4bd5-cd1f-38a15e791945",
        "colab": {
          "base_uri": "https://localhost:8080/"
        }
      },
      "execution_count": 241,
      "outputs": [
        {
          "output_type": "stream",
          "name": "stdout",
          "text": [
            "Errors found in col Annotator_1\n",
            "Indexes of errors: [30, 57, 225, 481, 501, 525, 562, 594, 630, 731, 769]\n",
            "Errors found in col Annotator_2\n",
            "Indexes of errors: [159, 301, 365, 419, 435, 501, 540, 615, 647, 668, 712]\n",
            "Errors found in col Annotator_3\n",
            "Indexes of errors: [20, 121, 205, 402, 437, 445, 500, 578, 594, 663, 698]\n"
          ]
        }
      ]
    },
    {
      "cell_type": "code",
      "source": [
        "idx_dict = check_vals(unique_vals_exp, df, df.columns[1:], return_dict=True)\n",
        "for col, idx in idx_dict.items():\n",
        "  df.loc[idx, col] = 1"
      ],
      "metadata": {
        "id": "kYTamnU3gQcG",
        "outputId": "a8363b14-21ec-407b-b0d8-b45697945dfa",
        "colab": {
          "base_uri": "https://localhost:8080/"
        }
      },
      "execution_count": 242,
      "outputs": [
        {
          "output_type": "stream",
          "name": "stdout",
          "text": [
            "Errors found in col Annotator_1\n",
            "Indexes of errors: [30, 57, 225, 481, 501, 525, 562, 594, 630, 731, 769]\n",
            "Errors found in col Annotator_2\n",
            "Indexes of errors: [159, 301, 365, 419, 435, 501, 540, 615, 647, 668, 712]\n",
            "Errors found in col Annotator_3\n",
            "Indexes of errors: [20, 121, 205, 402, 437, 445, 500, 578, 594, 663, 698]\n"
          ]
        }
      ]
    },
    {
      "cell_type": "code",
      "source": [
        "check_vals(unique_vals_exp, df, df.columns[1:])"
      ],
      "metadata": {
        "id": "fE-w1y9Uggf8",
        "outputId": "dd560930-7eaa-4f0e-ee76-749ff86baed5",
        "colab": {
          "base_uri": "https://localhost:8080/"
        }
      },
      "execution_count": 243,
      "outputs": [
        {
          "output_type": "stream",
          "name": "stdout",
          "text": [
            "no errors found\n"
          ]
        }
      ]
    },
    {
      "cell_type": "markdown",
      "source": [
        "# Gold Standard"
      ],
      "metadata": {
        "id": "XMOEkahcU4EQ"
      }
    },
    {
      "cell_type": "code",
      "source": [
        "df['Gold_Standard'] = 42\n",
        "for idx ,row in df[['Annotator_1','Annotator_2','Annotator_3']].iterrows():\n",
        "  vals = np.array([row['Annotator_1'], row['Annotator_2'], row['Annotator_3']])\n",
        "  if len(np.unique(vals)) == 2:\n",
        "    df.loc[idx, 'Gold_Standard'] = np.argmax(np.bincount(vals))\n",
        "\n",
        "to_check = list(df.query('Gold_Standard == 42').index)\n",
        "print(to_check) # indice records in cui ogni annotatore ha etichettato con etuchette differenti\n",
        "print(len(to_check))"
      ],
      "metadata": {
        "id": "CJjzywCrU2_O",
        "outputId": "d726cdb1-5522-4c46-f6ab-cd5544578e01",
        "colab": {
          "base_uri": "https://localhost:8080/"
        }
      },
      "execution_count": 244,
      "outputs": [
        {
          "output_type": "stream",
          "name": "stdout",
          "text": [
            "[2, 7, 12, 15, 16, 22, 23, 24, 25, 26, 27, 30, 31, 32, 33, 35, 37, 41, 42, 43, 44, 45, 47, 48, 50, 52, 53, 60, 66, 71, 73, 75, 77, 78, 80, 83, 86, 90, 92, 95, 98, 100, 101, 102, 103, 105, 110, 112, 114, 115, 116, 121, 126, 127, 130, 133, 137, 140, 142, 145, 146, 150, 151, 152, 153, 155, 159, 160, 163, 164, 165, 167, 169, 172, 174, 175, 178, 183, 188, 189, 193, 195, 197, 200, 204, 208, 210, 213, 214, 217, 219, 222, 230, 231, 234, 237, 239, 240, 242, 243, 246, 248, 249, 250, 252, 260, 263, 264, 265, 266, 269, 272, 273, 275, 276, 277, 278, 279, 280, 282, 283, 284, 285, 288, 289, 293, 295, 297, 298, 299, 300, 303, 304, 307, 308, 309, 310, 311, 313, 314, 315, 317, 318, 319, 322, 324, 325, 328, 330, 333, 334, 335, 345, 346, 348, 352, 353, 354, 359, 366, 367, 369, 371, 372, 375, 380, 381, 385, 387, 388, 391, 392, 394, 396, 398, 399, 401, 402, 407, 408, 409, 410, 413, 420, 421, 423, 424, 425, 427, 431, 432, 433, 434, 436, 437, 438, 440, 441, 442, 445, 446, 447, 449, 450, 451, 453, 456, 457, 458, 460, 464, 465, 468, 469, 470, 475, 476, 477, 479, 482, 483, 484, 486, 489, 491, 492, 494, 504, 505, 506, 512, 517, 518, 519, 521, 523, 526, 529, 530, 534, 535, 536, 540, 543, 544, 545, 548, 552, 555, 556, 559, 564, 565, 566, 567, 568, 570, 572, 577, 578, 580, 581, 583, 584, 586, 589, 592, 593, 595, 597, 598, 599, 600, 605, 607, 609, 610, 622, 623, 628, 629, 631, 632, 633, 634, 637, 638, 643, 652, 655, 656, 657, 662, 666, 667, 670, 672, 673, 674, 677, 682, 684, 685, 688, 691, 694, 695, 696, 698, 700, 703, 704, 708, 709, 710, 714, 716, 717, 719, 720, 722, 723, 726, 727, 729, 730, 732, 735, 738, 743, 745, 749, 750, 755, 756, 757, 758, 763, 765, 766, 769, 770, 773, 774, 775, 777, 779, 785, 787, 792, 793, 794, 798, 801, 806, 807, 808, 809, 810]\n",
            "359\n"
          ]
        }
      ]
    },
    {
      "cell_type": "markdown",
      "source": [
        "# Inter-annotator agreement\n",
        "\n",
        "### **K = P(A) - P(E) / 1 - P(E)**\n",
        "\n",
        "P(A) = Volte in cui gli annotatori si sono mostrati d'accordo\n",
        "\n",
        "P(E) = Volte in cui ci si aspetta che gli annotatori per caso compiano la stessa scelta (e = expected)\n",
        "\n",
        "The higher the better"
      ],
      "metadata": {
        "id": "CJ-t0eJIOhTo"
      }
    },
    {
      "cell_type": "code",
      "source": [
        "def interannotator_agreement(annotator1, annotator2):\n",
        "  num_records = len(annotator1)\n",
        "  label1, label2, label3, label4 = np.unique(annotator1)\n",
        "\n",
        "  counts1 = np.unique(annotator1, return_counts=True)[1]\n",
        "  counts2 = np.unique(annotator2, return_counts=True)[1]\n",
        "\n",
        "  annotation_prob = {\n",
        "      'Annotator_1': {\n",
        "          label1: counts1[0]/num_records,\n",
        "          label2: counts1[1]/num_records,\n",
        "          label3: counts1[2]/num_records,\n",
        "          label4: counts1[3]/num_records\n",
        "      },\n",
        "      'Annotator_2': {\n",
        "          label1: counts2[0]/num_records,\n",
        "          label2: counts2[1]/num_records,\n",
        "          label3: counts2[2]/num_records,\n",
        "          label4: counts2[3]/num_records\n",
        "      }\n",
        "  }\n",
        "\n",
        "  alignment = 0\n",
        "\n",
        "  for val1, val2 in zip(annotator1, annotator2):\n",
        "    if val1 == val2:\n",
        "      alignment += 1\n",
        "\n",
        "  p_a = alignment/num_records\n",
        "  p_e = (annotation_prob['Annotator_1'][label1] * annotation_prob['Annotator_2'][label1]) + \\\n",
        "        (annotation_prob['Annotator_1'][label2] * annotation_prob['Annotator_2'][label2]) + \\\n",
        "        (annotation_prob['Annotator_1'][label3] * annotation_prob['Annotator_2'][label3]) + \\\n",
        "        (annotation_prob['Annotator_1'][label4] * annotation_prob['Annotator_2'][label4])\n",
        "\n",
        "  k =  (p_a - p_e) / (1 - p_e)\n",
        "\n",
        "  return k\n",
        "\n",
        "print(interannotator_agreement(np.array([1,1,1,2,2,3,4,4]), np.array([1,1,1,2,2,3,4,4])))\n",
        "\n"
      ],
      "metadata": {
        "id": "lkWRnPTVMojr",
        "outputId": "d6c75559-4692-49c5-c5c7-b0a1dcb2f9fb",
        "colab": {
          "base_uri": "https://localhost:8080/"
        }
      },
      "execution_count": 67,
      "outputs": [
        {
          "output_type": "stream",
          "name": "stdout",
          "text": [
            "1.0\n"
          ]
        }
      ]
    },
    {
      "cell_type": "code",
      "source": [
        "from statistics import harmonic_mean, mean\n",
        "\n",
        "k1 = interannotator_agreement(np.array(df['Annotator_1']), np.array(df['Annotator_2']))\n",
        "k2 = interannotator_agreement(np.array(df['Annotator_1']), np.array(df['Annotator_3']))\n",
        "k3 = interannotator_agreement(np.array(df['Annotator_2']), np.array(df['Annotator_3']))\n",
        "agg = (k1+k2+k3)/3\n",
        "\n",
        "print('k1:', k1)\n",
        "print('k2:', k2)\n",
        "print('k3:', k3)\n",
        "print('Mean:', agg)\n",
        "\n"
      ],
      "metadata": {
        "colab": {
          "base_uri": "https://localhost:8080/"
        },
        "id": "JMCo3Cr_NyLF",
        "outputId": "215622fc-68c1-46c8-b789-df6dd3e25379"
      },
      "execution_count": 68,
      "outputs": [
        {
          "output_type": "stream",
          "name": "stdout",
          "text": [
            "k1: 0.983757525930308\n",
            "k2: 0.9817183726593123\n",
            "k3: 0.9939009545131681\n",
            "Mean: 0.9864589510342627\n"
          ]
        }
      ]
    },
    {
      "cell_type": "code",
      "source": [],
      "metadata": {
        "id": "3mAjBJlXWOoJ"
      },
      "execution_count": null,
      "outputs": []
    }
  ]
}