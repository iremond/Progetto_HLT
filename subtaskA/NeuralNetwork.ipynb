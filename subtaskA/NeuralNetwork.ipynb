{
 "cells": [
  {
   "cell_type": "code",
   "execution_count": 78,
   "metadata": {},
   "outputs": [],
   "source": [
    "import pandas as pd\n",
    "import numpy as np\n",
    "\n",
    "from tensorflow.keras.layers import Embedding, Flatten, Dense, Conv1D, MaxPooling1D, GlobalMaxPooling1D, Dropout\n",
    "from tensorflow.keras.models import Sequential\n",
    "from tensorflow.keras.utils import plot_model\n",
    "from tensorflow.data import Dataset"
   ]
  },
  {
   "cell_type": "code",
   "execution_count": 3,
   "metadata": {},
   "outputs": [
    {
     "data": {
      "text/html": [
       "<div>\n",
       "<style scoped>\n",
       "    .dataframe tbody tr th:only-of-type {\n",
       "        vertical-align: middle;\n",
       "    }\n",
       "\n",
       "    .dataframe tbody tr th {\n",
       "        vertical-align: top;\n",
       "    }\n",
       "\n",
       "    .dataframe thead th {\n",
       "        text-align: right;\n",
       "    }\n",
       "</style>\n",
       "<table border=\"1\" class=\"dataframe\">\n",
       "  <thead>\n",
       "    <tr style=\"text-align: right;\">\n",
       "      <th></th>\n",
       "      <th>comment_text</th>\n",
       "      <th>conspiratorial</th>\n",
       "    </tr>\n",
       "  </thead>\n",
       "  <tbody>\n",
       "    <tr>\n",
       "      <th>0</th>\n",
       "      <td>Se non ci fossero soldati non ci sarebbero gue...</td>\n",
       "      <td>0</td>\n",
       "    </tr>\n",
       "    <tr>\n",
       "      <th>1</th>\n",
       "      <td>](      \"Shedding of Infectious SARS-CoV-2 Des...</td>\n",
       "      <td>1</td>\n",
       "    </tr>\n",
       "    <tr>\n",
       "      <th>2</th>\n",
       "      <td>PAURA E DELIRIO ALLA CNN: IL MINISTERO DELLA V...</td>\n",
       "      <td>1</td>\n",
       "    </tr>\n",
       "    <tr>\n",
       "      <th>3</th>\n",
       "      <td>L'Aspirina non aumenta la sopravvivenza dei pa...</td>\n",
       "      <td>0</td>\n",
       "    </tr>\n",
       "    <tr>\n",
       "      <th>4</th>\n",
       "      <td>L'Italia non puo' dare armi lo vieta la Costit...</td>\n",
       "      <td>0</td>\n",
       "    </tr>\n",
       "  </tbody>\n",
       "</table>\n",
       "</div>"
      ],
      "text/plain": [
       "                                        comment_text  conspiratorial\n",
       "0  Se non ci fossero soldati non ci sarebbero gue...               0\n",
       "1  ](      \"Shedding of Infectious SARS-CoV-2 Des...               1\n",
       "2  PAURA E DELIRIO ALLA CNN: IL MINISTERO DELLA V...               1\n",
       "3  L'Aspirina non aumenta la sopravvivenza dei pa...               0\n",
       "4  L'Italia non puo' dare armi lo vieta la Costit...               0"
      ]
     },
     "execution_count": 3,
     "metadata": {},
     "output_type": "execute_result"
    }
   ],
   "source": [
    "df_train = pd.read_csv(\"dataset\\subtaskA_clean_dev_cased.csv\")\n",
    "df_train.head()"
   ]
  },
  {
   "cell_type": "code",
   "execution_count": 4,
   "metadata": {},
   "outputs": [
    {
     "data": {
      "text/plain": [
       "(1840, 2)"
      ]
     },
     "execution_count": 4,
     "metadata": {},
     "output_type": "execute_result"
    }
   ],
   "source": [
    "df_train.shape"
   ]
  },
  {
   "cell_type": "code",
   "execution_count": 83,
   "metadata": {},
   "outputs": [],
   "source": [
    "X_train = list(df_train.comment_text)"
   ]
  },
  {
   "cell_type": "code",
   "execution_count": 84,
   "metadata": {},
   "outputs": [],
   "source": [
    "y_train = list(df_train.conspiratorial)"
   ]
  },
  {
   "cell_type": "code",
   "execution_count": 86,
   "metadata": {},
   "outputs": [],
   "source": [
    "# Extract a training & validation split\n",
    "validation_split = 0.3\n",
    "num_validation_samples = int(validation_split * len(X_train))\n",
    "train_samples = X_train[:-num_validation_samples]\n",
    "val_samples = X_train[-num_validation_samples:]\n",
    "train_labels = y_train[:-num_validation_samples]\n",
    "val_labels = y_train[-num_validation_samples:]"
   ]
  },
  {
   "cell_type": "markdown",
   "metadata": {},
   "source": [
    "# Data Preprocessing"
   ]
  },
  {
   "cell_type": "code",
   "execution_count": 87,
   "metadata": {},
   "outputs": [],
   "source": [
    "from tensorflow.keras.layers import TextVectorization\n",
    "\n",
    "vectorizer = TextVectorization(max_tokens=20000, output_sequence_length=705)\n",
    "text_ds = Dataset.from_tensor_slices(train_samples).batch(128)\n",
    "vectorizer.adapt(text_ds)"
   ]
  },
  {
   "cell_type": "code",
   "execution_count": 88,
   "metadata": {},
   "outputs": [
    {
     "data": {
      "text/plain": [
       "['', '[UNK]', 'di', 'e', 'che']"
      ]
     },
     "execution_count": 88,
     "metadata": {},
     "output_type": "execute_result"
    }
   ],
   "source": [
    "vectorizer.get_vocabulary()[:5]"
   ]
  },
  {
   "cell_type": "code",
   "execution_count": 89,
   "metadata": {},
   "outputs": [],
   "source": [
    "voc = vectorizer.get_vocabulary()\n",
    "word_index = dict(zip(voc, range(len(voc))))"
   ]
  },
  {
   "cell_type": "markdown",
   "metadata": {},
   "source": [
    "## Tokenization and Word Normalization (questa parte probabilmente non serve)"
   ]
  },
  {
   "cell_type": "code",
   "execution_count": 11,
   "metadata": {},
   "outputs": [],
   "source": [
    "from nltk.tokenize import TweetTokenizer # Twitter-specific tokenizer\n",
    "tokenizer = TweetTokenizer()"
   ]
  },
  {
   "cell_type": "code",
   "execution_count": 12,
   "metadata": {},
   "outputs": [],
   "source": [
    "import re\n",
    "\n",
    "def get_digits(text):\n",
    "    try:\n",
    "      val = int(text) # converte la stringa in intero\n",
    "    except:\n",
    "      text = re.sub('\\d', '@Dg', text) # sostituisce a ogni cifra in text la stringa '@Dd'\n",
    "      return text\n",
    "    if val >= 0 and val < 2100: # se è un numero tra 0 e 2100\n",
    "      return str(val) # viene lasciato uguale\n",
    "    else:\n",
    "      return \"DIGLEN_\" + str(len(str(val))) # viene indicato il numero di cifre che compongono quel numero\n",
    "\n",
    "def normalize_text(word):\n",
    "    if \"http\" in word or (\".\" in word and \"/\" in word):\n",
    "      word = str(\"___URL___\")\n",
    "      return word\n",
    "    if len(word) > 26:\n",
    "      return \"__LONG-LONG__\"\n",
    "    new_word = get_digits(word)\n",
    "    if new_word != word:\n",
    "      word = new_word\n",
    "    if word[0].isupper(): # se la parola inizia con la lettera maiuscola\n",
    "      word = word.capitalize() # solo la prima viene lasciata maiuscola\n",
    "    else:\n",
    "      word = word.lower() # tutta in minuscolo\n",
    "    return word"
   ]
  },
  {
   "cell_type": "code",
   "execution_count": 13,
   "metadata": {},
   "outputs": [],
   "source": [
    "X_train_tokenized = []\n",
    "for post in X_train_splitted:\n",
    "    post_tokens = []\n",
    "    for sentence in post:\n",
    "        sentence_tokens = [normalize_text(word) for word in tokenizer.tokenize(sentence)]\n",
    "        post_tokens.append(sentence_tokens)\n",
    "    X_train_tokenized.append(post_tokens)"
   ]
  },
  {
   "cell_type": "code",
   "execution_count": 14,
   "metadata": {},
   "outputs": [
    {
     "data": {
      "text/plain": [
       "1840"
      ]
     },
     "execution_count": 14,
     "metadata": {},
     "output_type": "execute_result"
    }
   ],
   "source": [
    "len(X_train_tokenized)"
   ]
  },
  {
   "cell_type": "code",
   "execution_count": 15,
   "metadata": {},
   "outputs": [
    {
     "data": {
      "text/plain": [
       "[['Se',\n",
       "  'non',\n",
       "  'ci',\n",
       "  'fossero',\n",
       "  'soldati',\n",
       "  'non',\n",
       "  'ci',\n",
       "  'sarebbero',\n",
       "  'guerre',\n",
       "  '.']]"
      ]
     },
     "execution_count": 15,
     "metadata": {},
     "output_type": "execute_result"
    }
   ],
   "source": [
    "X_train_tokenized[0]"
   ]
  },
  {
   "cell_type": "code",
   "execution_count": 16,
   "metadata": {},
   "outputs": [],
   "source": [
    "X_train_tokenized_flatten = []\n",
    "for post in X_train_splitted:\n",
    "    post_tokens = []\n",
    "    for sentence in post:\n",
    "        sentence_tokens = [normalize_text(word) for word in tokenizer.tokenize(sentence)]\n",
    "        for word in sentence_tokens:\n",
    "            post_tokens.append(word)\n",
    "    X_train_tokenized_flatten.append(post_tokens)"
   ]
  },
  {
   "cell_type": "code",
   "execution_count": 17,
   "metadata": {},
   "outputs": [
    {
     "data": {
      "text/plain": [
       "['Se',\n",
       " 'non',\n",
       " 'ci',\n",
       " 'fossero',\n",
       " 'soldati',\n",
       " 'non',\n",
       " 'ci',\n",
       " 'sarebbero',\n",
       " 'guerre',\n",
       " '.']"
      ]
     },
     "execution_count": 17,
     "metadata": {},
     "output_type": "execute_result"
    }
   ],
   "source": [
    "X_train_tokenized_flatten[0]"
   ]
  },
  {
   "cell_type": "markdown",
   "metadata": {},
   "source": [
    "## Manual Padding (questa parte probabilmente non serve)"
   ]
  },
  {
   "cell_type": "code",
   "execution_count": 18,
   "metadata": {},
   "outputs": [
    {
     "data": {
      "text/plain": [
       "705"
      ]
     },
     "execution_count": 18,
     "metadata": {},
     "output_type": "execute_result"
    }
   ],
   "source": [
    "max_length = float('-inf')\n",
    "for post in X_train_tokenized:\n",
    "    post_words = 0\n",
    "    for sentence in post:\n",
    "        post_words += len(sentence)\n",
    "    if post_words > max_length:\n",
    "        max_length = post_words\n",
    "\n",
    "max_length"
   ]
  },
  {
   "cell_type": "code",
   "execution_count": 19,
   "metadata": {},
   "outputs": [],
   "source": [
    "for post in X_train_tokenized_flatten:\n",
    "    if len(post) < max_length:\n",
    "        for i in range(max_length-len(post)):\n",
    "            post.append('[UNK]')"
   ]
  },
  {
   "cell_type": "code",
   "execution_count": 20,
   "metadata": {},
   "outputs": [],
   "source": [
    "X_train_tokenized_flatten = np.array(X_train_tokenized_flatten)"
   ]
  },
  {
   "cell_type": "code",
   "execution_count": 21,
   "metadata": {},
   "outputs": [
    {
     "data": {
      "text/plain": [
       "(1840, 705)"
      ]
     },
     "execution_count": 21,
     "metadata": {},
     "output_type": "execute_result"
    }
   ],
   "source": [
    "X_train_tokenized_flatten.shape"
   ]
  },
  {
   "cell_type": "markdown",
   "metadata": {},
   "source": [
    "## Word Embeddings"
   ]
  },
  {
   "cell_type": "code",
   "execution_count": 25,
   "metadata": {},
   "outputs": [],
   "source": [
    "embeddings_path = '..\\..\\itwac128.txt'"
   ]
  },
  {
   "cell_type": "code",
   "execution_count": 26,
   "metadata": {},
   "outputs": [],
   "source": [
    "def load_word_embeddings(emb_path):\n",
    "    '''crea un dizionario contenente gli embedding di parole presente nel file src_path'''\n",
    "    embeddings = dict() # dizionario che conterrà gli embedding\n",
    "    for line in open(emb_path, 'r'):\n",
    "        line = line.strip().split('\\t')\n",
    "        word = line[0]\n",
    "        embedding = line[1:]\n",
    "        embedding = [float(comp) for comp in embedding] # convertiamo le componenti dell'embedding in float\n",
    "        embeddings[word] = np.asarray(embedding) # trasformiamo la lista delle componenti in un vettore di numpy\n",
    "    return embeddings"
   ]
  },
  {
   "cell_type": "code",
   "execution_count": 27,
   "metadata": {},
   "outputs": [],
   "source": [
    "embeddings = load_word_embeddings(embeddings_path)"
   ]
  },
  {
   "cell_type": "code",
   "execution_count": 28,
   "metadata": {},
   "outputs": [
    {
     "data": {
      "text/plain": [
       "1247492"
      ]
     },
     "execution_count": 28,
     "metadata": {},
     "output_type": "execute_result"
    }
   ],
   "source": [
    "len(embeddings)"
   ]
  },
  {
   "cell_type": "markdown",
   "metadata": {},
   "source": [
    "Now, let's prepare a corresponding embedding matrix that we can use in a Keras Embedding layer. It's a simple NumPy matrix where entry at index i is the pre-trained vector for the word of index i in our vectorizer's vocabulary."
   ]
  },
  {
   "cell_type": "code",
   "execution_count": 91,
   "metadata": {},
   "outputs": [
    {
     "name": "stdout",
     "output_type": "stream",
     "text": [
      "Converted 10776 words (1603 misses)\n"
     ]
    }
   ],
   "source": [
    "num_tokens = len(voc) + 2\n",
    "embedding_dim = 128\n",
    "hits = 0\n",
    "misses = 0\n",
    "\n",
    "# Prepare embedding matrix\n",
    "embedding_matrix = np.zeros((num_tokens, embedding_dim))\n",
    "for word, i in word_index.items():\n",
    "    embedding_vector = embeddings.get(word)\n",
    "    if embedding_vector is not None:\n",
    "        # Words not found in embedding index will be all-zeros.\n",
    "        # This includes the representation for \"padding\" and \"OOV\"\n",
    "        embedding_matrix[i] = embedding_vector\n",
    "        hits += 1\n",
    "    else:\n",
    "        misses += 1\n",
    "print(\"Converted %d words (%d misses)\" % (hits, misses))"
   ]
  },
  {
   "cell_type": "code",
   "execution_count": 92,
   "metadata": {},
   "outputs": [
    {
     "data": {
      "text/plain": [
       "(12381, 128)"
      ]
     },
     "execution_count": 92,
     "metadata": {},
     "output_type": "execute_result"
    }
   ],
   "source": [
    "embedding_matrix.shape"
   ]
  },
  {
   "cell_type": "markdown",
   "metadata": {},
   "source": [
    "# Model Building"
   ]
  },
  {
   "cell_type": "code",
   "execution_count": 94,
   "metadata": {},
   "outputs": [],
   "source": [
    "from tensorflow.keras.initializers import Constant"
   ]
  },
  {
   "cell_type": "code",
   "execution_count": 95,
   "metadata": {},
   "outputs": [],
   "source": [
    "embedding_layer = Embedding(\n",
    "    num_tokens,\n",
    "    embedding_dim,\n",
    "    embeddings_initializer=Constant(embedding_matrix),\n",
    "    trainable=False,\n",
    ")"
   ]
  },
  {
   "cell_type": "code",
   "execution_count": 96,
   "metadata": {},
   "outputs": [],
   "source": [
    "from keras import Input, Model"
   ]
  },
  {
   "cell_type": "code",
   "execution_count": 110,
   "metadata": {},
   "outputs": [
    {
     "name": "stdout",
     "output_type": "stream",
     "text": [
      "Model: \"model_4\"\n",
      "_________________________________________________________________\n",
      " Layer (type)                Output Shape              Param #   \n",
      "=================================================================\n",
      " input_6 (InputLayer)        [(None, None)]            0         \n",
      "                                                                 \n",
      " embedding_9 (Embedding)     (None, None, 128)         1584768   \n",
      "                                                                 \n",
      " conv1d_12 (Conv1D)          (None, None, 128)         82048     \n",
      "                                                                 \n",
      " max_pooling1d_8 (MaxPooling  (None, None, 128)        0         \n",
      " 1D)                                                             \n",
      "                                                                 \n",
      " conv1d_13 (Conv1D)          (None, None, 128)         82048     \n",
      "                                                                 \n",
      " global_max_pooling1d_4 (Glo  (None, 128)              0         \n",
      " balMaxPooling1D)                                                \n",
      "                                                                 \n",
      " dense_10 (Dense)            (None, 128)               16512     \n",
      "                                                                 \n",
      " dropout_4 (Dropout)         (None, 128)               0         \n",
      "                                                                 \n",
      " dense_11 (Dense)            (None, 2)                 258       \n",
      "                                                                 \n",
      "=================================================================\n",
      "Total params: 1,765,634\n",
      "Trainable params: 180,866\n",
      "Non-trainable params: 1,584,768\n",
      "_________________________________________________________________\n"
     ]
    }
   ],
   "source": [
    "int_sequences_input = Input(shape=(None,), dtype=\"int64\")\n",
    "embedded_sequences = embedding_layer(int_sequences_input)\n",
    "x = Conv1D(128, 5, activation=\"relu\")(embedded_sequences)\n",
    "x = MaxPooling1D(5)(x)\n",
    "x = Conv1D(128, 5, activation=\"relu\")(x)\n",
    "x = GlobalMaxPooling1D()(x)\n",
    "x = Dense(128, activation=\"relu\")(x)\n",
    "x = Dropout(0.01)(x)\n",
    "preds = Dense(2, activation=\"softmax\")(x)\n",
    "model = Model(int_sequences_input, preds)\n",
    "model.summary()"
   ]
  },
  {
   "cell_type": "code",
   "execution_count": 132,
   "metadata": {},
   "outputs": [],
   "source": [
    "#plot_model(model, show_shapes=True)"
   ]
  },
  {
   "cell_type": "code",
   "execution_count": 112,
   "metadata": {},
   "outputs": [],
   "source": [
    "x_train = vectorizer(np.array([[s] for s in train_samples])).numpy()\n",
    "x_val = vectorizer(np.array([[s] for s in val_samples])).numpy()\n",
    "\n",
    "y_train = np.array(train_labels)\n",
    "y_val = np.array(val_labels)"
   ]
  },
  {
   "cell_type": "code",
   "execution_count": 113,
   "metadata": {},
   "outputs": [
    {
     "name": "stdout",
     "output_type": "stream",
     "text": [
      "Epoch 1/20\n",
      "11/11 [==============================] - 4s 272ms/step - loss: 0.6612 - acc: 0.6234 - val_loss: 0.6609 - val_acc: 0.6703\n",
      "Epoch 2/20\n",
      "11/11 [==============================] - 3s 240ms/step - loss: 0.6281 - acc: 0.6623 - val_loss: 0.6870 - val_acc: 0.5290\n",
      "Epoch 3/20\n",
      "11/11 [==============================] - 3s 242ms/step - loss: 0.6058 - acc: 0.6755 - val_loss: 0.5884 - val_acc: 0.7228\n",
      "Epoch 4/20\n",
      "11/11 [==============================] - 3s 244ms/step - loss: 0.5668 - acc: 0.7057 - val_loss: 0.6876 - val_acc: 0.5380\n",
      "Epoch 5/20\n",
      "11/11 [==============================] - 3s 243ms/step - loss: 0.5442 - acc: 0.7182 - val_loss: 0.5521 - val_acc: 0.7428\n",
      "Epoch 6/20\n",
      "11/11 [==============================] - 3s 300ms/step - loss: 0.5088 - acc: 0.7616 - val_loss: 0.5343 - val_acc: 0.7391\n",
      "Epoch 7/20\n",
      "11/11 [==============================] - 4s 326ms/step - loss: 0.4397 - acc: 0.7981 - val_loss: 0.5867 - val_acc: 0.6504\n",
      "Epoch 8/20\n",
      "11/11 [==============================] - 3s 317ms/step - loss: 0.4250 - acc: 0.8106 - val_loss: 0.5669 - val_acc: 0.7246\n",
      "Epoch 9/20\n",
      "11/11 [==============================] - 4s 332ms/step - loss: 0.4116 - acc: 0.8168 - val_loss: 0.5234 - val_acc: 0.7482\n",
      "Epoch 10/20\n",
      "11/11 [==============================] - 3s 320ms/step - loss: 0.3387 - acc: 0.8742 - val_loss: 0.6516 - val_acc: 0.6214\n",
      "Epoch 11/20\n",
      "11/11 [==============================] - 3s 313ms/step - loss: 0.3506 - acc: 0.8486 - val_loss: 0.5948 - val_acc: 0.7264\n",
      "Epoch 12/20\n",
      "11/11 [==============================] - 3s 311ms/step - loss: 0.3052 - acc: 0.8703 - val_loss: 0.6277 - val_acc: 0.7246\n",
      "Epoch 13/20\n",
      "11/11 [==============================] - 3s 315ms/step - loss: 0.2796 - acc: 0.8913 - val_loss: 0.5457 - val_acc: 0.7319\n",
      "Epoch 14/20\n",
      "11/11 [==============================] - 3s 309ms/step - loss: 0.2582 - acc: 0.9061 - val_loss: 0.5538 - val_acc: 0.7464\n",
      "Epoch 15/20\n",
      "11/11 [==============================] - 3s 309ms/step - loss: 0.2326 - acc: 0.9146 - val_loss: 0.7170 - val_acc: 0.7174\n",
      "Epoch 16/20\n",
      "11/11 [==============================] - 3s 309ms/step - loss: 0.2018 - acc: 0.9208 - val_loss: 0.5916 - val_acc: 0.7391\n",
      "Epoch 17/20\n",
      "11/11 [==============================] - 3s 312ms/step - loss: 0.1238 - acc: 0.9728 - val_loss: 0.8686 - val_acc: 0.6938\n",
      "Epoch 18/20\n",
      "11/11 [==============================] - 3s 312ms/step - loss: 0.2182 - acc: 0.9154 - val_loss: 1.2186 - val_acc: 0.5616\n",
      "Epoch 19/20\n",
      "11/11 [==============================] - 3s 310ms/step - loss: 0.1711 - acc: 0.9387 - val_loss: 0.6219 - val_acc: 0.7428\n",
      "Epoch 20/20\n",
      "11/11 [==============================] - 3s 305ms/step - loss: 0.0998 - acc: 0.9759 - val_loss: 0.6891 - val_acc: 0.7337\n"
     ]
    },
    {
     "data": {
      "text/plain": [
       "<keras.callbacks.History at 0x175fa9838e0>"
      ]
     },
     "execution_count": 113,
     "metadata": {},
     "output_type": "execute_result"
    }
   ],
   "source": [
    "model.compile(loss=\"sparse_categorical_crossentropy\", optimizer=\"rmsprop\", metrics=[\"acc\"])\n",
    "model.fit(x_train, y_train, batch_size=128, epochs=20, validation_data=(x_val, y_val))"
   ]
  },
  {
   "cell_type": "code",
   "execution_count": 116,
   "metadata": {},
   "outputs": [],
   "source": [
    "history = model.history"
   ]
  },
  {
   "cell_type": "code",
   "execution_count": 122,
   "metadata": {},
   "outputs": [],
   "source": [
    "import matplotlib.pyplot as plt"
   ]
  },
  {
   "cell_type": "code",
   "execution_count": 126,
   "metadata": {},
   "outputs": [
    {
     "data": {
      "text/plain": [
       "dict_keys(['loss', 'acc', 'val_loss', 'val_acc'])"
      ]
     },
     "execution_count": 126,
     "metadata": {},
     "output_type": "execute_result"
    }
   ],
   "source": [
    "history.history.keys()"
   ]
  },
  {
   "cell_type": "code",
   "execution_count": 130,
   "metadata": {},
   "outputs": [
    {
     "data": {
      "image/png": "[encoded data removed]",
      "text/plain": [
       "<Figure size 640x480 with 1 Axes>"
      ]
     },
     "metadata": {},
     "output_type": "display_data"
    }
   ],
   "source": [
    "plt.plot(history.history['acc'], color='blue')\n",
    "plt.plot(history.history['val_acc'], color='orange')\n",
    "plt.show()"
   ]
  },
  {
   "cell_type": "code",
   "execution_count": 131,
   "metadata": {},
   "outputs": [
    {
     "data": {
      "image/png": "[encoded data removed]",
      "text/plain": [
       "<Figure size 640x480 with 1 Axes>"
      ]
     },
     "metadata": {},
     "output_type": "display_data"
    }
   ],
   "source": [
    "plt.plot(history.history['loss'], color='blue')\n",
    "plt.plot(history.history['val_loss'], color='orange')\n",
    "plt.show()"
   ]
  },
  {
   "cell_type": "markdown",
   "metadata": {},
   "source": [
    "https://keras.io/examples/nlp/pretrained_word_embeddings/"
   ]
  },
  {
   "cell_type": "markdown",
   "metadata": {},
   "source": []
  }
 ],
 "metadata": {
  "kernelspec": {
   "display_name": "base",
   "language": "python",
   "name": "python3"
  },
  "language_info": {
   "codemirror_mode": {
    "name": "ipython",
    "version": 3
   },
   "file_extension": ".py",
   "mimetype": "text/x-python",
   "name": "python",
   "nbconvert_exporter": "python",
   "pygments_lexer": "ipython3",
   "version": "3.9.7"
  },
  "orig_nbformat": 4
 },
 "nbformat": 4,
 "nbformat_minor": 2
}
