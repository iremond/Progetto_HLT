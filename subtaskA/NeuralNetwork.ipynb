{
 "cells": [
  {
   "cell_type": "code",
   "execution_count": 1,
   "metadata": {},
   "outputs": [],
   "source": [
    "import pandas as pd\n",
    "import numpy as np\n",
    "\n",
    "from tensorflow.keras.layers import TextVectorization, Embedding, Bidirectional, LSTM, SpatialDropout1D, Dense, Dropout\n",
    "from tensorflow.keras.models import Sequential\n",
    "from tensorflow.keras.utils import plot_model\n",
    "from tensorflow.data import Dataset"
   ]
  },
  {
   "cell_type": "code",
   "execution_count": 3,
   "metadata": {},
   "outputs": [
    {
     "data": {
      "text/html": [
       "<div>\n",
       "<style scoped>\n",
       "    .dataframe tbody tr th:only-of-type {\n",
       "        vertical-align: middle;\n",
       "    }\n",
       "\n",
       "    .dataframe tbody tr th {\n",
       "        vertical-align: top;\n",
       "    }\n",
       "\n",
       "    .dataframe thead th {\n",
       "        text-align: right;\n",
       "    }\n",
       "</style>\n",
       "<table border=\"1\" class=\"dataframe\">\n",
       "  <thead>\n",
       "    <tr style=\"text-align: right;\">\n",
       "      <th></th>\n",
       "      <th>comment_text</th>\n",
       "      <th>conspiratorial</th>\n",
       "    </tr>\n",
       "  </thead>\n",
       "  <tbody>\n",
       "    <tr>\n",
       "      <th>0</th>\n",
       "      <td>Se non ci fossero soldati non ci sarebbero gue...</td>\n",
       "      <td>0</td>\n",
       "    </tr>\n",
       "    <tr>\n",
       "      <th>1</th>\n",
       "      <td>](      \"Shedding of Infectious SARS-CoV-2 Des...</td>\n",
       "      <td>1</td>\n",
       "    </tr>\n",
       "    <tr>\n",
       "      <th>2</th>\n",
       "      <td>PAURA E DELIRIO ALLA CNN: IL MINISTERO DELLA V...</td>\n",
       "      <td>1</td>\n",
       "    </tr>\n",
       "    <tr>\n",
       "      <th>3</th>\n",
       "      <td>L'Aspirina non aumenta la sopravvivenza dei pa...</td>\n",
       "      <td>0</td>\n",
       "    </tr>\n",
       "    <tr>\n",
       "      <th>4</th>\n",
       "      <td>L'Italia non puo' dare armi lo vieta la Costit...</td>\n",
       "      <td>0</td>\n",
       "    </tr>\n",
       "  </tbody>\n",
       "</table>\n",
       "</div>"
      ],
      "text/plain": [
       "                                        comment_text  conspiratorial\n",
       "0  Se non ci fossero soldati non ci sarebbero gue...               0\n",
       "1  ](      \"Shedding of Infectious SARS-CoV-2 Des...               1\n",
       "2  PAURA E DELIRIO ALLA CNN: IL MINISTERO DELLA V...               1\n",
       "3  L'Aspirina non aumenta la sopravvivenza dei pa...               0\n",
       "4  L'Italia non puo' dare armi lo vieta la Costit...               0"
      ]
     },
     "execution_count": 3,
     "metadata": {},
     "output_type": "execute_result"
    }
   ],
   "source": [
    "df_dev = pd.read_csv(\"dataset\\subtaskA_clean_dev_cased.csv\")\n",
    "df_dev.head()"
   ]
  },
  {
   "cell_type": "code",
   "execution_count": 4,
   "metadata": {},
   "outputs": [
    {
     "data": {
      "text/plain": [
       "(1840, 2)"
      ]
     },
     "execution_count": 4,
     "metadata": {},
     "output_type": "execute_result"
    }
   ],
   "source": [
    "df_dev.shape"
   ]
  },
  {
   "cell_type": "code",
   "execution_count": 5,
   "metadata": {},
   "outputs": [],
   "source": [
    "X_dev = list(df_dev.comment_text) # lista di stringhe"
   ]
  },
  {
   "cell_type": "code",
   "execution_count": 6,
   "metadata": {},
   "outputs": [],
   "source": [
    "y_dev = list(df_dev.conspiratorial)"
   ]
  },
  {
   "cell_type": "code",
   "execution_count": 7,
   "metadata": {},
   "outputs": [
    {
     "data": {
      "text/plain": [
       "552"
      ]
     },
     "execution_count": 7,
     "metadata": {},
     "output_type": "execute_result"
    }
   ],
   "source": [
    "# Extract a training & validation split\n",
    "validation_split = 0.3\n",
    "num_validation_samples = int(validation_split * len(X_dev))\n",
    "num_validation_samples"
   ]
  },
  {
   "cell_type": "code",
   "execution_count": 8,
   "metadata": {},
   "outputs": [
    {
     "data": {
      "text/plain": [
       "1288"
      ]
     },
     "execution_count": 8,
     "metadata": {},
     "output_type": "execute_result"
    }
   ],
   "source": [
    "X_train = X_dev[:-num_validation_samples]\n",
    "len(X_train)"
   ]
  },
  {
   "cell_type": "code",
   "execution_count": 9,
   "metadata": {},
   "outputs": [
    {
     "data": {
      "text/plain": [
       "552"
      ]
     },
     "execution_count": 9,
     "metadata": {},
     "output_type": "execute_result"
    }
   ],
   "source": [
    "X_val = X_dev[-num_validation_samples:]\n",
    "len(X_val)"
   ]
  },
  {
   "cell_type": "code",
   "execution_count": 10,
   "metadata": {},
   "outputs": [
    {
     "data": {
      "text/plain": [
       "1288"
      ]
     },
     "execution_count": 10,
     "metadata": {},
     "output_type": "execute_result"
    }
   ],
   "source": [
    "y_train = y_dev[:-num_validation_samples]\n",
    "len(y_train)"
   ]
  },
  {
   "cell_type": "code",
   "execution_count": 11,
   "metadata": {},
   "outputs": [
    {
     "data": {
      "text/plain": [
       "552"
      ]
     },
     "execution_count": 11,
     "metadata": {},
     "output_type": "execute_result"
    }
   ],
   "source": [
    "y_val = y_dev[-num_validation_samples:]\n",
    "len(y_val)"
   ]
  },
  {
   "cell_type": "markdown",
   "metadata": {},
   "source": [
    "# Data Preprocessing"
   ]
  },
  {
   "cell_type": "code",
   "execution_count": 34,
   "metadata": {},
   "outputs": [],
   "source": [
    "max_lenght = 705 # n° massimo di token contenuti in un post del dev, scoperto tramite un preprocessing preliminare"
   ]
  },
  {
   "cell_type": "code",
   "execution_count": 12,
   "metadata": {},
   "outputs": [
    {
     "data": {
      "text/plain": [
       "<BatchDataset element_spec=TensorSpec(shape=(None,), dtype=tf.string, name=None)>"
      ]
     },
     "execution_count": 12,
     "metadata": {},
     "output_type": "execute_result"
    }
   ],
   "source": [
    "vectorizer = TextVectorization(max_tokens=20000, output_sequence_length=max_lenght)\n",
    "text_ds = Dataset.from_tensor_slices(X_train).batch(128)\n",
    "text_ds"
   ]
  },
  {
   "cell_type": "code",
   "execution_count": 13,
   "metadata": {},
   "outputs": [],
   "source": [
    "vectorizer.adapt(text_ds)"
   ]
  },
  {
   "cell_type": "code",
   "execution_count": 14,
   "metadata": {},
   "outputs": [
    {
     "data": {
      "text/plain": [
       "['',\n",
       " '[UNK]',\n",
       " 'di',\n",
       " 'e',\n",
       " 'che',\n",
       " 'il',\n",
       " 'la',\n",
       " 'in',\n",
       " 'non',\n",
       " 'a',\n",
       " 'per',\n",
       " 'i',\n",
       " 'è',\n",
       " 'del',\n",
       " 'un']"
      ]
     },
     "execution_count": 14,
     "metadata": {},
     "output_type": "execute_result"
    }
   ],
   "source": [
    "vectorizer.get_vocabulary()[:15]"
   ]
  },
  {
   "cell_type": "code",
   "execution_count": 15,
   "metadata": {},
   "outputs": [
    {
     "data": {
      "text/plain": [
       "12379"
      ]
     },
     "execution_count": 15,
     "metadata": {},
     "output_type": "execute_result"
    }
   ],
   "source": [
    "vocabulary = vectorizer.get_vocabulary()\n",
    "word_index = dict(zip(vocabulary, range(len(vocabulary))))\n",
    "len(vocabulary)"
   ]
  },
  {
   "cell_type": "code",
   "execution_count": 16,
   "metadata": {},
   "outputs": [
    {
     "data": {
      "text/plain": [
       "{'': 0,\n",
       " '[UNK]': 1,\n",
       " 'di': 2,\n",
       " 'e': 3,\n",
       " 'che': 4,\n",
       " 'il': 5,\n",
       " 'la': 6,\n",
       " 'in': 7,\n",
       " 'non': 8,\n",
       " 'a': 9,\n",
       " 'per': 10,\n",
       " 'i': 11,\n",
       " 'è': 12,\n",
       " 'del': 13,\n",
       " 'un': 14,\n",
       " 'le': 15,\n",
       " 'una': 16,\n",
       " 'ha': 17,\n",
       " 'sono': 18,\n",
       " 'si': 19,\n",
       " 'della': 20,\n",
       " 'da': 21,\n",
       " 'con': 22,\n",
       " 'dei': 23,\n",
       " 'al': 24,\n",
       " 'come': 25,\n",
       " 'più': 26,\n",
       " 'ma': 27,\n",
       " 'gli': 28,\n",
       " 'questo': 29,\n",
       " 'se': 30,\n",
       " 'alla': 31,\n",
       " 'hanno': 32,\n",
       " 'nel': 33,\n",
       " 'lo': 34,\n",
       " 'delle': 35,\n",
       " 'anche': 36,\n",
       " 'tutti': 37,\n",
       " 'sul': 38,\n",
       " 'o': 39,\n",
       " 'questa': 40,\n",
       " 'stato': 41,\n",
       " 'ci': 42,\n",
       " 'loro': 43,\n",
       " 'solo': 44,\n",
       " 'persone': 45,\n",
       " 'covid19': 46,\n",
       " 'su': 47,\n",
       " 'essere': 48,\n",
       " 'anni': 49,\n",
       " 'dopo': 50,\n",
       " 'ai': 51,\n",
       " 'ad': 52,\n",
       " 'tra': 53,\n",
       " 'ed': 54,\n",
       " 'contro': 55,\n",
       " 'vaccini': 56,\n",
       " 'dal': 57,\n",
       " 'vaccino': 58,\n",
       " 'perché': 59,\n",
       " 'governo': 60,\n",
       " 'no': 61,\n",
       " 'cosa': 62,\n",
       " 'fatto': 63,\n",
       " 'chi': 64,\n",
       " 'nella': 65,\n",
       " 'stati': 66,\n",
       " 'sia': 67,\n",
       " 'dalla': 68,\n",
       " 'russia': 69,\n",
       " 'degli': 70,\n",
       " 'vaccinati': 71,\n",
       " 'trump': 72,\n",
       " 'questi': 73,\n",
       " 'fare': 74,\n",
       " 'alle': 75,\n",
       " 'tutto': 76,\n",
       " 'quando': 77,\n",
       " 'ora': 78,\n",
       " 'senza': 79,\n",
       " 'sulla': 80,\n",
       " 'sta': 81,\n",
       " 'cui': 82,\n",
       " 'nei': 83,\n",
       " 'sempre': 84,\n",
       " 'mondo': 85,\n",
       " 'mi': 86,\n",
       " 'fa': 87,\n",
       " 'covid': 88,\n",
       " 'ancora': 89,\n",
       " 'era': 90,\n",
       " 'parte': 91,\n",
       " 'nostro': 92,\n",
       " 'bambini': 93,\n",
       " 'È': 94,\n",
       " 'suo': 95,\n",
       " 'sua': 96,\n",
       " 'prima': 97,\n",
       " 'italia': 98,\n",
       " 'video': 99,\n",
       " 'siamo': 100,\n",
       " 'stanno': 101,\n",
       " 'poi': 102,\n",
       " 'cè': 103,\n",
       " 'già': 104,\n",
       " 'abbiamo': 105,\n",
       " 'due': 106,\n",
       " 'stata': 107,\n",
       " 'sarscov2': 108,\n",
       " 'oggi': 109,\n",
       " 'sui': 110,\n",
       " 'mai': 111,\n",
       " 'ho': 112,\n",
       " 'giorni': 113,\n",
       " 'dove': 114,\n",
       " 'dati': 115,\n",
       " 'nelle': 116,\n",
       " 'ne': 117,\n",
       " 'così': 118,\n",
       " 'secondo': 119,\n",
       " 'paese': 120,\n",
       " 'noi': 121,\n",
       " 'molto': 122,\n",
       " 'leggi': 123,\n",
       " 'sarà': 124,\n",
       " 'può': 125,\n",
       " 'sito': 126,\n",
       " 'quello': 127,\n",
       " 'pass': 128,\n",
       " '2': 129,\n",
       " 'vaccinazione': 130,\n",
       " 'uno': 131,\n",
       " 'ucraina': 132,\n",
       " 'quanto': 133,\n",
       " 'guerra': 134,\n",
       " 'grande': 135,\n",
       " 'ogni': 136,\n",
       " 'nuovo': 137,\n",
       " 'aver': 138,\n",
       " 'rischio': 139,\n",
       " 'queste': 140,\n",
       " 'ecco': 141,\n",
       " 'dire': 142,\n",
       " 'detto': 143,\n",
       " 'sistema': 144,\n",
       " 'presidente': 145,\n",
       " 'tempo': 146,\n",
       " 'studio': 147,\n",
       " 'media': 148,\n",
       " 'green': 149,\n",
       " 'dice': 150,\n",
       " 'casi': 151,\n",
       " '3': 152,\n",
       " 'biden': 153,\n",
       " 'tutte': 154,\n",
       " 'altri': 155,\n",
       " 'notizia': 156,\n",
       " 'io': 157,\n",
       " 'dai': 158,\n",
       " 'pazienti': 159,\n",
       " 'erano': 160,\n",
       " 'durante': 161,\n",
       " 'dittatura': 162,\n",
       " 'dalle': 163,\n",
       " 'possono': 164,\n",
       " 'mentre': 165,\n",
       " 'libertà': 166,\n",
       " '1': 167,\n",
       " 'state': 168,\n",
       " 'quella': 169,\n",
       " 'draghi': 170,\n",
       " 'verità': 171,\n",
       " 'virus': 172,\n",
       " 'vero': 173,\n",
       " 'salute': 174,\n",
       " 'vuole': 175,\n",
       " 'paesi': 176,\n",
       " 'morti': 177,\n",
       " 'mondiale': 178,\n",
       " 'meno': 179,\n",
       " 'dose': 180,\n",
       " 'alcuni': 181,\n",
       " 'tutta': 182,\n",
       " 'suoi': 183,\n",
       " 'sotto': 184,\n",
       " 'sieri': 185,\n",
       " 'quindi': 186,\n",
       " 'pandemia': 187,\n",
       " 'oltre': 188,\n",
       " 'mrna': 189,\n",
       " 'fino': 190,\n",
       " 'fine': 191,\n",
       " 'ciò': 192,\n",
       " 'bene': 193,\n",
       " 'qui': 194,\n",
       " 'quasi': 195,\n",
       " 'nessuno': 196,\n",
       " 'legge': 197,\n",
       " 'causa': 198,\n",
       " 'agli': 199,\n",
       " '5': 200,\n",
       " 'vi': 201,\n",
       " 'terra': 202,\n",
       " 'sembra': 203,\n",
       " 'negli': 204,\n",
       " 'modo': 205,\n",
       " 'giorno': 206,\n",
       " 'gente': 207,\n",
       " '2021': 208,\n",
       " 'vaccinale': 209,\n",
       " 'sulle': 210,\n",
       " 'storia': 211,\n",
       " 'russa': 212,\n",
       " 'putin': 213,\n",
       " 'politica': 214,\n",
       " 'nulla': 215,\n",
       " 'molti': 216,\n",
       " 'medici': 217,\n",
       " 'volte': 218,\n",
       " 'saranno': 219,\n",
       " 'qualcuno': 220,\n",
       " 'perchè': 221,\n",
       " 'milioni': 222,\n",
       " 'italiani': 223,\n",
       " 'elezioni': 224,\n",
       " 'controllo': 225,\n",
       " 'aveva': 226,\n",
       " 'vedere': 227,\n",
       " 'soprattutto': 228,\n",
       " 'russo': 229,\n",
       " 'russi': 230,\n",
       " 'rispetto': 231,\n",
       " 'quelli': 232,\n",
       " 'quale': 233,\n",
       " 'prove': 234,\n",
       " 'proprio': 235,\n",
       " 'piu': 236,\n",
       " 'mio': 237,\n",
       " 'larticolo': 238,\n",
       " 'fanno': 239,\n",
       " 'caso': 240,\n",
       " 'volta': 241,\n",
       " 'ragione': 242,\n",
       " 'potere': 243,\n",
       " 'popolazione': 244,\n",
       " 'ormai': 245,\n",
       " 'euro': 246,\n",
       " 'dello': 247,\n",
       " 'stessa': 248,\n",
       " 'lui': 249,\n",
       " 'dosi': 250,\n",
       " 'dato': 251,\n",
       " 'casa': 252,\n",
       " '2020': 253,\n",
       " 'vax': 254,\n",
       " 'usa': 255,\n",
       " 'uniti': 256,\n",
       " 'punto': 257,\n",
       " 'possibile': 258,\n",
       " 'però': 259,\n",
       " 'momento': 260,\n",
       " 'li': 261,\n",
       " 'forse': 262,\n",
       " 'effetti': 263,\n",
       " 'anno': 264,\n",
       " '4': 265,\n",
       " 'test': 266,\n",
       " 'stesso': 267,\n",
       " 'lavoro': 268,\n",
       " 'invece': 269,\n",
       " 'gruppo': 270,\n",
       " 'grave': 271,\n",
       " 'far': 272,\n",
       " 'falsa': 273,\n",
       " 'factchecking': 274,\n",
       " 'avversi': 275,\n",
       " 'ti': 276,\n",
       " 'tanto': 277,\n",
       " 'società': 278,\n",
       " 'sarebbe': 279,\n",
       " 'quali': 280,\n",
       " 'potrebbe': 281,\n",
       " 'of': 282,\n",
       " 'morte': 283,\n",
       " 'generale': 284,\n",
       " 'dott': 285,\n",
       " 'devono': 286,\n",
       " 'andare': 287,\n",
       " 'allora': 288,\n",
       " '2022': 289,\n",
       " 'visto': 290,\n",
       " 'sì': 291,\n",
       " 'siano': 292,\n",
       " 'paura': 293,\n",
       " 'mia': 294,\n",
       " 'mesi': 295,\n",
       " 'grazie': 296,\n",
       " 'deve': 297,\n",
       " 'avevano': 298,\n",
       " 'armi': 299,\n",
       " '10': 300,\n",
       " 'vaccinate': 301,\n",
       " 'sicurezza': 302,\n",
       " 'qualsiasi': 303,\n",
       " 'primo': 304,\n",
       " 'polizia': 305,\n",
       " 'nostri': 306,\n",
       " 'nessuna': 307,\n",
       " 'miocardite': 308,\n",
       " 'ministero': 309,\n",
       " 'militari': 310,\n",
       " 'mese': 311,\n",
       " 'foto': 312,\n",
       " 'eventi': 313,\n",
       " 'cose': 314,\n",
       " 'altre': 315,\n",
       " 'abbia': 316,\n",
       " '6': 317,\n",
       " 'vogliono': 318,\n",
       " 'vita': 319,\n",
       " 'vaccinato': 320,\n",
       " 'ultimi': 321,\n",
       " 'tre': 322,\n",
       " 'situazione': 323,\n",
       " 'risposte': 324,\n",
       " 'q': 325,\n",
       " 'probabilmente': 326,\n",
       " 'post': 327,\n",
       " 'ore': 328,\n",
       " 'mettere': 329,\n",
       " 'livello': 330,\n",
       " 'litalia': 331,\n",
       " 'informazioni': 332,\n",
       " 'fuori': 333,\n",
       " 'fosse': 334,\n",
       " 'entro': 335,\n",
       " 'dovrebbe': 336,\n",
       " 'conto': 337,\n",
       " 'avuto': 338,\n",
       " 'avere': 339,\n",
       " 'and': 340,\n",
       " 'adesso': 341,\n",
       " 'twitter': 342,\n",
       " 'stessi': 343,\n",
       " 'quel': 344,\n",
       " 'popolo': 345,\n",
       " 'pfizer': 346,\n",
       " 'partito': 347,\n",
       " 'nato': 348,\n",
       " 'lungo': 349,\n",
       " 'lega': 350,\n",
       " 'gravi': 351,\n",
       " 'comple': 352,\n",
       " 'altro': 353,\n",
       " 'almeno': 354,\n",
       " 'voi': 355,\n",
       " 'verso': 356,\n",
       " 'va': 357,\n",
       " 'termine': 358,\n",
       " 'sintomi': 359,\n",
       " 'siero': 360,\n",
       " 'risultati': 361,\n",
       " 'realtà': 362,\n",
       " 'poco': 363,\n",
       " 'po': 364,\n",
       " 'parla': 365,\n",
       " 'nuova': 366,\n",
       " 'numeri': 367,\n",
       " 'nostra': 368,\n",
       " 'nessun': 369,\n",
       " 'nazisti': 370,\n",
       " 'me': 371,\n",
       " 'mano': 372,\n",
       " 'internazionale': 373,\n",
       " 'fonte': 374,\n",
       " 'delta': 375,\n",
       " 'davvero': 376,\n",
       " 'crisi': 377,\n",
       " 'coronavirus': 378,\n",
       " 'clinton': 379,\n",
       " 'bnt162b2': 380,\n",
       " 'vengono': 381,\n",
       " 'troppo': 382,\n",
       " 'sue': 383,\n",
       " 'successo': 384,\n",
       " 'studi': 385,\n",
       " 'soldi': 386,\n",
       " 'servizi': 387,\n",
       " 'seconda': 388,\n",
       " 'reazioni': 389,\n",
       " 'qualcosa': 390,\n",
       " 'purtroppo': 391,\n",
       " 'pubblico': 392,\n",
       " 'pertanto': 393,\n",
       " 'morto': 394,\n",
       " 'ministro': 395,\n",
       " 'malattia': 396,\n",
       " 'maggior': 397,\n",
       " 'giovani': 398,\n",
       " 'gas': 399,\n",
       " 'forze': 400,\n",
       " 'europa': 401,\n",
       " 'donald': 402,\n",
       " 'dicono': 403,\n",
       " 'consenso': 404,\n",
       " 'bisogna': 405,\n",
       " 'avanti': 406,\n",
       " '12': 407,\n",
       " 'voto': 408,\n",
       " 'viene': 409,\n",
       " 'vera': 410,\n",
       " 'ucraino': 411,\n",
       " 'the': 412,\n",
       " 'tasso': 413,\n",
       " 'sapere': 414,\n",
       " 'processo': 415,\n",
       " 'politico': 416,\n",
       " 'politici': 417,\n",
       " 'parole': 418,\n",
       " 'né': 419,\n",
       " 'nonostante': 420,\n",
       " 'miliardi': 421,\n",
       " 'meglio': 422,\n",
       " 'mascherine': 423,\n",
       " 'immagini': 424,\n",
       " 'grandi': 425,\n",
       " 'fatti': 426,\n",
       " 'emergenza': 427,\n",
       " 'elettorale': 428,\n",
       " 'diritto': 429,\n",
       " 'dare': 430,\n",
       " 'ce': 431,\n",
       " 'campagna': 432,\n",
       " 'banca': 433,\n",
       " 'anzi': 434,\n",
       " 'affermato': 435,\n",
       " 'adulti': 436,\n",
       " 'via': 437,\n",
       " 'ucraini': 438,\n",
       " 'subito': 439,\n",
       " 'strada': 440,\n",
       " 'serie': 441,\n",
       " 'sei': 442,\n",
       " 'scelta': 443,\n",
       " 'qualche': 444,\n",
       " 'problemi': 445,\n",
       " 'nota': 446,\n",
       " 'militare': 447,\n",
       " 'messo': 448,\n",
       " 'lockdown': 449,\n",
       " 'linfezione': 450,\n",
       " 'leader': 451,\n",
       " 'italiano': 452,\n",
       " 'inoltre': 453,\n",
       " 'infezioni': 454,\n",
       " 'importante': 455,\n",
       " 'ieri': 456,\n",
       " 'grafene': 457,\n",
       " 'gennaio': 458,\n",
       " 'età': 459,\n",
       " 'decessi': 460,\n",
       " 'centro': 461,\n",
       " 'capo': 462,\n",
       " 'base': 463,\n",
       " '7': 464,\n",
       " '15': 465,\n",
       " 'élite': 466,\n",
       " 'variante': 467,\n",
       " 'ue': 468,\n",
       " 'stampa': 469,\n",
       " 'spike': 470,\n",
       " 'social': 471,\n",
       " 'semplicemente': 472,\n",
       " 'sbaglia': 473,\n",
       " 'sarebbero': 474,\n",
       " 'sappiamo': 475,\n",
       " 'salvini': 476,\n",
       " 'risposta': 477,\n",
       " 'prof': 478,\n",
       " 'posto': 479,\n",
       " 'pochi': 480,\n",
       " 'partiti': 481,\n",
       " 'numero': 482,\n",
       " 'notizie': 483,\n",
       " 'mascherina': 484,\n",
       " 'lucraina': 485,\n",
       " 'globale': 486,\n",
       " 'germania': 487,\n",
       " 'forza': 488,\n",
       " 'figli': 489,\n",
       " 'consiglio': 490,\n",
       " 'colpo': 491,\n",
       " 'cittadini': 492,\n",
       " 'circa': 493,\n",
       " 'capire': 494,\n",
       " 'canale': 495,\n",
       " 'basta': 496,\n",
       " '20': 497,\n",
       " 'umani': 498,\n",
       " 'trasmissione': 499,\n",
       " 'terapia': 500,\n",
       " 'settembre': 501,\n",
       " 'sanitario': 502,\n",
       " 'sa': 503,\n",
       " 'russe': 504,\n",
       " 'ricevuto': 505,\n",
       " 'quelle': 506,\n",
       " 'piano': 507,\n",
       " 'persona': 508,\n",
       " 'parlamento': 509,\n",
       " 'ovviamente': 510,\n",
       " 'ospedale': 511,\n",
       " 'omicron': 512,\n",
       " 'niente': 513,\n",
       " 'nemmeno': 514,\n",
       " 'mani': 515,\n",
       " 'lobbligo': 516,\n",
       " 'incredibile': 517,\n",
       " 'giudice': 518,\n",
       " 'famiglia': 519,\n",
       " 'facendo': 520,\n",
       " 'ex': 521,\n",
       " 'dichiarato': 522,\n",
       " 'breve': 523,\n",
       " 'bisogno': 524,\n",
       " 'aumento': 525,\n",
       " 'appena': 526,\n",
       " '30': 527,\n",
       " 'zelensky': 528,\n",
       " 'vaiolo': 529,\n",
       " 'uomo': 530,\n",
       " 'uomini': 531,\n",
       " 'unaltra': 532,\n",
       " 'soggetti': 533,\n",
       " 'significa': 534,\n",
       " 'settimana': 535,\n",
       " 'segreti': 536,\n",
       " 'roma': 537,\n",
       " 'ricerca': 538,\n",
       " 'rete': 539,\n",
       " 'repubblica': 540,\n",
       " 'referendum': 541,\n",
       " 'pubblicato': 542,\n",
       " 'pubblica': 543,\n",
       " 'prova': 544,\n",
       " 'profondo': 545,\n",
       " 'possiamo': 546,\n",
       " 'portato': 547,\n",
       " 'politiche': 548,\n",
       " 'periodo': 549,\n",
       " 'perche': 550,\n",
       " 'nord': 551,\n",
       " 'movimento': 552,\n",
       " 'mila': 553,\n",
       " 'medico': 554,\n",
       " 'lfbi': 555,\n",
       " 'l': 556,\n",
       " 'joe': 557,\n",
       " 'individui': 558,\n",
       " 'giugno': 559,\n",
       " 'esiste': 560,\n",
       " 'entrare': 561,\n",
       " 'dovrebbero': 562,\n",
       " 'documenti': 563,\n",
       " 'de': 564,\n",
       " 'davos': 565,\n",
       " 'coloro': 566,\n",
       " 'certo': 567,\n",
       " 'bill': 568,\n",
       " 'avete': 569,\n",
       " 'autorità': 570,\n",
       " 'allo': 571,\n",
       " 'agosto': 572,\n",
       " '50': 573,\n",
       " 'wef': 574,\n",
       " 'vicino': 575,\n",
       " 'uso': 576,\n",
       " 'tratta': 577,\n",
       " 'trat': 578,\n",
       " 'tentativo': 579,\n",
       " 'tante': 580,\n",
       " 'spiega': 581,\n",
       " 'speciale': 582,\n",
       " 'sopra': 583,\n",
       " 'sinistra': 584,\n",
       " 'sicuro': 585,\n",
       " 'senso': 586,\n",
       " 'scuola': 587,\n",
       " 'scienza': 588,\n",
       " 'sanzioni': 589,\n",
       " 'sanitaria': 590,\n",
       " 'sanitari': 591,\n",
       " 'ruolo': 592,\n",
       " 'rischi': 593,\n",
       " 'restrizioni': 594,\n",
       " 'regina': 595,\n",
       " 'regime': 596,\n",
       " 'questione': 597,\n",
       " 'proteina': 598,\n",
       " 'proteggere': 599,\n",
       " 'prossimo': 600,\n",
       " 'propaganda': 601,\n",
       " 'primi': 602,\n",
       " 'presenza': 603,\n",
       " 'praticamente': 604,\n",
       " 'posso': 605,\n",
       " 'popolare': 606,\n",
       " 'parola': 607,\n",
       " 'parlato': 608,\n",
       " 'pace': 609,\n",
       " 'mosca': 610,\n",
       " 'mortalità': 611,\n",
       " 'marzo': 612,\n",
       " 'mariupol': 613,\n",
       " 'mainstream': 614,\n",
       " 'luna': 615,\n",
       " 'lavorare': 616,\n",
       " 'italiana': 617,\n",
       " 'intensiva': 618,\n",
       " 'giustizia': 619,\n",
       " 'futuro': 620,\n",
       " 'film': 621,\n",
       " 'farà': 622,\n",
       " 'europei': 623,\n",
       " 'elon': 624,\n",
       " 'durham': 625,\n",
       " 'difficile': 626,\n",
       " 'costituzione': 627,\n",
       " 'condizioni': 628,\n",
       " 'condividi': 629,\n",
       " 'città': 630,\n",
       " 'cancro': 631,\n",
       " 'avrebbe': 632,\n",
       " 'articolo': 633,\n",
       " '40': 634,\n",
       " '11': 635,\n",
       " 'washington': 636,\n",
       " 'voglio': 637,\n",
       " 'vietare': 638,\n",
       " 'verificato': 639,\n",
       " 'veramente': 640,\n",
       " 'vede': 641,\n",
       " 'varianti': 642,\n",
       " 'unito': 643,\n",
       " 'ufficiali': 644,\n",
       " 'tuttavia': 645,\n",
       " 'totale': 646,\n",
       " 'terzo': 647,\n",
       " 'tempi': 648,\n",
       " 'sostiene': 649,\n",
       " 'sole': 650,\n",
       " 'sera': 651,\n",
       " 'scimmie': 652,\n",
       " 'sanità': 653,\n",
       " 'sangue': 654,\n",
       " 'ridurre': 655,\n",
       " 'reale': 656,\n",
       " 'quei': 657,\n",
       " 'puoi': 658,\n",
       " 'problema': 659,\n",
       " 'probabilità': 660,\n",
       " 'prendere': 661,\n",
       " 'portare': 662,\n",
       " 'piuttosto': 663,\n",
       " 'piatta': 664,\n",
       " 'pensare': 665,\n",
       " 'pd': 666,\n",
       " 'particolare': 667,\n",
       " 'ordine': 668,\n",
       " 'occhi': 669,\n",
       " 'nome': 670,\n",
       " 'misure': 671,\n",
       " 'minaccia': 672,\n",
       " 'manifestazione': 673,\n",
       " 'male': 674,\n",
       " 'luglio': 675,\n",
       " 'linea': 676,\n",
       " 'lamerica': 677,\n",
       " 'john': 678,\n",
       " 'interessante': 679,\n",
       " 'infatti': 680,\n",
       " 'idee': 681,\n",
       " 'hunter': 682,\n",
       " 'hillary': 683,\n",
       " 'hai': 684,\n",
       " 'governi': 685,\n",
       " 'giornalista': 686,\n",
       " 'europea': 687,\n",
       " 'effetto': 688,\n",
       " 'donne': 689,\n",
       " 'diritti': 690,\n",
       " 'dio': 691,\n",
       " 'difesa': 692,\n",
       " 'dietro': 693,\n",
       " 'dichiarazioni': 694,\n",
       " 'dellucraina': 695,\n",
       " 'davanti': 696,\n",
       " 'cupola': 697,\n",
       " 'criminale': 698,\n",
       " 'conflitto': 699,\n",
       " 'conferma': 700,\n",
       " 'comunque': 701,\n",
       " 'compagnie': 702,\n",
       " 'chiedono': 703,\n",
       " 'centrale': 704,\n",
       " 'censura': 705,\n",
       " 'capito': 706,\n",
       " 'bianca': 707,\n",
       " 'battaglia': 708,\n",
       " 'analisi': 709,\n",
       " 'amici': 710,\n",
       " 'americani': 711,\n",
       " 'alto': 712,\n",
       " 'alcune': 713,\n",
       " '8': 714,\n",
       " '18': 715,\n",
       " '17': 716,\n",
       " '14': 717,\n",
       " 'vediamo': 718,\n",
       " 'vari': 719,\n",
       " 'tv': 720,\n",
       " 'truffa': 721,\n",
       " 'to': 722,\n",
       " 'terza': 723,\n",
       " 'spesso': 724,\n",
       " 'speranza': 725,\n",
       " 'spazio': 726,\n",
       " 'so': 727,\n",
       " 'sembrano': 728,\n",
       " 'scoperto': 729,\n",
       " 'sanno': 730,\n",
       " 'riportato': 731,\n",
       " 'reset': 732,\n",
       " 'regno': 733,\n",
       " 'quattro': 734,\n",
       " 'pubblici': 735,\n",
       " 'propria': 736,\n",
       " 'programma': 737,\n",
       " 'progetto': 738,\n",
       " 'prime': 739,\n",
       " 'prezzi': 740,\n",
       " 'precedenti': 741,\n",
       " 'personale': 742,\n",
       " 'parlare': 743,\n",
       " 'obbligo': 744,\n",
       " 'nuove': 745,\n",
       " 'news': 746,\n",
       " 'nello': 747,\n",
       " 'molte': 748,\n",
       " 'mezzo': 749,\n",
       " 'metà': 750,\n",
       " 'manifestazioni': 751,\n",
       " 'malattie': 752,\n",
       " 'maggiore': 753,\n",
       " 'maggio': 754,\n",
       " 'lista': 755,\n",
       " 'lesercito': 756,\n",
       " 'insieme': 757,\n",
       " 'infezione': 758,\n",
       " 'indietro': 759,\n",
       " 'gregg': 760,\n",
       " 'giudici': 761,\n",
       " 'gia': 762,\n",
       " 'genitori': 763,\n",
       " 'genere': 764,\n",
       " 'gates': 765,\n",
       " 'francia': 766,\n",
       " 'for': 767,\n",
       " 'favore': 768,\n",
       " 'falso': 769,\n",
       " 'esempio': 770,\n",
       " 'ebrei': 771,\n",
       " 'donna': 772,\n",
       " 'donetsk': 773,\n",
       " 'donbass': 774,\n",
       " 'discussione': 775,\n",
       " 'diffondere': 776,\n",
       " 'dicembre': 777,\n",
       " 'dellue': 778,\n",
       " 'danno': 779,\n",
       " 'dagli': 780,\n",
       " 'criminali': 781,\n",
       " 'credo': 782,\n",
       " 'creato': 783,\n",
       " 'corpo': 784,\n",
       " 'conte': 785,\n",
       " 'considerazione': 786,\n",
       " 'combattere': 787,\n",
       " 'colpa': 788,\n",
       " 'coglioni': 789,\n",
       " 'cittadinanza': 790,\n",
       " 'cina': 791,\n",
       " 'chiaro': 792,\n",
       " 'cervello': 793,\n",
       " 'cazzo': 794,\n",
       " 'carta': 795,\n",
       " 'cambio': 796,\n",
       " 'buona': 797,\n",
       " 'avrebbero': 798,\n",
       " 'attenzione': 799,\n",
       " 'anticorpi': 800,\n",
       " '60': 801,\n",
       " '25': 802,\n",
       " '23': 803,\n",
       " '100': 804,\n",
       " 'vittime': 805,\n",
       " 'vedi': 806,\n",
       " 'vaccine': 807,\n",
       " 'uscire': 808,\n",
       " 'tu': 809,\n",
       " 'trovato': 810,\n",
       " 'torna': 811,\n",
       " 'tipo': 812,\n",
       " 'terapie': 813,\n",
       " 'tecnologia': 814,\n",
       " 'tale': 815,\n",
       " 'strategia': 816,\n",
       " 'stiamo': 817,\n",
       " 'stesse': 818,\n",
       " 'stelle': 819,\n",
       " 'sperimentazione': 820,\n",
       " 'siete': 821,\n",
       " 'serve': 822,\n",
       " 'seguito': 823,\n",
       " 'scienziati': 824,\n",
       " 'risultato': 825,\n",
       " 'rispettivamente': 826,\n",
       " 'responsabilità': 827,\n",
       " 'responsabile': 828,\n",
       " 'reinhart': 829,\n",
       " 'reinfezione': 830,\n",
       " 'raid': 831,\n",
       " 'pur': 832,\n",
       " 'produzione': 833,\n",
       " 'prodotti': 834,\n",
       " 'preso': 835,\n",
       " 'poteri': 836,\n",
       " 'poter': 837,\n",
       " 'possa': 838,\n",
       " 'podcast': 839,\n",
       " 'petrolio': 840,\n",
       " 'pericolo': 841,\n",
       " 'penso': 842,\n",
       " 'pensiero': 843,\n",
       " 'peggio': 844,\n",
       " 'pecore': 845,\n",
       " 'passato': 846,\n",
       " 'partecipanti': 847,\n",
       " 'ovunque': 848,\n",
       " 'ottobre': 849,\n",
       " 'ottenere': 850,\n",
       " 'oppure': 851,\n",
       " 'necessario': 852,\n",
       " 'nazioni': 853,\n",
       " 'mrna1273': 854,\n",
       " 'motivo': 855,\n",
       " 'miei': 856,\n",
       " 'mettono': 857,\n",
       " 'membro': 858,\n",
       " 'membri': 859,\n",
       " 'meloni': 860,\n",
       " 'massa': 861,\n",
       " 'maschi': 862,\n",
       " 'maria': 863,\n",
       " 'mappa': 864,\n",
       " 'mandato': 865,\n",
       " 'magari': 866,\n",
       " 'lue': 867,\n",
       " 'linee': 868,\n",
       " 'lha': 869,\n",
       " 'legale': 870,\n",
       " 'lefficacia': 871,\n",
       " 'johnson': 872,\n",
       " 'israele': 873,\n",
       " 'intervista': 874,\n",
       " 'intervento': 875,\n",
       " 'interessi': 876,\n",
       " 'iniziato': 877,\n",
       " 'informato': 878,\n",
       " 'grado': 879,\n",
       " 'gradi': 880,\n",
       " 'fronte': 881,\n",
       " 'fonti': 882,\n",
       " 'figlio': 883,\n",
       " 'fatte': 884,\n",
       " 'fase': 885,\n",
       " 'farsi': 886,\n",
       " 'farsa': 887,\n",
       " 'esteri': 888,\n",
       " 'dovuto': 889,\n",
       " 'dollari': 890,\n",
       " 'dobbiamo': 891,\n",
       " 'diverse': 892,\n",
       " 'ditalia': 893,\n",
       " 'distanza': 894,\n",
       " 'discorso': 895,\n",
       " 'differenza': 896,\n",
       " 'dentro': 897,\n",
       " 'data': 898,\n",
       " 'danni': 899,\n",
       " 'cure': 900,\n",
       " 'credere': 901,\n",
       " 'corso': 902,\n",
       " 'continuare': 903,\n",
       " 'compresa': 904,\n",
       " 'commissione': 905,\n",
       " 'collaterali': 906,\n",
       " 'civili': 907,\n",
       " 'chiedere': 908,\n",
       " 'chiede': 909,\n",
       " 'cercando': 910,\n",
       " 'censurato': 911,\n",
       " 'cdc': 912,\n",
       " 'cause': 913,\n",
       " 'ben': 914,\n",
       " 'bella': 915,\n",
       " 'aziende': 916,\n",
       " 'attualmente': 917,\n",
       " 'assoluta': 918,\n",
       " 'assolu': 919,\n",
       " 'america': 920,\n",
       " 'allestero': 921,\n",
       " 'afferma': 922,\n",
       " 'aeree': 923,\n",
       " '2016': 924,\n",
       " '2014': 925,\n",
       " '2000': 926,\n",
       " 'vuoi': 927,\n",
       " 'voti': 928,\n",
       " 'votare': 929,\n",
       " 'voluto': 930,\n",
       " 'volete': 931,\n",
       " 'vivere': 932,\n",
       " 'vista': 933,\n",
       " 'vaccinazioni': 934,\n",
       " 'vaccination': 935,\n",
       " 'vaccinare': 936,\n",
       " 'vaccinali': 937,\n",
       " 'utili': 938,\n",
       " 'usare': 939,\n",
       " 'umano': 940,\n",
       " 'testa': 941,\n",
       " 'te': 942,\n",
       " 'tamponi': 943,\n",
       " 'supporto': 944,\n",
       " 'suggerisce': 945,\n",
       " 'statunitensi': 946,\n",
       " 'sperimentali': 947,\n",
       " 'senato': 948,\n",
       " 'segretario': 949,\n",
       " 'scorso': 950,\n",
       " 'schiavi': 951,\n",
       " 'salvare': 952,\n",
       " 'riguarda': 953,\n",
       " 'riduzione': 954,\n",
       " 'ricercatori': 955,\n",
       " 'renzi': 956,\n",
       " 'rende': 957,\n",
       " 'reddito': 958,\n",
       " 'rapporto': 959,\n",
       " 'quota': 960,\n",
       " 'pure': 961,\n",
       " 'prezzo': 962,\n",
       " 'presto': 963,\n",
       " 'precedente': 964,\n",
       " 'possibilità': 965,\n",
       " 'porta': 966,\n",
       " 'poliziotti': 967,\n",
       " 'pieno': 968,\n",
       " 'piedi': 969,\n",
       " 'piazza': 970,\n",
       " 'pianeta': 971,\n",
       " 'persino': 972,\n",
       " 'perdere': 973,\n",
       " 'pensa': 974,\n",
       " 'pcr': 975,\n",
       " 'passo': 976,\n",
       " 'pagina': 977,\n",
       " 'pagare': 978,\n",
       " 'operazione': 979,\n",
       " 'obbligatorio': 980,\n",
       " 'novax': 981,\n",
       " 'noto': 982,\n",
       " 'nostre': 983,\n",
       " 'new': 984,\n",
       " 'neppure': 985,\n",
       " 'naturale': 986,\n",
       " 'nascondere': 987,\n",
       " 'narrazione': 988,\n",
       " 'mostra': 989,\n",
       " 'mario': 990,\n",
       " 'mare': 991,\n",
       " 'lì': 992,\n",
       " 'luogo': 993,\n",
       " 'lultima': 994,\n",
       " 'luce': 995,\n",
       " 'lex': 996,\n",
       " 'lavoratori': 997,\n",
       " 'internazionali': 998,\n",
       " 'intelligente': 999,\n",
       " ...}"
      ]
     },
     "execution_count": 16,
     "metadata": {},
     "output_type": "execute_result"
    }
   ],
   "source": [
    "word_index"
   ]
  },
  {
   "cell_type": "markdown",
   "metadata": {},
   "source": [
    "## Tokenization and Word Normalization (questa parte probabilmente non serve)"
   ]
  },
  {
   "cell_type": "code",
   "execution_count": 11,
   "metadata": {},
   "outputs": [],
   "source": [
    "from nltk.tokenize import TweetTokenizer # Twitter-specific tokenizer\n",
    "tokenizer = TweetTokenizer()"
   ]
  },
  {
   "cell_type": "code",
   "execution_count": 12,
   "metadata": {},
   "outputs": [],
   "source": [
    "import re\n",
    "\n",
    "def get_digits(text):\n",
    "    try:\n",
    "      val = int(text) # converte la stringa in intero\n",
    "    except:\n",
    "      text = re.sub('\\d', '@Dg', text) # sostituisce a ogni cifra in text la stringa '@Dd'\n",
    "      return text\n",
    "    if val >= 0 and val < 2100: # se è un numero tra 0 e 2100\n",
    "      return str(val) # viene lasciato uguale\n",
    "    else:\n",
    "      return \"DIGLEN_\" + str(len(str(val))) # viene indicato il numero di cifre che compongono quel numero\n",
    "\n",
    "def normalize_text(word):\n",
    "    if \"http\" in word or (\".\" in word and \"/\" in word):\n",
    "      word = str(\"___URL___\")\n",
    "      return word\n",
    "    if len(word) > 26:\n",
    "      return \"__LONG-LONG__\"\n",
    "    new_word = get_digits(word)\n",
    "    if new_word != word:\n",
    "      word = new_word\n",
    "    if word[0].isupper(): # se la parola inizia con la lettera maiuscola\n",
    "      word = word.capitalize() # solo la prima viene lasciata maiuscola\n",
    "    else:\n",
    "      word = word.lower() # tutta in minuscolo\n",
    "    return word"
   ]
  },
  {
   "cell_type": "code",
   "execution_count": 13,
   "metadata": {},
   "outputs": [],
   "source": [
    "X_train_tokenized = []\n",
    "for post in X_train_splitted:\n",
    "    post_tokens = []\n",
    "    for sentence in post:\n",
    "        sentence_tokens = [normalize_text(word) for word in tokenizer.tokenize(sentence)]\n",
    "        post_tokens.append(sentence_tokens)\n",
    "    X_train_tokenized.append(post_tokens)"
   ]
  },
  {
   "cell_type": "code",
   "execution_count": 14,
   "metadata": {},
   "outputs": [
    {
     "data": {
      "text/plain": [
       "1840"
      ]
     },
     "execution_count": 14,
     "metadata": {},
     "output_type": "execute_result"
    }
   ],
   "source": [
    "len(X_train_tokenized)"
   ]
  },
  {
   "cell_type": "code",
   "execution_count": 16,
   "metadata": {},
   "outputs": [],
   "source": [
    "X_train_tokenized_flatten = []\n",
    "for post in X_train_splitted:\n",
    "    post_tokens = []\n",
    "    for sentence in post:\n",
    "        sentence_tokens = [normalize_text(word) for word in tokenizer.tokenize(sentence)]\n",
    "        for word in sentence_tokens:\n",
    "            post_tokens.append(word)\n",
    "    X_train_tokenized_flatten.append(post_tokens)"
   ]
  },
  {
   "cell_type": "markdown",
   "metadata": {},
   "source": [
    "## Manual Padding (questa parte probabilmente non serve)"
   ]
  },
  {
   "cell_type": "code",
   "execution_count": 18,
   "metadata": {},
   "outputs": [
    {
     "data": {
      "text/plain": [
       "705"
      ]
     },
     "execution_count": 18,
     "metadata": {},
     "output_type": "execute_result"
    }
   ],
   "source": [
    "max_length = float('-inf')\n",
    "for post in X_train_tokenized:\n",
    "    post_words = 0\n",
    "    for sentence in post:\n",
    "        post_words += len(sentence)\n",
    "    if post_words > max_length:\n",
    "        max_length = post_words\n",
    "\n",
    "max_length"
   ]
  },
  {
   "cell_type": "code",
   "execution_count": 19,
   "metadata": {},
   "outputs": [],
   "source": [
    "for post in X_train_tokenized_flatten:\n",
    "    if len(post) < max_length:\n",
    "        for i in range(max_length-len(post)):\n",
    "            post.append('[UNK]')"
   ]
  },
  {
   "cell_type": "code",
   "execution_count": 20,
   "metadata": {},
   "outputs": [],
   "source": [
    "X_train_tokenized_flatten = np.array(X_train_tokenized_flatten)"
   ]
  },
  {
   "cell_type": "code",
   "execution_count": 21,
   "metadata": {},
   "outputs": [
    {
     "data": {
      "text/plain": [
       "(1840, 705)"
      ]
     },
     "execution_count": 21,
     "metadata": {},
     "output_type": "execute_result"
    }
   ],
   "source": [
    "X_train_tokenized_flatten.shape"
   ]
  },
  {
   "cell_type": "markdown",
   "metadata": {},
   "source": [
    "## Word Embeddings"
   ]
  },
  {
   "cell_type": "code",
   "execution_count": 17,
   "metadata": {},
   "outputs": [],
   "source": [
    "embeddings_path = '..\\..\\itwac128.txt'"
   ]
  },
  {
   "cell_type": "code",
   "execution_count": 18,
   "metadata": {},
   "outputs": [],
   "source": [
    "def load_word_embeddings(emb_path):\n",
    "    '''crea un dizionario contenente gli embedding di parole presente nel file src_path'''\n",
    "    embeddings = dict() # dizionario che conterrà gli embedding\n",
    "    for line in open(emb_path, 'r'):\n",
    "        line = line.strip().split('\\t')\n",
    "        word = line[0]\n",
    "        embedding = line[1:]\n",
    "        embedding = [float(comp) for comp in embedding] # convertiamo le componenti dell'embedding in float\n",
    "        embeddings[word] = np.asarray(embedding) # trasformiamo la lista delle componenti in un vettore di numpy\n",
    "    return embeddings"
   ]
  },
  {
   "cell_type": "code",
   "execution_count": 19,
   "metadata": {},
   "outputs": [],
   "source": [
    "embeddings = load_word_embeddings(embeddings_path)"
   ]
  },
  {
   "cell_type": "code",
   "execution_count": 20,
   "metadata": {},
   "outputs": [
    {
     "data": {
      "text/plain": [
       "1247492"
      ]
     },
     "execution_count": 20,
     "metadata": {},
     "output_type": "execute_result"
    }
   ],
   "source": [
    "len(embeddings)"
   ]
  },
  {
   "cell_type": "markdown",
   "metadata": {},
   "source": [
    "### Creazione di una matrice di embeddings"
   ]
  },
  {
   "cell_type": "markdown",
   "metadata": {},
   "source": [
    "Now, let's prepare a corresponding embedding matrix that we can use in a Keras Embedding layer. It's a simple NumPy matrix where entry at index i is the embedding for the word of index i in our vectorizer's vocabulary."
   ]
  },
  {
   "cell_type": "code",
   "execution_count": 21,
   "metadata": {},
   "outputs": [
    {
     "name": "stdout",
     "output_type": "stream",
     "text": [
      "Converted 10776 words (1603 misses)\n"
     ]
    }
   ],
   "source": [
    "num_tokens = len(vocabulary) + 2\n",
    "embedding_dim = 128\n",
    "hits = 0\n",
    "misses = 0\n",
    "\n",
    "# Prepare embedding matrix\n",
    "embedding_matrix = np.zeros((num_tokens, embedding_dim))\n",
    "for word, i in word_index.items():\n",
    "    embedding_vector = embeddings.get(word)\n",
    "    if embedding_vector is not None:\n",
    "        # Words not found in embedding index will be all-zeros.\n",
    "        # This includes the representation for \"padding\" and \"OOV\"\n",
    "        embedding_matrix[i] = embedding_vector\n",
    "        hits += 1\n",
    "    else:\n",
    "        misses += 1\n",
    "print(\"Converted %d words (%d misses)\" % (hits, misses))"
   ]
  },
  {
   "cell_type": "code",
   "execution_count": 22,
   "metadata": {},
   "outputs": [
    {
     "data": {
      "text/plain": [
       "(12381, 128)"
      ]
     },
     "execution_count": 22,
     "metadata": {},
     "output_type": "execute_result"
    }
   ],
   "source": [
    "embedding_matrix.shape"
   ]
  },
  {
   "cell_type": "code",
   "execution_count": 37,
   "metadata": {},
   "outputs": [
    {
     "data": {
      "text/plain": [
       "12381"
      ]
     },
     "execution_count": 37,
     "metadata": {},
     "output_type": "execute_result"
    }
   ],
   "source": [
    "embedding_matrix.shape[0]"
   ]
  },
  {
   "cell_type": "markdown",
   "metadata": {},
   "source": [
    "# Codice di Attardi"
   ]
  },
  {
   "cell_type": "code",
   "execution_count": 35,
   "metadata": {},
   "outputs": [],
   "source": [
    "RNN_HIDDEN_SIZE = 50"
   ]
  },
  {
   "cell_type": "code",
   "execution_count": 60,
   "metadata": {},
   "outputs": [],
   "source": [
    "model = Sequential()\n",
    "model.add(Embedding(\n",
    "    embedding_matrix.shape[0],\n",
    "    embedding_dim,\n",
    "    input_length=max_lenght)) \n",
    "    #mask_zero=True)) # 0-padding should be masked out"
   ]
  },
  {
   "cell_type": "code",
   "execution_count": 61,
   "metadata": {},
   "outputs": [],
   "source": [
    "model.add(Bidirectional(LSTM(RNN_HIDDEN_SIZE, return_sequences=True, dropout=0.1), merge_mode='concat'))"
   ]
  },
  {
   "cell_type": "code",
   "execution_count": 62,
   "metadata": {},
   "outputs": [],
   "source": [
    "model.add(Dense(2, activation=\"softmax\"))"
   ]
  },
  {
   "cell_type": "code",
   "execution_count": 63,
   "metadata": {},
   "outputs": [
    {
     "data": {
      "image/png": "[encoded data removed]",
      "text/plain": [
       "<IPython.core.display.Image object>"
      ]
     },
     "execution_count": 63,
     "metadata": {},
     "output_type": "execute_result"
    }
   ],
   "source": [
    "plot_model(model, show_shapes=True)"
   ]
  },
  {
   "cell_type": "code",
   "execution_count": 64,
   "metadata": {},
   "outputs": [],
   "source": [
    "from tensorflow.keras.optimizers import Adam\n",
    "model.compile(loss='sparse_categorical_crossentropy',\n",
    "              optimizer='adam', # Adam(0.001)\n",
    "              metrics=['accuracy'])"
   ]
  },
  {
   "cell_type": "code",
   "execution_count": 65,
   "metadata": {},
   "outputs": [
    {
     "data": {
      "text/plain": [
       "array([0, 1, 1, ..., 0, 1, 1])"
      ]
     },
     "execution_count": 65,
     "metadata": {},
     "output_type": "execute_result"
    }
   ],
   "source": [
    "y_train"
   ]
  },
  {
   "cell_type": "code",
   "execution_count": 66,
   "metadata": {},
   "outputs": [
    {
     "name": "stdout",
     "output_type": "stream",
     "text": [
      "Epoch 1/4\n"
     ]
    },
    {
     "ename": "InvalidArgumentError",
     "evalue": "Graph execution error:\n\nDetected at node 'sparse_categorical_crossentropy/SparseSoftmaxCrossEntropyWithLogits/SparseSoftmaxCrossEntropyWithLogits' defined at (most recent call last):\n    File \"c:\\Users\\irene\\anaconda3\\lib\\runpy.py\", line 197, in _run_module_as_main\n      return _run_code(code, main_globals, None,\n    File \"c:\\Users\\irene\\anaconda3\\lib\\runpy.py\", line 87, in _run_code\n      exec(code, run_globals)\n    File \"c:\\Users\\irene\\anaconda3\\lib\\site-packages\\ipykernel_launcher.py\", line 17, in <module>\n      app.launch_new_instance()\n    File \"c:\\Users\\irene\\anaconda3\\lib\\site-packages\\traitlets\\config\\application.py\", line 846, in launch_instance\n      app.start()\n    File \"c:\\Users\\irene\\anaconda3\\lib\\site-packages\\ipykernel\\kernelapp.py\", line 712, in start\n      self.io_loop.start()\n    File \"c:\\Users\\irene\\anaconda3\\lib\\site-packages\\tornado\\platform\\asyncio.py\", line 199, in start\n      self.asyncio_loop.run_forever()\n    File \"c:\\Users\\irene\\anaconda3\\lib\\asyncio\\base_events.py\", line 596, in run_forever\n      self._run_once()\n    File \"c:\\Users\\irene\\anaconda3\\lib\\asyncio\\base_events.py\", line 1890, in _run_once\n      handle._run()\n    File \"c:\\Users\\irene\\anaconda3\\lib\\asyncio\\events.py\", line 80, in _run\n      self._context.run(self._callback, *self._args)\n    File \"c:\\Users\\irene\\anaconda3\\lib\\site-packages\\ipykernel\\kernelbase.py\", line 510, in dispatch_queue\n      await self.process_one()\n    File \"c:\\Users\\irene\\anaconda3\\lib\\site-packages\\ipykernel\\kernelbase.py\", line 499, in process_one\n      await dispatch(*args)\n    File \"c:\\Users\\irene\\anaconda3\\lib\\site-packages\\ipykernel\\kernelbase.py\", line 406, in dispatch_shell\n      await result\n    File \"c:\\Users\\irene\\anaconda3\\lib\\site-packages\\ipykernel\\kernelbase.py\", line 730, in execute_request\n      reply_content = await reply_content\n    File \"c:\\Users\\irene\\anaconda3\\lib\\site-packages\\ipykernel\\ipkernel.py\", line 383, in do_execute\n      res = shell.run_cell(\n    File \"c:\\Users\\irene\\anaconda3\\lib\\site-packages\\ipykernel\\zmqshell.py\", line 528, in run_cell\n      return super().run_cell(*args, **kwargs)\n    File \"c:\\Users\\irene\\anaconda3\\lib\\site-packages\\IPython\\core\\interactiveshell.py\", line 2940, in run_cell\n      result = self._run_cell(\n    File \"c:\\Users\\irene\\anaconda3\\lib\\site-packages\\IPython\\core\\interactiveshell.py\", line 2995, in _run_cell\n      return runner(coro)\n    File \"c:\\Users\\irene\\anaconda3\\lib\\site-packages\\IPython\\core\\async_helpers.py\", line 129, in _pseudo_sync_runner\n      coro.send(None)\n    File \"c:\\Users\\irene\\anaconda3\\lib\\site-packages\\IPython\\core\\interactiveshell.py\", line 3194, in run_cell_async\n      has_raised = await self.run_ast_nodes(code_ast.body, cell_name,\n    File \"c:\\Users\\irene\\anaconda3\\lib\\site-packages\\IPython\\core\\interactiveshell.py\", line 3373, in run_ast_nodes\n      if await self.run_code(code, result, async_=asy):\n    File \"c:\\Users\\irene\\anaconda3\\lib\\site-packages\\IPython\\core\\interactiveshell.py\", line 3433, in run_code\n      exec(code_obj, self.user_global_ns, self.user_ns)\n    File \"C:\\Users\\irene\\AppData\\Local\\Temp\\ipykernel_19816\\1780746766.py\", line 1, in <module>\n      history = model.fit(x_train, y_train, epochs=4, validation_data=(x_val, y_val))\n    File \"c:\\Users\\irene\\anaconda3\\lib\\site-packages\\keras\\utils\\traceback_utils.py\", line 65, in error_handler\n      return fn(*args, **kwargs)\n    File \"c:\\Users\\irene\\anaconda3\\lib\\site-packages\\keras\\engine\\training.py\", line 1650, in fit\n      tmp_logs = self.train_function(iterator)\n    File \"c:\\Users\\irene\\anaconda3\\lib\\site-packages\\keras\\engine\\training.py\", line 1249, in train_function\n      return step_function(self, iterator)\n    File \"c:\\Users\\irene\\anaconda3\\lib\\site-packages\\keras\\engine\\training.py\", line 1233, in step_function\n      outputs = model.distribute_strategy.run(run_step, args=(data,))\n    File \"c:\\Users\\irene\\anaconda3\\lib\\site-packages\\keras\\engine\\training.py\", line 1222, in run_step\n      outputs = model.train_step(data)\n    File \"c:\\Users\\irene\\anaconda3\\lib\\site-packages\\keras\\engine\\training.py\", line 1024, in train_step\n      loss = self.compute_loss(x, y, y_pred, sample_weight)\n    File \"c:\\Users\\irene\\anaconda3\\lib\\site-packages\\keras\\engine\\training.py\", line 1082, in compute_loss\n      return self.compiled_loss(\n    File \"c:\\Users\\irene\\anaconda3\\lib\\site-packages\\keras\\engine\\compile_utils.py\", line 265, in __call__\n      loss_value = loss_obj(y_t, y_p, sample_weight=sw)\n    File \"c:\\Users\\irene\\anaconda3\\lib\\site-packages\\keras\\losses.py\", line 152, in __call__\n      losses = call_fn(y_true, y_pred)\n    File \"c:\\Users\\irene\\anaconda3\\lib\\site-packages\\keras\\losses.py\", line 284, in call\n      return ag_fn(y_true, y_pred, **self._fn_kwargs)\n    File \"c:\\Users\\irene\\anaconda3\\lib\\site-packages\\keras\\losses.py\", line 2098, in sparse_categorical_crossentropy\n      return backend.sparse_categorical_crossentropy(\n    File \"c:\\Users\\irene\\anaconda3\\lib\\site-packages\\keras\\backend.py\", line 5633, in sparse_categorical_crossentropy\n      res = tf.nn.sparse_softmax_cross_entropy_with_logits(\nNode: 'sparse_categorical_crossentropy/SparseSoftmaxCrossEntropyWithLogits/SparseSoftmaxCrossEntropyWithLogits'\nlogits and labels must have the same first dimension, got logits shape [22560,2] and labels shape [32]\n\t [[{{node sparse_categorical_crossentropy/SparseSoftmaxCrossEntropyWithLogits/SparseSoftmaxCrossEntropyWithLogits}}]] [Op:__inference_train_function_37872]",
     "output_type": "error",
     "traceback": [
      "\u001b[1;31m---------------------------------------------------------------------------\u001b[0m",
      "\u001b[1;31mInvalidArgumentError\u001b[0m                      Traceback (most recent call last)",
      "\u001b[1;32mc:\\Users\\irene\\Desktop\\Università\\Magistrale\\Human Language Technologies\\Progetto_HLT\\subtaskA\\NeuralNetwork.ipynb Cell 47\u001b[0m in \u001b[0;36m1\n\u001b[1;32m----> <a href='vscode-notebook-cell:/c%3A/Users/irene/Desktop/Universit%C3%A0/Magistrale/Human%20Language%20Technologies/Progetto_HLT/subtaskA/NeuralNetwork.ipynb#Y120sZmlsZQ%3D%3D?line=0'>1</a>\u001b[0m history \u001b[39m=\u001b[39m model\u001b[39m.\u001b[39;49mfit(x_train, y_train, epochs\u001b[39m=\u001b[39;49m\u001b[39m4\u001b[39;49m, validation_data\u001b[39m=\u001b[39;49m(x_val, y_val))\n",
      "File \u001b[1;32mc:\\Users\\irene\\anaconda3\\lib\\site-packages\\keras\\utils\\traceback_utils.py:70\u001b[0m, in \u001b[0;36mfilter_traceback.<locals>.error_handler\u001b[1;34m(*args, **kwargs)\u001b[0m\n\u001b[0;32m     67\u001b[0m     filtered_tb \u001b[39m=\u001b[39m _process_traceback_frames(e\u001b[39m.\u001b[39m__traceback__)\n\u001b[0;32m     68\u001b[0m     \u001b[39m# To get the full stack trace, call:\u001b[39;00m\n\u001b[0;32m     69\u001b[0m     \u001b[39m# `tf.debugging.disable_traceback_filtering()`\u001b[39;00m\n\u001b[1;32m---> 70\u001b[0m     \u001b[39mraise\u001b[39;00m e\u001b[39m.\u001b[39mwith_traceback(filtered_tb) \u001b[39mfrom\u001b[39;00m \u001b[39mNone\u001b[39m\n\u001b[0;32m     71\u001b[0m \u001b[39mfinally\u001b[39;00m:\n\u001b[0;32m     72\u001b[0m     \u001b[39mdel\u001b[39;00m filtered_tb\n",
      "File \u001b[1;32mc:\\Users\\irene\\anaconda3\\lib\\site-packages\\tensorflow\\python\\eager\\execute.py:52\u001b[0m, in \u001b[0;36mquick_execute\u001b[1;34m(op_name, num_outputs, inputs, attrs, ctx, name)\u001b[0m\n\u001b[0;32m     50\u001b[0m \u001b[39mtry\u001b[39;00m:\n\u001b[0;32m     51\u001b[0m   ctx\u001b[39m.\u001b[39mensure_initialized()\n\u001b[1;32m---> 52\u001b[0m   tensors \u001b[39m=\u001b[39m pywrap_tfe\u001b[39m.\u001b[39mTFE_Py_Execute(ctx\u001b[39m.\u001b[39m_handle, device_name, op_name,\n\u001b[0;32m     53\u001b[0m                                       inputs, attrs, num_outputs)\n\u001b[0;32m     54\u001b[0m \u001b[39mexcept\u001b[39;00m core\u001b[39m.\u001b[39m_NotOkStatusException \u001b[39mas\u001b[39;00m e:\n\u001b[0;32m     55\u001b[0m   \u001b[39mif\u001b[39;00m name \u001b[39mis\u001b[39;00m \u001b[39mnot\u001b[39;00m \u001b[39mNone\u001b[39;00m:\n",
      "\u001b[1;31mInvalidArgumentError\u001b[0m: Graph execution error:\n\nDetected at node 'sparse_categorical_crossentropy/SparseSoftmaxCrossEntropyWithLogits/SparseSoftmaxCrossEntropyWithLogits' defined at (most recent call last):\n    File \"c:\\Users\\irene\\anaconda3\\lib\\runpy.py\", line 197, in _run_module_as_main\n      return _run_code(code, main_globals, None,\n    File \"c:\\Users\\irene\\anaconda3\\lib\\runpy.py\", line 87, in _run_code\n      exec(code, run_globals)\n    File \"c:\\Users\\irene\\anaconda3\\lib\\site-packages\\ipykernel_launcher.py\", line 17, in <module>\n      app.launch_new_instance()\n    File \"c:\\Users\\irene\\anaconda3\\lib\\site-packages\\traitlets\\config\\application.py\", line 846, in launch_instance\n      app.start()\n    File \"c:\\Users\\irene\\anaconda3\\lib\\site-packages\\ipykernel\\kernelapp.py\", line 712, in start\n      self.io_loop.start()\n    File \"c:\\Users\\irene\\anaconda3\\lib\\site-packages\\tornado\\platform\\asyncio.py\", line 199, in start\n      self.asyncio_loop.run_forever()\n    File \"c:\\Users\\irene\\anaconda3\\lib\\asyncio\\base_events.py\", line 596, in run_forever\n      self._run_once()\n    File \"c:\\Users\\irene\\anaconda3\\lib\\asyncio\\base_events.py\", line 1890, in _run_once\n      handle._run()\n    File \"c:\\Users\\irene\\anaconda3\\lib\\asyncio\\events.py\", line 80, in _run\n      self._context.run(self._callback, *self._args)\n    File \"c:\\Users\\irene\\anaconda3\\lib\\site-packages\\ipykernel\\kernelbase.py\", line 510, in dispatch_queue\n      await self.process_one()\n    File \"c:\\Users\\irene\\anaconda3\\lib\\site-packages\\ipykernel\\kernelbase.py\", line 499, in process_one\n      await dispatch(*args)\n    File \"c:\\Users\\irene\\anaconda3\\lib\\site-packages\\ipykernel\\kernelbase.py\", line 406, in dispatch_shell\n      await result\n    File \"c:\\Users\\irene\\anaconda3\\lib\\site-packages\\ipykernel\\kernelbase.py\", line 730, in execute_request\n      reply_content = await reply_content\n    File \"c:\\Users\\irene\\anaconda3\\lib\\site-packages\\ipykernel\\ipkernel.py\", line 383, in do_execute\n      res = shell.run_cell(\n    File \"c:\\Users\\irene\\anaconda3\\lib\\site-packages\\ipykernel\\zmqshell.py\", line 528, in run_cell\n      return super().run_cell(*args, **kwargs)\n    File \"c:\\Users\\irene\\anaconda3\\lib\\site-packages\\IPython\\core\\interactiveshell.py\", line 2940, in run_cell\n      result = self._run_cell(\n    File \"c:\\Users\\irene\\anaconda3\\lib\\site-packages\\IPython\\core\\interactiveshell.py\", line 2995, in _run_cell\n      return runner(coro)\n    File \"c:\\Users\\irene\\anaconda3\\lib\\site-packages\\IPython\\core\\async_helpers.py\", line 129, in _pseudo_sync_runner\n      coro.send(None)\n    File \"c:\\Users\\irene\\anaconda3\\lib\\site-packages\\IPython\\core\\interactiveshell.py\", line 3194, in run_cell_async\n      has_raised = await self.run_ast_nodes(code_ast.body, cell_name,\n    File \"c:\\Users\\irene\\anaconda3\\lib\\site-packages\\IPython\\core\\interactiveshell.py\", line 3373, in run_ast_nodes\n      if await self.run_code(code, result, async_=asy):\n    File \"c:\\Users\\irene\\anaconda3\\lib\\site-packages\\IPython\\core\\interactiveshell.py\", line 3433, in run_code\n      exec(code_obj, self.user_global_ns, self.user_ns)\n    File \"C:\\Users\\irene\\AppData\\Local\\Temp\\ipykernel_19816\\1780746766.py\", line 1, in <module>\n      history = model.fit(x_train, y_train, epochs=4, validation_data=(x_val, y_val))\n    File \"c:\\Users\\irene\\anaconda3\\lib\\site-packages\\keras\\utils\\traceback_utils.py\", line 65, in error_handler\n      return fn(*args, **kwargs)\n    File \"c:\\Users\\irene\\anaconda3\\lib\\site-packages\\keras\\engine\\training.py\", line 1650, in fit\n      tmp_logs = self.train_function(iterator)\n    File \"c:\\Users\\irene\\anaconda3\\lib\\site-packages\\keras\\engine\\training.py\", line 1249, in train_function\n      return step_function(self, iterator)\n    File \"c:\\Users\\irene\\anaconda3\\lib\\site-packages\\keras\\engine\\training.py\", line 1233, in step_function\n      outputs = model.distribute_strategy.run(run_step, args=(data,))\n    File \"c:\\Users\\irene\\anaconda3\\lib\\site-packages\\keras\\engine\\training.py\", line 1222, in run_step\n      outputs = model.train_step(data)\n    File \"c:\\Users\\irene\\anaconda3\\lib\\site-packages\\keras\\engine\\training.py\", line 1024, in train_step\n      loss = self.compute_loss(x, y, y_pred, sample_weight)\n    File \"c:\\Users\\irene\\anaconda3\\lib\\site-packages\\keras\\engine\\training.py\", line 1082, in compute_loss\n      return self.compiled_loss(\n    File \"c:\\Users\\irene\\anaconda3\\lib\\site-packages\\keras\\engine\\compile_utils.py\", line 265, in __call__\n      loss_value = loss_obj(y_t, y_p, sample_weight=sw)\n    File \"c:\\Users\\irene\\anaconda3\\lib\\site-packages\\keras\\losses.py\", line 152, in __call__\n      losses = call_fn(y_true, y_pred)\n    File \"c:\\Users\\irene\\anaconda3\\lib\\site-packages\\keras\\losses.py\", line 284, in call\n      return ag_fn(y_true, y_pred, **self._fn_kwargs)\n    File \"c:\\Users\\irene\\anaconda3\\lib\\site-packages\\keras\\losses.py\", line 2098, in sparse_categorical_crossentropy\n      return backend.sparse_categorical_crossentropy(\n    File \"c:\\Users\\irene\\anaconda3\\lib\\site-packages\\keras\\backend.py\", line 5633, in sparse_categorical_crossentropy\n      res = tf.nn.sparse_softmax_cross_entropy_with_logits(\nNode: 'sparse_categorical_crossentropy/SparseSoftmaxCrossEntropyWithLogits/SparseSoftmaxCrossEntropyWithLogits'\nlogits and labels must have the same first dimension, got logits shape [22560,2] and labels shape [32]\n\t [[{{node sparse_categorical_crossentropy/SparseSoftmaxCrossEntropyWithLogits/SparseSoftmaxCrossEntropyWithLogits}}]] [Op:__inference_train_function_37872]"
     ]
    }
   ],
   "source": [
    "history = model.fit(x_train, y_train, epochs=4, validation_data=(x_val, y_val))"
   ]
  },
  {
   "cell_type": "markdown",
   "metadata": {},
   "source": [
    "# Model Building"
   ]
  },
  {
   "cell_type": "code",
   "execution_count": 67,
   "metadata": {},
   "outputs": [],
   "source": [
    "from tensorflow.keras.initializers import Constant\n",
    "from keras import Input, Model"
   ]
  },
  {
   "cell_type": "code",
   "execution_count": 68,
   "metadata": {},
   "outputs": [
    {
     "data": {
      "text/plain": [
       "12381"
      ]
     },
     "execution_count": 68,
     "metadata": {},
     "output_type": "execute_result"
    }
   ],
   "source": [
    "num_tokens"
   ]
  },
  {
   "cell_type": "code",
   "execution_count": 72,
   "metadata": {},
   "outputs": [],
   "source": [
    "embedding_layer = Embedding(\n",
    "    embedding_matrix.shape[0],\n",
    "    embedding_dim,\n",
    "    input_length=max_lenght,\n",
    "    mask_zero=True) # 0-padding should be masked out"
   ]
  },
  {
   "cell_type": "code",
   "execution_count": 73,
   "metadata": {},
   "outputs": [
    {
     "data": {
      "text/plain": [
       "<KerasTensor: shape=(None, None) dtype=int64 (created by layer 'input_3')>"
      ]
     },
     "execution_count": 73,
     "metadata": {},
     "output_type": "execute_result"
    }
   ],
   "source": [
    "int_sequences_input = Input(shape=(None,), dtype=\"int64\")\n",
    "int_sequences_input"
   ]
  },
  {
   "cell_type": "code",
   "execution_count": 74,
   "metadata": {},
   "outputs": [
    {
     "data": {
      "text/plain": [
       "<KerasTensor: shape=(None, None, 128) dtype=float32 (created by layer 'embedding_6')>"
      ]
     },
     "execution_count": 74,
     "metadata": {},
     "output_type": "execute_result"
    }
   ],
   "source": [
    "embedded_sequences = embedding_layer(int_sequences_input)\n",
    "embedded_sequences"
   ]
  },
  {
   "cell_type": "code",
   "execution_count": 75,
   "metadata": {},
   "outputs": [
    {
     "ename": "ValueError",
     "evalue": "Please initialize `Bidirectional` layer with a `tf.keras.layers.Layer` instance. Received: KerasTensor(type_spec=TensorSpec(shape=(None, None, 50), dtype=tf.float32, name=None), name='lstm_5/PartitionedCall:1', description=\"created by layer 'lstm_5'\")",
     "output_type": "error",
     "traceback": [
      "\u001b[1;31m---------------------------------------------------------------------------\u001b[0m",
      "\u001b[1;31mValueError\u001b[0m                                Traceback (most recent call last)",
      "\u001b[1;32mc:\\Users\\irene\\Desktop\\Università\\Magistrale\\Human Language Technologies\\Progetto_HLT\\subtaskA\\NeuralNetwork.ipynb Cell 54\u001b[0m in \u001b[0;36m1\n\u001b[1;32m----> <a href='vscode-notebook-cell:/c%3A/Users/irene/Desktop/Universit%C3%A0/Magistrale/Human%20Language%20Technologies/Progetto_HLT/subtaskA/NeuralNetwork.ipynb#Y124sZmlsZQ%3D%3D?line=0'>1</a>\u001b[0m x \u001b[39m=\u001b[39m Bidirectional(LSTM(RNN_HIDDEN_SIZE, return_sequences\u001b[39m=\u001b[39;49m\u001b[39mTrue\u001b[39;49;00m, dropout\u001b[39m=\u001b[39;49m\u001b[39m0.1\u001b[39;49m)(embedded_sequences),\n\u001b[0;32m      <a href='vscode-notebook-cell:/c%3A/Users/irene/Desktop/Universit%C3%A0/Magistrale/Human%20Language%20Technologies/Progetto_HLT/subtaskA/NeuralNetwork.ipynb#Y124sZmlsZQ%3D%3D?line=1'>2</a>\u001b[0m                   merge_mode\u001b[39m=\u001b[39;49m\u001b[39m'\u001b[39;49m\u001b[39mconcat\u001b[39;49m\u001b[39m'\u001b[39;49m)\n",
      "File \u001b[1;32mc:\\Users\\irene\\anaconda3\\lib\\site-packages\\keras\\layers\\rnn\\bidirectional.py:118\u001b[0m, in \u001b[0;36mBidirectional.__init__\u001b[1;34m(self, layer, merge_mode, weights, backward_layer, **kwargs)\u001b[0m\n\u001b[0;32m    109\u001b[0m \u001b[39mdef\u001b[39;00m \u001b[39m__init__\u001b[39m(\n\u001b[0;32m    110\u001b[0m     \u001b[39mself\u001b[39m,\n\u001b[0;32m    111\u001b[0m     layer,\n\u001b[1;32m   (...)\u001b[0m\n\u001b[0;32m    115\u001b[0m     \u001b[39m*\u001b[39m\u001b[39m*\u001b[39mkwargs,\n\u001b[0;32m    116\u001b[0m ):\n\u001b[0;32m    117\u001b[0m     \u001b[39mif\u001b[39;00m \u001b[39mnot\u001b[39;00m \u001b[39misinstance\u001b[39m(layer, Layer):\n\u001b[1;32m--> 118\u001b[0m         \u001b[39mraise\u001b[39;00m \u001b[39mValueError\u001b[39;00m(\n\u001b[0;32m    119\u001b[0m             \u001b[39m\"\u001b[39m\u001b[39mPlease initialize `Bidirectional` layer with a \u001b[39m\u001b[39m\"\u001b[39m\n\u001b[0;32m    120\u001b[0m             \u001b[39mf\u001b[39m\u001b[39m\"\u001b[39m\u001b[39m`tf.keras.layers.Layer` instance. Received: \u001b[39m\u001b[39m{\u001b[39;00mlayer\u001b[39m}\u001b[39;00m\u001b[39m\"\u001b[39m\n\u001b[0;32m    121\u001b[0m         )\n\u001b[0;32m    122\u001b[0m     \u001b[39mif\u001b[39;00m backward_layer \u001b[39mis\u001b[39;00m \u001b[39mnot\u001b[39;00m \u001b[39mNone\u001b[39;00m \u001b[39mand\u001b[39;00m \u001b[39mnot\u001b[39;00m \u001b[39misinstance\u001b[39m(backward_layer, Layer):\n\u001b[0;32m    123\u001b[0m         \u001b[39mraise\u001b[39;00m \u001b[39mValueError\u001b[39;00m(\n\u001b[0;32m    124\u001b[0m             \u001b[39m\"\u001b[39m\u001b[39m`backward_layer` need to be a `tf.keras.layers.Layer` \u001b[39m\u001b[39m\"\u001b[39m\n\u001b[0;32m    125\u001b[0m             \u001b[39mf\u001b[39m\u001b[39m\"\u001b[39m\u001b[39minstance. Received: \u001b[39m\u001b[39m{\u001b[39;00mbackward_layer\u001b[39m}\u001b[39;00m\u001b[39m\"\u001b[39m\n\u001b[0;32m    126\u001b[0m         )\n",
      "\u001b[1;31mValueError\u001b[0m: Please initialize `Bidirectional` layer with a `tf.keras.layers.Layer` instance. Received: KerasTensor(type_spec=TensorSpec(shape=(None, None, 50), dtype=tf.float32, name=None), name='lstm_5/PartitionedCall:1', description=\"created by layer 'lstm_5'\")"
     ]
    }
   ],
   "source": [
    "#x = Bidirectional(LSTM(RNN_HIDDEN_SIZE, return_sequences=True, dropout=0.1)(embedded_sequences),\n",
    "                  merge_mode='concat')"
   ]
  },
  {
   "cell_type": "code",
   "execution_count": 76,
   "metadata": {},
   "outputs": [
    {
     "name": "stdout",
     "output_type": "stream",
     "text": [
      "Model: \"model_1\"\n",
      "_________________________________________________________________\n",
      " Layer (type)                Output Shape              Param #   \n",
      "=================================================================\n",
      " input_3 (InputLayer)        [(None, None)]            0         \n",
      "                                                                 \n",
      " embedding_6 (Embedding)     (None, None, 128)         1584768   \n",
      "                                                                 \n",
      " lstm_6 (LSTM)               (None, 50)                35800     \n",
      "                                                                 \n",
      " dense_4 (Dense)             (None, 2)                 102       \n",
      "                                                                 \n",
      "=================================================================\n",
      "Total params: 1,620,670\n",
      "Trainable params: 1,620,670\n",
      "Non-trainable params: 0\n",
      "_________________________________________________________________\n"
     ]
    }
   ],
   "source": [
    "x = LSTM(RNN_HIDDEN_SIZE)(embedded_sequences)\n",
    "preds = Dense(2, activation=\"softmax\")(x)\n",
    "model = Model(int_sequences_input, preds)\n",
    "model.summary()"
   ]
  },
  {
   "cell_type": "code",
   "execution_count": 77,
   "metadata": {},
   "outputs": [
    {
     "data": {
      "image/png": "[encoded data removed]",
      "text/plain": [
       "<IPython.core.display.Image object>"
      ]
     },
     "execution_count": 77,
     "metadata": {},
     "output_type": "execute_result"
    }
   ],
   "source": [
    "plot_model(model, show_shapes=True)"
   ]
  },
  {
   "cell_type": "code",
   "execution_count": 78,
   "metadata": {},
   "outputs": [],
   "source": [
    "x_train = vectorizer(np.array([[s] for s in X_train])).numpy()\n",
    "x_val = vectorizer(np.array([[s] for s in X_val])).numpy()\n",
    "\n",
    "y_train = np.array(y_train)\n",
    "y_val = np.array(y_val)"
   ]
  },
  {
   "cell_type": "code",
   "execution_count": 79,
   "metadata": {},
   "outputs": [
    {
     "name": "stdout",
     "output_type": "stream",
     "text": [
      "Epoch 1/3\n",
      "11/11 [==============================] - 34s 3s/step - loss: 0.6931 - accuracy: 0.4953 - val_loss: 0.6935 - val_accuracy: 0.4819\n",
      "Epoch 2/3\n",
      "11/11 [==============================] - 47s 5s/step - loss: 0.6928 - accuracy: 0.5039 - val_loss: 0.6936 - val_accuracy: 0.4909\n",
      "Epoch 3/3\n",
      "11/11 [==============================] - 84s 8s/step - loss: 0.6927 - accuracy: 0.5101 - val_loss: 0.6940 - val_accuracy: 0.4746\n"
     ]
    },
    {
     "data": {
      "text/plain": [
       "<keras.callbacks.History at 0x29224627d60>"
      ]
     },
     "execution_count": 79,
     "metadata": {},
     "output_type": "execute_result"
    }
   ],
   "source": [
    "model.compile(loss='sparse_categorical_crossentropy', optimizer='sgd', metrics=['accuracy'])\n",
    "model.fit(x_train, y_train, batch_size=128, epochs=3, validation_data=(x_val, y_val))"
   ]
  },
  {
   "cell_type": "code",
   "execution_count": 152,
   "metadata": {},
   "outputs": [],
   "source": [
    "history = model.history"
   ]
  },
  {
   "cell_type": "code",
   "execution_count": 153,
   "metadata": {},
   "outputs": [],
   "source": [
    "import matplotlib.pyplot as plt"
   ]
  },
  {
   "cell_type": "code",
   "execution_count": 154,
   "metadata": {},
   "outputs": [
    {
     "data": {
      "text/plain": [
       "dict_keys(['loss', 'accuracy', 'val_loss', 'val_accuracy'])"
      ]
     },
     "execution_count": 154,
     "metadata": {},
     "output_type": "execute_result"
    }
   ],
   "source": [
    "history.history.keys()"
   ]
  },
  {
   "cell_type": "code",
   "execution_count": 156,
   "metadata": {},
   "outputs": [
    {
     "data": {
      "image/png": "[encoded data removed]",
      "text/plain": [
       "<Figure size 640x480 with 1 Axes>"
      ]
     },
     "metadata": {},
     "output_type": "display_data"
    }
   ],
   "source": [
    "plt.plot(history.history['accuracy'], color='blue')\n",
    "plt.plot(history.history['val_accuracy'], color='orange')\n",
    "plt.show()"
   ]
  },
  {
   "cell_type": "code",
   "execution_count": 157,
   "metadata": {},
   "outputs": [
    {
     "data": {
      "image/png": "[encoded data removed]",
      "text/plain": [
       "<Figure size 640x480 with 1 Axes>"
      ]
     },
     "metadata": {},
     "output_type": "display_data"
    }
   ],
   "source": [
    "plt.plot(history.history['loss'], color='blue')\n",
    "plt.plot(history.history['val_loss'], color='orange')\n",
    "plt.show()"
   ]
  },
  {
   "cell_type": "markdown",
   "metadata": {},
   "source": [
    "https://keras.io/examples/nlp/pretrained_word_embeddings/"
   ]
  },
  {
   "cell_type": "markdown",
   "metadata": {},
   "source": []
  }
 ],
 "metadata": {
  "kernelspec": {
   "display_name": "base",
   "language": "python",
   "name": "python3"
  },
  "language_info": {
   "codemirror_mode": {
    "name": "ipython",
    "version": 3
   },
   "file_extension": ".py",
   "mimetype": "text/x-python",
   "name": "python",
   "nbconvert_exporter": "python",
   "pygments_lexer": "ipython3",
   "version": "3.9.7"
  },
  "orig_nbformat": 4
 },
 "nbformat": 4,
 "nbformat_minor": 2
}
