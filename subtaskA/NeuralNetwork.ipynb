{
 "cells": [
  {
   "cell_type": "code",
   "execution_count": 1,
   "metadata": {},
   "outputs": [],
   "source": [
    "import pandas as pd\n",
    "import numpy as np\n",
    "\n",
    "from tensorflow.keras.layers import Embedding, Flatten, StringLookup\n",
    "from tensorflow.keras.models import Sequential\n",
    "from tensorflow.keras.utils import plot_model"
   ]
  },
  {
   "cell_type": "code",
   "execution_count": 2,
   "metadata": {},
   "outputs": [
    {
     "data": {
      "text/html": [
       "<div>\n",
       "<style scoped>\n",
       "    .dataframe tbody tr th:only-of-type {\n",
       "        vertical-align: middle;\n",
       "    }\n",
       "\n",
       "    .dataframe tbody tr th {\n",
       "        vertical-align: top;\n",
       "    }\n",
       "\n",
       "    .dataframe thead th {\n",
       "        text-align: right;\n",
       "    }\n",
       "</style>\n",
       "<table border=\"1\" class=\"dataframe\">\n",
       "  <thead>\n",
       "    <tr style=\"text-align: right;\">\n",
       "      <th></th>\n",
       "      <th>comment_text</th>\n",
       "      <th>conspiratorial</th>\n",
       "    </tr>\n",
       "    <tr>\n",
       "      <th>Id</th>\n",
       "      <th></th>\n",
       "      <th></th>\n",
       "    </tr>\n",
       "  </thead>\n",
       "  <tbody>\n",
       "    <tr>\n",
       "      <th>0</th>\n",
       "      <td>⚡Se non ci fossero soldati non ci sarebbero gu...</td>\n",
       "      <td>0</td>\n",
       "    </tr>\n",
       "    <tr>\n",
       "      <th>1</th>\n",
       "      <td>21/08/21]( [PRE-PRINT]\\r\\n\\r\\n📄__ \"Shedding of...</td>\n",
       "      <td>1</td>\n",
       "    </tr>\n",
       "    <tr>\n",
       "      <th>2</th>\n",
       "      <td>PAURA E DELIRIO ALLA CNN: IL MINISTERO DELLA V...</td>\n",
       "      <td>1</td>\n",
       "    </tr>\n",
       "    <tr>\n",
       "      <th>3</th>\n",
       "      <td>L'Aspirina non aumenta la sopravvivenza dei pa...</td>\n",
       "      <td>0</td>\n",
       "    </tr>\n",
       "    <tr>\n",
       "      <th>4</th>\n",
       "      <td>L'Italia non puo' dare armi lo vieta la Costit...</td>\n",
       "      <td>0</td>\n",
       "    </tr>\n",
       "  </tbody>\n",
       "</table>\n",
       "</div>"
      ],
      "text/plain": [
       "                                         comment_text  conspiratorial\n",
       "Id                                                                   \n",
       "0   ⚡Se non ci fossero soldati non ci sarebbero gu...               0\n",
       "1   21/08/21]( [PRE-PRINT]\\r\\n\\r\\n📄__ \"Shedding of...               1\n",
       "2   PAURA E DELIRIO ALLA CNN: IL MINISTERO DELLA V...               1\n",
       "3   L'Aspirina non aumenta la sopravvivenza dei pa...               0\n",
       "4   L'Italia non puo' dare armi lo vieta la Costit...               0"
      ]
     },
     "execution_count": 2,
     "metadata": {},
     "output_type": "execute_result"
    }
   ],
   "source": [
    "df_train = pd.read_csv(\"subtaskA_train.csv\", index_col='Id')\n",
    "df_train.head()"
   ]
  },
  {
   "cell_type": "code",
   "execution_count": 3,
   "metadata": {},
   "outputs": [
    {
     "data": {
      "text/plain": [
       "(1842, 2)"
      ]
     },
     "execution_count": 3,
     "metadata": {},
     "output_type": "execute_result"
    }
   ],
   "source": [
    "df_train.shape"
   ]
  },
  {
   "cell_type": "code",
   "execution_count": 4,
   "metadata": {},
   "outputs": [],
   "source": [
    "X_train = np.array(df_train.comment_text) # np.array di stringhe"
   ]
  },
  {
   "cell_type": "markdown",
   "metadata": {},
   "source": [
    "# Data Preprocessing"
   ]
  },
  {
   "cell_type": "code",
   "execution_count": 5,
   "metadata": {},
   "outputs": [],
   "source": [
    "import nltk.data"
   ]
  },
  {
   "cell_type": "markdown",
   "metadata": {},
   "source": [
    "## Sentence Splitting"
   ]
  },
  {
   "cell_type": "code",
   "execution_count": 6,
   "metadata": {},
   "outputs": [],
   "source": [
    "splitter = nltk.data.load('tokenizers/punkt/italian.pickle')"
   ]
  },
  {
   "cell_type": "code",
   "execution_count": 7,
   "metadata": {},
   "outputs": [],
   "source": [
    "X_train_splitted = []\n",
    "for post in X_train:\n",
    "    X_train_splitted.append(splitter.tokenize(post))"
   ]
  },
  {
   "cell_type": "code",
   "execution_count": 8,
   "metadata": {},
   "outputs": [
    {
     "data": {
      "text/plain": [
       "1842"
      ]
     },
     "execution_count": 8,
     "metadata": {},
     "output_type": "execute_result"
    }
   ],
   "source": [
    "len(X_train_splitted)"
   ]
  },
  {
   "cell_type": "code",
   "execution_count": 9,
   "metadata": {},
   "outputs": [
    {
     "data": {
      "text/plain": [
       "[['⚡Se non ci fossero soldati non ci sarebbero guerre.'],\n",
       " ['21/08/21]( [PRE-PRINT]\\r\\n\\r\\n📄__ \"Shedding of Infectious SARS-CoV-2 Despite Vaccination\"\\r\\n🇮🇹 \"Diffusione del SARS-CoV-2 nonostante la vaccinazione\"__\\r\\n\\r\\n📊 \"La variante Delta del SARS-CoV-2 può causare elevate cariche virali, è al trasmissibile e contiene mutazioni che conferiscono una fuga immunitaria parziale.',\n",
       "  '[...] le indagini sull\\'epidemia suggeriscono che le persone vaccinate possono diffondere [la variante] Delta\"\\r\\n\\r\\n⚠️ \"[...] questi risultati indicano che anche le **persone asintomatiche e comple vaccinate possono diffondere il virus infettivo**.\"',\n",
       "  '⚠️ \"[...] questi dati indicano che gli individui **vaccinati e non vaccinati** infettati dalla variante Delta **possono trasmettere l\\'infezione**.\"',\n",
       "  '📚 **']]"
      ]
     },
     "execution_count": 9,
     "metadata": {},
     "output_type": "execute_result"
    }
   ],
   "source": [
    "X_train_splitted[:2]"
   ]
  },
  {
   "cell_type": "markdown",
   "metadata": {},
   "source": [
    "## Tokenization and Word Normalization"
   ]
  },
  {
   "cell_type": "code",
   "execution_count": 62,
   "metadata": {},
   "outputs": [],
   "source": [
    "from nltk.tokenize import TweetTokenizer # Twitter-specific tokenizer\n",
    "tokenizer = TweetTokenizer()"
   ]
  },
  {
   "cell_type": "code",
   "execution_count": 11,
   "metadata": {},
   "outputs": [],
   "source": [
    "import re\n",
    "\n",
    "def get_digits(text):\n",
    "    try:\n",
    "      val = int(text) # converte la stringa in intero\n",
    "    except:\n",
    "      text = re.sub('\\d', '@Dg', text) # sostituisce a ogni cifra in text la stringa '@Dd'\n",
    "      return text\n",
    "    if val >= 0 and val < 2100: # se è un numero tra 0 e 2100\n",
    "      return str(val) # viene lasciato uguale\n",
    "    else:\n",
    "      return \"DIGLEN_\" + str(len(str(val))) # viene indicato il numero di cifre che compongono quel numero\n",
    "\n",
    "def normalize_text(word):\n",
    "    if \"http\" in word or (\".\" in word and \"/\" in word):\n",
    "      word = str(\"___URL___\")\n",
    "      return word\n",
    "    if len(word) > 26:\n",
    "      return \"__LONG-LONG__\"\n",
    "    new_word = get_digits(word)\n",
    "    if new_word != word:\n",
    "      word = new_word\n",
    "    if word[0].isupper(): # se la parola inizia con la lettera maiuscola\n",
    "      word = word.capitalize() # solo la prima viene lasciata maiuscola\n",
    "    else:\n",
    "      word = word.lower() # tutta in minuscolo\n",
    "    return word"
   ]
  },
  {
   "cell_type": "code",
   "execution_count": 12,
   "metadata": {},
   "outputs": [],
   "source": [
    "X_train_tokenized = []\n",
    "for post in X_train_splitted:\n",
    "    post_tokens = []\n",
    "    for sentence in post:\n",
    "        sentence_tokens = [normalize_text(word) for word in tokenizer.tokenize(sentence)]\n",
    "        post_tokens.append(sentence_tokens)\n",
    "    X_train_tokenized.append(post_tokens)"
   ]
  },
  {
   "cell_type": "code",
   "execution_count": 13,
   "metadata": {},
   "outputs": [
    {
     "data": {
      "text/plain": [
       "1842"
      ]
     },
     "execution_count": 13,
     "metadata": {},
     "output_type": "execute_result"
    }
   ],
   "source": [
    "len(X_train_tokenized)"
   ]
  },
  {
   "cell_type": "code",
   "execution_count": 14,
   "metadata": {},
   "outputs": [
    {
     "data": {
      "text/plain": [
       "[['⚡',\n",
       "  'Se',\n",
       "  'non',\n",
       "  'ci',\n",
       "  'fossero',\n",
       "  'soldati',\n",
       "  'non',\n",
       "  'ci',\n",
       "  'sarebbero',\n",
       "  'guerre',\n",
       "  '.']]"
      ]
     },
     "execution_count": 14,
     "metadata": {},
     "output_type": "execute_result"
    }
   ],
   "source": [
    "X_train_tokenized[0]"
   ]
  },
  {
   "cell_type": "code",
   "execution_count": 109,
   "metadata": {},
   "outputs": [],
   "source": [
    "X_train_tokenized_flatten = []\n",
    "for post in X_train_splitted:\n",
    "    post_tokens = []\n",
    "    for sentence in post:\n",
    "        sentence_tokens = [normalize_text(word) for word in tokenizer.tokenize(sentence)]\n",
    "        for word in sentence_tokens:\n",
    "            post_tokens.append(word)\n",
    "    X_train_tokenized_flatten.append(post_tokens)"
   ]
  },
  {
   "cell_type": "markdown",
   "metadata": {},
   "source": [
    "## Manual Padding"
   ]
  },
  {
   "cell_type": "code",
   "execution_count": 15,
   "metadata": {},
   "outputs": [],
   "source": [
    "max_length = float('-inf')\n",
    "for post in X_train_tokenized:\n",
    "    post_words = 0\n",
    "    for sentence in post:\n",
    "        post_words += len(sentence)\n",
    "    if post_words > max_length:\n",
    "        max_length = post_words\n",
    "\n",
    "max_length"
   ]
  },
  {
   "cell_type": "code",
   "execution_count": 110,
   "metadata": {},
   "outputs": [],
   "source": [
    "for post in X_train_tokenized_flatten:\n",
    "    if len(post) < max_length:\n",
    "        for i in range(max_length-len(post)):\n",
    "            post.append('[UNK]')"
   ]
  },
  {
   "cell_type": "code",
   "execution_count": 111,
   "metadata": {},
   "outputs": [],
   "source": [
    "X_train_tokenized_flatten = np.array(X_train_tokenized_flatten)"
   ]
  },
  {
   "cell_type": "code",
   "execution_count": 113,
   "metadata": {},
   "outputs": [
    {
     "data": {
      "text/plain": [
       "(1842, 708)"
      ]
     },
     "execution_count": 113,
     "metadata": {},
     "output_type": "execute_result"
    }
   ],
   "source": [
    "X_train_tokenized_flatten.shape"
   ]
  },
  {
   "cell_type": "markdown",
   "metadata": {},
   "source": [
    "## String-to-Integer mapping"
   ]
  },
  {
   "cell_type": "code",
   "execution_count": 114,
   "metadata": {},
   "outputs": [],
   "source": [
    "string_lookup_layer = StringLookup()\n",
    "# This layer translates a set of strings into integer via a table-based vocabulary lookup. This layer will perform no\n",
    "# splitting or transformation of input strings."
   ]
  },
  {
   "cell_type": "code",
   "execution_count": 115,
   "metadata": {},
   "outputs": [],
   "source": [
    "string_lookup_layer.adapt(X_train_tokenized_flatten)\n",
    "# the data to train on can be passed either as a`tf.data.Dataset`, or as a numpy array."
   ]
  },
  {
   "cell_type": "code",
   "execution_count": 116,
   "metadata": {},
   "outputs": [
    {
     "data": {
      "text/plain": [
       "16894"
      ]
     },
     "execution_count": 116,
     "metadata": {},
     "output_type": "execute_result"
    }
   ],
   "source": [
    "len(string_lookup_layer.get_vocabulary())"
   ]
  },
  {
   "cell_type": "markdown",
   "metadata": {},
   "source": [
    "## Word Embeddings"
   ]
  },
  {
   "cell_type": "markdown",
   "metadata": {},
   "source": [
    "### Glove"
   ]
  },
  {
   "cell_type": "code",
   "execution_count": 7,
   "metadata": {},
   "outputs": [
    {
     "name": "stderr",
     "output_type": "stream",
     "text": [
      "c:\\Users\\irene\\anaconda3\\lib\\site-packages\\paramiko\\transport.py:219: CryptographyDeprecationWarning: Blowfish has been deprecated\n",
      "  \"class\": algorithms.Blowfish,\n"
     ]
    }
   ],
   "source": [
    "import gensim.downloader as dl\n",
    "glove_embeddings = dl.load('glove-wiki-gigaword-50') # glove-twitter-25"
   ]
  },
  {
   "cell_type": "code",
   "execution_count": 102,
   "metadata": {},
   "outputs": [],
   "source": [
    "X_train_embeddings = []\n",
    "not_found = []\n",
    "for post in X_train_tokenized:\n",
    "    post_embeddings = []\n",
    "    for sentence in post:\n",
    "        sentence_embeddings = []\n",
    "        for word in sentence:\n",
    "            if word in glove_embeddings:\n",
    "                sentence_embeddings.append(glove_embeddings[word])\n",
    "            else:\n",
    "                not_found.append(word)\n",
    "        post_embeddings.append(sentence_embeddings)\n",
    "    X_train_embeddings.append(post_embeddings)"
   ]
  },
  {
   "cell_type": "code",
   "execution_count": 103,
   "metadata": {},
   "outputs": [
    {
     "data": {
      "text/plain": [
       "40956"
      ]
     },
     "execution_count": 103,
     "metadata": {},
     "output_type": "execute_result"
    }
   ],
   "source": [
    "len(not_found)"
   ]
  },
  {
   "cell_type": "markdown",
   "metadata": {},
   "source": [
    "Una merda, proviamo con gli embedding specifici per l'italiano"
   ]
  },
  {
   "cell_type": "markdown",
   "metadata": {},
   "source": [
    "### Itwac"
   ]
  },
  {
   "cell_type": "code",
   "execution_count": 26,
   "metadata": {},
   "outputs": [],
   "source": [
    "embeddings_path = 'itwac128.txt.gitignore'"
   ]
  },
  {
   "cell_type": "code",
   "execution_count": 27,
   "metadata": {},
   "outputs": [],
   "source": [
    "def load_word_embeddings(emb_path):\n",
    "    '''crea un dizionario contenente gli embedding di parole presente nel file src_path'''\n",
    "    embeddings = dict() # dizionario che conterrà gli embedding\n",
    "    for line in open(emb_path, 'r'):\n",
    "        line = line.strip().split('\\t')\n",
    "        word = line[0]\n",
    "        embedding = line[1:]\n",
    "        embedding = [float(comp) for comp in embedding] # convertiamo le componenti dell'embedding in float\n",
    "        embeddings[word] = np.asarray(embedding) # trasformiamo la lista delle componenti in un vettore di numpy\n",
    "    return embeddings"
   ]
  },
  {
   "cell_type": "code",
   "execution_count": 29,
   "metadata": {},
   "outputs": [],
   "source": [
    "embeddings = load_word_embeddings(embeddings_path)"
   ]
  },
  {
   "cell_type": "code",
   "execution_count": 66,
   "metadata": {},
   "outputs": [
    {
     "data": {
      "text/plain": [
       "1247492"
      ]
     },
     "execution_count": 66,
     "metadata": {},
     "output_type": "execute_result"
    }
   ],
   "source": [
    "len(embeddings)"
   ]
  },
  {
   "cell_type": "code",
   "execution_count": 128,
   "metadata": {},
   "outputs": [],
   "source": [
    "r = np.random.RandomState(42)\n",
    "X_train_embeddings = []\n",
    "not_found = []\n",
    "for post in X_train_tokenized_flatten:\n",
    "    post_embeddings = []\n",
    "    for word in post:\n",
    "        if word == '[UNK]':\n",
    "            post_embeddings.append(r.uniform(-0.2, 0.2, 128)) # initialize always with the same random weights\n",
    "        elif word in embeddings:\n",
    "            post_embeddings.append(embeddings[word])\n",
    "        else:\n",
    "            not_found.append(word)\n",
    "            post_embeddings.append(np.random.uniform(-0.2, 0.2, 128)) # initialize with random weights\n",
    "    X_train_embeddings.append(post_embeddings)"
   ]
  },
  {
   "cell_type": "code",
   "execution_count": 129,
   "metadata": {},
   "outputs": [
    {
     "data": {
      "text/plain": [
       "5761"
      ]
     },
     "execution_count": 129,
     "metadata": {},
     "output_type": "execute_result"
    }
   ],
   "source": [
    "len(not_found)"
   ]
  },
  {
   "cell_type": "code",
   "execution_count": 130,
   "metadata": {},
   "outputs": [
    {
     "data": {
      "text/plain": [
       "1842"
      ]
     },
     "execution_count": 130,
     "metadata": {},
     "output_type": "execute_result"
    }
   ],
   "source": [
    "len(X_train_embeddings)"
   ]
  },
  {
   "cell_type": "code",
   "execution_count": 132,
   "metadata": {},
   "outputs": [],
   "source": [
    "X_train_embeddings = np.array(X_train_embeddings)"
   ]
  },
  {
   "cell_type": "code",
   "execution_count": 133,
   "metadata": {},
   "outputs": [
    {
     "data": {
      "text/plain": [
       "(1842, 708, 128)"
      ]
     },
     "execution_count": 133,
     "metadata": {},
     "output_type": "execute_result"
    }
   ],
   "source": [
    "X_train_embeddings.shape"
   ]
  },
  {
   "cell_type": "markdown",
   "metadata": {},
   "source": [
    "# Model Building"
   ]
  },
  {
   "cell_type": "code",
   "execution_count": 134,
   "metadata": {},
   "outputs": [],
   "source": [
    "model = Sequential()"
   ]
  },
  {
   "cell_type": "code",
   "execution_count": 137,
   "metadata": {},
   "outputs": [
    {
     "ename": "ValueError",
     "evalue": "Layer embedding_1 weight shape (708, 128) is not compatible with provided weight shape (1842, 708, 128).",
     "output_type": "error",
     "traceback": [
      "\u001b[1;31m---------------------------------------------------------------------------\u001b[0m",
      "\u001b[1;31mValueError\u001b[0m                                Traceback (most recent call last)",
      "\u001b[1;32mc:\\Users\\irene\\Desktop\\Università\\Magistrale\\Human Language Technologies\\Progetto_HLT\\NeuralNetwork.ipynb Cell 49\u001b[0m in \u001b[0;36m1\n\u001b[1;32m----> <a href='vscode-notebook-cell:/c%3A/Users/irene/Desktop/Universit%C3%A0/Magistrale/Human%20Language%20Technologies/Progetto_HLT/NeuralNetwork.ipynb#Y101sZmlsZQ%3D%3D?line=0'>1</a>\u001b[0m model\u001b[39m.\u001b[39;49madd(Embedding(\u001b[39m708\u001b[39;49m,\n\u001b[0;32m      <a href='vscode-notebook-cell:/c%3A/Users/irene/Desktop/Universit%C3%A0/Magistrale/Human%20Language%20Technologies/Progetto_HLT/NeuralNetwork.ipynb#Y101sZmlsZQ%3D%3D?line=1'>2</a>\u001b[0m                     \u001b[39m128\u001b[39;49m, \n\u001b[0;32m      <a href='vscode-notebook-cell:/c%3A/Users/irene/Desktop/Universit%C3%A0/Magistrale/Human%20Language%20Technologies/Progetto_HLT/NeuralNetwork.ipynb#Y101sZmlsZQ%3D%3D?line=2'>3</a>\u001b[0m                     weights\u001b[39m=\u001b[39;49m[X_train_embeddings], \n\u001b[0;32m      <a href='vscode-notebook-cell:/c%3A/Users/irene/Desktop/Universit%C3%A0/Magistrale/Human%20Language%20Technologies/Progetto_HLT/NeuralNetwork.ipynb#Y101sZmlsZQ%3D%3D?line=3'>4</a>\u001b[0m                     \u001b[39m#input_length=maxlen, \u001b[39;49;00m\n\u001b[0;32m      <a href='vscode-notebook-cell:/c%3A/Users/irene/Desktop/Universit%C3%A0/Magistrale/Human%20Language%20Technologies/Progetto_HLT/NeuralNetwork.ipynb#Y101sZmlsZQ%3D%3D?line=4'>5</a>\u001b[0m                     trainable\u001b[39m=\u001b[39;49m\u001b[39mTrue\u001b[39;49;00m))\n\u001b[0;32m      <a href='vscode-notebook-cell:/c%3A/Users/irene/Desktop/Universit%C3%A0/Magistrale/Human%20Language%20Technologies/Progetto_HLT/NeuralNetwork.ipynb#Y101sZmlsZQ%3D%3D?line=5'>6</a>\u001b[0m model\u001b[39m.\u001b[39madd(Flatten())\n",
      "File \u001b[1;32mc:\\Users\\irene\\anaconda3\\lib\\site-packages\\tensorflow\\python\\trackable\\base.py:205\u001b[0m, in \u001b[0;36mno_automatic_dependency_tracking.<locals>._method_wrapper\u001b[1;34m(self, *args, **kwargs)\u001b[0m\n\u001b[0;32m    203\u001b[0m \u001b[39mself\u001b[39m\u001b[39m.\u001b[39m_self_setattr_tracking \u001b[39m=\u001b[39m \u001b[39mFalse\u001b[39;00m  \u001b[39m# pylint: disable=protected-access\u001b[39;00m\n\u001b[0;32m    204\u001b[0m \u001b[39mtry\u001b[39;00m:\n\u001b[1;32m--> 205\u001b[0m   result \u001b[39m=\u001b[39m method(\u001b[39mself\u001b[39m, \u001b[39m*\u001b[39margs, \u001b[39m*\u001b[39m\u001b[39m*\u001b[39mkwargs)\n\u001b[0;32m    206\u001b[0m \u001b[39mfinally\u001b[39;00m:\n\u001b[0;32m    207\u001b[0m   \u001b[39mself\u001b[39m\u001b[39m.\u001b[39m_self_setattr_tracking \u001b[39m=\u001b[39m previous_value  \u001b[39m# pylint: disable=protected-access\u001b[39;00m\n",
      "File \u001b[1;32mc:\\Users\\irene\\anaconda3\\lib\\site-packages\\keras\\utils\\traceback_utils.py:70\u001b[0m, in \u001b[0;36mfilter_traceback.<locals>.error_handler\u001b[1;34m(*args, **kwargs)\u001b[0m\n\u001b[0;32m     67\u001b[0m     filtered_tb \u001b[39m=\u001b[39m _process_traceback_frames(e\u001b[39m.\u001b[39m__traceback__)\n\u001b[0;32m     68\u001b[0m     \u001b[39m# To get the full stack trace, call:\u001b[39;00m\n\u001b[0;32m     69\u001b[0m     \u001b[39m# `tf.debugging.disable_traceback_filtering()`\u001b[39;00m\n\u001b[1;32m---> 70\u001b[0m     \u001b[39mraise\u001b[39;00m e\u001b[39m.\u001b[39mwith_traceback(filtered_tb) \u001b[39mfrom\u001b[39;00m \u001b[39mNone\u001b[39m\n\u001b[0;32m     71\u001b[0m \u001b[39mfinally\u001b[39;00m:\n\u001b[0;32m     72\u001b[0m     \u001b[39mdel\u001b[39;00m filtered_tb\n",
      "File \u001b[1;32mc:\\Users\\irene\\anaconda3\\lib\\site-packages\\keras\\engine\\base_layer.py:1809\u001b[0m, in \u001b[0;36mLayer.set_weights\u001b[1;34m(self, weights)\u001b[0m\n\u001b[0;32m   1807\u001b[0m ref_shape \u001b[39m=\u001b[39m param\u001b[39m.\u001b[39mshape\n\u001b[0;32m   1808\u001b[0m \u001b[39mif\u001b[39;00m \u001b[39mnot\u001b[39;00m ref_shape\u001b[39m.\u001b[39mis_compatible_with(weight_shape):\n\u001b[1;32m-> 1809\u001b[0m     \u001b[39mraise\u001b[39;00m \u001b[39mValueError\u001b[39;00m(\n\u001b[0;32m   1810\u001b[0m         \u001b[39mf\u001b[39m\u001b[39m\"\u001b[39m\u001b[39mLayer \u001b[39m\u001b[39m{\u001b[39;00m\u001b[39mself\u001b[39m\u001b[39m.\u001b[39mname\u001b[39m}\u001b[39;00m\u001b[39m weight shape \u001b[39m\u001b[39m{\u001b[39;00mref_shape\u001b[39m}\u001b[39;00m\u001b[39m \u001b[39m\u001b[39m\"\u001b[39m\n\u001b[0;32m   1811\u001b[0m         \u001b[39m\"\u001b[39m\u001b[39mis not compatible with provided weight \u001b[39m\u001b[39m\"\u001b[39m\n\u001b[0;32m   1812\u001b[0m         \u001b[39mf\u001b[39m\u001b[39m\"\u001b[39m\u001b[39mshape \u001b[39m\u001b[39m{\u001b[39;00mweight_shape\u001b[39m}\u001b[39;00m\u001b[39m.\u001b[39m\u001b[39m\"\u001b[39m\n\u001b[0;32m   1813\u001b[0m     )\n\u001b[0;32m   1814\u001b[0m weight_value_tuples\u001b[39m.\u001b[39mappend((param, weight))\n\u001b[0;32m   1815\u001b[0m weight_index \u001b[39m+\u001b[39m\u001b[39m=\u001b[39m \u001b[39m1\u001b[39m\n",
      "\u001b[1;31mValueError\u001b[0m: Layer embedding_1 weight shape (708, 128) is not compatible with provided weight shape (1842, 708, 128)."
     ]
    }
   ],
   "source": [
    "model.add(Embedding(708,\n",
    "                    128, \n",
    "                    weights=[X_train_embeddings], \n",
    "                    #input_length=maxlen, \n",
    "                    trainable=True))\n",
    "model.add(Flatten())"
   ]
  },
  {
   "cell_type": "code",
   "execution_count": 83,
   "metadata": {},
   "outputs": [
    {
     "data": {
      "image/png": "[encoded data removed]",
      "text/plain": [
       "<IPython.core.display.Image object>"
      ]
     },
     "execution_count": 83,
     "metadata": {},
     "output_type": "execute_result"
    }
   ],
   "source": [
    "plot_model(model, show_shapes=True)"
   ]
  },
  {
   "cell_type": "code",
   "execution_count": null,
   "metadata": {},
   "outputs": [],
   "source": []
  }
 ],
 "metadata": {
  "kernelspec": {
   "display_name": "base",
   "language": "python",
   "name": "python3"
  },
  "language_info": {
   "codemirror_mode": {
    "name": "ipython",
    "version": 3
   },
   "file_extension": ".py",
   "mimetype": "text/x-python",
   "name": "python",
   "nbconvert_exporter": "python",
   "pygments_lexer": "ipython3",
   "version": "3.9.7"
  },
  "orig_nbformat": 4
 },
 "nbformat": 4,
 "nbformat_minor": 2
}
