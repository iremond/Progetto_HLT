{
 "cells": [
  {
   "cell_type": "code",
   "execution_count": 1,
   "metadata": {},
   "outputs": [],
   "source": [
    "from datasets import load_dataset\n",
    "from transformers import AutoTokenizer, AutoModelForSequenceClassification, TrainingArguments, Trainer, BertConfig, AutoConfig\n",
    "import numpy as np\n",
    "import evaluate\n",
    "import pandas as pd\n",
    "import seaborn as sns\n",
    "import matplotlib.pyplot as plt"
   ]
  },
  {
   "cell_type": "code",
   "execution_count": 13,
   "metadata": {},
   "outputs": [],
   "source": [
    "df_dev = pd.read_csv('dataset/subtaskB_train.csv').drop(columns=['Id', 'topic'])\n",
    "df_test = pd.read_csv('dataset/subtaskB_test.csv').drop(columns=['Id'])"
   ]
  },
  {
   "cell_type": "code",
   "execution_count": 23,
   "metadata": {},
   "outputs": [
    {
     "data": {
      "text/plain": [
       "(810, 2)"
      ]
     },
     "execution_count": 23,
     "metadata": {},
     "output_type": "execute_result"
    }
   ],
   "source": [
    "df_dev.shape"
   ]
  },
  {
   "cell_type": "code",
   "execution_count": 24,
   "metadata": {},
   "outputs": [
    {
     "data": {
      "text/plain": [
       "(300, 1)"
      ]
     },
     "execution_count": 24,
     "metadata": {},
     "output_type": "execute_result"
    }
   ],
   "source": [
    "df_test.shape"
   ]
  },
  {
   "cell_type": "code",
   "execution_count": 15,
   "metadata": {},
   "outputs": [],
   "source": [
    "import re\n",
    "\n",
    "def text_cleaner(text, lowercase=False, r_emoticons=True):\n",
    "\n",
    "    clean_text = re.sub(r'\\[.*?\\]', '', text)\n",
    "    clean_text = re.sub(r'[\\n\\r_]', ' ', clean_text) # remove new line, tab, return, space\n",
    "    clean_text = re.sub(r'\\*+?', '', clean_text)\n",
    "    clean_text = re.sub(r'\\d\\d/\\d\\d/\\d\\d', '', clean_text) # remove date\n",
    "    \n",
    "    if r_emoticons:\n",
    "        clean_text = re.sub(r'[^a-zA-Z0-9 \\\\/\\.\\'\\\",:-;!\\?\\(\\)-ìèéòóàùÈ€\\$&£%=]', '', clean_text)\n",
    "    \n",
    "    if lowercase:\n",
    "        clean_text = clean_text.lower()\n",
    "    \n",
    "    \n",
    "    return clean_text.strip()"
   ]
  },
  {
   "cell_type": "code",
   "execution_count": 16,
   "metadata": {},
   "outputs": [],
   "source": [
    "df_dev_cased = df_dev.copy()\n",
    "df_test_cased = df_test.copy()"
   ]
  },
  {
   "cell_type": "code",
   "execution_count": 17,
   "metadata": {},
   "outputs": [],
   "source": [
    "df_dev_cased['comment_text'] = df_dev_cased['comment_text'].apply(text_cleaner)\n",
    "df_test_cased['comment_text'] = df_test_cased['comment_text'].apply(text_cleaner)"
   ]
  },
  {
   "cell_type": "code",
   "execution_count": 18,
   "metadata": {},
   "outputs": [
    {
     "data": {
      "text/plain": [
       "0      Siamo davanti ad una prova, e non solo di quoz...\n",
       "1      La storia dei 2 bimbi di Bergamo - vaccini: qu...\n",
       "2      L'avete capito che non toglieranno il green pa...\n",
       "3      Quindi  la farsa dello spazio e della terra a ...\n",
       "4      In breve tempo, per accedere a Internet, sarà ...\n",
       "                             ...                        \n",
       "805    Incredibile!!!! EMA, Agenzia Europea del Farma...\n",
       "806    Non ci saranno colloqui di pace con la Russia ...\n",
       "807    L'atmosfera è uno \"scudo protettivo\" che avvol...\n",
       "808    OTTIMA NOTIZIA! Due ragioni per cui le élite n...\n",
       "809                Ma è perfet allineata o meglio piatta\n",
       "Name: comment_text, Length: 810, dtype: object"
      ]
     },
     "execution_count": 18,
     "metadata": {},
     "output_type": "execute_result"
    }
   ],
   "source": [
    "df_dev_cased.comment_text"
   ]
  },
  {
   "cell_type": "markdown",
   "metadata": {},
   "source": [
    "Il cleaning ha generato stringhe vuote?"
   ]
  },
  {
   "cell_type": "code",
   "execution_count": 20,
   "metadata": {},
   "outputs": [
    {
     "data": {
      "text/plain": [
       "(array([], dtype=int64), array([], dtype=int64))"
      ]
     },
     "execution_count": 20,
     "metadata": {},
     "output_type": "execute_result"
    }
   ],
   "source": [
    "np.where(df_dev_cased.applymap(lambda x: x == ''))"
   ]
  },
  {
   "cell_type": "code",
   "execution_count": 21,
   "metadata": {},
   "outputs": [
    {
     "data": {
      "text/plain": [
       "(array([], dtype=int64), array([], dtype=int64))"
      ]
     },
     "execution_count": 21,
     "metadata": {},
     "output_type": "execute_result"
    }
   ],
   "source": [
    "np.where(df_test_cased.applymap(lambda x: x == ''))"
   ]
  },
  {
   "cell_type": "code",
   "execution_count": 27,
   "metadata": {},
   "outputs": [
    {
     "data": {
      "text/plain": [
       "comment_text      🇮🇹 \n",
       "conspiratorial      0\n",
       "Name: 1497, dtype: object"
      ]
     },
     "execution_count": 27,
     "metadata": {},
     "output_type": "execute_result"
    }
   ],
   "source": [
    "#df_dev.loc[1497]"
   ]
  },
  {
   "cell_type": "code",
   "execution_count": 28,
   "metadata": {},
   "outputs": [
    {
     "data": {
      "text/plain": [
       "comment_text       \n",
       "conspiratorial    0\n",
       "Name: 1497, dtype: object"
      ]
     },
     "execution_count": 28,
     "metadata": {},
     "output_type": "execute_result"
    }
   ],
   "source": [
    "#df_dev_cased.loc[1497]"
   ]
  },
  {
   "cell_type": "code",
   "execution_count": 30,
   "metadata": {},
   "outputs": [],
   "source": [
    "#df_dev_cased.drop(index=[1388, 1497], inplace=True)"
   ]
  },
  {
   "cell_type": "code",
   "execution_count": 22,
   "metadata": {},
   "outputs": [
    {
     "data": {
      "text/plain": [
       "((810, 2), (810, 2))"
      ]
     },
     "execution_count": 22,
     "metadata": {},
     "output_type": "execute_result"
    }
   ],
   "source": [
    "df_dev.shape, df_dev_cased.shape # tutto ok"
   ]
  },
  {
   "cell_type": "code",
   "execution_count": 25,
   "metadata": {},
   "outputs": [],
   "source": [
    "df_test_cased.to_csv('dataset/subtaskB_clean_test_cased.csv', index=False)\n",
    "df_dev_cased.to_csv('dataset/subtaskB_clean_dev_cased.csv', index=False)"
   ]
  },
  {
   "cell_type": "code",
   "execution_count": null,
   "metadata": {},
   "outputs": [],
   "source": []
  }
 ],
 "metadata": {
  "kernelspec": {
   "display_name": "base",
   "language": "python",
   "name": "python3"
  },
  "language_info": {
   "codemirror_mode": {
    "name": "ipython",
    "version": 3
   },
   "file_extension": ".py",
   "mimetype": "text/x-python",
   "name": "python",
   "nbconvert_exporter": "python",
   "pygments_lexer": "ipython3",
   "version": "3.9.7"
  },
  "orig_nbformat": 4
 },
 "nbformat": 4,
 "nbformat_minor": 2
}
