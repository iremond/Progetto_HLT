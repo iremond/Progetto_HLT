{
 "cells": [
  {
   "cell_type": "code",
   "execution_count": 1,
   "metadata": {},
   "outputs": [],
   "source": [
    "from datasets import load_dataset\n",
    "from transformers import AutoTokenizer, AutoModelForSequenceClassification, TrainingArguments, Trainer, BertConfig, AutoConfig\n",
    "import numpy as np\n",
    "import evaluate\n",
    "import pandas as pd\n",
    "import seaborn as sns\n",
    "import matplotlib.pyplot as plt"
   ]
  },
  {
   "cell_type": "code",
   "execution_count": 6,
   "metadata": {},
   "outputs": [],
   "source": [
    "df_dev = pd.read_csv('subtaskA_train.csv').drop(columns=['Id'])\n",
    "df_test = pd.read_csv('subtaskA_test.csv').drop(columns=['Id'])"
   ]
  },
  {
   "cell_type": "markdown",
   "metadata": {},
   "source": [
    "# Preprocessing per cased models, no social "
   ]
  },
  {
   "cell_type": "code",
   "execution_count": 3,
   "metadata": {},
   "outputs": [],
   "source": [
    "import re\n",
    "\n",
    "def text_cleaner(text, lowercase=False, r_emoticons=True):\n",
    "\n",
    "    clean_text = re.sub(r'\\[.*?\\]', '', text)\n",
    "    clean_text = re.sub(r'[\\n\\r_]', ' ', clean_text) # remove new line, tab, return, space\n",
    "    clean_text = re.sub(r'\\*+?', '', clean_text)\n",
    "    clean_text = re.sub(r'\\d\\d/\\d\\d/\\d\\d', '', clean_text) # remove date\n",
    "    \n",
    "    if r_emoticons:\n",
    "        clean_text = re.sub(r'[^a-zA-Z0-9 \\\\/\\.\\'\\\",:-;!\\?\\(\\)-ìèéòóàùÈ€\\$&£%=]', '', clean_text)\n",
    "    \n",
    "    if lowercase:\n",
    "        clean_text = clean_text.lower()\n",
    "    \n",
    "    \n",
    "    return clean_text.strip()"
   ]
  },
  {
   "cell_type": "code",
   "execution_count": 7,
   "metadata": {},
   "outputs": [],
   "source": [
    "df_dev_cased = df_dev.copy()\n",
    "df_test_cased = df_test.copy()"
   ]
  },
  {
   "cell_type": "code",
   "execution_count": 8,
   "metadata": {},
   "outputs": [],
   "source": [
    "df_dev_cased['comment_text'] = df_dev_cased['comment_text'].apply(text_cleaner)\n",
    "df_test_cased['comment_text'] = df_test_cased['comment_text'].apply(text_cleaner)"
   ]
  },
  {
   "cell_type": "code",
   "execution_count": 12,
   "metadata": {},
   "outputs": [],
   "source": [
    "df_test_cased.to_csv('dataset/subtaskA_clean_test_cased.csv', index=False)\n",
    "df_dev_cased.to_csv('dataset/subtaskA_clean_dev_cased.csv', index=False)"
   ]
  }
 ],
 "metadata": {
  "kernelspec": {
   "display_name": "base",
   "language": "python",
   "name": "python3"
  },
  "language_info": {
   "codemirror_mode": {
    "name": "ipython",
    "version": 3
   },
   "file_extension": ".py",
   "mimetype": "text/x-python",
   "name": "python",
   "nbconvert_exporter": "python",
   "pygments_lexer": "ipython3",
   "version": "3.9.16"
  },
  "orig_nbformat": 4
 },
 "nbformat": 4,
 "nbformat_minor": 2
}
