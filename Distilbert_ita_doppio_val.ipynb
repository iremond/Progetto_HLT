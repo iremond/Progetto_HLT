{
  "cells": [
    {
      "cell_type": "markdown",
      "metadata": {
        "id": "view-in-github",
        "colab_type": "text"
      },
      "source": [
        "<a href=\"https://colab.research.google.com/github/iremond/Progetto_HLT/blob/main/Distilbert_ita_doppio_val.ipynb\" target=\"_parent\"><img src=\"https://colab.research.google.com/assets/colab-badge.svg\" alt=\"Open In Colab\"/></a>"
      ]
    },
    {
      "cell_type": "code",
      "source": [
        "import sys\n",
        "\n",
        "!{sys.executable} -m pip install transformers[torch] datasets evaluate torch"
      ],
      "metadata": {
        "colab": {
          "base_uri": "https://localhost:8080/"
        },
        "id": "G3-BzdxRyKX-",
        "outputId": "1d227da3-052e-4f9c-98e9-de591e18f448"
      },
      "execution_count": 78,
      "outputs": [
        {
          "output_type": "stream",
          "name": "stdout",
          "text": [
            "Requirement already satisfied: transformers[torch] in /usr/local/lib/python3.10/dist-packages (4.31.0)\n",
            "Requirement already satisfied: datasets in /usr/local/lib/python3.10/dist-packages (2.14.4)\n",
            "Requirement already satisfied: evaluate in /usr/local/lib/python3.10/dist-packages (0.4.0)\n",
            "Requirement already satisfied: torch in /usr/local/lib/python3.10/dist-packages (2.0.1+cu118)\n",
            "Requirement already satisfied: filelock in /usr/local/lib/python3.10/dist-packages (from transformers[torch]) (3.12.2)\n",
            "Requirement already satisfied: huggingface-hub<1.0,>=0.14.1 in /usr/local/lib/python3.10/dist-packages (from transformers[torch]) (0.16.4)\n",
            "Requirement already satisfied: numpy>=1.17 in /usr/local/lib/python3.10/dist-packages (from transformers[torch]) (1.23.5)\n",
            "Requirement already satisfied: packaging>=20.0 in /usr/local/lib/python3.10/dist-packages (from transformers[torch]) (23.1)\n",
            "Requirement already satisfied: pyyaml>=5.1 in /usr/local/lib/python3.10/dist-packages (from transformers[torch]) (6.0.1)\n",
            "Requirement already satisfied: regex!=2019.12.17 in /usr/local/lib/python3.10/dist-packages (from transformers[torch]) (2023.6.3)\n",
            "Requirement already satisfied: requests in /usr/local/lib/python3.10/dist-packages (from transformers[torch]) (2.31.0)\n",
            "Requirement already satisfied: tokenizers!=0.11.3,<0.14,>=0.11.1 in /usr/local/lib/python3.10/dist-packages (from transformers[torch]) (0.13.3)\n",
            "Requirement already satisfied: safetensors>=0.3.1 in /usr/local/lib/python3.10/dist-packages (from transformers[torch]) (0.3.2)\n",
            "Requirement already satisfied: tqdm>=4.27 in /usr/local/lib/python3.10/dist-packages (from transformers[torch]) (4.66.1)\n",
            "Requirement already satisfied: accelerate>=0.20.3 in /usr/local/lib/python3.10/dist-packages (from transformers[torch]) (0.21.0)\n",
            "Requirement already satisfied: pyarrow>=8.0.0 in /usr/local/lib/python3.10/dist-packages (from datasets) (9.0.0)\n",
            "Requirement already satisfied: dill<0.3.8,>=0.3.0 in /usr/local/lib/python3.10/dist-packages (from datasets) (0.3.7)\n",
            "Requirement already satisfied: pandas in /usr/local/lib/python3.10/dist-packages (from datasets) (1.5.3)\n",
            "Requirement already satisfied: xxhash in /usr/local/lib/python3.10/dist-packages (from datasets) (3.3.0)\n",
            "Requirement already satisfied: multiprocess in /usr/local/lib/python3.10/dist-packages (from datasets) (0.70.15)\n",
            "Requirement already satisfied: fsspec[http]>=2021.11.1 in /usr/local/lib/python3.10/dist-packages (from datasets) (2023.6.0)\n",
            "Requirement already satisfied: aiohttp in /usr/local/lib/python3.10/dist-packages (from datasets) (3.8.5)\n",
            "Requirement already satisfied: responses<0.19 in /usr/local/lib/python3.10/dist-packages (from evaluate) (0.18.0)\n",
            "Requirement already satisfied: typing-extensions in /usr/local/lib/python3.10/dist-packages (from torch) (4.7.1)\n",
            "Requirement already satisfied: sympy in /usr/local/lib/python3.10/dist-packages (from torch) (1.12)\n",
            "Requirement already satisfied: networkx in /usr/local/lib/python3.10/dist-packages (from torch) (3.1)\n",
            "Requirement already satisfied: jinja2 in /usr/local/lib/python3.10/dist-packages (from torch) (3.1.2)\n",
            "Requirement already satisfied: triton==2.0.0 in /usr/local/lib/python3.10/dist-packages (from torch) (2.0.0)\n",
            "Requirement already satisfied: cmake in /usr/local/lib/python3.10/dist-packages (from triton==2.0.0->torch) (3.27.2)\n",
            "Requirement already satisfied: lit in /usr/local/lib/python3.10/dist-packages (from triton==2.0.0->torch) (16.0.6)\n",
            "Requirement already satisfied: psutil in /usr/local/lib/python3.10/dist-packages (from accelerate>=0.20.3->transformers[torch]) (5.9.5)\n",
            "Requirement already satisfied: attrs>=17.3.0 in /usr/local/lib/python3.10/dist-packages (from aiohttp->datasets) (23.1.0)\n",
            "Requirement already satisfied: charset-normalizer<4.0,>=2.0 in /usr/local/lib/python3.10/dist-packages (from aiohttp->datasets) (3.2.0)\n",
            "Requirement already satisfied: multidict<7.0,>=4.5 in /usr/local/lib/python3.10/dist-packages (from aiohttp->datasets) (6.0.4)\n",
            "Requirement already satisfied: async-timeout<5.0,>=4.0.0a3 in /usr/local/lib/python3.10/dist-packages (from aiohttp->datasets) (4.0.3)\n",
            "Requirement already satisfied: yarl<2.0,>=1.0 in /usr/local/lib/python3.10/dist-packages (from aiohttp->datasets) (1.9.2)\n",
            "Requirement already satisfied: frozenlist>=1.1.1 in /usr/local/lib/python3.10/dist-packages (from aiohttp->datasets) (1.4.0)\n",
            "Requirement already satisfied: aiosignal>=1.1.2 in /usr/local/lib/python3.10/dist-packages (from aiohttp->datasets) (1.3.1)\n",
            "Requirement already satisfied: idna<4,>=2.5 in /usr/local/lib/python3.10/dist-packages (from requests->transformers[torch]) (3.4)\n",
            "Requirement already satisfied: urllib3<3,>=1.21.1 in /usr/local/lib/python3.10/dist-packages (from requests->transformers[torch]) (2.0.4)\n",
            "Requirement already satisfied: certifi>=2017.4.17 in /usr/local/lib/python3.10/dist-packages (from requests->transformers[torch]) (2023.7.22)\n",
            "Requirement already satisfied: MarkupSafe>=2.0 in /usr/local/lib/python3.10/dist-packages (from jinja2->torch) (2.1.3)\n",
            "Requirement already satisfied: python-dateutil>=2.8.1 in /usr/local/lib/python3.10/dist-packages (from pandas->datasets) (2.8.2)\n",
            "Requirement already satisfied: pytz>=2020.1 in /usr/local/lib/python3.10/dist-packages (from pandas->datasets) (2023.3)\n",
            "Requirement already satisfied: mpmath>=0.19 in /usr/local/lib/python3.10/dist-packages (from sympy->torch) (1.3.0)\n",
            "Requirement already satisfied: six>=1.5 in /usr/local/lib/python3.10/dist-packages (from python-dateutil>=2.8.1->pandas->datasets) (1.16.0)\n"
          ]
        }
      ]
    },
    {
      "cell_type": "code",
      "execution_count": 79,
      "metadata": {
        "id": "L-XLbTkNyJYR"
      },
      "outputs": [],
      "source": [
        "from datasets import load_dataset\n",
        "from transformers import AutoTokenizer, AutoModelForSequenceClassification, TrainingArguments, Trainer, BertConfig, AutoConfig\n",
        "import numpy as np\n",
        "import evaluate\n",
        "import pandas as pd\n",
        "import seaborn as sns\n",
        "import matplotlib.pyplot as plt\n",
        "from sklearn.metrics import classification_report\n",
        "from sklearn.metrics import ConfusionMatrixDisplay"
      ]
    },
    {
      "cell_type": "code",
      "source": [
        "from google.colab import drive\n",
        "drive.mount('/content/drive')"
      ],
      "metadata": {
        "colab": {
          "base_uri": "https://localhost:8080/"
        },
        "id": "WmxOl0MHyPT8",
        "outputId": "54bd13f7-aa4d-4fa8-ed61-d40dd944beaf"
      },
      "execution_count": 80,
      "outputs": [
        {
          "output_type": "stream",
          "name": "stdout",
          "text": [
            "Drive already mounted at /content/drive; to attempt to forcibly remount, call drive.mount(\"/content/drive\", force_remount=True).\n"
          ]
        }
      ]
    },
    {
      "cell_type": "code",
      "source": [
        "%cd /content/drive/MyDrive/HLT"
      ],
      "metadata": {
        "colab": {
          "base_uri": "https://localhost:8080/"
        },
        "id": "_LmioH6dyV_S",
        "outputId": "b73ef740-49de-4959-d972-9abbec085e41"
      },
      "execution_count": 81,
      "outputs": [
        {
          "output_type": "stream",
          "name": "stdout",
          "text": [
            "/content/drive/MyDrive/HLT\n"
          ]
        }
      ]
    },
    {
      "cell_type": "markdown",
      "metadata": {
        "id": "RBQibuEkyJYS"
      },
      "source": [
        "# Data loading"
      ]
    },
    {
      "cell_type": "code",
      "execution_count": 82,
      "metadata": {
        "id": "0KQo7NXyyJYT"
      },
      "outputs": [],
      "source": [
        "df_dev = load_dataset(\"csv\", data_files=\"dataset/subtaskA_clean_dev_cased.csv\")\n",
        "df_test = load_dataset(\"csv\", data_files=\"dataset/subtaskA_clean_test_cased.csv\")"
      ]
    },
    {
      "cell_type": "markdown",
      "metadata": {
        "id": "ifJOyjXKyJYU"
      },
      "source": [
        "# Data partioning"
      ]
    },
    {
      "cell_type": "code",
      "execution_count": 83,
      "metadata": {
        "colab": {
          "base_uri": "https://localhost:8080/"
        },
        "id": "wp3_tDI2yJYU",
        "outputId": "1d35fca6-2910-49cd-e0e2-4cfe0083b931"
      },
      "outputs": [
        {
          "output_type": "execute_result",
          "data": {
            "text/plain": [
              "DatasetDict({\n",
              "    train: Dataset({\n",
              "        features: ['comment_text', 'conspiratorial'],\n",
              "        num_rows: 1288\n",
              "    })\n",
              "    test: Dataset({\n",
              "        features: ['comment_text', 'conspiratorial'],\n",
              "        num_rows: 552\n",
              "    })\n",
              "})"
            ]
          },
          "metadata": {},
          "execution_count": 83
        }
      ],
      "source": [
        "train_val = df_dev['train'].train_test_split(test_size=0.3, seed=0)\n",
        "train_val"
      ]
    },
    {
      "cell_type": "code",
      "execution_count": 84,
      "metadata": {
        "id": "CbOzW5mGyJYV"
      },
      "outputs": [],
      "source": [
        "df_train = train_val[\"train\"]\n",
        "df_val_ = train_val[\"test\"]"
      ]
    },
    {
      "cell_type": "code",
      "execution_count": 85,
      "metadata": {
        "id": "cIBoFsOUyJYV"
      },
      "outputs": [],
      "source": [
        "df_train = df_train.rename_column(\"comment_text\", \"text\")\n",
        "df_train = df_train.rename_column(\"conspiratorial\", \"labels\")\n",
        "df_val_ = df_val_.rename_column(\"comment_text\", \"text\")\n",
        "df_val_ = df_val_.rename_column(\"conspiratorial\", \"labels\")\n",
        "df_test = df_test.rename_column(\"comment_text\", \"text\")"
      ]
    },
    {
      "cell_type": "code",
      "source": [
        "df_val_"
      ],
      "metadata": {
        "colab": {
          "base_uri": "https://localhost:8080/"
        },
        "id": "MyV4BMij7DzS",
        "outputId": "9a203c72-26b1-4b81-d0cb-ae3037cd1430"
      },
      "execution_count": 86,
      "outputs": [
        {
          "output_type": "execute_result",
          "data": {
            "text/plain": [
              "Dataset({\n",
              "    features: ['text', 'labels'],\n",
              "    num_rows: 552\n",
              "})"
            ]
          },
          "metadata": {},
          "execution_count": 86
        }
      ]
    },
    {
      "cell_type": "code",
      "source": [
        "df_val_ = df_val_.train_test_split(test_size=0.3, seed=0)"
      ],
      "metadata": {
        "id": "w8B7H1jG69Oh"
      },
      "execution_count": 87,
      "outputs": []
    },
    {
      "cell_type": "code",
      "source": [
        "df_val_"
      ],
      "metadata": {
        "colab": {
          "base_uri": "https://localhost:8080/"
        },
        "id": "BKYMOxmc7Pzi",
        "outputId": "4087cbb1-805a-4267-84a2-3cecde69d038"
      },
      "execution_count": 88,
      "outputs": [
        {
          "output_type": "execute_result",
          "data": {
            "text/plain": [
              "DatasetDict({\n",
              "    train: Dataset({\n",
              "        features: ['text', 'labels'],\n",
              "        num_rows: 386\n",
              "    })\n",
              "    test: Dataset({\n",
              "        features: ['text', 'labels'],\n",
              "        num_rows: 166\n",
              "    })\n",
              "})"
            ]
          },
          "metadata": {},
          "execution_count": 88
        }
      ]
    },
    {
      "cell_type": "code",
      "source": [
        "df_val = df_val_[\"train\"]\n",
        "df_val2 = df_val_[\"test\"]"
      ],
      "metadata": {
        "id": "2p6g4e9X7T60"
      },
      "execution_count": 89,
      "outputs": []
    },
    {
      "cell_type": "code",
      "source": [
        "df_train"
      ],
      "metadata": {
        "colab": {
          "base_uri": "https://localhost:8080/"
        },
        "id": "bnK8cE3q8Ls3",
        "outputId": "7ac677da-a617-4b26-bcfd-7a674964373f"
      },
      "execution_count": 90,
      "outputs": [
        {
          "output_type": "execute_result",
          "data": {
            "text/plain": [
              "Dataset({\n",
              "    features: ['text', 'labels'],\n",
              "    num_rows: 1288\n",
              "})"
            ]
          },
          "metadata": {},
          "execution_count": 90
        }
      ]
    },
    {
      "cell_type": "code",
      "source": [
        "df_val"
      ],
      "metadata": {
        "colab": {
          "base_uri": "https://localhost:8080/"
        },
        "id": "wu4Vd7H18IHd",
        "outputId": "1dcffde4-ac0b-401b-9029-a854483f6478"
      },
      "execution_count": 91,
      "outputs": [
        {
          "output_type": "execute_result",
          "data": {
            "text/plain": [
              "Dataset({\n",
              "    features: ['text', 'labels'],\n",
              "    num_rows: 386\n",
              "})"
            ]
          },
          "metadata": {},
          "execution_count": 91
        }
      ]
    },
    {
      "cell_type": "code",
      "source": [
        "df_val2"
      ],
      "metadata": {
        "colab": {
          "base_uri": "https://localhost:8080/"
        },
        "id": "JTAxrv1z8JmP",
        "outputId": "8bb15fd2-8fc0-4327-8bde-47e0a4e0cea7"
      },
      "execution_count": 92,
      "outputs": [
        {
          "output_type": "execute_result",
          "data": {
            "text/plain": [
              "Dataset({\n",
              "    features: ['text', 'labels'],\n",
              "    num_rows: 166\n",
              "})"
            ]
          },
          "metadata": {},
          "execution_count": 92
        }
      ]
    },
    {
      "cell_type": "markdown",
      "metadata": {
        "id": "85j04SNtyJYV"
      },
      "source": [
        "# Model loading"
      ]
    },
    {
      "cell_type": "code",
      "execution_count": 93,
      "metadata": {
        "id": "gVbVZcXlyJYV"
      },
      "outputs": [],
      "source": [
        "nome = 'distilbert-base-it-cased'\n",
        "model_name = 'Geotrend/distilbert-base-it-cased'"
      ]
    },
    {
      "cell_type": "code",
      "execution_count": 94,
      "metadata": {
        "id": "pSa8u9l8yJYW"
      },
      "outputs": [],
      "source": [
        "# Initialize the tokenizer\n",
        "tokenizer = AutoTokenizer.from_pretrained(model_name)"
      ]
    },
    {
      "cell_type": "markdown",
      "metadata": {
        "id": "KdYGhGJuyJYW"
      },
      "source": [
        "# Data preprocessing"
      ]
    },
    {
      "cell_type": "code",
      "execution_count": 95,
      "metadata": {
        "id": "N0PBHPMDyJYW"
      },
      "outputs": [],
      "source": [
        "def tokenize_function(examples):\n",
        "    return tokenizer(examples[\"text\"], padding=\"max_length\", truncation=True)"
      ]
    },
    {
      "cell_type": "code",
      "execution_count": 96,
      "metadata": {
        "colab": {
          "base_uri": "https://localhost:8080/",
          "height": 49,
          "referenced_widgets": [
            "2304c0f708a0419798910c64a4475a6a",
            "b64a540ab7554aa8a14b6de499b74291",
            "244b87c49c484a99b58b751efc65cff2",
            "075f8982c6074f55ad09ecdadfbc1a72",
            "3cc53f1b151444f88f011302aec92e67",
            "d38628b2647f47d5ba761ae370ec71b8",
            "71769d8619224179a8fd1efa0dd5c9df",
            "aa2d8e3bf52c460c9b1b9f845df8143e",
            "791fe6a027bc436493756e5f89062835",
            "c7797e2f47a9435eaeb2d9ad8ee53e9b",
            "da31cbe0034b411d9c6a784b203102ee"
          ]
        },
        "id": "PA3gULmdyJYX",
        "outputId": "e973efeb-8175-4ecd-be49-6c66c30bad68"
      },
      "outputs": [
        {
          "output_type": "display_data",
          "data": {
            "text/plain": [
              "Map:   0%|          | 0/166 [00:00<?, ? examples/s]"
            ],
            "application/vnd.jupyter.widget-view+json": {
              "version_major": 2,
              "version_minor": 0,
              "model_id": "2304c0f708a0419798910c64a4475a6a"
            }
          },
          "metadata": {}
        }
      ],
      "source": [
        "tokenized_train = df_train.map(tokenize_function, batched=True)\n",
        "tokenized_val = df_val.map(tokenize_function, batched=True)\n",
        "tokenized_val2 = df_val2.map(tokenize_function, batched=True)"
      ]
    },
    {
      "cell_type": "markdown",
      "metadata": {
        "id": "2ArFBU0HyJYY"
      },
      "source": [
        "# Training"
      ]
    },
    {
      "cell_type": "code",
      "execution_count": 97,
      "metadata": {
        "id": "dNWjQ8v9yJYZ"
      },
      "outputs": [],
      "source": [
        "training_args = TrainingArguments(\n",
        "    output_dir=f\"{nome}-finetuned\",\n",
        "    evaluation_strategy = \"epoch\", # monitor the evaluation metrics during fine-tuning at the end of each epoch\n",
        "    save_strategy = \"epoch\",\n",
        "    logging_strategy=\"epoch\",\n",
        "    num_train_epochs=13,\n",
        "    load_best_model_at_end=True, # the best model might not be the one at the end of training => we load the best saved model\n",
        "    metric_for_best_model='eval_loss',\n",
        "    seed=0\n",
        "    #per_device_train_batch_size # default 8\n",
        "    #per_device_eval_batch_size # default 8\n",
        "    #learning_rate=0.0005, # default 0.00005\n",
        "    #weight_decay=0.0001 # default 0 # disastro\n",
        "    )"
      ]
    },
    {
      "cell_type": "code",
      "execution_count": 98,
      "metadata": {
        "id": "mc2hqBJIyJYZ"
      },
      "outputs": [],
      "source": [
        "config = AutoConfig.from_pretrained(model_name)"
      ]
    },
    {
      "cell_type": "code",
      "execution_count": 99,
      "metadata": {
        "id": "s-eNLfbEyJYZ"
      },
      "outputs": [],
      "source": [
        "# config.dropout = 0.001"
      ]
    },
    {
      "cell_type": "code",
      "execution_count": 100,
      "metadata": {
        "colab": {
          "base_uri": "https://localhost:8080/"
        },
        "id": "nQK70sl_yJYa",
        "outputId": "0d43cab0-c3cf-4c36-8e2f-0ef3a0cf337c"
      },
      "outputs": [
        {
          "output_type": "stream",
          "name": "stdout",
          "text": [
            "DistilBertConfig {\n",
            "  \"_name_or_path\": \"Geotrend/distilbert-base-it-cased\",\n",
            "  \"activation\": \"gelu\",\n",
            "  \"architectures\": [\n",
            "    \"DistilBertForMaskedLM\"\n",
            "  ],\n",
            "  \"attention_dropout\": 0.1,\n",
            "  \"dim\": 768,\n",
            "  \"dropout\": 0.1,\n",
            "  \"hidden_dim\": 3072,\n",
            "  \"initializer_range\": 0.02,\n",
            "  \"max_position_embeddings\": 512,\n",
            "  \"model_type\": \"distilbert\",\n",
            "  \"n_heads\": 12,\n",
            "  \"n_layers\": 6,\n",
            "  \"output_past\": true,\n",
            "  \"pad_token_id\": 0,\n",
            "  \"qa_dropout\": 0.1,\n",
            "  \"seq_classif_dropout\": 0.2,\n",
            "  \"sinusoidal_pos_embds\": false,\n",
            "  \"tie_weights_\": true,\n",
            "  \"transformers_version\": \"4.31.0\",\n",
            "  \"vocab_size\": 25496\n",
            "}\n",
            "\n"
          ]
        }
      ],
      "source": [
        "print(config)"
      ]
    },
    {
      "cell_type": "code",
      "execution_count": 101,
      "metadata": {
        "colab": {
          "base_uri": "https://localhost:8080/"
        },
        "id": "SWLXbzKEyJYa",
        "outputId": "69359922-d860-4bdf-96f2-c9e399f26178"
      },
      "outputs": [
        {
          "output_type": "stream",
          "name": "stderr",
          "text": [
            "Some weights of DistilBertForSequenceClassification were not initialized from the model checkpoint at Geotrend/distilbert-base-it-cased and are newly initialized: ['classifier.bias', 'pre_classifier.weight', 'pre_classifier.bias', 'classifier.weight']\n",
            "You should probably TRAIN this model on a down-stream task to be able to use it for predictions and inference.\n"
          ]
        },
        {
          "output_type": "execute_result",
          "data": {
            "text/plain": [
              "DistilBertForSequenceClassification(\n",
              "  (distilbert): DistilBertModel(\n",
              "    (embeddings): Embeddings(\n",
              "      (word_embeddings): Embedding(25496, 768, padding_idx=0)\n",
              "      (position_embeddings): Embedding(512, 768)\n",
              "      (LayerNorm): LayerNorm((768,), eps=1e-12, elementwise_affine=True)\n",
              "      (dropout): Dropout(p=0.1, inplace=False)\n",
              "    )\n",
              "    (transformer): Transformer(\n",
              "      (layer): ModuleList(\n",
              "        (0-5): 6 x TransformerBlock(\n",
              "          (attention): MultiHeadSelfAttention(\n",
              "            (dropout): Dropout(p=0.1, inplace=False)\n",
              "            (q_lin): Linear(in_features=768, out_features=768, bias=True)\n",
              "            (k_lin): Linear(in_features=768, out_features=768, bias=True)\n",
              "            (v_lin): Linear(in_features=768, out_features=768, bias=True)\n",
              "            (out_lin): Linear(in_features=768, out_features=768, bias=True)\n",
              "          )\n",
              "          (sa_layer_norm): LayerNorm((768,), eps=1e-12, elementwise_affine=True)\n",
              "          (ffn): FFN(\n",
              "            (dropout): Dropout(p=0.1, inplace=False)\n",
              "            (lin1): Linear(in_features=768, out_features=3072, bias=True)\n",
              "            (lin2): Linear(in_features=3072, out_features=768, bias=True)\n",
              "            (activation): GELUActivation()\n",
              "          )\n",
              "          (output_layer_norm): LayerNorm((768,), eps=1e-12, elementwise_affine=True)\n",
              "        )\n",
              "      )\n",
              "    )\n",
              "  )\n",
              "  (pre_classifier): Linear(in_features=768, out_features=768, bias=True)\n",
              "  (classifier): Linear(in_features=768, out_features=2, bias=True)\n",
              "  (dropout): Dropout(p=0.2, inplace=False)\n",
              ")"
            ]
          },
          "metadata": {},
          "execution_count": 101
        }
      ],
      "source": [
        "model = AutoModelForSequenceClassification.from_pretrained(model_name, config=config)\n",
        "\n",
        "model"
      ]
    },
    {
      "cell_type": "code",
      "execution_count": 102,
      "metadata": {
        "id": "lzsDTSQ_yJYa"
      },
      "outputs": [],
      "source": [
        "def compute_metrics(eval_pred):\n",
        "  # takes as input model predictions, applies argmax to them and comput F-Score between predictions and true labels\n",
        "  f1_metric = evaluate.load(\"f1\")\n",
        "  predictions, labels = eval_pred\n",
        "  predictions = np.argmax(predictions, axis=1)\n",
        "  return f1_metric.compute(predictions=predictions, references=labels, average=\"macro\")"
      ]
    },
    {
      "cell_type": "code",
      "execution_count": 103,
      "metadata": {
        "id": "IOArEuutyJYb"
      },
      "outputs": [],
      "source": [
        "trainer = Trainer(\n",
        "    model=model,\n",
        "    args=training_args,\n",
        "    train_dataset=tokenized_train,\n",
        "    eval_dataset=tokenized_val,\n",
        "    compute_metrics=compute_metrics\n",
        ")"
      ]
    },
    {
      "cell_type": "code",
      "execution_count": 70,
      "metadata": {
        "colab": {
          "base_uri": "https://localhost:8080/",
          "height": 600
        },
        "id": "xGOdUfnZyJYb",
        "outputId": "6e34e511-338b-41ec-b199-a7c7691419bf"
      },
      "outputs": [
        {
          "output_type": "stream",
          "name": "stderr",
          "text": [
            "/usr/local/lib/python3.10/dist-packages/transformers/optimization.py:411: FutureWarning: This implementation of AdamW is deprecated and will be removed in a future version. Use the PyTorch implementation torch.optim.AdamW instead, or set `no_deprecation_warning=True` to disable this warning\n",
            "  warnings.warn(\n"
          ]
        },
        {
          "output_type": "display_data",
          "data": {
            "text/plain": [
              "<IPython.core.display.HTML object>"
            ],
            "text/html": [
              "\n",
              "    <div>\n",
              "      \n",
              "      <progress value='2093' max='2093' style='width:300px; height:20px; vertical-align: middle;'></progress>\n",
              "      [2093/2093 16:06, Epoch 13/13]\n",
              "    </div>\n",
              "    <table border=\"1\" class=\"dataframe\">\n",
              "  <thead>\n",
              " <tr style=\"text-align: left;\">\n",
              "      <th>Epoch</th>\n",
              "      <th>Training Loss</th>\n",
              "      <th>Validation Loss</th>\n",
              "      <th>F1</th>\n",
              "    </tr>\n",
              "  </thead>\n",
              "  <tbody>\n",
              "    <tr>\n",
              "      <td>1</td>\n",
              "      <td>0.596500</td>\n",
              "      <td>0.512000</td>\n",
              "      <td>0.719937</td>\n",
              "    </tr>\n",
              "    <tr>\n",
              "      <td>2</td>\n",
              "      <td>0.440000</td>\n",
              "      <td>0.628838</td>\n",
              "      <td>0.737706</td>\n",
              "    </tr>\n",
              "    <tr>\n",
              "      <td>3</td>\n",
              "      <td>0.285700</td>\n",
              "      <td>0.941210</td>\n",
              "      <td>0.776987</td>\n",
              "    </tr>\n",
              "    <tr>\n",
              "      <td>4</td>\n",
              "      <td>0.152600</td>\n",
              "      <td>1.131175</td>\n",
              "      <td>0.771923</td>\n",
              "    </tr>\n",
              "    <tr>\n",
              "      <td>5</td>\n",
              "      <td>0.075600</td>\n",
              "      <td>1.494532</td>\n",
              "      <td>0.747389</td>\n",
              "    </tr>\n",
              "    <tr>\n",
              "      <td>6</td>\n",
              "      <td>0.049300</td>\n",
              "      <td>1.358658</td>\n",
              "      <td>0.756156</td>\n",
              "    </tr>\n",
              "    <tr>\n",
              "      <td>7</td>\n",
              "      <td>0.008500</td>\n",
              "      <td>1.637145</td>\n",
              "      <td>0.756833</td>\n",
              "    </tr>\n",
              "    <tr>\n",
              "      <td>8</td>\n",
              "      <td>0.007400</td>\n",
              "      <td>1.770092</td>\n",
              "      <td>0.757503</td>\n",
              "    </tr>\n",
              "    <tr>\n",
              "      <td>9</td>\n",
              "      <td>0.002500</td>\n",
              "      <td>1.834228</td>\n",
              "      <td>0.754340</td>\n",
              "    </tr>\n",
              "    <tr>\n",
              "      <td>10</td>\n",
              "      <td>0.002900</td>\n",
              "      <td>1.890315</td>\n",
              "      <td>0.769429</td>\n",
              "    </tr>\n",
              "    <tr>\n",
              "      <td>11</td>\n",
              "      <td>0.002300</td>\n",
              "      <td>1.888659</td>\n",
              "      <td>0.765777</td>\n",
              "    </tr>\n",
              "    <tr>\n",
              "      <td>12</td>\n",
              "      <td>0.002100</td>\n",
              "      <td>1.904668</td>\n",
              "      <td>0.756418</td>\n",
              "    </tr>\n",
              "    <tr>\n",
              "      <td>13</td>\n",
              "      <td>0.001700</td>\n",
              "      <td>1.905715</td>\n",
              "      <td>0.758988</td>\n",
              "    </tr>\n",
              "  </tbody>\n",
              "</table><p>"
            ]
          },
          "metadata": {}
        },
        {
          "output_type": "stream",
          "name": "stdout",
          "text": [
            "CPU times: user 13min, sys: 14.3 s, total: 13min 15s\n",
            "Wall time: 16min 7s\n"
          ]
        },
        {
          "output_type": "execute_result",
          "data": {
            "text/plain": [
              "TrainOutput(global_step=2093, training_loss=0.12517533829721378, metrics={'train_runtime': 966.6935, 'train_samples_per_second': 17.321, 'train_steps_per_second': 2.165, 'total_flos': 2218034123096064.0, 'train_loss': 0.12517533829721378, 'epoch': 13.0})"
            ]
          },
          "metadata": {},
          "execution_count": 70
        }
      ],
      "source": [
        "%%time\n",
        "trainer.train()"
      ]
    },
    {
      "cell_type": "markdown",
      "metadata": {
        "id": "HAzShpnXyJYb"
      },
      "source": [
        "# Evaluation"
      ]
    },
    {
      "cell_type": "code",
      "execution_count": 71,
      "metadata": {
        "id": "i4y-QSleyJYc"
      },
      "outputs": [],
      "source": [
        "log_history = trainer.state.log_history"
      ]
    },
    {
      "cell_type": "code",
      "execution_count": 72,
      "metadata": {
        "colab": {
          "base_uri": "https://localhost:8080/"
        },
        "id": "A5D9c2nCyJYc",
        "outputId": "6f20719f-af9d-4417-a63b-05544d5b9f89"
      },
      "outputs": [
        {
          "output_type": "stream",
          "name": "stderr",
          "text": [
            "<ipython-input-72-47d9dd4e1fd7>:7: FutureWarning: The frame.append method is deprecated and will be removed from pandas in a future version. Use pandas.concat instead.\n",
            "  df = df.append({\"Epoch\": epoch, \"Loss\": loss, \"Dataset\": \"Training\"}, ignore_index=True)\n",
            "<ipython-input-72-47d9dd4e1fd7>:10: FutureWarning: The frame.append method is deprecated and will be removed from pandas in a future version. Use pandas.concat instead.\n",
            "  df = df.append({\"Epoch\": epoch, \"Loss\": loss, \"Dataset\": \"Validation\"}, ignore_index=True)\n",
            "<ipython-input-72-47d9dd4e1fd7>:7: FutureWarning: The frame.append method is deprecated and will be removed from pandas in a future version. Use pandas.concat instead.\n",
            "  df = df.append({\"Epoch\": epoch, \"Loss\": loss, \"Dataset\": \"Training\"}, ignore_index=True)\n",
            "<ipython-input-72-47d9dd4e1fd7>:10: FutureWarning: The frame.append method is deprecated and will be removed from pandas in a future version. Use pandas.concat instead.\n",
            "  df = df.append({\"Epoch\": epoch, \"Loss\": loss, \"Dataset\": \"Validation\"}, ignore_index=True)\n",
            "<ipython-input-72-47d9dd4e1fd7>:7: FutureWarning: The frame.append method is deprecated and will be removed from pandas in a future version. Use pandas.concat instead.\n",
            "  df = df.append({\"Epoch\": epoch, \"Loss\": loss, \"Dataset\": \"Training\"}, ignore_index=True)\n",
            "<ipython-input-72-47d9dd4e1fd7>:10: FutureWarning: The frame.append method is deprecated and will be removed from pandas in a future version. Use pandas.concat instead.\n",
            "  df = df.append({\"Epoch\": epoch, \"Loss\": loss, \"Dataset\": \"Validation\"}, ignore_index=True)\n",
            "<ipython-input-72-47d9dd4e1fd7>:7: FutureWarning: The frame.append method is deprecated and will be removed from pandas in a future version. Use pandas.concat instead.\n",
            "  df = df.append({\"Epoch\": epoch, \"Loss\": loss, \"Dataset\": \"Training\"}, ignore_index=True)\n",
            "<ipython-input-72-47d9dd4e1fd7>:10: FutureWarning: The frame.append method is deprecated and will be removed from pandas in a future version. Use pandas.concat instead.\n",
            "  df = df.append({\"Epoch\": epoch, \"Loss\": loss, \"Dataset\": \"Validation\"}, ignore_index=True)\n",
            "<ipython-input-72-47d9dd4e1fd7>:7: FutureWarning: The frame.append method is deprecated and will be removed from pandas in a future version. Use pandas.concat instead.\n",
            "  df = df.append({\"Epoch\": epoch, \"Loss\": loss, \"Dataset\": \"Training\"}, ignore_index=True)\n",
            "<ipython-input-72-47d9dd4e1fd7>:10: FutureWarning: The frame.append method is deprecated and will be removed from pandas in a future version. Use pandas.concat instead.\n",
            "  df = df.append({\"Epoch\": epoch, \"Loss\": loss, \"Dataset\": \"Validation\"}, ignore_index=True)\n",
            "<ipython-input-72-47d9dd4e1fd7>:7: FutureWarning: The frame.append method is deprecated and will be removed from pandas in a future version. Use pandas.concat instead.\n",
            "  df = df.append({\"Epoch\": epoch, \"Loss\": loss, \"Dataset\": \"Training\"}, ignore_index=True)\n",
            "<ipython-input-72-47d9dd4e1fd7>:10: FutureWarning: The frame.append method is deprecated and will be removed from pandas in a future version. Use pandas.concat instead.\n",
            "  df = df.append({\"Epoch\": epoch, \"Loss\": loss, \"Dataset\": \"Validation\"}, ignore_index=True)\n",
            "<ipython-input-72-47d9dd4e1fd7>:7: FutureWarning: The frame.append method is deprecated and will be removed from pandas in a future version. Use pandas.concat instead.\n",
            "  df = df.append({\"Epoch\": epoch, \"Loss\": loss, \"Dataset\": \"Training\"}, ignore_index=True)\n",
            "<ipython-input-72-47d9dd4e1fd7>:10: FutureWarning: The frame.append method is deprecated and will be removed from pandas in a future version. Use pandas.concat instead.\n",
            "  df = df.append({\"Epoch\": epoch, \"Loss\": loss, \"Dataset\": \"Validation\"}, ignore_index=True)\n",
            "<ipython-input-72-47d9dd4e1fd7>:7: FutureWarning: The frame.append method is deprecated and will be removed from pandas in a future version. Use pandas.concat instead.\n",
            "  df = df.append({\"Epoch\": epoch, \"Loss\": loss, \"Dataset\": \"Training\"}, ignore_index=True)\n",
            "<ipython-input-72-47d9dd4e1fd7>:10: FutureWarning: The frame.append method is deprecated and will be removed from pandas in a future version. Use pandas.concat instead.\n",
            "  df = df.append({\"Epoch\": epoch, \"Loss\": loss, \"Dataset\": \"Validation\"}, ignore_index=True)\n",
            "<ipython-input-72-47d9dd4e1fd7>:7: FutureWarning: The frame.append method is deprecated and will be removed from pandas in a future version. Use pandas.concat instead.\n",
            "  df = df.append({\"Epoch\": epoch, \"Loss\": loss, \"Dataset\": \"Training\"}, ignore_index=True)\n",
            "<ipython-input-72-47d9dd4e1fd7>:10: FutureWarning: The frame.append method is deprecated and will be removed from pandas in a future version. Use pandas.concat instead.\n",
            "  df = df.append({\"Epoch\": epoch, \"Loss\": loss, \"Dataset\": \"Validation\"}, ignore_index=True)\n",
            "<ipython-input-72-47d9dd4e1fd7>:7: FutureWarning: The frame.append method is deprecated and will be removed from pandas in a future version. Use pandas.concat instead.\n",
            "  df = df.append({\"Epoch\": epoch, \"Loss\": loss, \"Dataset\": \"Training\"}, ignore_index=True)\n",
            "<ipython-input-72-47d9dd4e1fd7>:10: FutureWarning: The frame.append method is deprecated and will be removed from pandas in a future version. Use pandas.concat instead.\n",
            "  df = df.append({\"Epoch\": epoch, \"Loss\": loss, \"Dataset\": \"Validation\"}, ignore_index=True)\n",
            "<ipython-input-72-47d9dd4e1fd7>:7: FutureWarning: The frame.append method is deprecated and will be removed from pandas in a future version. Use pandas.concat instead.\n",
            "  df = df.append({\"Epoch\": epoch, \"Loss\": loss, \"Dataset\": \"Training\"}, ignore_index=True)\n",
            "<ipython-input-72-47d9dd4e1fd7>:10: FutureWarning: The frame.append method is deprecated and will be removed from pandas in a future version. Use pandas.concat instead.\n",
            "  df = df.append({\"Epoch\": epoch, \"Loss\": loss, \"Dataset\": \"Validation\"}, ignore_index=True)\n",
            "<ipython-input-72-47d9dd4e1fd7>:7: FutureWarning: The frame.append method is deprecated and will be removed from pandas in a future version. Use pandas.concat instead.\n",
            "  df = df.append({\"Epoch\": epoch, \"Loss\": loss, \"Dataset\": \"Training\"}, ignore_index=True)\n",
            "<ipython-input-72-47d9dd4e1fd7>:10: FutureWarning: The frame.append method is deprecated and will be removed from pandas in a future version. Use pandas.concat instead.\n",
            "  df = df.append({\"Epoch\": epoch, \"Loss\": loss, \"Dataset\": \"Validation\"}, ignore_index=True)\n",
            "<ipython-input-72-47d9dd4e1fd7>:7: FutureWarning: The frame.append method is deprecated and will be removed from pandas in a future version. Use pandas.concat instead.\n",
            "  df = df.append({\"Epoch\": epoch, \"Loss\": loss, \"Dataset\": \"Training\"}, ignore_index=True)\n",
            "<ipython-input-72-47d9dd4e1fd7>:10: FutureWarning: The frame.append method is deprecated and will be removed from pandas in a future version. Use pandas.concat instead.\n",
            "  df = df.append({\"Epoch\": epoch, \"Loss\": loss, \"Dataset\": \"Validation\"}, ignore_index=True)\n"
          ]
        }
      ],
      "source": [
        "df = pd.DataFrame(columns=[\"Epoch\", \"Loss\", \"Dataset\"])\n",
        "\n",
        "for log_data in log_history:\n",
        "  epoch = int(log_data[\"epoch\"])\n",
        "  if \"loss\" in log_data.keys():\n",
        "    loss = log_data[\"loss\"]\n",
        "    df = df.append({\"Epoch\": epoch, \"Loss\": loss, \"Dataset\": \"Training\"}, ignore_index=True)\n",
        "  if \"eval_loss\" in log_data.keys():\n",
        "    loss = log_data[\"eval_loss\"]\n",
        "    df = df.append({\"Epoch\": epoch, \"Loss\": loss, \"Dataset\": \"Validation\"}, ignore_index=True)\n",
        "#df"
      ]
    },
    {
      "cell_type": "code",
      "execution_count": 73,
      "metadata": {
        "id": "5cuePBi_yJYc"
      },
      "outputs": [],
      "source": [
        "#df.to_html(f'loss_{nome}.html')"
      ]
    },
    {
      "cell_type": "markdown",
      "metadata": {
        "id": "zCj6FQHAyJYc"
      },
      "source": [
        "<table border=\"1\" class=\"dataframe\">\n",
        "  <thead>\n",
        "    <tr style=\"text-align: right;\">\n",
        "      <th></th>\n",
        "      <th>Epoch</th>\n",
        "      <th>Loss</th>\n",
        "      <th>Dataset</th>\n",
        "    </tr>\n",
        "  </thead>\n",
        "  <tbody>\n",
        "    <tr>\n",
        "      <th>0</th>\n",
        "      <td>1</td>\n",
        "      <td>0.697200</td>\n",
        "      <td>Training</td>\n",
        "    </tr>\n",
        "    <tr>\n",
        "      <th>1</th>\n",
        "      <td>1</td>\n",
        "      <td>0.669174</td>\n",
        "      <td>Validation</td>\n",
        "    </tr>\n",
        "    <tr>\n",
        "      <th>2</th>\n",
        "      <td>2</td>\n",
        "      <td>0.635500</td>\n",
        "      <td>Training</td>\n",
        "    </tr>\n",
        "    <tr>\n",
        "      <th>3</th>\n",
        "      <td>2</td>\n",
        "      <td>0.670862</td>\n",
        "      <td>Validation</td>\n",
        "    </tr>\n",
        "    <tr>\n",
        "      <th>4</th>\n",
        "      <td>3</td>\n",
        "      <td>0.587900</td>\n",
        "      <td>Training</td>\n",
        "    </tr>\n",
        "    <tr>\n",
        "      <th>5</th>\n",
        "      <td>3</td>\n",
        "      <td>0.672889</td>\n",
        "      <td>Validation</td>\n",
        "    </tr>\n",
        "    <tr>\n",
        "      <th>6</th>\n",
        "      <td>4</td>\n",
        "      <td>0.539400</td>\n",
        "      <td>Training</td>\n",
        "    </tr>\n",
        "    <tr>\n",
        "      <th>7</th>\n",
        "      <td>4</td>\n",
        "      <td>0.677192</td>\n",
        "      <td>Validation</td>\n",
        "    </tr>\n",
        "    <tr>\n",
        "      <th>8</th>\n",
        "      <td>5</td>\n",
        "      <td>0.466300</td>\n",
        "      <td>Training</td>\n",
        "    </tr>\n",
        "    <tr>\n",
        "      <th>9</th>\n",
        "      <td>5</td>\n",
        "      <td>0.680526</td>\n",
        "      <td>Validation</td>\n",
        "    </tr>\n",
        "    <tr>\n",
        "      <th>10</th>\n",
        "      <td>6</td>\n",
        "      <td>0.411400</td>\n",
        "      <td>Training</td>\n",
        "    </tr>\n",
        "    <tr>\n",
        "      <th>11</th>\n",
        "      <td>6</td>\n",
        "      <td>0.690356</td>\n",
        "      <td>Validation</td>\n",
        "    </tr>\n",
        "    <tr>\n",
        "      <th>12</th>\n",
        "      <td>7</td>\n",
        "      <td>0.356700</td>\n",
        "      <td>Training</td>\n",
        "    </tr>\n",
        "    <tr>\n",
        "      <th>13</th>\n",
        "      <td>7</td>\n",
        "      <td>0.708966</td>\n",
        "      <td>Validation</td>\n",
        "    </tr>\n",
        "    <tr>\n",
        "      <th>14</th>\n",
        "      <td>8</td>\n",
        "      <td>0.321200</td>\n",
        "      <td>Training</td>\n",
        "    </tr>\n",
        "    <tr>\n",
        "      <th>15</th>\n",
        "      <td>8</td>\n",
        "      <td>0.732528</td>\n",
        "      <td>Validation</td>\n",
        "    </tr>\n",
        "    <tr>\n",
        "      <th>16</th>\n",
        "      <td>9</td>\n",
        "      <td>0.293900</td>\n",
        "      <td>Training</td>\n",
        "    </tr>\n",
        "    <tr>\n",
        "      <th>17</th>\n",
        "      <td>9</td>\n",
        "      <td>0.758814</td>\n",
        "      <td>Validation</td>\n",
        "    </tr>\n",
        "    <tr>\n",
        "      <th>18</th>\n",
        "      <td>10</td>\n",
        "      <td>0.272400</td>\n",
        "      <td>Training</td>\n",
        "    </tr>\n",
        "    <tr>\n",
        "      <th>19</th>\n",
        "      <td>10</td>\n",
        "      <td>0.784720</td>\n",
        "      <td>Validation</td>\n",
        "    </tr>\n",
        "    <tr>\n",
        "      <th>20</th>\n",
        "      <td>11</td>\n",
        "      <td>0.249000</td>\n",
        "      <td>Training</td>\n",
        "    </tr>\n",
        "    <tr>\n",
        "      <th>21</th>\n",
        "      <td>11</td>\n",
        "      <td>0.810367</td>\n",
        "      <td>Validation</td>\n",
        "    </tr>\n",
        "    <tr>\n",
        "      <th>22</th>\n",
        "      <td>12</td>\n",
        "      <td>0.233400</td>\n",
        "      <td>Training</td>\n",
        "    </tr>\n",
        "    <tr>\n",
        "      <th>23</th>\n",
        "      <td>12</td>\n",
        "      <td>0.833654</td>\n",
        "      <td>Validation</td>\n",
        "    </tr>\n",
        "    <tr>\n",
        "      <th>24</th>\n",
        "      <td>13</td>\n",
        "      <td>0.192100</td>\n",
        "      <td>Training</td>\n",
        "    </tr>\n",
        "    <tr>\n",
        "      <th>25</th>\n",
        "      <td>13</td>\n",
        "      <td>0.852435</td>\n",
        "      <td>Validation</td>\n",
        "    </tr>\n",
        "    <tr>\n",
        "      <th>26</th>\n",
        "      <td>14</td>\n",
        "      <td>0.191500</td>\n",
        "      <td>Training</td>\n",
        "    </tr>\n",
        "    <tr>\n",
        "      <th>27</th>\n",
        "      <td>14</td>\n",
        "      <td>0.865037</td>\n",
        "      <td>Validation</td>\n",
        "    </tr>\n",
        "    <tr>\n",
        "      <th>28</th>\n",
        "      <td>15</td>\n",
        "      <td>0.180900</td>\n",
        "      <td>Training</td>\n",
        "    </tr>\n",
        "    <tr>\n",
        "      <th>29</th>\n",
        "      <td>15</td>\n",
        "      <td>0.871067</td>\n",
        "      <td>Validation</td>\n",
        "    </tr>\n",
        "  </tbody>\n",
        "</table>"
      ]
    },
    {
      "cell_type": "code",
      "execution_count": 74,
      "metadata": {
        "colab": {
          "base_uri": "https://localhost:8080/",
          "height": 464
        },
        "id": "lTFrb21xyJYd",
        "outputId": "5b72f3e2-33e6-48ae-ef87-3e48393c0d8a"
      },
      "outputs": [
        {
          "output_type": "display_data",
          "data": {
            "text/plain": [
              "<Figure size 640x480 with 1 Axes>"
            ],
            "image/png": "[encoded data removed]"
          },
          "metadata": {}
        }
      ],
      "source": [
        "# loss lineplot\n",
        "plt.rcParams.update({'font.size': 12})\n",
        "sns.lineplot(data=df, x=\"Epoch\", y=\"Loss\", hue=\"Dataset\")\n",
        "plt.xticks(range(1, 16))\n",
        "plt.xlabel('Epoca')\n",
        "plt.savefig(f'loss_curves_{nome}_doppioval_loss.pdf', dpi=300, bbox_inches='tight')\n",
        "plt.show()"
      ]
    },
    {
      "cell_type": "code",
      "execution_count": 75,
      "metadata": {
        "id": "jZzW8GHFyJYd",
        "colab": {
          "base_uri": "https://localhost:8080/",
          "height": 17
        },
        "outputId": "fbf08740-2779-44bc-b092-d5d3c722e526"
      },
      "outputs": [
        {
          "output_type": "display_data",
          "data": {
            "text/plain": [
              "<IPython.core.display.HTML object>"
            ],
            "text/html": []
          },
          "metadata": {}
        }
      ],
      "source": [
        "output_predictions_val2 = trainer.predict(tokenized_val2)"
      ]
    },
    {
      "cell_type": "code",
      "source": [
        "y_val = tokenized_val2[\"labels\"]\n",
        "y_val_pred = np.argmax(output_predictions_val2.predictions, axis=1)\n",
        "\n",
        "report = classification_report(y_val, y_val_pred)\n",
        "print(report)"
      ],
      "metadata": {
        "colab": {
          "base_uri": "https://localhost:8080/"
        },
        "id": "Y4ZERopa85of",
        "outputId": "5b0e725d-e196-46ac-d57f-55749c1ffdcd"
      },
      "execution_count": 76,
      "outputs": [
        {
          "output_type": "stream",
          "name": "stdout",
          "text": [
            "              precision    recall  f1-score   support\n",
            "\n",
            "           0       0.65      0.67      0.66        81\n",
            "           1       0.67      0.66      0.67        85\n",
            "\n",
            "    accuracy                           0.66       166\n",
            "   macro avg       0.66      0.66      0.66       166\n",
            "weighted avg       0.66      0.66      0.66       166\n",
            "\n"
          ]
        }
      ]
    },
    {
      "cell_type": "code",
      "source": [
        "with open(f\"class_report_{nome}_doppioval_loss.html\", \"w\") as file:\n",
        "    file.write(report)"
      ],
      "metadata": {
        "id": "x0HPS1wh9BOp"
      },
      "execution_count": 77,
      "outputs": []
    },
    {
      "cell_type": "code",
      "source": [
        "plt.rcParams.update({'font.size': 18})\n",
        "ConfusionMatrixDisplay.from_predictions(y_val, y_val_pred, cmap='Blues', normalize='true')\n",
        "plt.xticks(fontsize=16)\n",
        "plt.yticks(fontsize=16)\n",
        "plt.xlabel('Etichetta predetta', fontsize=16)\n",
        "plt.ylabel('Etichetta reale', fontsize=16)\n",
        "plt.savefig(f'conf_matrix_{nome}_doppioval_loss.pdf', dpi=300, bbox_inches='tight')\n",
        "plt.show()"
      ],
      "metadata": {
        "colab": {
          "base_uri": "https://localhost:8080/",
          "height": 461
        },
        "id": "eF7Tap-B9g3x",
        "outputId": "2672896f-806a-4bce-e851-87d4d66f2068"
      },
      "execution_count": 104,
      "outputs": [
        {
          "output_type": "display_data",
          "data": {
            "text/plain": [
              "<Figure size 640x480 with 2 Axes>"
            ],
            "image/png": "[encoded data removed]"
          },
          "metadata": {}
        }
      ]
    },
    {
      "cell_type": "code",
      "source": [
        "output_predictions_val = trainer.predict(tokenized_val)"
      ],
      "metadata": {
        "id": "7Fp00QV98kw8"
      },
      "execution_count": null,
      "outputs": []
    },
    {
      "cell_type": "code",
      "source": [
        "# model_directory = 'distilbert_multi_default-finetuned/checkpoint-805'"
      ],
      "metadata": {
        "id": "fjoig2O7IE-w"
      },
      "execution_count": 36,
      "outputs": []
    },
    {
      "cell_type": "code",
      "source": [
        "# model = AutoModelForSequenceClassification.from_pretrained(model_directory)"
      ],
      "metadata": {
        "id": "Fq7Qz66pHl4C"
      },
      "execution_count": 37,
      "outputs": []
    },
    {
      "cell_type": "code",
      "source": [
        "# trainer = Trainer(model=model)"
      ],
      "metadata": {
        "id": "3rnlYiq_HluE"
      },
      "execution_count": null,
      "outputs": []
    },
    {
      "cell_type": "code",
      "source": [
        "# output_prediction_loss = trainer.predict(tokenized_val2)"
      ],
      "metadata": {
        "id": "dljiJhHSJIoG"
      },
      "execution_count": null,
      "outputs": []
    },
    {
      "cell_type": "code",
      "source": [
        "# y_val = tokenized_val2[\"labels\"]\n",
        "# y_val_pred = np.argmax(output_prediction_loss.predictions, axis=1)\n",
        "\n",
        "# report = classification_report(y_val, y_val_pred)\n",
        "# print(report)"
      ],
      "metadata": {
        "colab": {
          "base_uri": "https://localhost:8080/"
        },
        "id": "8GyXqaeLJU13",
        "outputId": "087448a4-1ddd-456f-e0f8-305d0e6707bf"
      },
      "execution_count": 40,
      "outputs": [
        {
          "metadata": {
            "tags": null
          },
          "name": "stdout",
          "output_type": "stream",
          "text": [
            "              precision    recall  f1-score   support\n",
            "\n",
            "           0       0.60      0.36      0.45        81\n",
            "           1       0.56      0.78      0.65        85\n",
            "\n",
            "    accuracy                           0.57       166\n",
            "   macro avg       0.58      0.57      0.55       166\n",
            "weighted avg       0.58      0.57      0.55       166\n",
            "\n"
          ]
        }
      ]
    }
  ],
  "metadata": {
    "kernelspec": {
      "display_name": "Python 3",
      "name": "python3"
    },
    "language_info": {
      "codemirror_mode": {
        "name": "ipython",
        "version": 3
      },
      "file_extension": ".py",
      "mimetype": "text/x-python",
      "name": "python",
      "nbconvert_exporter": "python",
      "pygments_lexer": "ipython3",
      "version": "3.9.16"
    },
    "orig_nbformat": 4,
    "colab": {
      "provenance": [],
      "gpuType": "T4",
      "include_colab_link": true
    },
    "accelerator": "GPU",
    "widgets": {
      "application/vnd.jupyter.widget-state+json": {
        "2304c0f708a0419798910c64a4475a6a": {
          "model_module": "@jupyter-widgets/controls",
          "model_name": "HBoxModel",
          "model_module_version": "1.5.0",
          "state": {
            "_dom_classes": [],
            "_model_module": "@jupyter-widgets/controls",
            "_model_module_version": "1.5.0",
            "_model_name": "HBoxModel",
            "_view_count": null,
            "_view_module": "@jupyter-widgets/controls",
            "_view_module_version": "1.5.0",
            "_view_name": "HBoxView",
            "box_style": "",
            "children": [
              "IPY_MODEL_b64a540ab7554aa8a14b6de499b74291",
              "IPY_MODEL_244b87c49c484a99b58b751efc65cff2",
              "IPY_MODEL_075f8982c6074f55ad09ecdadfbc1a72"
            ],
            "layout": "IPY_MODEL_3cc53f1b151444f88f011302aec92e67"
          }
        },
        "b64a540ab7554aa8a14b6de499b74291": {
          "model_module": "@jupyter-widgets/controls",
          "model_name": "HTMLModel",
          "model_module_version": "1.5.0",
          "state": {
            "_dom_classes": [],
            "_model_module": "@jupyter-widgets/controls",
            "_model_module_version": "1.5.0",
            "_model_name": "HTMLModel",
            "_view_count": null,
            "_view_module": "@jupyter-widgets/controls",
            "_view_module_version": "1.5.0",
            "_view_name": "HTMLView",
            "description": "",
            "description_tooltip": null,
            "layout": "IPY_MODEL_d38628b2647f47d5ba761ae370ec71b8",
            "placeholder": "​",
            "style": "IPY_MODEL_71769d8619224179a8fd1efa0dd5c9df",
            "value": "Map: 100%"
          }
        },
        "244b87c49c484a99b58b751efc65cff2": {
          "model_module": "@jupyter-widgets/controls",
          "model_name": "FloatProgressModel",
          "model_module_version": "1.5.0",
          "state": {
            "_dom_classes": [],
            "_model_module": "@jupyter-widgets/controls",
            "_model_module_version": "1.5.0",
            "_model_name": "FloatProgressModel",
            "_view_count": null,
            "_view_module": "@jupyter-widgets/controls",
            "_view_module_version": "1.5.0",
            "_view_name": "ProgressView",
            "bar_style": "success",
            "description": "",
            "description_tooltip": null,
            "layout": "IPY_MODEL_aa2d8e3bf52c460c9b1b9f845df8143e",
            "max": 166,
            "min": 0,
            "orientation": "horizontal",
            "style": "IPY_MODEL_791fe6a027bc436493756e5f89062835",
            "value": 166
          }
        },
        "075f8982c6074f55ad09ecdadfbc1a72": {
          "model_module": "@jupyter-widgets/controls",
          "model_name": "HTMLModel",
          "model_module_version": "1.5.0",
          "state": {
            "_dom_classes": [],
            "_model_module": "@jupyter-widgets/controls",
            "_model_module_version": "1.5.0",
            "_model_name": "HTMLModel",
            "_view_count": null,
            "_view_module": "@jupyter-widgets/controls",
            "_view_module_version": "1.5.0",
            "_view_name": "HTMLView",
            "description": "",
            "description_tooltip": null,
            "layout": "IPY_MODEL_c7797e2f47a9435eaeb2d9ad8ee53e9b",
            "placeholder": "​",
            "style": "IPY_MODEL_da31cbe0034b411d9c6a784b203102ee",
            "value": " 166/166 [00:00&lt;00:00, 1370.08 examples/s]"
          }
        },
        "3cc53f1b151444f88f011302aec92e67": {
          "model_module": "@jupyter-widgets/base",
          "model_name": "LayoutModel",
          "model_module_version": "1.2.0",
          "state": {
            "_model_module": "@jupyter-widgets/base",
            "_model_module_version": "1.2.0",
            "_model_name": "LayoutModel",
            "_view_count": null,
            "_view_module": "@jupyter-widgets/base",
            "_view_module_version": "1.2.0",
            "_view_name": "LayoutView",
            "align_content": null,
            "align_items": null,
            "align_self": null,
            "border": null,
            "bottom": null,
            "display": null,
            "flex": null,
            "flex_flow": null,
            "grid_area": null,
            "grid_auto_columns": null,
            "grid_auto_flow": null,
            "grid_auto_rows": null,
            "grid_column": null,
            "grid_gap": null,
            "grid_row": null,
            "grid_template_areas": null,
            "grid_template_columns": null,
            "grid_template_rows": null,
            "height": null,
            "justify_content": null,
            "justify_items": null,
            "left": null,
            "margin": null,
            "max_height": null,
            "max_width": null,
            "min_height": null,
            "min_width": null,
            "object_fit": null,
            "object_position": null,
            "order": null,
            "overflow": null,
            "overflow_x": null,
            "overflow_y": null,
            "padding": null,
            "right": null,
            "top": null,
            "visibility": null,
            "width": null
          }
        },
        "d38628b2647f47d5ba761ae370ec71b8": {
          "model_module": "@jupyter-widgets/base",
          "model_name": "LayoutModel",
          "model_module_version": "1.2.0",
          "state": {
            "_model_module": "@jupyter-widgets/base",
            "_model_module_version": "1.2.0",
            "_model_name": "LayoutModel",
            "_view_count": null,
            "_view_module": "@jupyter-widgets/base",
            "_view_module_version": "1.2.0",
            "_view_name": "LayoutView",
            "align_content": null,
            "align_items": null,
            "align_self": null,
            "border": null,
            "bottom": null,
            "display": null,
            "flex": null,
            "flex_flow": null,
            "grid_area": null,
            "grid_auto_columns": null,
            "grid_auto_flow": null,
            "grid_auto_rows": null,
            "grid_column": null,
            "grid_gap": null,
            "grid_row": null,
            "grid_template_areas": null,
            "grid_template_columns": null,
            "grid_template_rows": null,
            "height": null,
            "justify_content": null,
            "justify_items": null,
            "left": null,
            "margin": null,
            "max_height": null,
            "max_width": null,
            "min_height": null,
            "min_width": null,
            "object_fit": null,
            "object_position": null,
            "order": null,
            "overflow": null,
            "overflow_x": null,
            "overflow_y": null,
            "padding": null,
            "right": null,
            "top": null,
            "visibility": null,
            "width": null
          }
        },
        "71769d8619224179a8fd1efa0dd5c9df": {
          "model_module": "@jupyter-widgets/controls",
          "model_name": "DescriptionStyleModel",
          "model_module_version": "1.5.0",
          "state": {
            "_model_module": "@jupyter-widgets/controls",
            "_model_module_version": "1.5.0",
            "_model_name": "DescriptionStyleModel",
            "_view_count": null,
            "_view_module": "@jupyter-widgets/base",
            "_view_module_version": "1.2.0",
            "_view_name": "StyleView",
            "description_width": ""
          }
        },
        "aa2d8e3bf52c460c9b1b9f845df8143e": {
          "model_module": "@jupyter-widgets/base",
          "model_name": "LayoutModel",
          "model_module_version": "1.2.0",
          "state": {
            "_model_module": "@jupyter-widgets/base",
            "_model_module_version": "1.2.0",
            "_model_name": "LayoutModel",
            "_view_count": null,
            "_view_module": "@jupyter-widgets/base",
            "_view_module_version": "1.2.0",
            "_view_name": "LayoutView",
            "align_content": null,
            "align_items": null,
            "align_self": null,
            "border": null,
            "bottom": null,
            "display": null,
            "flex": null,
            "flex_flow": null,
            "grid_area": null,
            "grid_auto_columns": null,
            "grid_auto_flow": null,
            "grid_auto_rows": null,
            "grid_column": null,
            "grid_gap": null,
            "grid_row": null,
            "grid_template_areas": null,
            "grid_template_columns": null,
            "grid_template_rows": null,
            "height": null,
            "justify_content": null,
            "justify_items": null,
            "left": null,
            "margin": null,
            "max_height": null,
            "max_width": null,
            "min_height": null,
            "min_width": null,
            "object_fit": null,
            "object_position": null,
            "order": null,
            "overflow": null,
            "overflow_x": null,
            "overflow_y": null,
            "padding": null,
            "right": null,
            "top": null,
            "visibility": null,
            "width": null
          }
        },
        "791fe6a027bc436493756e5f89062835": {
          "model_module": "@jupyter-widgets/controls",
          "model_name": "ProgressStyleModel",
          "model_module_version": "1.5.0",
          "state": {
            "_model_module": "@jupyter-widgets/controls",
            "_model_module_version": "1.5.0",
            "_model_name": "ProgressStyleModel",
            "_view_count": null,
            "_view_module": "@jupyter-widgets/base",
            "_view_module_version": "1.2.0",
            "_view_name": "StyleView",
            "bar_color": null,
            "description_width": ""
          }
        },
        "c7797e2f47a9435eaeb2d9ad8ee53e9b": {
          "model_module": "@jupyter-widgets/base",
          "model_name": "LayoutModel",
          "model_module_version": "1.2.0",
          "state": {
            "_model_module": "@jupyter-widgets/base",
            "_model_module_version": "1.2.0",
            "_model_name": "LayoutModel",
            "_view_count": null,
            "_view_module": "@jupyter-widgets/base",
            "_view_module_version": "1.2.0",
            "_view_name": "LayoutView",
            "align_content": null,
            "align_items": null,
            "align_self": null,
            "border": null,
            "bottom": null,
            "display": null,
            "flex": null,
            "flex_flow": null,
            "grid_area": null,
            "grid_auto_columns": null,
            "grid_auto_flow": null,
            "grid_auto_rows": null,
            "grid_column": null,
            "grid_gap": null,
            "grid_row": null,
            "grid_template_areas": null,
            "grid_template_columns": null,
            "grid_template_rows": null,
            "height": null,
            "justify_content": null,
            "justify_items": null,
            "left": null,
            "margin": null,
            "max_height": null,
            "max_width": null,
            "min_height": null,
            "min_width": null,
            "object_fit": null,
            "object_position": null,
            "order": null,
            "overflow": null,
            "overflow_x": null,
            "overflow_y": null,
            "padding": null,
            "right": null,
            "top": null,
            "visibility": null,
            "width": null
          }
        },
        "da31cbe0034b411d9c6a784b203102ee": {
          "model_module": "@jupyter-widgets/controls",
          "model_name": "DescriptionStyleModel",
          "model_module_version": "1.5.0",
          "state": {
            "_model_module": "@jupyter-widgets/controls",
            "_model_module_version": "1.5.0",
            "_model_name": "DescriptionStyleModel",
            "_view_count": null,
            "_view_module": "@jupyter-widgets/base",
            "_view_module_version": "1.2.0",
            "_view_name": "StyleView",
            "description_width": ""
          }
        }
      }
    }
  },
  "nbformat": 4,
  "nbformat_minor": 0
}